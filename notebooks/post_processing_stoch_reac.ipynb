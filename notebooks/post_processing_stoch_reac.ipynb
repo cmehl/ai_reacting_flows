{
 "cells": [
  {
   "cell_type": "markdown",
   "metadata": {},
   "source": [
    "# Stochastic reactors database post-analysis\n",
    "\n",
    "Some functions have been implemented to visualize generated stochastic reactors databases.\n",
    "\n",
    "Additional functions may be added by coding them directly in the file *stochastic_reactors_data_gen/post_processing*."
   ]
  },
  {
   "cell_type": "code",
   "execution_count": null,
   "metadata": {},
   "outputs": [],
   "source": [
    "from ai_reacting_flows.stochastic_reactors_data_gen.post_processing import StochDatabase"
   ]
  },
  {
   "cell_type": "code",
   "execution_count": null,
   "metadata": {},
   "outputs": [],
   "source": [
    "%load_ext autoreload\n",
    "%autoreload 2"
   ]
  },
  {
   "cell_type": "markdown",
   "metadata": {},
   "source": [
    "We first define the database to be processed and the folder where the plots will be stored:"
   ]
  },
  {
   "cell_type": "code",
   "execution_count": null,
   "metadata": {},
   "outputs": [],
   "source": [
    "stoch_dtb_folder = \"../scripts/STOCH_DTB_H2_DD_TEST_2\"\n",
    "save_folder = \"./postpro_dtb\""
   ]
  },
  {
   "cell_type": "markdown",
   "metadata": {},
   "source": [
    "The database is then read in a *StochDatabase* object which contains the methods to perform the post-processing:"
   ]
  },
  {
   "cell_type": "code",
   "execution_count": null,
   "metadata": {},
   "outputs": [],
   "source": [
    "stoch_dtb = StochDatabase(stoch_dtb_folder, save_folder)"
   ]
  },
  {
   "cell_type": "markdown",
   "metadata": {},
   "source": [
    "Function to scatter plot $Y_k=f(T)$ for all time steps on a list on specified species: (here $H_2$ and $H$)"
   ]
  },
  {
   "cell_type": "code",
   "execution_count": null,
   "metadata": {},
   "outputs": [],
   "source": [
    "stoch_dtb.compute_1D_premixed(0.4, 101325.0, 300.0, \"H2\", \"/work/mehlc/2_IA_KINETICS/ai_reacting_flows/data/chemical_mechanisms/mech_H2.yaml\", \"Mix\")"
   ]
  },
  {
   "cell_type": "code",
   "execution_count": null,
   "metadata": {},
   "outputs": [],
   "source": [
    "stoch_dtb.plot_T_Yk([\"H2\", \"H\", \"H2O\", \"O2\"])"
   ]
  },
  {
   "cell_type": "markdown",
   "metadata": {},
   "source": [
    "A generic function is available to scatter plot *var_x* as a function of *var_y*, colored by *var_c*:"
   ]
  },
  {
   "cell_type": "code",
   "execution_count": null,
   "metadata": {},
   "outputs": [],
   "source": [
    "var_x = \"Temperature\"\n",
    "var_y = \"H2\"\n",
    "var_c = \"log_abs_HRR\"\n",
    "stoch_dtb.plot_generic(var_x, var_y, var_c)"
   ]
  },
  {
   "cell_type": "markdown",
   "metadata": {},
   "source": [
    "Some functions are also available to plot individual iterations, here is an example for $(T,Y_k)$ plots:"
   ]
  },
  {
   "cell_type": "code",
   "execution_count": null,
   "metadata": {},
   "outputs": [],
   "source": [
    "stoch_dtb.plot_T_Yk_indiv([\"H2\", \"H\"], iteration=3)"
   ]
  },
  {
   "cell_type": "markdown",
   "metadata": {},
   "source": [
    "Function to plot $T_{mean}=f(t)$ for each inlet:"
   ]
  },
  {
   "cell_type": "code",
   "execution_count": null,
   "metadata": {},
   "outputs": [],
   "source": [
    "stoch_dtb.plot_traj_T_time()"
   ]
  },
  {
   "cell_type": "markdown",
   "metadata": {},
   "source": [
    "Function to plot the evolution of some particle variables (here $H_2$) over time for a given inlet:"
   ]
  },
  {
   "cell_type": "code",
   "execution_count": null,
   "metadata": {},
   "outputs": [],
   "source": [
    "nb_inlet = 2\n",
    "stoch_dtb.plot_indiv_traj(nb_inlet, \"H2\")"
   ]
  },
  {
   "cell_type": "markdown",
   "metadata": {},
   "source": [
    "Functions are also available to plot probability density functions (PDF) of the data. At the moment, only temperature PDF is implemented but other variables could easily be used. It may be done for a given iteration:"
   ]
  },
  {
   "cell_type": "code",
   "execution_count": null,
   "metadata": {},
   "outputs": [],
   "source": [
    "stoch_dtb.plot_pdf_T_inst(iteration=3)"
   ]
  },
  {
   "cell_type": "markdown",
   "metadata": {},
   "source": [
    "Or for the entire dataset:"
   ]
  },
  {
   "cell_type": "code",
   "execution_count": null,
   "metadata": {},
   "outputs": [],
   "source": [
    "stoch_dtb.plot_pdf_T_all()"
   ]
  },
  {
   "cell_type": "markdown",
   "metadata": {},
   "source": [
    "Plotting the PDF of heat release rate:"
   ]
  },
  {
   "cell_type": "code",
   "execution_count": null,
   "metadata": {},
   "outputs": [],
   "source": [
    "stoch_dtb.plot_pdf_HRR_all()"
   ]
  },
  {
   "cell_type": "markdown",
   "metadata": {},
   "source": [
    "A function to plot the density of points is also available:"
   ]
  },
  {
   "cell_type": "code",
   "execution_count": null,
   "metadata": {},
   "outputs": [],
   "source": [
    "stoch_dtb.density_scatter(\"Temperature\" , \"H2\", sort = True, bins = 20)"
   ]
  }
 ],
 "metadata": {
  "kernelspec": {
   "display_name": "env_ia",
   "language": "python",
   "name": "python3"
  },
  "language_info": {
   "codemirror_mode": {
    "name": "ipython",
    "version": 3
   },
   "file_extension": ".py",
   "mimetype": "text/x-python",
   "name": "python",
   "nbconvert_exporter": "python",
   "pygments_lexer": "ipython3",
   "version": "3.9.5 (default, Oct  3 2021, 20:17:59) \n[GCC 10.3.0]"
  },
  "orig_nbformat": 4,
  "vscode": {
   "interpreter": {
    "hash": "b2fd424e7fb1297f22c49c08f4f8cbc07f056222c8903ba4079436012990779e"
   }
  }
 },
 "nbformat": 4,
 "nbformat_minor": 2
}
