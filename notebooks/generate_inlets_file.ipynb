{
 "cells": [
  {
   "cell_type": "markdown",
   "metadata": {},
   "source": [
    "# Inlets files generation\n",
    "\n",
    "In this sript we write the commands used to generate the inlets.xlsx files, which specifies the initial reactors of the stochastics reactors generation.\n",
    "\n",
    "Each inlet is a dictionary with the necessary data. Available inlet types in the current code:\n",
    "+ **Blank**: Sets the species mass fractions to *0*, to be specified manualy in the excel file by the user afterwards.\n",
    "+ **Cold_premixed**: Sets a mixture fuel + air at a given equivalence ratio, pressure and temperature. \n",
    "+ **Hot_premixed**: Sets a given mixture air + fuel at a given equivalence ratio, pressure and fresh gas temperature to the corresponding burnt gas state.\n",
    "\n",
    "Note that new inlet types may be defined by the user by coding them in the *stochastic_reactors_data_gen/pre_processing.py* python script."
   ]
  },
  {
   "cell_type": "code",
   "execution_count": 3,
   "metadata": {},
   "outputs": [],
   "source": [
    "import numpy as np\n",
    "import pandas as pd\n",
    "import cantera as ct\n",
    "\n",
    "from ai_reacting_flows.stochastic_reactors_data_gen.pre_processing import Inlet"
   ]
  },
  {
   "cell_type": "markdown",
   "metadata": {},
   "source": [
    "The CANTERA mechanism path and the fuel name must first be specified:"
   ]
  },
  {
   "cell_type": "code",
   "execution_count": null,
   "metadata": {},
   "outputs": [],
   "source": [
    "# Chemical mechanism\n",
    "mech_file = \"/work/mehlc/2_IA_KINETICS/ai_reacting_flows/data/chemical_mechanisms/mech_H2.cti\"\n",
    "\n",
    "# Fuel\n",
    "fuel = \"H2\""
   ]
  },
  {
   "cell_type": "markdown",
   "metadata": {},
   "source": [
    "Inlets are then defined, each of them being an object of the *Inlet* class. The *nb_particles* argument corresponds to the number of reactors in the inlet. Here, we define an inlet with cold gases as well as an inlet with burnt gases. Their states are then computed by specifying an equivalence ratio *phi*, a fresh gas temperature *T* and a pressure *p*."
   ]
  },
  {
   "cell_type": "code",
   "execution_count": null,
   "metadata": {},
   "outputs": [],
   "source": [
    "inlet_1 = Inlet(\"cold_premixed\", nb_particles=450)\n",
    "inlet_2 = Inlet(\"burnt_premixed\", nb_particles=50)\n",
    "    \n",
    "inlet_1.set_state(fuel=fuel, mech=mech_file, phi=0.4, T=300.0, p=101325.0)\n",
    "inlet_2.set_state(fuel=fuel, mech=mech_file, phi=0.4, T=300.0, p=101325.0)"
   ]
  },
  {
   "cell_type": "markdown",
   "metadata": {},
   "source": [
    "We finally generate the *inlets_file.xlsx* file by defining the columns name and filling the data from the inlets defined above."
   ]
  },
  {
   "cell_type": "code",
   "execution_count": 2,
   "metadata": {},
   "outputs": [],
   "source": [
    "list_inlets = [inlet_1, inlet_2]\n",
    "nb_inlets = len(list_inlets)\n",
    "\n",
    "# Writing inlets.xlsx file\n",
    "# Creating CANTERA gas object from mechanism to extract species names\n",
    "gas = ct.Solution(mech_file)\n",
    "thermo_chem_vars = gas.species_names\n",
    "    \n",
    "# Adding pressure\n",
    "thermo_chem_vars.insert(0, \"P\")\n",
    "    \n",
    "# Adding temperature\n",
    "thermo_chem_vars.insert(0, \"T\")\n",
    "    \n",
    "# Adding number of particles in the inlet\n",
    "thermo_chem_vars.insert(0, \"Np\")\n",
    "nb_vars = len(thermo_chem_vars)\n",
    "    \n",
    "# Inlet names\n",
    "inlet_names = [f\"inlet_{i}\" for i in range(1,nb_inlets+1)]\n",
    "    \n",
    "# Filling data\n",
    "data = np.zeros((nb_inlets, nb_vars))\n",
    "i = 0\n",
    "for inlet in list_inlets:\n",
    "    data[i, :] = inlet.state\n",
    "    i += 1\n",
    "    \n",
    "# Creating pandas dataframe\n",
    "df = pd.DataFrame(data, columns = thermo_chem_vars, index = inlet_names)\n",
    "    \n",
    "# Exporting\n",
    "df.to_excel(\"inlets_file_test.xlsx\")"
   ]
  },
  {
   "cell_type": "markdown",
   "metadata": {},
   "source": []
  }
 ],
 "metadata": {
  "kernelspec": {
   "display_name": "Python 3.9.5 ('venv': venv)",
   "language": "python",
   "name": "python3"
  },
  "language_info": {
   "codemirror_mode": {
    "name": "ipython",
    "version": 3
   },
   "file_extension": ".py",
   "mimetype": "text/x-python",
   "name": "python",
   "nbconvert_exporter": "python",
   "pygments_lexer": "ipython3",
   "version": "3.9.5"
  },
  "orig_nbformat": 4,
  "vscode": {
   "interpreter": {
    "hash": "94b4dddc39e3f97076cc987d98550b593fdb7c2e07b1ccd50e3fa5b10ed48d31"
   }
  }
 },
 "nbformat": 4,
 "nbformat_minor": 2
}
