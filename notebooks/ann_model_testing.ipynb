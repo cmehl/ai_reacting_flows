{
 "cells": [
  {
   "cell_type": "markdown",
   "metadata": {},
   "source": [
    "# Testing of ANN models for combustion\n",
    "\n",
    "Simple tests for the generated ANN models are made possible on python. These include:\n",
    "\n",
    "+ Test on 0D ignition simulations\n",
    "+ Test on the prediction of reaction rate of stationary 1D flames (*a priori* testing)"
   ]
  },
  {
   "cell_type": "code",
   "execution_count": 1,
   "metadata": {},
   "outputs": [
    {
     "name": "stderr",
     "output_type": "stream",
     "text": [
      "2023-01-05 15:26:10.351330: I tensorflow/core/platform/cpu_feature_guard.cc:193] This TensorFlow binary is optimized with oneAPI Deep Neural Network Library (oneDNN) to use the following CPU instructions in performance-critical operations:  AVX2 AVX_VNNI FMA\n",
      "To enable them in other operations, rebuild TensorFlow with the appropriate compiler flags.\n",
      "2023-01-05 15:26:10.477971: I tensorflow/core/util/port.cc:104] oneDNN custom operations are on. You may see slightly different numerical results due to floating-point round-off errors from different computation orders. To turn them off, set the environment variable `TF_ENABLE_ONEDNN_OPTS=0`.\n",
      "2023-01-05 15:26:10.481788: W tensorflow/compiler/xla/stream_executor/platform/default/dso_loader.cc:64] Could not load dynamic library 'libcudart.so.11.0'; dlerror: libcudart.so.11.0: cannot open shared object file: No such file or directory; LD_LIBRARY_PATH: /soft/irsrvsoft1/expl/eb/rocky_8/software/Compiler/GCC/10.3.0/OpenMPI/4.1.1/lib:/soft/irsrvsoft1/expl/eb/rocky_8/software/Compiler/GCCcore/10.3.0/PMIx/3.2.3/lib:/soft/irsrvsoft1/expl/eb/rocky_8/software/Compiler/GCCcore/10.3.0/libfabric/1.12.1/lib:/soft/irsrvsoft1/expl/eb/rocky_8/software/Compiler/GCCcore/10.3.0/UCX/1.10.0/lib:/soft/irsrvsoft1/expl/eb/rocky_8/software/Compiler/GCCcore/10.3.0/libevent/2.1.12/lib:/soft/irsrvsoft1/expl/eb/rocky_8/software/Compiler/GCCcore/10.3.0/hwloc/2.4.1/lib:/soft/irsrvsoft1/expl/eb/rocky_8/software/Compiler/GCCcore/10.3.0/libpciaccess/0.16/lib:/soft/irsrvsoft1/expl/eb/rocky_8/software/Compiler/GCCcore/10.3.0/libxml2/2.9.10/lib:/soft/irsrvsoft1/expl/eb/rocky_8/software/Compiler/GCCcore/10.3.0/numactl/2.0.14/lib:/soft/irsrvsoft1/expl/eb/rocky_8/software/Compiler/GCCcore/10.3.0/Python/3.9.5/lib:/soft/irsrvsoft1/expl/eb/rocky_8/software/Core/OpenSSL/1.1/lib:/soft/irsrvsoft1/expl/eb/rocky_8/software/Compiler/GCCcore/10.3.0/libffi/3.3/lib64:/soft/irsrvsoft1/expl/eb/rocky_8/software/Compiler/GCCcore/10.3.0/GMP/6.2.1/lib:/soft/irsrvsoft1/expl/eb/rocky_8/software/Compiler/GCCcore/10.3.0/XZ/5.2.5/lib:/soft/irsrvsoft1/expl/eb/rocky_8/software/Compiler/GCCcore/10.3.0/SQLite/3.35.4/lib:/soft/irsrvsoft1/expl/eb/rocky_8/software/Compiler/GCCcore/10.3.0/Tcl/8.6.11/lib:/soft/irsrvsoft1/expl/eb/rocky_8/software/Compiler/GCCcore/10.3.0/libreadline/8.1/lib:/soft/irsrvsoft1/expl/eb/rocky_8/software/Compiler/GCCcore/10.3.0/ncurses/6.2/lib:/soft/irsrvsoft1/expl/eb/rocky_8/software/Compiler/GCCcore/10.3.0/bzip2/1.0.8/lib:/soft/irsrvsoft1/expl/eb/rocky_8/software/Compiler/GCCcore/10.3.0/binutils/2.36.1/lib:/soft/irsrvsoft1/expl/eb/rocky_8/software/Compiler/GCCcore/10.3.0/zlib/1.2.11/lib:/soft/irsrvsoft1/expl/eb/rocky_8/software/Core/GCCcore/10.3.0/lib64\n",
      "2023-01-05 15:26:10.481805: I tensorflow/compiler/xla/stream_executor/cuda/cudart_stub.cc:29] Ignore above cudart dlerror if you do not have a GPU set up on your machine.\n",
      "2023-01-05 15:26:11.308469: W tensorflow/compiler/xla/stream_executor/platform/default/dso_loader.cc:64] Could not load dynamic library 'libnvinfer.so.7'; dlerror: libnvinfer.so.7: cannot open shared object file: No such file or directory; LD_LIBRARY_PATH: /soft/irsrvsoft1/expl/eb/rocky_8/software/Compiler/GCC/10.3.0/OpenMPI/4.1.1/lib:/soft/irsrvsoft1/expl/eb/rocky_8/software/Compiler/GCCcore/10.3.0/PMIx/3.2.3/lib:/soft/irsrvsoft1/expl/eb/rocky_8/software/Compiler/GCCcore/10.3.0/libfabric/1.12.1/lib:/soft/irsrvsoft1/expl/eb/rocky_8/software/Compiler/GCCcore/10.3.0/UCX/1.10.0/lib:/soft/irsrvsoft1/expl/eb/rocky_8/software/Compiler/GCCcore/10.3.0/libevent/2.1.12/lib:/soft/irsrvsoft1/expl/eb/rocky_8/software/Compiler/GCCcore/10.3.0/hwloc/2.4.1/lib:/soft/irsrvsoft1/expl/eb/rocky_8/software/Compiler/GCCcore/10.3.0/libpciaccess/0.16/lib:/soft/irsrvsoft1/expl/eb/rocky_8/software/Compiler/GCCcore/10.3.0/libxml2/2.9.10/lib:/soft/irsrvsoft1/expl/eb/rocky_8/software/Compiler/GCCcore/10.3.0/numactl/2.0.14/lib:/soft/irsrvsoft1/expl/eb/rocky_8/software/Compiler/GCCcore/10.3.0/Python/3.9.5/lib:/soft/irsrvsoft1/expl/eb/rocky_8/software/Core/OpenSSL/1.1/lib:/soft/irsrvsoft1/expl/eb/rocky_8/software/Compiler/GCCcore/10.3.0/libffi/3.3/lib64:/soft/irsrvsoft1/expl/eb/rocky_8/software/Compiler/GCCcore/10.3.0/GMP/6.2.1/lib:/soft/irsrvsoft1/expl/eb/rocky_8/software/Compiler/GCCcore/10.3.0/XZ/5.2.5/lib:/soft/irsrvsoft1/expl/eb/rocky_8/software/Compiler/GCCcore/10.3.0/SQLite/3.35.4/lib:/soft/irsrvsoft1/expl/eb/rocky_8/software/Compiler/GCCcore/10.3.0/Tcl/8.6.11/lib:/soft/irsrvsoft1/expl/eb/rocky_8/software/Compiler/GCCcore/10.3.0/libreadline/8.1/lib:/soft/irsrvsoft1/expl/eb/rocky_8/software/Compiler/GCCcore/10.3.0/ncurses/6.2/lib:/soft/irsrvsoft1/expl/eb/rocky_8/software/Compiler/GCCcore/10.3.0/bzip2/1.0.8/lib:/soft/irsrvsoft1/expl/eb/rocky_8/software/Compiler/GCCcore/10.3.0/binutils/2.36.1/lib:/soft/irsrvsoft1/expl/eb/rocky_8/software/Compiler/GCCcore/10.3.0/zlib/1.2.11/lib:/soft/irsrvsoft1/expl/eb/rocky_8/software/Core/GCCcore/10.3.0/lib64\n",
      "2023-01-05 15:26:11.308587: W tensorflow/compiler/xla/stream_executor/platform/default/dso_loader.cc:64] Could not load dynamic library 'libnvinfer_plugin.so.7'; dlerror: libnvinfer_plugin.so.7: cannot open shared object file: No such file or directory; LD_LIBRARY_PATH: /soft/irsrvsoft1/expl/eb/rocky_8/software/Compiler/GCC/10.3.0/OpenMPI/4.1.1/lib:/soft/irsrvsoft1/expl/eb/rocky_8/software/Compiler/GCCcore/10.3.0/PMIx/3.2.3/lib:/soft/irsrvsoft1/expl/eb/rocky_8/software/Compiler/GCCcore/10.3.0/libfabric/1.12.1/lib:/soft/irsrvsoft1/expl/eb/rocky_8/software/Compiler/GCCcore/10.3.0/UCX/1.10.0/lib:/soft/irsrvsoft1/expl/eb/rocky_8/software/Compiler/GCCcore/10.3.0/libevent/2.1.12/lib:/soft/irsrvsoft1/expl/eb/rocky_8/software/Compiler/GCCcore/10.3.0/hwloc/2.4.1/lib:/soft/irsrvsoft1/expl/eb/rocky_8/software/Compiler/GCCcore/10.3.0/libpciaccess/0.16/lib:/soft/irsrvsoft1/expl/eb/rocky_8/software/Compiler/GCCcore/10.3.0/libxml2/2.9.10/lib:/soft/irsrvsoft1/expl/eb/rocky_8/software/Compiler/GCCcore/10.3.0/numactl/2.0.14/lib:/soft/irsrvsoft1/expl/eb/rocky_8/software/Compiler/GCCcore/10.3.0/Python/3.9.5/lib:/soft/irsrvsoft1/expl/eb/rocky_8/software/Core/OpenSSL/1.1/lib:/soft/irsrvsoft1/expl/eb/rocky_8/software/Compiler/GCCcore/10.3.0/libffi/3.3/lib64:/soft/irsrvsoft1/expl/eb/rocky_8/software/Compiler/GCCcore/10.3.0/GMP/6.2.1/lib:/soft/irsrvsoft1/expl/eb/rocky_8/software/Compiler/GCCcore/10.3.0/XZ/5.2.5/lib:/soft/irsrvsoft1/expl/eb/rocky_8/software/Compiler/GCCcore/10.3.0/SQLite/3.35.4/lib:/soft/irsrvsoft1/expl/eb/rocky_8/software/Compiler/GCCcore/10.3.0/Tcl/8.6.11/lib:/soft/irsrvsoft1/expl/eb/rocky_8/software/Compiler/GCCcore/10.3.0/libreadline/8.1/lib:/soft/irsrvsoft1/expl/eb/rocky_8/software/Compiler/GCCcore/10.3.0/ncurses/6.2/lib:/soft/irsrvsoft1/expl/eb/rocky_8/software/Compiler/GCCcore/10.3.0/bzip2/1.0.8/lib:/soft/irsrvsoft1/expl/eb/rocky_8/software/Compiler/GCCcore/10.3.0/binutils/2.36.1/lib:/soft/irsrvsoft1/expl/eb/rocky_8/software/Compiler/GCCcore/10.3.0/zlib/1.2.11/lib:/soft/irsrvsoft1/expl/eb/rocky_8/software/Core/GCCcore/10.3.0/lib64\n",
      "2023-01-05 15:26:11.308597: W tensorflow/compiler/tf2tensorrt/utils/py_utils.cc:38] TF-TRT Warning: Cannot dlopen some TensorRT libraries. If you would like to use Nvidia GPU with TensorRT, please make sure the missing libraries mentioned above are installed properly.\n"
     ]
    }
   ],
   "source": [
    "from ai_reacting_flows.ann_model_generation.model_testing import ModelTesting"
   ]
  },
  {
   "cell_type": "code",
   "execution_count": 2,
   "metadata": {},
   "outputs": [],
   "source": [
    "%load_ext autoreload\n",
    "%autoreload 2"
   ]
  },
  {
   "cell_type": "markdown",
   "metadata": {},
   "source": [
    "Parameters for the testing:"
   ]
  },
  {
   "cell_type": "code",
   "execution_count": 3,
   "metadata": {},
   "outputs": [],
   "source": [
    "# Dictionary with parameters\n",
    "testing_parameters = {}\n",
    "\n",
    "testing_parameters[\"models_folder\"] = \"./MODEL_LOG_RESAMPLED_3Z_SEED2022_SMALL\"     # Folder for the ML model\n",
    " \n",
    "testing_parameters[\"fuel\"] = \"H2\"            # Considered fuel\n",
    "testing_parameters[\"with_N_chemistry\"] = False         # Nitrogen chemistry considered or not\n",
    "\n",
    "testing_parameters[\"spec_to_plot\"] = [\"N2\", \"H2\", \"O2\", \"H2O\", \"H2O2\"]          # List of species to plot\n",
    "testing_parameters[\"pv_species\"] = [\"H2O\"]            # Species used for progress variable computation\n",
    "\n",
    "testing_parameters[\"yk_renormalization\"] = False\n",
    "\n",
    "testing_parameters[\"hybrid_ann_cvode\"] = False             # CVODE helping ANN based on a conservation criterion\n",
    "testing_parameters[\"hybrid_ann_cvode_tol\"] = 5.0e-05      # Tolerance for the CVODE switching\n"
   ]
  },
  {
   "cell_type": "markdown",
   "metadata": {},
   "source": [
    "The model testing is first initialized:"
   ]
  },
  {
   "cell_type": "code",
   "execution_count": 4,
   "metadata": {},
   "outputs": [
    {
     "name": "stdout",
     "output_type": "stream",
     "text": [
      ">> 3 models were found\n",
      "   >> Clustering method progvar is used \n",
      "\n",
      "\n",
      " ----------CLUSTER MODEL 0---------- \n",
      "\n",
      "Model: \"main_model\"\n",
      "_________________________________________________________________\n",
      " Layer (type)                Output Shape              Param #   \n",
      "=================================================================\n",
      " input_layer (InputLayer)    [(None, 9)]               0         \n",
      "                                                                 \n",
      " dense_layer_1 (Dense)       (None, 5)                 50        \n",
      "                                                                 \n",
      " dense_layer_2 (Dense)       (None, 5)                 30        \n",
      "                                                                 \n",
      " output_layer (Dense)        (None, 8)                 48        \n",
      "                                                                 \n",
      "=================================================================\n",
      "Total params: 128\n",
      "Trainable params: 128\n",
      "Non-trainable params: 0\n",
      "_________________________________________________________________\n",
      "\n",
      " ----------CLUSTER MODEL 1---------- \n",
      "\n",
      "Model: \"main_model\"\n",
      "_________________________________________________________________\n",
      " Layer (type)                Output Shape              Param #   \n",
      "=================================================================\n",
      " input_layer (InputLayer)    [(None, 9)]               0         \n",
      "                                                                 \n",
      " dense_layer_1 (Dense)       (None, 20)                200       \n",
      "                                                                 \n",
      " dense_layer_2 (Dense)       (None, 20)                420       \n",
      "                                                                 \n",
      " output_layer (Dense)        (None, 8)                 168       \n",
      "                                                                 \n",
      "=================================================================\n",
      "Total params: 788\n",
      "Trainable params: 788\n",
      "Non-trainable params: 0\n",
      "_________________________________________________________________\n",
      "\n",
      " ----------CLUSTER MODEL 2---------- \n",
      "\n",
      "Model: \"main_model\"\n",
      "_________________________________________________________________\n",
      " Layer (type)                Output Shape              Param #   \n",
      "=================================================================\n",
      " input_layer (InputLayer)    [(None, 9)]               0         \n",
      "                                                                 \n",
      " dense_layer_1 (Dense)       (None, 5)                 50        \n",
      "                                                                 \n",
      " dense_layer_2 (Dense)       (None, 5)                 30        \n",
      "                                                                 \n",
      " output_layer (Dense)        (None, 8)                 48        \n",
      "                                                                 \n",
      "=================================================================\n",
      "Total params: 128\n",
      "Trainable params: 128\n",
      "Non-trainable params: 0\n",
      "_________________________________________________________________\n"
     ]
    },
    {
     "name": "stderr",
     "output_type": "stream",
     "text": [
      "2023-01-05 15:26:22.952836: I tensorflow/compiler/xla/stream_executor/cuda/cuda_gpu_executor.cc:981] successful NUMA node read from SysFS had negative value (-1), but there must be at least one NUMA node, so returning NUMA node zero\n",
      "2023-01-05 15:26:22.953175: W tensorflow/compiler/xla/stream_executor/platform/default/dso_loader.cc:64] Could not load dynamic library 'libcudart.so.11.0'; dlerror: libcudart.so.11.0: cannot open shared object file: No such file or directory; LD_LIBRARY_PATH: /soft/irsrvsoft1/expl/eb/rocky_8/software/Compiler/GCC/10.3.0/OpenMPI/4.1.1/lib:/soft/irsrvsoft1/expl/eb/rocky_8/software/Compiler/GCCcore/10.3.0/PMIx/3.2.3/lib:/soft/irsrvsoft1/expl/eb/rocky_8/software/Compiler/GCCcore/10.3.0/libfabric/1.12.1/lib:/soft/irsrvsoft1/expl/eb/rocky_8/software/Compiler/GCCcore/10.3.0/UCX/1.10.0/lib:/soft/irsrvsoft1/expl/eb/rocky_8/software/Compiler/GCCcore/10.3.0/libevent/2.1.12/lib:/soft/irsrvsoft1/expl/eb/rocky_8/software/Compiler/GCCcore/10.3.0/hwloc/2.4.1/lib:/soft/irsrvsoft1/expl/eb/rocky_8/software/Compiler/GCCcore/10.3.0/libpciaccess/0.16/lib:/soft/irsrvsoft1/expl/eb/rocky_8/software/Compiler/GCCcore/10.3.0/libxml2/2.9.10/lib:/soft/irsrvsoft1/expl/eb/rocky_8/software/Compiler/GCCcore/10.3.0/numactl/2.0.14/lib:/soft/irsrvsoft1/expl/eb/rocky_8/software/Compiler/GCCcore/10.3.0/Python/3.9.5/lib:/soft/irsrvsoft1/expl/eb/rocky_8/software/Core/OpenSSL/1.1/lib:/soft/irsrvsoft1/expl/eb/rocky_8/software/Compiler/GCCcore/10.3.0/libffi/3.3/lib64:/soft/irsrvsoft1/expl/eb/rocky_8/software/Compiler/GCCcore/10.3.0/GMP/6.2.1/lib:/soft/irsrvsoft1/expl/eb/rocky_8/software/Compiler/GCCcore/10.3.0/XZ/5.2.5/lib:/soft/irsrvsoft1/expl/eb/rocky_8/software/Compiler/GCCcore/10.3.0/SQLite/3.35.4/lib:/soft/irsrvsoft1/expl/eb/rocky_8/software/Compiler/GCCcore/10.3.0/Tcl/8.6.11/lib:/soft/irsrvsoft1/expl/eb/rocky_8/software/Compiler/GCCcore/10.3.0/libreadline/8.1/lib:/soft/irsrvsoft1/expl/eb/rocky_8/software/Compiler/GCCcore/10.3.0/ncurses/6.2/lib:/soft/irsrvsoft1/expl/eb/rocky_8/software/Compiler/GCCcore/10.3.0/bzip2/1.0.8/lib:/soft/irsrvsoft1/expl/eb/rocky_8/software/Compiler/GCCcore/10.3.0/binutils/2.36.1/lib:/soft/irsrvsoft1/expl/eb/rocky_8/software/Compiler/GCCcore/10.3.0/zlib/1.2.11/lib:/soft/irsrvsoft1/expl/eb/rocky_8/software/Core/GCCcore/10.3.0/lib64\n",
      "2023-01-05 15:26:22.953290: W tensorflow/compiler/xla/stream_executor/platform/default/dso_loader.cc:64] Could not load dynamic library 'libcublas.so.11'; dlerror: libcublas.so.11: cannot open shared object file: No such file or directory; LD_LIBRARY_PATH: /soft/irsrvsoft1/expl/eb/rocky_8/software/Compiler/GCC/10.3.0/OpenMPI/4.1.1/lib:/soft/irsrvsoft1/expl/eb/rocky_8/software/Compiler/GCCcore/10.3.0/PMIx/3.2.3/lib:/soft/irsrvsoft1/expl/eb/rocky_8/software/Compiler/GCCcore/10.3.0/libfabric/1.12.1/lib:/soft/irsrvsoft1/expl/eb/rocky_8/software/Compiler/GCCcore/10.3.0/UCX/1.10.0/lib:/soft/irsrvsoft1/expl/eb/rocky_8/software/Compiler/GCCcore/10.3.0/libevent/2.1.12/lib:/soft/irsrvsoft1/expl/eb/rocky_8/software/Compiler/GCCcore/10.3.0/hwloc/2.4.1/lib:/soft/irsrvsoft1/expl/eb/rocky_8/software/Compiler/GCCcore/10.3.0/libpciaccess/0.16/lib:/soft/irsrvsoft1/expl/eb/rocky_8/software/Compiler/GCCcore/10.3.0/libxml2/2.9.10/lib:/soft/irsrvsoft1/expl/eb/rocky_8/software/Compiler/GCCcore/10.3.0/numactl/2.0.14/lib:/soft/irsrvsoft1/expl/eb/rocky_8/software/Compiler/GCCcore/10.3.0/Python/3.9.5/lib:/soft/irsrvsoft1/expl/eb/rocky_8/software/Core/OpenSSL/1.1/lib:/soft/irsrvsoft1/expl/eb/rocky_8/software/Compiler/GCCcore/10.3.0/libffi/3.3/lib64:/soft/irsrvsoft1/expl/eb/rocky_8/software/Compiler/GCCcore/10.3.0/GMP/6.2.1/lib:/soft/irsrvsoft1/expl/eb/rocky_8/software/Compiler/GCCcore/10.3.0/XZ/5.2.5/lib:/soft/irsrvsoft1/expl/eb/rocky_8/software/Compiler/GCCcore/10.3.0/SQLite/3.35.4/lib:/soft/irsrvsoft1/expl/eb/rocky_8/software/Compiler/GCCcore/10.3.0/Tcl/8.6.11/lib:/soft/irsrvsoft1/expl/eb/rocky_8/software/Compiler/GCCcore/10.3.0/libreadline/8.1/lib:/soft/irsrvsoft1/expl/eb/rocky_8/software/Compiler/GCCcore/10.3.0/ncurses/6.2/lib:/soft/irsrvsoft1/expl/eb/rocky_8/software/Compiler/GCCcore/10.3.0/bzip2/1.0.8/lib:/soft/irsrvsoft1/expl/eb/rocky_8/software/Compiler/GCCcore/10.3.0/binutils/2.36.1/lib:/soft/irsrvsoft1/expl/eb/rocky_8/software/Compiler/GCCcore/10.3.0/zlib/1.2.11/lib:/soft/irsrvsoft1/expl/eb/rocky_8/software/Core/GCCcore/10.3.0/lib64\n",
      "2023-01-05 15:26:22.953382: W tensorflow/compiler/xla/stream_executor/platform/default/dso_loader.cc:64] Could not load dynamic library 'libcublasLt.so.11'; dlerror: libcublasLt.so.11: cannot open shared object file: No such file or directory; LD_LIBRARY_PATH: /soft/irsrvsoft1/expl/eb/rocky_8/software/Compiler/GCC/10.3.0/OpenMPI/4.1.1/lib:/soft/irsrvsoft1/expl/eb/rocky_8/software/Compiler/GCCcore/10.3.0/PMIx/3.2.3/lib:/soft/irsrvsoft1/expl/eb/rocky_8/software/Compiler/GCCcore/10.3.0/libfabric/1.12.1/lib:/soft/irsrvsoft1/expl/eb/rocky_8/software/Compiler/GCCcore/10.3.0/UCX/1.10.0/lib:/soft/irsrvsoft1/expl/eb/rocky_8/software/Compiler/GCCcore/10.3.0/libevent/2.1.12/lib:/soft/irsrvsoft1/expl/eb/rocky_8/software/Compiler/GCCcore/10.3.0/hwloc/2.4.1/lib:/soft/irsrvsoft1/expl/eb/rocky_8/software/Compiler/GCCcore/10.3.0/libpciaccess/0.16/lib:/soft/irsrvsoft1/expl/eb/rocky_8/software/Compiler/GCCcore/10.3.0/libxml2/2.9.10/lib:/soft/irsrvsoft1/expl/eb/rocky_8/software/Compiler/GCCcore/10.3.0/numactl/2.0.14/lib:/soft/irsrvsoft1/expl/eb/rocky_8/software/Compiler/GCCcore/10.3.0/Python/3.9.5/lib:/soft/irsrvsoft1/expl/eb/rocky_8/software/Core/OpenSSL/1.1/lib:/soft/irsrvsoft1/expl/eb/rocky_8/software/Compiler/GCCcore/10.3.0/libffi/3.3/lib64:/soft/irsrvsoft1/expl/eb/rocky_8/software/Compiler/GCCcore/10.3.0/GMP/6.2.1/lib:/soft/irsrvsoft1/expl/eb/rocky_8/software/Compiler/GCCcore/10.3.0/XZ/5.2.5/lib:/soft/irsrvsoft1/expl/eb/rocky_8/software/Compiler/GCCcore/10.3.0/SQLite/3.35.4/lib:/soft/irsrvsoft1/expl/eb/rocky_8/software/Compiler/GCCcore/10.3.0/Tcl/8.6.11/lib:/soft/irsrvsoft1/expl/eb/rocky_8/software/Compiler/GCCcore/10.3.0/libreadline/8.1/lib:/soft/irsrvsoft1/expl/eb/rocky_8/software/Compiler/GCCcore/10.3.0/ncurses/6.2/lib:/soft/irsrvsoft1/expl/eb/rocky_8/software/Compiler/GCCcore/10.3.0/bzip2/1.0.8/lib:/soft/irsrvsoft1/expl/eb/rocky_8/software/Compiler/GCCcore/10.3.0/binutils/2.36.1/lib:/soft/irsrvsoft1/expl/eb/rocky_8/software/Compiler/GCCcore/10.3.0/zlib/1.2.11/lib:/soft/irsrvsoft1/expl/eb/rocky_8/software/Core/GCCcore/10.3.0/lib64\n",
      "2023-01-05 15:26:22.953478: W tensorflow/compiler/xla/stream_executor/platform/default/dso_loader.cc:64] Could not load dynamic library 'libcufft.so.10'; dlerror: libcufft.so.10: cannot open shared object file: No such file or directory; LD_LIBRARY_PATH: /soft/irsrvsoft1/expl/eb/rocky_8/software/Compiler/GCC/10.3.0/OpenMPI/4.1.1/lib:/soft/irsrvsoft1/expl/eb/rocky_8/software/Compiler/GCCcore/10.3.0/PMIx/3.2.3/lib:/soft/irsrvsoft1/expl/eb/rocky_8/software/Compiler/GCCcore/10.3.0/libfabric/1.12.1/lib:/soft/irsrvsoft1/expl/eb/rocky_8/software/Compiler/GCCcore/10.3.0/UCX/1.10.0/lib:/soft/irsrvsoft1/expl/eb/rocky_8/software/Compiler/GCCcore/10.3.0/libevent/2.1.12/lib:/soft/irsrvsoft1/expl/eb/rocky_8/software/Compiler/GCCcore/10.3.0/hwloc/2.4.1/lib:/soft/irsrvsoft1/expl/eb/rocky_8/software/Compiler/GCCcore/10.3.0/libpciaccess/0.16/lib:/soft/irsrvsoft1/expl/eb/rocky_8/software/Compiler/GCCcore/10.3.0/libxml2/2.9.10/lib:/soft/irsrvsoft1/expl/eb/rocky_8/software/Compiler/GCCcore/10.3.0/numactl/2.0.14/lib:/soft/irsrvsoft1/expl/eb/rocky_8/software/Compiler/GCCcore/10.3.0/Python/3.9.5/lib:/soft/irsrvsoft1/expl/eb/rocky_8/software/Core/OpenSSL/1.1/lib:/soft/irsrvsoft1/expl/eb/rocky_8/software/Compiler/GCCcore/10.3.0/libffi/3.3/lib64:/soft/irsrvsoft1/expl/eb/rocky_8/software/Compiler/GCCcore/10.3.0/GMP/6.2.1/lib:/soft/irsrvsoft1/expl/eb/rocky_8/software/Compiler/GCCcore/10.3.0/XZ/5.2.5/lib:/soft/irsrvsoft1/expl/eb/rocky_8/software/Compiler/GCCcore/10.3.0/SQLite/3.35.4/lib:/soft/irsrvsoft1/expl/eb/rocky_8/software/Compiler/GCCcore/10.3.0/Tcl/8.6.11/lib:/soft/irsrvsoft1/expl/eb/rocky_8/software/Compiler/GCCcore/10.3.0/libreadline/8.1/lib:/soft/irsrvsoft1/expl/eb/rocky_8/software/Compiler/GCCcore/10.3.0/ncurses/6.2/lib:/soft/irsrvsoft1/expl/eb/rocky_8/software/Compiler/GCCcore/10.3.0/bzip2/1.0.8/lib:/soft/irsrvsoft1/expl/eb/rocky_8/software/Compiler/GCCcore/10.3.0/binutils/2.36.1/lib:/soft/irsrvsoft1/expl/eb/rocky_8/software/Compiler/GCCcore/10.3.0/zlib/1.2.11/lib:/soft/irsrvsoft1/expl/eb/rocky_8/software/Core/GCCcore/10.3.0/lib64\n",
      "2023-01-05 15:26:22.953565: W tensorflow/compiler/xla/stream_executor/platform/default/dso_loader.cc:64] Could not load dynamic library 'libcurand.so.10'; dlerror: libcurand.so.10: cannot open shared object file: No such file or directory; LD_LIBRARY_PATH: /soft/irsrvsoft1/expl/eb/rocky_8/software/Compiler/GCC/10.3.0/OpenMPI/4.1.1/lib:/soft/irsrvsoft1/expl/eb/rocky_8/software/Compiler/GCCcore/10.3.0/PMIx/3.2.3/lib:/soft/irsrvsoft1/expl/eb/rocky_8/software/Compiler/GCCcore/10.3.0/libfabric/1.12.1/lib:/soft/irsrvsoft1/expl/eb/rocky_8/software/Compiler/GCCcore/10.3.0/UCX/1.10.0/lib:/soft/irsrvsoft1/expl/eb/rocky_8/software/Compiler/GCCcore/10.3.0/libevent/2.1.12/lib:/soft/irsrvsoft1/expl/eb/rocky_8/software/Compiler/GCCcore/10.3.0/hwloc/2.4.1/lib:/soft/irsrvsoft1/expl/eb/rocky_8/software/Compiler/GCCcore/10.3.0/libpciaccess/0.16/lib:/soft/irsrvsoft1/expl/eb/rocky_8/software/Compiler/GCCcore/10.3.0/libxml2/2.9.10/lib:/soft/irsrvsoft1/expl/eb/rocky_8/software/Compiler/GCCcore/10.3.0/numactl/2.0.14/lib:/soft/irsrvsoft1/expl/eb/rocky_8/software/Compiler/GCCcore/10.3.0/Python/3.9.5/lib:/soft/irsrvsoft1/expl/eb/rocky_8/software/Core/OpenSSL/1.1/lib:/soft/irsrvsoft1/expl/eb/rocky_8/software/Compiler/GCCcore/10.3.0/libffi/3.3/lib64:/soft/irsrvsoft1/expl/eb/rocky_8/software/Compiler/GCCcore/10.3.0/GMP/6.2.1/lib:/soft/irsrvsoft1/expl/eb/rocky_8/software/Compiler/GCCcore/10.3.0/XZ/5.2.5/lib:/soft/irsrvsoft1/expl/eb/rocky_8/software/Compiler/GCCcore/10.3.0/SQLite/3.35.4/lib:/soft/irsrvsoft1/expl/eb/rocky_8/software/Compiler/GCCcore/10.3.0/Tcl/8.6.11/lib:/soft/irsrvsoft1/expl/eb/rocky_8/software/Compiler/GCCcore/10.3.0/libreadline/8.1/lib:/soft/irsrvsoft1/expl/eb/rocky_8/software/Compiler/GCCcore/10.3.0/ncurses/6.2/lib:/soft/irsrvsoft1/expl/eb/rocky_8/software/Compiler/GCCcore/10.3.0/bzip2/1.0.8/lib:/soft/irsrvsoft1/expl/eb/rocky_8/software/Compiler/GCCcore/10.3.0/binutils/2.36.1/lib:/soft/irsrvsoft1/expl/eb/rocky_8/software/Compiler/GCCcore/10.3.0/zlib/1.2.11/lib:/soft/irsrvsoft1/expl/eb/rocky_8/software/Core/GCCcore/10.3.0/lib64\n",
      "2023-01-05 15:26:22.953659: W tensorflow/compiler/xla/stream_executor/platform/default/dso_loader.cc:64] Could not load dynamic library 'libcusolver.so.11'; dlerror: libcusolver.so.11: cannot open shared object file: No such file or directory; LD_LIBRARY_PATH: /soft/irsrvsoft1/expl/eb/rocky_8/software/Compiler/GCC/10.3.0/OpenMPI/4.1.1/lib:/soft/irsrvsoft1/expl/eb/rocky_8/software/Compiler/GCCcore/10.3.0/PMIx/3.2.3/lib:/soft/irsrvsoft1/expl/eb/rocky_8/software/Compiler/GCCcore/10.3.0/libfabric/1.12.1/lib:/soft/irsrvsoft1/expl/eb/rocky_8/software/Compiler/GCCcore/10.3.0/UCX/1.10.0/lib:/soft/irsrvsoft1/expl/eb/rocky_8/software/Compiler/GCCcore/10.3.0/libevent/2.1.12/lib:/soft/irsrvsoft1/expl/eb/rocky_8/software/Compiler/GCCcore/10.3.0/hwloc/2.4.1/lib:/soft/irsrvsoft1/expl/eb/rocky_8/software/Compiler/GCCcore/10.3.0/libpciaccess/0.16/lib:/soft/irsrvsoft1/expl/eb/rocky_8/software/Compiler/GCCcore/10.3.0/libxml2/2.9.10/lib:/soft/irsrvsoft1/expl/eb/rocky_8/software/Compiler/GCCcore/10.3.0/numactl/2.0.14/lib:/soft/irsrvsoft1/expl/eb/rocky_8/software/Compiler/GCCcore/10.3.0/Python/3.9.5/lib:/soft/irsrvsoft1/expl/eb/rocky_8/software/Core/OpenSSL/1.1/lib:/soft/irsrvsoft1/expl/eb/rocky_8/software/Compiler/GCCcore/10.3.0/libffi/3.3/lib64:/soft/irsrvsoft1/expl/eb/rocky_8/software/Compiler/GCCcore/10.3.0/GMP/6.2.1/lib:/soft/irsrvsoft1/expl/eb/rocky_8/software/Compiler/GCCcore/10.3.0/XZ/5.2.5/lib:/soft/irsrvsoft1/expl/eb/rocky_8/software/Compiler/GCCcore/10.3.0/SQLite/3.35.4/lib:/soft/irsrvsoft1/expl/eb/rocky_8/software/Compiler/GCCcore/10.3.0/Tcl/8.6.11/lib:/soft/irsrvsoft1/expl/eb/rocky_8/software/Compiler/GCCcore/10.3.0/libreadline/8.1/lib:/soft/irsrvsoft1/expl/eb/rocky_8/software/Compiler/GCCcore/10.3.0/ncurses/6.2/lib:/soft/irsrvsoft1/expl/eb/rocky_8/software/Compiler/GCCcore/10.3.0/bzip2/1.0.8/lib:/soft/irsrvsoft1/expl/eb/rocky_8/software/Compiler/GCCcore/10.3.0/binutils/2.36.1/lib:/soft/irsrvsoft1/expl/eb/rocky_8/software/Compiler/GCCcore/10.3.0/zlib/1.2.11/lib:/soft/irsrvsoft1/expl/eb/rocky_8/software/Core/GCCcore/10.3.0/lib64\n",
      "2023-01-05 15:26:22.953748: W tensorflow/compiler/xla/stream_executor/platform/default/dso_loader.cc:64] Could not load dynamic library 'libcusparse.so.11'; dlerror: libcusparse.so.11: cannot open shared object file: No such file or directory; LD_LIBRARY_PATH: /soft/irsrvsoft1/expl/eb/rocky_8/software/Compiler/GCC/10.3.0/OpenMPI/4.1.1/lib:/soft/irsrvsoft1/expl/eb/rocky_8/software/Compiler/GCCcore/10.3.0/PMIx/3.2.3/lib:/soft/irsrvsoft1/expl/eb/rocky_8/software/Compiler/GCCcore/10.3.0/libfabric/1.12.1/lib:/soft/irsrvsoft1/expl/eb/rocky_8/software/Compiler/GCCcore/10.3.0/UCX/1.10.0/lib:/soft/irsrvsoft1/expl/eb/rocky_8/software/Compiler/GCCcore/10.3.0/libevent/2.1.12/lib:/soft/irsrvsoft1/expl/eb/rocky_8/software/Compiler/GCCcore/10.3.0/hwloc/2.4.1/lib:/soft/irsrvsoft1/expl/eb/rocky_8/software/Compiler/GCCcore/10.3.0/libpciaccess/0.16/lib:/soft/irsrvsoft1/expl/eb/rocky_8/software/Compiler/GCCcore/10.3.0/libxml2/2.9.10/lib:/soft/irsrvsoft1/expl/eb/rocky_8/software/Compiler/GCCcore/10.3.0/numactl/2.0.14/lib:/soft/irsrvsoft1/expl/eb/rocky_8/software/Compiler/GCCcore/10.3.0/Python/3.9.5/lib:/soft/irsrvsoft1/expl/eb/rocky_8/software/Core/OpenSSL/1.1/lib:/soft/irsrvsoft1/expl/eb/rocky_8/software/Compiler/GCCcore/10.3.0/libffi/3.3/lib64:/soft/irsrvsoft1/expl/eb/rocky_8/software/Compiler/GCCcore/10.3.0/GMP/6.2.1/lib:/soft/irsrvsoft1/expl/eb/rocky_8/software/Compiler/GCCcore/10.3.0/XZ/5.2.5/lib:/soft/irsrvsoft1/expl/eb/rocky_8/software/Compiler/GCCcore/10.3.0/SQLite/3.35.4/lib:/soft/irsrvsoft1/expl/eb/rocky_8/software/Compiler/GCCcore/10.3.0/Tcl/8.6.11/lib:/soft/irsrvsoft1/expl/eb/rocky_8/software/Compiler/GCCcore/10.3.0/libreadline/8.1/lib:/soft/irsrvsoft1/expl/eb/rocky_8/software/Compiler/GCCcore/10.3.0/ncurses/6.2/lib:/soft/irsrvsoft1/expl/eb/rocky_8/software/Compiler/GCCcore/10.3.0/bzip2/1.0.8/lib:/soft/irsrvsoft1/expl/eb/rocky_8/software/Compiler/GCCcore/10.3.0/binutils/2.36.1/lib:/soft/irsrvsoft1/expl/eb/rocky_8/software/Compiler/GCCcore/10.3.0/zlib/1.2.11/lib:/soft/irsrvsoft1/expl/eb/rocky_8/software/Core/GCCcore/10.3.0/lib64\n",
      "2023-01-05 15:26:22.953853: W tensorflow/compiler/xla/stream_executor/platform/default/dso_loader.cc:64] Could not load dynamic library 'libcudnn.so.8'; dlerror: libcudnn.so.8: cannot open shared object file: No such file or directory; LD_LIBRARY_PATH: /soft/irsrvsoft1/expl/eb/rocky_8/software/Compiler/GCC/10.3.0/OpenMPI/4.1.1/lib:/soft/irsrvsoft1/expl/eb/rocky_8/software/Compiler/GCCcore/10.3.0/PMIx/3.2.3/lib:/soft/irsrvsoft1/expl/eb/rocky_8/software/Compiler/GCCcore/10.3.0/libfabric/1.12.1/lib:/soft/irsrvsoft1/expl/eb/rocky_8/software/Compiler/GCCcore/10.3.0/UCX/1.10.0/lib:/soft/irsrvsoft1/expl/eb/rocky_8/software/Compiler/GCCcore/10.3.0/libevent/2.1.12/lib:/soft/irsrvsoft1/expl/eb/rocky_8/software/Compiler/GCCcore/10.3.0/hwloc/2.4.1/lib:/soft/irsrvsoft1/expl/eb/rocky_8/software/Compiler/GCCcore/10.3.0/libpciaccess/0.16/lib:/soft/irsrvsoft1/expl/eb/rocky_8/software/Compiler/GCCcore/10.3.0/libxml2/2.9.10/lib:/soft/irsrvsoft1/expl/eb/rocky_8/software/Compiler/GCCcore/10.3.0/numactl/2.0.14/lib:/soft/irsrvsoft1/expl/eb/rocky_8/software/Compiler/GCCcore/10.3.0/Python/3.9.5/lib:/soft/irsrvsoft1/expl/eb/rocky_8/software/Core/OpenSSL/1.1/lib:/soft/irsrvsoft1/expl/eb/rocky_8/software/Compiler/GCCcore/10.3.0/libffi/3.3/lib64:/soft/irsrvsoft1/expl/eb/rocky_8/software/Compiler/GCCcore/10.3.0/GMP/6.2.1/lib:/soft/irsrvsoft1/expl/eb/rocky_8/software/Compiler/GCCcore/10.3.0/XZ/5.2.5/lib:/soft/irsrvsoft1/expl/eb/rocky_8/software/Compiler/GCCcore/10.3.0/SQLite/3.35.4/lib:/soft/irsrvsoft1/expl/eb/rocky_8/software/Compiler/GCCcore/10.3.0/Tcl/8.6.11/lib:/soft/irsrvsoft1/expl/eb/rocky_8/software/Compiler/GCCcore/10.3.0/libreadline/8.1/lib:/soft/irsrvsoft1/expl/eb/rocky_8/software/Compiler/GCCcore/10.3.0/ncurses/6.2/lib:/soft/irsrvsoft1/expl/eb/rocky_8/software/Compiler/GCCcore/10.3.0/bzip2/1.0.8/lib:/soft/irsrvsoft1/expl/eb/rocky_8/software/Compiler/GCCcore/10.3.0/binutils/2.36.1/lib:/soft/irsrvsoft1/expl/eb/rocky_8/software/Compiler/GCCcore/10.3.0/zlib/1.2.11/lib:/soft/irsrvsoft1/expl/eb/rocky_8/software/Core/GCCcore/10.3.0/lib64\n",
      "2023-01-05 15:26:22.953865: W tensorflow/core/common_runtime/gpu/gpu_device.cc:1934] Cannot dlopen some GPU libraries. Please make sure the missing libraries mentioned above are installed properly if you would like to use GPU. Follow the guide at https://www.tensorflow.org/install/gpu for how to download and setup the required libraries for your platform.\n",
      "Skipping registering GPU devices...\n",
      "2023-01-05 15:26:22.954164: I tensorflow/core/platform/cpu_feature_guard.cc:193] This TensorFlow binary is optimized with oneAPI Deep Neural Network Library (oneDNN) to use the following CPU instructions in performance-critical operations:  AVX2 AVX_VNNI FMA\n",
      "To enable them in other operations, rebuild TensorFlow with the appropriate compiler flags.\n"
     ]
    }
   ],
   "source": [
    "test = ModelTesting(testing_parameters)"
   ]
  },
  {
   "cell_type": "markdown",
   "metadata": {},
   "source": [
    "We can test the ability of the ANN model to reproduce the ignition of a homogeneous 0-D mixture. The mixture initial state is defined by its temperature $T_0$, its pressure $p$ and its equivalence ratio $\\phi$. The simulation is here advanced in time using (i) the CVODE algorithm from CANTERA; (ii) the ANN model."
   ]
  },
  {
   "cell_type": "code",
   "execution_count": 5,
   "metadata": {},
   "outputs": [
    {
     "name": "stdout",
     "output_type": "stream",
     "text": [
      "Current point in cluster: 0 \n",
      "\n",
      "1/1 [==============================] - 0s 94ms/step\n",
      "Current point in cluster: 0 \n",
      "\n",
      "1/1 [==============================] - 0s 16ms/step\n",
      "Current point in cluster: 0 \n"
     ]
    },
    {
     "name": "stderr",
     "output_type": "stream",
     "text": [
      "/work/mehlc/2_IA_KINETICS/ai_reacting_flows/env_ia/lib/python3.9/site-packages/sklearn/base.py:409: UserWarning: X does not have valid feature names, but StandardScaler was fitted with feature names\n",
      "  warnings.warn(\n",
      "/work/mehlc/2_IA_KINETICS/ai_reacting_flows/env_ia/lib/python3.9/site-packages/sklearn/base.py:409: UserWarning: X does not have valid feature names, but StandardScaler was fitted with feature names\n",
      "  warnings.warn(\n",
      "/work/mehlc/2_IA_KINETICS/ai_reacting_flows/env_ia/lib/python3.9/site-packages/sklearn/base.py:409: UserWarning: X does not have valid feature names, but StandardScaler was fitted with feature names\n",
      "  warnings.warn(\n"
     ]
    },
    {
     "name": "stdout",
     "output_type": "stream",
     "text": [
      "\n",
      "1/1 [==============================] - 0s 18ms/step\n",
      "Current point in cluster: 0 \n",
      "\n",
      "1/1 [==============================] - 0s 17ms/step\n",
      "Current point in cluster: 0 \n",
      "\n",
      "1/1 [==============================] - 0s 18ms/step\n",
      "Current point in cluster: 0 \n",
      "\n",
      "1/1 [==============================] - 0s 18ms/step\n",
      "Current point in cluster: 0 \n",
      "\n"
     ]
    },
    {
     "name": "stderr",
     "output_type": "stream",
     "text": [
      "/work/mehlc/2_IA_KINETICS/ai_reacting_flows/env_ia/lib/python3.9/site-packages/sklearn/base.py:409: UserWarning: X does not have valid feature names, but StandardScaler was fitted with feature names\n",
      "  warnings.warn(\n",
      "/work/mehlc/2_IA_KINETICS/ai_reacting_flows/env_ia/lib/python3.9/site-packages/sklearn/base.py:409: UserWarning: X does not have valid feature names, but StandardScaler was fitted with feature names\n",
      "  warnings.warn(\n",
      "/work/mehlc/2_IA_KINETICS/ai_reacting_flows/env_ia/lib/python3.9/site-packages/sklearn/base.py:409: UserWarning: X does not have valid feature names, but StandardScaler was fitted with feature names\n",
      "  warnings.warn(\n",
      "/work/mehlc/2_IA_KINETICS/ai_reacting_flows/env_ia/lib/python3.9/site-packages/sklearn/base.py:409: UserWarning: X does not have valid feature names, but StandardScaler was fitted with feature names\n",
      "  warnings.warn(\n"
     ]
    },
    {
     "name": "stdout",
     "output_type": "stream",
     "text": [
      "1/1 [==============================] - 0s 18ms/step\n",
      "Current point in cluster: 0 \n",
      "\n",
      "1/1 [==============================] - 0s 18ms/step\n",
      "Current point in cluster: 0 \n",
      "\n",
      "1/1 [==============================] - 0s 18ms/step\n",
      "Current point in cluster: 0 \n",
      "\n",
      "1/1 [==============================] - 0s 17ms/step\n",
      "Current point in cluster: 0 \n",
      "\n"
     ]
    },
    {
     "name": "stderr",
     "output_type": "stream",
     "text": [
      "/work/mehlc/2_IA_KINETICS/ai_reacting_flows/env_ia/lib/python3.9/site-packages/sklearn/base.py:409: UserWarning: X does not have valid feature names, but StandardScaler was fitted with feature names\n",
      "  warnings.warn(\n",
      "/work/mehlc/2_IA_KINETICS/ai_reacting_flows/env_ia/lib/python3.9/site-packages/sklearn/base.py:409: UserWarning: X does not have valid feature names, but StandardScaler was fitted with feature names\n",
      "  warnings.warn(\n",
      "/work/mehlc/2_IA_KINETICS/ai_reacting_flows/env_ia/lib/python3.9/site-packages/sklearn/base.py:409: UserWarning: X does not have valid feature names, but StandardScaler was fitted with feature names\n",
      "  warnings.warn(\n",
      "/work/mehlc/2_IA_KINETICS/ai_reacting_flows/env_ia/lib/python3.9/site-packages/sklearn/base.py:409: UserWarning: X does not have valid feature names, but StandardScaler was fitted with feature names\n",
      "  warnings.warn(\n"
     ]
    },
    {
     "name": "stdout",
     "output_type": "stream",
     "text": [
      "1/1 [==============================] - 0s 17ms/step\n",
      "Current point in cluster: 0 \n",
      "\n",
      "1/1 [==============================] - 0s 19ms/step\n",
      "Current point in cluster: 0 \n",
      "\n",
      "1/1 [==============================] - 0s 18ms/step\n",
      "Current point in cluster: 0 \n",
      "\n",
      "1/1 [==============================] - 0s 18ms/step\n",
      "Current point in cluster: 0 \n",
      "\n"
     ]
    },
    {
     "name": "stderr",
     "output_type": "stream",
     "text": [
      "/work/mehlc/2_IA_KINETICS/ai_reacting_flows/env_ia/lib/python3.9/site-packages/sklearn/base.py:409: UserWarning: X does not have valid feature names, but StandardScaler was fitted with feature names\n",
      "  warnings.warn(\n",
      "/work/mehlc/2_IA_KINETICS/ai_reacting_flows/env_ia/lib/python3.9/site-packages/sklearn/base.py:409: UserWarning: X does not have valid feature names, but StandardScaler was fitted with feature names\n",
      "  warnings.warn(\n",
      "/work/mehlc/2_IA_KINETICS/ai_reacting_flows/env_ia/lib/python3.9/site-packages/sklearn/base.py:409: UserWarning: X does not have valid feature names, but StandardScaler was fitted with feature names\n",
      "  warnings.warn(\n",
      "/work/mehlc/2_IA_KINETICS/ai_reacting_flows/env_ia/lib/python3.9/site-packages/sklearn/base.py:409: UserWarning: X does not have valid feature names, but StandardScaler was fitted with feature names\n",
      "  warnings.warn(\n"
     ]
    },
    {
     "name": "stdout",
     "output_type": "stream",
     "text": [
      "1/1 [==============================] - 0s 18ms/step\n",
      "Current point in cluster: 0 \n",
      "\n",
      "1/1 [==============================] - 0s 18ms/step\n",
      "Current point in cluster: 0 \n",
      "\n",
      "1/1 [==============================] - 0s 19ms/step\n",
      "Current point in cluster: 0 \n",
      "\n",
      "1/1 [==============================] - 0s 18ms/step\n",
      "Current point in cluster: 0 \n",
      "\n"
     ]
    },
    {
     "name": "stderr",
     "output_type": "stream",
     "text": [
      "/work/mehlc/2_IA_KINETICS/ai_reacting_flows/env_ia/lib/python3.9/site-packages/sklearn/base.py:409: UserWarning: X does not have valid feature names, but StandardScaler was fitted with feature names\n",
      "  warnings.warn(\n",
      "/work/mehlc/2_IA_KINETICS/ai_reacting_flows/env_ia/lib/python3.9/site-packages/sklearn/base.py:409: UserWarning: X does not have valid feature names, but StandardScaler was fitted with feature names\n",
      "  warnings.warn(\n",
      "/work/mehlc/2_IA_KINETICS/ai_reacting_flows/env_ia/lib/python3.9/site-packages/sklearn/base.py:409: UserWarning: X does not have valid feature names, but StandardScaler was fitted with feature names\n",
      "  warnings.warn(\n",
      "/work/mehlc/2_IA_KINETICS/ai_reacting_flows/env_ia/lib/python3.9/site-packages/sklearn/base.py:409: UserWarning: X does not have valid feature names, but StandardScaler was fitted with feature names\n",
      "  warnings.warn(\n"
     ]
    },
    {
     "name": "stdout",
     "output_type": "stream",
     "text": [
      "1/1 [==============================] - 0s 18ms/step\n",
      "Current point in cluster: 0 \n",
      "\n",
      "1/1 [==============================] - 0s 17ms/step\n",
      "Current point in cluster: 0 \n",
      "\n",
      "1/1 [==============================] - 0s 18ms/step\n",
      "Current point in cluster: 0 \n",
      "\n",
      "1/1 [==============================] - 0s 18ms/step\n",
      "Current point in cluster: 0 \n",
      "\n",
      "1/1 [==============================] - ETA: 0s"
     ]
    },
    {
     "name": "stderr",
     "output_type": "stream",
     "text": [
      "/work/mehlc/2_IA_KINETICS/ai_reacting_flows/env_ia/lib/python3.9/site-packages/sklearn/base.py:409: UserWarning: X does not have valid feature names, but StandardScaler was fitted with feature names\n",
      "  warnings.warn(\n",
      "/work/mehlc/2_IA_KINETICS/ai_reacting_flows/env_ia/lib/python3.9/site-packages/sklearn/base.py:409: UserWarning: X does not have valid feature names, but StandardScaler was fitted with feature names\n",
      "  warnings.warn(\n",
      "/work/mehlc/2_IA_KINETICS/ai_reacting_flows/env_ia/lib/python3.9/site-packages/sklearn/base.py:409: UserWarning: X does not have valid feature names, but StandardScaler was fitted with feature names\n",
      "  warnings.warn(\n",
      "/work/mehlc/2_IA_KINETICS/ai_reacting_flows/env_ia/lib/python3.9/site-packages/sklearn/base.py:409: UserWarning: X does not have valid feature names, but StandardScaler was fitted with feature names\n",
      "  warnings.warn(\n"
     ]
    },
    {
     "name": "stdout",
     "output_type": "stream",
     "text": [
      "1/1 [==============================] - 0s 17ms/step\n",
      "Current point in cluster: 0 \n",
      "\n",
      "1/1 [==============================] - 0s 18ms/step\n",
      "Current point in cluster: 0 \n",
      "\n",
      "1/1 [==============================] - 0s 18ms/step\n",
      "Current point in cluster: 0 \n",
      "\n",
      "1/1 [==============================] - 0s 18ms/step\n",
      "Current point in cluster: 0 \n",
      "\n"
     ]
    },
    {
     "name": "stderr",
     "output_type": "stream",
     "text": [
      "/work/mehlc/2_IA_KINETICS/ai_reacting_flows/env_ia/lib/python3.9/site-packages/sklearn/base.py:409: UserWarning: X does not have valid feature names, but StandardScaler was fitted with feature names\n",
      "  warnings.warn(\n",
      "/work/mehlc/2_IA_KINETICS/ai_reacting_flows/env_ia/lib/python3.9/site-packages/sklearn/base.py:409: UserWarning: X does not have valid feature names, but StandardScaler was fitted with feature names\n",
      "  warnings.warn(\n",
      "/work/mehlc/2_IA_KINETICS/ai_reacting_flows/env_ia/lib/python3.9/site-packages/sklearn/base.py:409: UserWarning: X does not have valid feature names, but StandardScaler was fitted with feature names\n",
      "  warnings.warn(\n",
      "/work/mehlc/2_IA_KINETICS/ai_reacting_flows/env_ia/lib/python3.9/site-packages/sklearn/base.py:409: UserWarning: X does not have valid feature names, but StandardScaler was fitted with feature names\n",
      "  warnings.warn(\n"
     ]
    },
    {
     "name": "stdout",
     "output_type": "stream",
     "text": [
      "1/1 [==============================] - 0s 19ms/step\n",
      "Current point in cluster: 0 \n",
      "\n",
      "1/1 [==============================] - 0s 17ms/step\n",
      "Current point in cluster: 0 \n",
      "\n",
      "1/1 [==============================] - 0s 17ms/step\n",
      "Current point in cluster: 0 \n",
      "\n",
      "1/1 [==============================] - 0s 20ms/step\n",
      "Current point in cluster: 0 \n",
      "\n"
     ]
    },
    {
     "name": "stderr",
     "output_type": "stream",
     "text": [
      "/work/mehlc/2_IA_KINETICS/ai_reacting_flows/env_ia/lib/python3.9/site-packages/sklearn/base.py:409: UserWarning: X does not have valid feature names, but StandardScaler was fitted with feature names\n",
      "  warnings.warn(\n",
      "/work/mehlc/2_IA_KINETICS/ai_reacting_flows/env_ia/lib/python3.9/site-packages/sklearn/base.py:409: UserWarning: X does not have valid feature names, but StandardScaler was fitted with feature names\n",
      "  warnings.warn(\n",
      "/work/mehlc/2_IA_KINETICS/ai_reacting_flows/env_ia/lib/python3.9/site-packages/sklearn/base.py:409: UserWarning: X does not have valid feature names, but StandardScaler was fitted with feature names\n",
      "  warnings.warn(\n",
      "/work/mehlc/2_IA_KINETICS/ai_reacting_flows/env_ia/lib/python3.9/site-packages/sklearn/base.py:409: UserWarning: X does not have valid feature names, but StandardScaler was fitted with feature names\n",
      "  warnings.warn(\n"
     ]
    },
    {
     "name": "stdout",
     "output_type": "stream",
     "text": [
      "1/1 [==============================] - 0s 17ms/step\n",
      "Current point in cluster: 0 \n",
      "\n",
      "1/1 [==============================] - 0s 18ms/step\n",
      "Current point in cluster: 0 \n",
      "\n",
      "1/1 [==============================] - 0s 17ms/step\n",
      "Current point in cluster: 0 \n",
      "\n",
      "1/1 [==============================] - 0s 17ms/step\n",
      "Current point in cluster: 0 \n",
      "\n",
      "1/1 [==============================] - 0s 17ms/step\n"
     ]
    },
    {
     "name": "stderr",
     "output_type": "stream",
     "text": [
      "/work/mehlc/2_IA_KINETICS/ai_reacting_flows/env_ia/lib/python3.9/site-packages/sklearn/base.py:409: UserWarning: X does not have valid feature names, but StandardScaler was fitted with feature names\n",
      "  warnings.warn(\n",
      "/work/mehlc/2_IA_KINETICS/ai_reacting_flows/env_ia/lib/python3.9/site-packages/sklearn/base.py:409: UserWarning: X does not have valid feature names, but StandardScaler was fitted with feature names\n",
      "  warnings.warn(\n",
      "/work/mehlc/2_IA_KINETICS/ai_reacting_flows/env_ia/lib/python3.9/site-packages/sklearn/base.py:409: UserWarning: X does not have valid feature names, but StandardScaler was fitted with feature names\n",
      "  warnings.warn(\n",
      "/work/mehlc/2_IA_KINETICS/ai_reacting_flows/env_ia/lib/python3.9/site-packages/sklearn/base.py:409: UserWarning: X does not have valid feature names, but StandardScaler was fitted with feature names\n",
      "  warnings.warn(\n"
     ]
    },
    {
     "name": "stdout",
     "output_type": "stream",
     "text": [
      "Current point in cluster: 0 \n",
      "\n",
      "1/1 [==============================] - 0s 17ms/step\n",
      "Current point in cluster: 0 \n",
      "\n",
      "1/1 [==============================] - 0s 17ms/step\n",
      "Current point in cluster: 0 \n",
      "\n",
      "1/1 [==============================] - 0s 17ms/step\n",
      "Current point in cluster: 0 \n",
      "\n"
     ]
    },
    {
     "name": "stderr",
     "output_type": "stream",
     "text": [
      "/work/mehlc/2_IA_KINETICS/ai_reacting_flows/env_ia/lib/python3.9/site-packages/sklearn/base.py:409: UserWarning: X does not have valid feature names, but StandardScaler was fitted with feature names\n",
      "  warnings.warn(\n",
      "/work/mehlc/2_IA_KINETICS/ai_reacting_flows/env_ia/lib/python3.9/site-packages/sklearn/base.py:409: UserWarning: X does not have valid feature names, but StandardScaler was fitted with feature names\n",
      "  warnings.warn(\n",
      "/work/mehlc/2_IA_KINETICS/ai_reacting_flows/env_ia/lib/python3.9/site-packages/sklearn/base.py:409: UserWarning: X does not have valid feature names, but StandardScaler was fitted with feature names\n",
      "  warnings.warn(\n",
      "/work/mehlc/2_IA_KINETICS/ai_reacting_flows/env_ia/lib/python3.9/site-packages/sklearn/base.py:409: UserWarning: X does not have valid feature names, but StandardScaler was fitted with feature names\n",
      "  warnings.warn(\n"
     ]
    },
    {
     "name": "stdout",
     "output_type": "stream",
     "text": [
      "1/1 [==============================] - 0s 17ms/step\n",
      "Current point in cluster: 0 \n",
      "\n",
      "1/1 [==============================] - 0s 17ms/step\n",
      "Current point in cluster: 0 \n",
      "\n",
      "1/1 [==============================] - 0s 17ms/step\n",
      "Current point in cluster: 0 \n",
      "\n",
      "1/1 [==============================] - 0s 17ms/step\n",
      "Current point in cluster: 0 \n",
      "\n",
      "1/1 [==============================] - 0s 18ms/step\n",
      "Current point in cluster: 0 \n",
      "\n"
     ]
    },
    {
     "name": "stderr",
     "output_type": "stream",
     "text": [
      "/work/mehlc/2_IA_KINETICS/ai_reacting_flows/env_ia/lib/python3.9/site-packages/sklearn/base.py:409: UserWarning: X does not have valid feature names, but StandardScaler was fitted with feature names\n",
      "  warnings.warn(\n",
      "/work/mehlc/2_IA_KINETICS/ai_reacting_flows/env_ia/lib/python3.9/site-packages/sklearn/base.py:409: UserWarning: X does not have valid feature names, but StandardScaler was fitted with feature names\n",
      "  warnings.warn(\n",
      "/work/mehlc/2_IA_KINETICS/ai_reacting_flows/env_ia/lib/python3.9/site-packages/sklearn/base.py:409: UserWarning: X does not have valid feature names, but StandardScaler was fitted with feature names\n",
      "  warnings.warn(\n",
      "/work/mehlc/2_IA_KINETICS/ai_reacting_flows/env_ia/lib/python3.9/site-packages/sklearn/base.py:409: UserWarning: X does not have valid feature names, but StandardScaler was fitted with feature names\n",
      "  warnings.warn(\n",
      "/work/mehlc/2_IA_KINETICS/ai_reacting_flows/env_ia/lib/python3.9/site-packages/sklearn/base.py:409: UserWarning: X does not have valid feature names, but StandardScaler was fitted with feature names\n",
      "  warnings.warn(\n"
     ]
    },
    {
     "name": "stdout",
     "output_type": "stream",
     "text": [
      "1/1 [==============================] - 0s 17ms/step\n",
      "Current point in cluster: 0 \n",
      "\n",
      "1/1 [==============================] - 0s 18ms/step\n",
      "Current point in cluster: 0 \n",
      "\n",
      "1/1 [==============================] - 0s 18ms/step\n",
      "Current point in cluster: 0 \n",
      "\n",
      "1/1 [==============================] - 0s 17ms/step\n",
      "Current point in cluster: 0 \n",
      "\n"
     ]
    },
    {
     "name": "stderr",
     "output_type": "stream",
     "text": [
      "/work/mehlc/2_IA_KINETICS/ai_reacting_flows/env_ia/lib/python3.9/site-packages/sklearn/base.py:409: UserWarning: X does not have valid feature names, but StandardScaler was fitted with feature names\n",
      "  warnings.warn(\n",
      "/work/mehlc/2_IA_KINETICS/ai_reacting_flows/env_ia/lib/python3.9/site-packages/sklearn/base.py:409: UserWarning: X does not have valid feature names, but StandardScaler was fitted with feature names\n",
      "  warnings.warn(\n",
      "/work/mehlc/2_IA_KINETICS/ai_reacting_flows/env_ia/lib/python3.9/site-packages/sklearn/base.py:409: UserWarning: X does not have valid feature names, but StandardScaler was fitted with feature names\n",
      "  warnings.warn(\n",
      "/work/mehlc/2_IA_KINETICS/ai_reacting_flows/env_ia/lib/python3.9/site-packages/sklearn/base.py:409: UserWarning: X does not have valid feature names, but StandardScaler was fitted with feature names\n",
      "  warnings.warn(\n"
     ]
    },
    {
     "name": "stdout",
     "output_type": "stream",
     "text": [
      "1/1 [==============================] - 0s 17ms/step\n",
      "Current point in cluster: 0 \n",
      "\n",
      "1/1 [==============================] - 0s 16ms/step\n",
      "Current point in cluster: 0 \n",
      "\n",
      "1/1 [==============================] - 0s 18ms/step\n",
      "Current point in cluster: 0 \n",
      "\n",
      "1/1 [==============================] - 0s 17ms/step\n",
      "Current point in cluster: 0 \n",
      "\n"
     ]
    },
    {
     "name": "stderr",
     "output_type": "stream",
     "text": [
      "/work/mehlc/2_IA_KINETICS/ai_reacting_flows/env_ia/lib/python3.9/site-packages/sklearn/base.py:409: UserWarning: X does not have valid feature names, but StandardScaler was fitted with feature names\n",
      "  warnings.warn(\n",
      "/work/mehlc/2_IA_KINETICS/ai_reacting_flows/env_ia/lib/python3.9/site-packages/sklearn/base.py:409: UserWarning: X does not have valid feature names, but StandardScaler was fitted with feature names\n",
      "  warnings.warn(\n",
      "/work/mehlc/2_IA_KINETICS/ai_reacting_flows/env_ia/lib/python3.9/site-packages/sklearn/base.py:409: UserWarning: X does not have valid feature names, but StandardScaler was fitted with feature names\n",
      "  warnings.warn(\n",
      "/work/mehlc/2_IA_KINETICS/ai_reacting_flows/env_ia/lib/python3.9/site-packages/sklearn/base.py:409: UserWarning: X does not have valid feature names, but StandardScaler was fitted with feature names\n",
      "  warnings.warn(\n"
     ]
    },
    {
     "name": "stdout",
     "output_type": "stream",
     "text": [
      "1/1 [==============================] - 0s 17ms/step\n",
      "Current point in cluster: 0 \n",
      "\n",
      "1/1 [==============================] - 0s 18ms/step\n",
      "Current point in cluster: 0 \n",
      "\n",
      "1/1 [==============================] - 0s 18ms/step\n",
      "Current point in cluster: 0 \n",
      "\n",
      "1/1 [==============================] - 0s 17ms/step\n",
      "Current point in cluster: 0 \n",
      "\n"
     ]
    },
    {
     "name": "stderr",
     "output_type": "stream",
     "text": [
      "/work/mehlc/2_IA_KINETICS/ai_reacting_flows/env_ia/lib/python3.9/site-packages/sklearn/base.py:409: UserWarning: X does not have valid feature names, but StandardScaler was fitted with feature names\n",
      "  warnings.warn(\n",
      "/work/mehlc/2_IA_KINETICS/ai_reacting_flows/env_ia/lib/python3.9/site-packages/sklearn/base.py:409: UserWarning: X does not have valid feature names, but StandardScaler was fitted with feature names\n",
      "  warnings.warn(\n",
      "/work/mehlc/2_IA_KINETICS/ai_reacting_flows/env_ia/lib/python3.9/site-packages/sklearn/base.py:409: UserWarning: X does not have valid feature names, but StandardScaler was fitted with feature names\n",
      "  warnings.warn(\n",
      "/work/mehlc/2_IA_KINETICS/ai_reacting_flows/env_ia/lib/python3.9/site-packages/sklearn/base.py:409: UserWarning: X does not have valid feature names, but StandardScaler was fitted with feature names\n",
      "  warnings.warn(\n"
     ]
    },
    {
     "name": "stdout",
     "output_type": "stream",
     "text": [
      "1/1 [==============================] - 0s 17ms/step\n",
      "Current point in cluster: 0 \n",
      "\n",
      "1/1 [==============================] - 0s 17ms/step\n",
      "Current point in cluster: 0 \n",
      "\n",
      "1/1 [==============================] - 0s 17ms/step\n",
      "Current point in cluster: 0 \n",
      "\n",
      "1/1 [==============================] - 0s 17ms/step\n",
      "Current point in cluster: 0 \n",
      "\n",
      "1/1 [==============================] - ETA: 0s"
     ]
    },
    {
     "name": "stderr",
     "output_type": "stream",
     "text": [
      "/work/mehlc/2_IA_KINETICS/ai_reacting_flows/env_ia/lib/python3.9/site-packages/sklearn/base.py:409: UserWarning: X does not have valid feature names, but StandardScaler was fitted with feature names\n",
      "  warnings.warn(\n",
      "/work/mehlc/2_IA_KINETICS/ai_reacting_flows/env_ia/lib/python3.9/site-packages/sklearn/base.py:409: UserWarning: X does not have valid feature names, but StandardScaler was fitted with feature names\n",
      "  warnings.warn(\n",
      "/work/mehlc/2_IA_KINETICS/ai_reacting_flows/env_ia/lib/python3.9/site-packages/sklearn/base.py:409: UserWarning: X does not have valid feature names, but StandardScaler was fitted with feature names\n",
      "  warnings.warn(\n",
      "/work/mehlc/2_IA_KINETICS/ai_reacting_flows/env_ia/lib/python3.9/site-packages/sklearn/base.py:409: UserWarning: X does not have valid feature names, but StandardScaler was fitted with feature names\n",
      "  warnings.warn(\n"
     ]
    },
    {
     "name": "stdout",
     "output_type": "stream",
     "text": [
      "1/1 [==============================] - 0s 18ms/step\n",
      "Current point in cluster: 0 \n",
      "\n",
      "1/1 [==============================] - 0s 18ms/step\n",
      "Current point in cluster: 0 \n",
      "\n",
      "1/1 [==============================] - 0s 18ms/step\n",
      "Current point in cluster: 0 \n",
      "\n",
      "1/1 [==============================] - 0s 18ms/step\n",
      "Current point in cluster: 0 \n",
      "\n"
     ]
    },
    {
     "name": "stderr",
     "output_type": "stream",
     "text": [
      "/work/mehlc/2_IA_KINETICS/ai_reacting_flows/env_ia/lib/python3.9/site-packages/sklearn/base.py:409: UserWarning: X does not have valid feature names, but StandardScaler was fitted with feature names\n",
      "  warnings.warn(\n",
      "/work/mehlc/2_IA_KINETICS/ai_reacting_flows/env_ia/lib/python3.9/site-packages/sklearn/base.py:409: UserWarning: X does not have valid feature names, but StandardScaler was fitted with feature names\n",
      "  warnings.warn(\n",
      "/work/mehlc/2_IA_KINETICS/ai_reacting_flows/env_ia/lib/python3.9/site-packages/sklearn/base.py:409: UserWarning: X does not have valid feature names, but StandardScaler was fitted with feature names\n",
      "  warnings.warn(\n",
      "/work/mehlc/2_IA_KINETICS/ai_reacting_flows/env_ia/lib/python3.9/site-packages/sklearn/base.py:409: UserWarning: X does not have valid feature names, but StandardScaler was fitted with feature names\n",
      "  warnings.warn(\n"
     ]
    },
    {
     "name": "stdout",
     "output_type": "stream",
     "text": [
      "1/1 [==============================] - 0s 17ms/step\n",
      "Current point in cluster: 0 \n",
      "\n",
      "1/1 [==============================] - 0s 17ms/step\n",
      "Current point in cluster: 0 \n",
      "\n",
      "1/1 [==============================] - 0s 17ms/step\n",
      "Current point in cluster: 0 \n",
      "\n",
      "1/1 [==============================] - 0s 17ms/step\n",
      "Current point in cluster: 0 \n",
      "\n"
     ]
    },
    {
     "name": "stderr",
     "output_type": "stream",
     "text": [
      "/work/mehlc/2_IA_KINETICS/ai_reacting_flows/env_ia/lib/python3.9/site-packages/sklearn/base.py:409: UserWarning: X does not have valid feature names, but StandardScaler was fitted with feature names\n",
      "  warnings.warn(\n",
      "/work/mehlc/2_IA_KINETICS/ai_reacting_flows/env_ia/lib/python3.9/site-packages/sklearn/base.py:409: UserWarning: X does not have valid feature names, but StandardScaler was fitted with feature names\n",
      "  warnings.warn(\n",
      "/work/mehlc/2_IA_KINETICS/ai_reacting_flows/env_ia/lib/python3.9/site-packages/sklearn/base.py:409: UserWarning: X does not have valid feature names, but StandardScaler was fitted with feature names\n",
      "  warnings.warn(\n",
      "/work/mehlc/2_IA_KINETICS/ai_reacting_flows/env_ia/lib/python3.9/site-packages/sklearn/base.py:409: UserWarning: X does not have valid feature names, but StandardScaler was fitted with feature names\n",
      "  warnings.warn(\n"
     ]
    },
    {
     "name": "stdout",
     "output_type": "stream",
     "text": [
      "1/1 [==============================] - 0s 18ms/step\n",
      "Current point in cluster: 0 \n",
      "\n",
      "1/1 [==============================] - 0s 17ms/step\n",
      "Current point in cluster: 0 \n",
      "\n",
      "1/1 [==============================] - 0s 18ms/step\n",
      "Current point in cluster: 0 \n",
      "\n",
      "1/1 [==============================] - 0s 17ms/step\n",
      "Current point in cluster: 0 \n",
      "\n"
     ]
    },
    {
     "name": "stderr",
     "output_type": "stream",
     "text": [
      "/work/mehlc/2_IA_KINETICS/ai_reacting_flows/env_ia/lib/python3.9/site-packages/sklearn/base.py:409: UserWarning: X does not have valid feature names, but StandardScaler was fitted with feature names\n",
      "  warnings.warn(\n",
      "/work/mehlc/2_IA_KINETICS/ai_reacting_flows/env_ia/lib/python3.9/site-packages/sklearn/base.py:409: UserWarning: X does not have valid feature names, but StandardScaler was fitted with feature names\n",
      "  warnings.warn(\n",
      "/work/mehlc/2_IA_KINETICS/ai_reacting_flows/env_ia/lib/python3.9/site-packages/sklearn/base.py:409: UserWarning: X does not have valid feature names, but StandardScaler was fitted with feature names\n",
      "  warnings.warn(\n",
      "/work/mehlc/2_IA_KINETICS/ai_reacting_flows/env_ia/lib/python3.9/site-packages/sklearn/base.py:409: UserWarning: X does not have valid feature names, but StandardScaler was fitted with feature names\n",
      "  warnings.warn(\n"
     ]
    },
    {
     "name": "stdout",
     "output_type": "stream",
     "text": [
      "1/1 [==============================] - 0s 19ms/step\n",
      "Current point in cluster: 0 \n",
      "\n",
      "1/1 [==============================] - 0s 19ms/step\n",
      "Current point in cluster: 0 \n",
      "\n",
      "1/1 [==============================] - 0s 18ms/step\n",
      "Current point in cluster: 0 \n",
      "\n",
      "1/1 [==============================] - 0s 17ms/step\n",
      "Current point in cluster: 0 \n",
      "\n"
     ]
    },
    {
     "name": "stderr",
     "output_type": "stream",
     "text": [
      "/work/mehlc/2_IA_KINETICS/ai_reacting_flows/env_ia/lib/python3.9/site-packages/sklearn/base.py:409: UserWarning: X does not have valid feature names, but StandardScaler was fitted with feature names\n",
      "  warnings.warn(\n",
      "/work/mehlc/2_IA_KINETICS/ai_reacting_flows/env_ia/lib/python3.9/site-packages/sklearn/base.py:409: UserWarning: X does not have valid feature names, but StandardScaler was fitted with feature names\n",
      "  warnings.warn(\n",
      "/work/mehlc/2_IA_KINETICS/ai_reacting_flows/env_ia/lib/python3.9/site-packages/sklearn/base.py:409: UserWarning: X does not have valid feature names, but StandardScaler was fitted with feature names\n",
      "  warnings.warn(\n",
      "/work/mehlc/2_IA_KINETICS/ai_reacting_flows/env_ia/lib/python3.9/site-packages/sklearn/base.py:409: UserWarning: X does not have valid feature names, but StandardScaler was fitted with feature names\n",
      "  warnings.warn(\n"
     ]
    },
    {
     "name": "stdout",
     "output_type": "stream",
     "text": [
      "1/1 [==============================] - 0s 19ms/step\n",
      "Current point in cluster: 0 \n",
      "\n",
      "1/1 [==============================] - 0s 17ms/step\n",
      "Current point in cluster: 0 \n",
      "\n",
      "1/1 [==============================] - 0s 17ms/step\n",
      "Current point in cluster: 0 \n",
      "\n",
      "1/1 [==============================] - 0s 18ms/step\n",
      "Current point in cluster: 0 \n",
      "\n"
     ]
    },
    {
     "name": "stderr",
     "output_type": "stream",
     "text": [
      "/work/mehlc/2_IA_KINETICS/ai_reacting_flows/env_ia/lib/python3.9/site-packages/sklearn/base.py:409: UserWarning: X does not have valid feature names, but StandardScaler was fitted with feature names\n",
      "  warnings.warn(\n",
      "/work/mehlc/2_IA_KINETICS/ai_reacting_flows/env_ia/lib/python3.9/site-packages/sklearn/base.py:409: UserWarning: X does not have valid feature names, but StandardScaler was fitted with feature names\n",
      "  warnings.warn(\n",
      "/work/mehlc/2_IA_KINETICS/ai_reacting_flows/env_ia/lib/python3.9/site-packages/sklearn/base.py:409: UserWarning: X does not have valid feature names, but StandardScaler was fitted with feature names\n",
      "  warnings.warn(\n",
      "/work/mehlc/2_IA_KINETICS/ai_reacting_flows/env_ia/lib/python3.9/site-packages/sklearn/base.py:409: UserWarning: X does not have valid feature names, but StandardScaler was fitted with feature names\n",
      "  warnings.warn(\n"
     ]
    },
    {
     "name": "stdout",
     "output_type": "stream",
     "text": [
      "1/1 [==============================] - 0s 17ms/step\n",
      "Current point in cluster: 0 \n",
      "\n",
      "1/1 [==============================] - 0s 17ms/step\n",
      "Current point in cluster: 0 \n",
      "\n",
      "1/1 [==============================] - 0s 17ms/step\n",
      "Current point in cluster: 0 \n",
      "\n",
      "1/1 [==============================] - 0s 18ms/step\n",
      "Current point in cluster: 0 \n",
      "\n"
     ]
    },
    {
     "name": "stderr",
     "output_type": "stream",
     "text": [
      "/work/mehlc/2_IA_KINETICS/ai_reacting_flows/env_ia/lib/python3.9/site-packages/sklearn/base.py:409: UserWarning: X does not have valid feature names, but StandardScaler was fitted with feature names\n",
      "  warnings.warn(\n",
      "/work/mehlc/2_IA_KINETICS/ai_reacting_flows/env_ia/lib/python3.9/site-packages/sklearn/base.py:409: UserWarning: X does not have valid feature names, but StandardScaler was fitted with feature names\n",
      "  warnings.warn(\n",
      "/work/mehlc/2_IA_KINETICS/ai_reacting_flows/env_ia/lib/python3.9/site-packages/sklearn/base.py:409: UserWarning: X does not have valid feature names, but StandardScaler was fitted with feature names\n",
      "  warnings.warn(\n",
      "/work/mehlc/2_IA_KINETICS/ai_reacting_flows/env_ia/lib/python3.9/site-packages/sklearn/base.py:409: UserWarning: X does not have valid feature names, but StandardScaler was fitted with feature names\n",
      "  warnings.warn(\n"
     ]
    },
    {
     "name": "stdout",
     "output_type": "stream",
     "text": [
      "1/1 [==============================] - 0s 18ms/step\n",
      "Current point in cluster: 1 \n",
      "\n",
      "1/1 [==============================] - 0s 47ms/step\n",
      "Current point in cluster: 1 \n",
      "\n",
      "1/1 [==============================] - 0s 17ms/step\n",
      "Current point in cluster: 1 \n",
      "\n",
      "1/1 [==============================] - 0s 17ms/step\n",
      "Current point in cluster: 1 \n",
      "\n"
     ]
    },
    {
     "name": "stderr",
     "output_type": "stream",
     "text": [
      "/work/mehlc/2_IA_KINETICS/ai_reacting_flows/env_ia/lib/python3.9/site-packages/sklearn/base.py:409: UserWarning: X does not have valid feature names, but StandardScaler was fitted with feature names\n",
      "  warnings.warn(\n",
      "/work/mehlc/2_IA_KINETICS/ai_reacting_flows/env_ia/lib/python3.9/site-packages/sklearn/base.py:409: UserWarning: X does not have valid feature names, but StandardScaler was fitted with feature names\n",
      "  warnings.warn(\n",
      "/work/mehlc/2_IA_KINETICS/ai_reacting_flows/env_ia/lib/python3.9/site-packages/sklearn/base.py:409: UserWarning: X does not have valid feature names, but StandardScaler was fitted with feature names\n",
      "  warnings.warn(\n",
      "/work/mehlc/2_IA_KINETICS/ai_reacting_flows/env_ia/lib/python3.9/site-packages/sklearn/base.py:409: UserWarning: X does not have valid feature names, but StandardScaler was fitted with feature names\n",
      "  warnings.warn(\n"
     ]
    },
    {
     "name": "stdout",
     "output_type": "stream",
     "text": [
      "1/1 [==============================] - 0s 17ms/step\n",
      "Current point in cluster: 1 \n",
      "\n",
      "1/1 [==============================] - 0s 18ms/step\n",
      "Current point in cluster: 1 \n",
      "\n",
      "1/1 [==============================] - 0s 18ms/step\n",
      "Current point in cluster: 1 \n",
      "\n",
      "1/1 [==============================] - 0s 18ms/step\n",
      "Current point in cluster: 1 \n",
      "\n"
     ]
    },
    {
     "name": "stderr",
     "output_type": "stream",
     "text": [
      "/work/mehlc/2_IA_KINETICS/ai_reacting_flows/env_ia/lib/python3.9/site-packages/sklearn/base.py:409: UserWarning: X does not have valid feature names, but StandardScaler was fitted with feature names\n",
      "  warnings.warn(\n",
      "/work/mehlc/2_IA_KINETICS/ai_reacting_flows/env_ia/lib/python3.9/site-packages/sklearn/base.py:409: UserWarning: X does not have valid feature names, but StandardScaler was fitted with feature names\n",
      "  warnings.warn(\n",
      "/work/mehlc/2_IA_KINETICS/ai_reacting_flows/env_ia/lib/python3.9/site-packages/sklearn/base.py:409: UserWarning: X does not have valid feature names, but StandardScaler was fitted with feature names\n",
      "  warnings.warn(\n",
      "/work/mehlc/2_IA_KINETICS/ai_reacting_flows/env_ia/lib/python3.9/site-packages/sklearn/base.py:409: UserWarning: X does not have valid feature names, but StandardScaler was fitted with feature names\n",
      "  warnings.warn(\n"
     ]
    },
    {
     "name": "stdout",
     "output_type": "stream",
     "text": [
      "1/1 [==============================] - 0s 18ms/step\n",
      "Current point in cluster: 1 \n",
      "\n",
      "1/1 [==============================] - 0s 18ms/step\n",
      "Current point in cluster: 1 \n",
      "\n",
      "1/1 [==============================] - 0s 17ms/step\n",
      "Current point in cluster: 1 \n",
      "\n",
      "1/1 [==============================] - 0s 17ms/step\n",
      "Current point in cluster: 1 \n",
      "\n"
     ]
    },
    {
     "name": "stderr",
     "output_type": "stream",
     "text": [
      "/work/mehlc/2_IA_KINETICS/ai_reacting_flows/env_ia/lib/python3.9/site-packages/sklearn/base.py:409: UserWarning: X does not have valid feature names, but StandardScaler was fitted with feature names\n",
      "  warnings.warn(\n",
      "/work/mehlc/2_IA_KINETICS/ai_reacting_flows/env_ia/lib/python3.9/site-packages/sklearn/base.py:409: UserWarning: X does not have valid feature names, but StandardScaler was fitted with feature names\n",
      "  warnings.warn(\n",
      "/work/mehlc/2_IA_KINETICS/ai_reacting_flows/env_ia/lib/python3.9/site-packages/sklearn/base.py:409: UserWarning: X does not have valid feature names, but StandardScaler was fitted with feature names\n",
      "  warnings.warn(\n",
      "/work/mehlc/2_IA_KINETICS/ai_reacting_flows/env_ia/lib/python3.9/site-packages/sklearn/base.py:409: UserWarning: X does not have valid feature names, but StandardScaler was fitted with feature names\n",
      "  warnings.warn(\n"
     ]
    },
    {
     "name": "stdout",
     "output_type": "stream",
     "text": [
      "1/1 [==============================] - 0s 17ms/step\n",
      "Current point in cluster: 1 \n",
      "\n",
      "1/1 [==============================] - 0s 17ms/step\n",
      "Current point in cluster: 1 \n",
      "\n",
      "1/1 [==============================] - 0s 17ms/step\n",
      "Current point in cluster: 1 \n",
      "\n",
      "1/1 [==============================] - 0s 17ms/step\n",
      "Current point in cluster: 1 \n",
      "\n"
     ]
    },
    {
     "name": "stderr",
     "output_type": "stream",
     "text": [
      "/work/mehlc/2_IA_KINETICS/ai_reacting_flows/env_ia/lib/python3.9/site-packages/sklearn/base.py:409: UserWarning: X does not have valid feature names, but StandardScaler was fitted with feature names\n",
      "  warnings.warn(\n",
      "/work/mehlc/2_IA_KINETICS/ai_reacting_flows/env_ia/lib/python3.9/site-packages/sklearn/base.py:409: UserWarning: X does not have valid feature names, but StandardScaler was fitted with feature names\n",
      "  warnings.warn(\n",
      "/work/mehlc/2_IA_KINETICS/ai_reacting_flows/env_ia/lib/python3.9/site-packages/sklearn/base.py:409: UserWarning: X does not have valid feature names, but StandardScaler was fitted with feature names\n",
      "  warnings.warn(\n",
      "/work/mehlc/2_IA_KINETICS/ai_reacting_flows/env_ia/lib/python3.9/site-packages/sklearn/base.py:409: UserWarning: X does not have valid feature names, but StandardScaler was fitted with feature names\n",
      "  warnings.warn(\n"
     ]
    },
    {
     "name": "stdout",
     "output_type": "stream",
     "text": [
      "1/1 [==============================] - 0s 17ms/step\n",
      "Current point in cluster: 1 \n",
      "\n",
      "1/1 [==============================] - 0s 17ms/step\n",
      "Current point in cluster: 1 \n",
      "\n",
      "1/1 [==============================] - 0s 18ms/step\n",
      "Current point in cluster: 1 \n",
      "\n",
      "1/1 [==============================] - 0s 18ms/step\n",
      "Current point in cluster: 1 \n",
      "\n"
     ]
    },
    {
     "name": "stderr",
     "output_type": "stream",
     "text": [
      "/work/mehlc/2_IA_KINETICS/ai_reacting_flows/env_ia/lib/python3.9/site-packages/sklearn/base.py:409: UserWarning: X does not have valid feature names, but StandardScaler was fitted with feature names\n",
      "  warnings.warn(\n",
      "/work/mehlc/2_IA_KINETICS/ai_reacting_flows/env_ia/lib/python3.9/site-packages/sklearn/base.py:409: UserWarning: X does not have valid feature names, but StandardScaler was fitted with feature names\n",
      "  warnings.warn(\n",
      "/work/mehlc/2_IA_KINETICS/ai_reacting_flows/env_ia/lib/python3.9/site-packages/sklearn/base.py:409: UserWarning: X does not have valid feature names, but StandardScaler was fitted with feature names\n",
      "  warnings.warn(\n",
      "/work/mehlc/2_IA_KINETICS/ai_reacting_flows/env_ia/lib/python3.9/site-packages/sklearn/base.py:409: UserWarning: X does not have valid feature names, but StandardScaler was fitted with feature names\n",
      "  warnings.warn(\n"
     ]
    },
    {
     "name": "stdout",
     "output_type": "stream",
     "text": [
      "1/1 [==============================] - 0s 25ms/step\n",
      "Current point in cluster: 1 \n",
      "\n",
      "1/1 [==============================] - 0s 17ms/step\n",
      "Current point in cluster: 1 \n",
      "\n",
      "1/1 [==============================] - 0s 17ms/step\n",
      "Current point in cluster: 1 \n",
      "\n",
      "1/1 [==============================] - 0s 18ms/step\n",
      "Current point in cluster: 1 \n",
      "\n"
     ]
    },
    {
     "name": "stderr",
     "output_type": "stream",
     "text": [
      "/work/mehlc/2_IA_KINETICS/ai_reacting_flows/env_ia/lib/python3.9/site-packages/sklearn/base.py:409: UserWarning: X does not have valid feature names, but StandardScaler was fitted with feature names\n",
      "  warnings.warn(\n",
      "/work/mehlc/2_IA_KINETICS/ai_reacting_flows/env_ia/lib/python3.9/site-packages/sklearn/base.py:409: UserWarning: X does not have valid feature names, but StandardScaler was fitted with feature names\n",
      "  warnings.warn(\n",
      "/work/mehlc/2_IA_KINETICS/ai_reacting_flows/env_ia/lib/python3.9/site-packages/sklearn/base.py:409: UserWarning: X does not have valid feature names, but StandardScaler was fitted with feature names\n",
      "  warnings.warn(\n",
      "/work/mehlc/2_IA_KINETICS/ai_reacting_flows/env_ia/lib/python3.9/site-packages/sklearn/base.py:409: UserWarning: X does not have valid feature names, but StandardScaler was fitted with feature names\n",
      "  warnings.warn(\n"
     ]
    },
    {
     "name": "stdout",
     "output_type": "stream",
     "text": [
      "1/1 [==============================] - 0s 17ms/step\n",
      "Current point in cluster: 1 \n",
      "\n",
      "1/1 [==============================] - 0s 18ms/step\n",
      "Current point in cluster: 1 \n",
      "\n",
      "1/1 [==============================] - 0s 18ms/step\n",
      "Current point in cluster: 1 \n",
      "\n",
      "1/1 [==============================] - 0s 18ms/step\n",
      "Current point in cluster: 1 \n",
      "\n"
     ]
    },
    {
     "name": "stderr",
     "output_type": "stream",
     "text": [
      "/work/mehlc/2_IA_KINETICS/ai_reacting_flows/env_ia/lib/python3.9/site-packages/sklearn/base.py:409: UserWarning: X does not have valid feature names, but StandardScaler was fitted with feature names\n",
      "  warnings.warn(\n",
      "/work/mehlc/2_IA_KINETICS/ai_reacting_flows/env_ia/lib/python3.9/site-packages/sklearn/base.py:409: UserWarning: X does not have valid feature names, but StandardScaler was fitted with feature names\n",
      "  warnings.warn(\n",
      "/work/mehlc/2_IA_KINETICS/ai_reacting_flows/env_ia/lib/python3.9/site-packages/sklearn/base.py:409: UserWarning: X does not have valid feature names, but StandardScaler was fitted with feature names\n",
      "  warnings.warn(\n",
      "/work/mehlc/2_IA_KINETICS/ai_reacting_flows/env_ia/lib/python3.9/site-packages/sklearn/base.py:409: UserWarning: X does not have valid feature names, but StandardScaler was fitted with feature names\n",
      "  warnings.warn(\n"
     ]
    },
    {
     "name": "stdout",
     "output_type": "stream",
     "text": [
      "1/1 [==============================] - 0s 18ms/step\n",
      "Current point in cluster: 1 \n",
      "\n",
      "1/1 [==============================] - 0s 18ms/step\n",
      "Current point in cluster: 1 \n",
      "\n",
      "1/1 [==============================] - 0s 18ms/step\n",
      "Current point in cluster: 1 \n",
      "\n",
      "1/1 [==============================] - 0s 19ms/step\n",
      "Current point in cluster: 1 \n",
      "\n"
     ]
    },
    {
     "name": "stderr",
     "output_type": "stream",
     "text": [
      "/work/mehlc/2_IA_KINETICS/ai_reacting_flows/env_ia/lib/python3.9/site-packages/sklearn/base.py:409: UserWarning: X does not have valid feature names, but StandardScaler was fitted with feature names\n",
      "  warnings.warn(\n",
      "/work/mehlc/2_IA_KINETICS/ai_reacting_flows/env_ia/lib/python3.9/site-packages/sklearn/base.py:409: UserWarning: X does not have valid feature names, but StandardScaler was fitted with feature names\n",
      "  warnings.warn(\n",
      "/work/mehlc/2_IA_KINETICS/ai_reacting_flows/env_ia/lib/python3.9/site-packages/sklearn/base.py:409: UserWarning: X does not have valid feature names, but StandardScaler was fitted with feature names\n",
      "  warnings.warn(\n",
      "/work/mehlc/2_IA_KINETICS/ai_reacting_flows/env_ia/lib/python3.9/site-packages/sklearn/base.py:409: UserWarning: X does not have valid feature names, but StandardScaler was fitted with feature names\n",
      "  warnings.warn(\n"
     ]
    },
    {
     "name": "stdout",
     "output_type": "stream",
     "text": [
      "1/1 [==============================] - 0s 18ms/step\n",
      "Current point in cluster: 1 \n",
      "\n",
      "1/1 [==============================] - 0s 17ms/step\n",
      "Current point in cluster: 1 \n",
      "\n",
      "1/1 [==============================] - 0s 17ms/step\n",
      "Current point in cluster: 1 \n",
      "\n",
      "1/1 [==============================] - 0s 18ms/step\n",
      "Current point in cluster: 1 \n",
      "\n"
     ]
    },
    {
     "name": "stderr",
     "output_type": "stream",
     "text": [
      "/work/mehlc/2_IA_KINETICS/ai_reacting_flows/env_ia/lib/python3.9/site-packages/sklearn/base.py:409: UserWarning: X does not have valid feature names, but StandardScaler was fitted with feature names\n",
      "  warnings.warn(\n",
      "/work/mehlc/2_IA_KINETICS/ai_reacting_flows/env_ia/lib/python3.9/site-packages/sklearn/base.py:409: UserWarning: X does not have valid feature names, but StandardScaler was fitted with feature names\n",
      "  warnings.warn(\n",
      "/work/mehlc/2_IA_KINETICS/ai_reacting_flows/env_ia/lib/python3.9/site-packages/sklearn/base.py:409: UserWarning: X does not have valid feature names, but StandardScaler was fitted with feature names\n",
      "  warnings.warn(\n",
      "/work/mehlc/2_IA_KINETICS/ai_reacting_flows/env_ia/lib/python3.9/site-packages/sklearn/base.py:409: UserWarning: X does not have valid feature names, but StandardScaler was fitted with feature names\n",
      "  warnings.warn(\n"
     ]
    },
    {
     "name": "stdout",
     "output_type": "stream",
     "text": [
      "1/1 [==============================] - 0s 18ms/step\n",
      "Current point in cluster: 1 \n",
      "\n",
      "1/1 [==============================] - 0s 18ms/step\n",
      "Current point in cluster: 1 \n",
      "\n",
      "1/1 [==============================] - 0s 17ms/step\n",
      "Current point in cluster: 1 \n",
      "\n",
      "1/1 [==============================] - 0s 17ms/step\n",
      "Current point in cluster: 1 \n",
      "\n"
     ]
    },
    {
     "name": "stderr",
     "output_type": "stream",
     "text": [
      "/work/mehlc/2_IA_KINETICS/ai_reacting_flows/env_ia/lib/python3.9/site-packages/sklearn/base.py:409: UserWarning: X does not have valid feature names, but StandardScaler was fitted with feature names\n",
      "  warnings.warn(\n",
      "/work/mehlc/2_IA_KINETICS/ai_reacting_flows/env_ia/lib/python3.9/site-packages/sklearn/base.py:409: UserWarning: X does not have valid feature names, but StandardScaler was fitted with feature names\n",
      "  warnings.warn(\n",
      "/work/mehlc/2_IA_KINETICS/ai_reacting_flows/env_ia/lib/python3.9/site-packages/sklearn/base.py:409: UserWarning: X does not have valid feature names, but StandardScaler was fitted with feature names\n",
      "  warnings.warn(\n",
      "/work/mehlc/2_IA_KINETICS/ai_reacting_flows/env_ia/lib/python3.9/site-packages/sklearn/base.py:409: UserWarning: X does not have valid feature names, but StandardScaler was fitted with feature names\n",
      "  warnings.warn(\n"
     ]
    },
    {
     "name": "stdout",
     "output_type": "stream",
     "text": [
      "1/1 [==============================] - 0s 17ms/step\n",
      "Current point in cluster: 1 \n",
      "\n",
      "1/1 [==============================] - 0s 17ms/step\n",
      "Current point in cluster: 1 \n",
      "\n",
      "1/1 [==============================] - 0s 19ms/step\n",
      "Current point in cluster: 1 \n",
      "\n",
      "1/1 [==============================] - 0s 18ms/step\n",
      "Current point in cluster: 1 \n",
      "\n"
     ]
    },
    {
     "name": "stderr",
     "output_type": "stream",
     "text": [
      "/work/mehlc/2_IA_KINETICS/ai_reacting_flows/env_ia/lib/python3.9/site-packages/sklearn/base.py:409: UserWarning: X does not have valid feature names, but StandardScaler was fitted with feature names\n",
      "  warnings.warn(\n",
      "/work/mehlc/2_IA_KINETICS/ai_reacting_flows/env_ia/lib/python3.9/site-packages/sklearn/base.py:409: UserWarning: X does not have valid feature names, but StandardScaler was fitted with feature names\n",
      "  warnings.warn(\n",
      "/work/mehlc/2_IA_KINETICS/ai_reacting_flows/env_ia/lib/python3.9/site-packages/sklearn/base.py:409: UserWarning: X does not have valid feature names, but StandardScaler was fitted with feature names\n",
      "  warnings.warn(\n",
      "/work/mehlc/2_IA_KINETICS/ai_reacting_flows/env_ia/lib/python3.9/site-packages/sklearn/base.py:409: UserWarning: X does not have valid feature names, but StandardScaler was fitted with feature names\n",
      "  warnings.warn(\n"
     ]
    },
    {
     "name": "stdout",
     "output_type": "stream",
     "text": [
      "1/1 [==============================] - 0s 18ms/step\n",
      "Current point in cluster: 1 \n",
      "\n",
      "1/1 [==============================] - 0s 18ms/step\n",
      "Current point in cluster: 1 \n",
      "\n",
      "1/1 [==============================] - 0s 18ms/step\n",
      "Current point in cluster: 1 \n",
      "\n",
      "1/1 [==============================] - 0s 17ms/step\n",
      "Current point in cluster: 1 \n",
      "\n"
     ]
    },
    {
     "name": "stderr",
     "output_type": "stream",
     "text": [
      "/work/mehlc/2_IA_KINETICS/ai_reacting_flows/env_ia/lib/python3.9/site-packages/sklearn/base.py:409: UserWarning: X does not have valid feature names, but StandardScaler was fitted with feature names\n",
      "  warnings.warn(\n",
      "/work/mehlc/2_IA_KINETICS/ai_reacting_flows/env_ia/lib/python3.9/site-packages/sklearn/base.py:409: UserWarning: X does not have valid feature names, but StandardScaler was fitted with feature names\n",
      "  warnings.warn(\n",
      "/work/mehlc/2_IA_KINETICS/ai_reacting_flows/env_ia/lib/python3.9/site-packages/sklearn/base.py:409: UserWarning: X does not have valid feature names, but StandardScaler was fitted with feature names\n",
      "  warnings.warn(\n",
      "/work/mehlc/2_IA_KINETICS/ai_reacting_flows/env_ia/lib/python3.9/site-packages/sklearn/base.py:409: UserWarning: X does not have valid feature names, but StandardScaler was fitted with feature names\n",
      "  warnings.warn(\n"
     ]
    },
    {
     "name": "stdout",
     "output_type": "stream",
     "text": [
      "1/1 [==============================] - 0s 17ms/step\n",
      "Current point in cluster: 1 \n",
      "\n",
      "1/1 [==============================] - 0s 18ms/step\n",
      "Current point in cluster: 1 \n",
      "\n",
      "1/1 [==============================] - 0s 17ms/step\n",
      "Current point in cluster: 1 \n",
      "\n",
      "1/1 [==============================] - 0s 18ms/step\n",
      "Current point in cluster: 1 \n",
      "\n"
     ]
    },
    {
     "name": "stderr",
     "output_type": "stream",
     "text": [
      "/work/mehlc/2_IA_KINETICS/ai_reacting_flows/env_ia/lib/python3.9/site-packages/sklearn/base.py:409: UserWarning: X does not have valid feature names, but StandardScaler was fitted with feature names\n",
      "  warnings.warn(\n",
      "/work/mehlc/2_IA_KINETICS/ai_reacting_flows/env_ia/lib/python3.9/site-packages/sklearn/base.py:409: UserWarning: X does not have valid feature names, but StandardScaler was fitted with feature names\n",
      "  warnings.warn(\n",
      "/work/mehlc/2_IA_KINETICS/ai_reacting_flows/env_ia/lib/python3.9/site-packages/sklearn/base.py:409: UserWarning: X does not have valid feature names, but StandardScaler was fitted with feature names\n",
      "  warnings.warn(\n",
      "/work/mehlc/2_IA_KINETICS/ai_reacting_flows/env_ia/lib/python3.9/site-packages/sklearn/base.py:409: UserWarning: X does not have valid feature names, but StandardScaler was fitted with feature names\n",
      "  warnings.warn(\n"
     ]
    },
    {
     "name": "stdout",
     "output_type": "stream",
     "text": [
      "1/1 [==============================] - 0s 18ms/step\n",
      "Current point in cluster: 1 \n",
      "\n",
      "1/1 [==============================] - 0s 20ms/step\n",
      "Current point in cluster: 1 \n",
      "\n",
      "1/1 [==============================] - 0s 17ms/step\n",
      "Current point in cluster: 1 \n",
      "\n",
      "1/1 [==============================] - 0s 17ms/step\n",
      "Current point in cluster: 1 \n",
      "\n"
     ]
    },
    {
     "name": "stderr",
     "output_type": "stream",
     "text": [
      "/work/mehlc/2_IA_KINETICS/ai_reacting_flows/env_ia/lib/python3.9/site-packages/sklearn/base.py:409: UserWarning: X does not have valid feature names, but StandardScaler was fitted with feature names\n",
      "  warnings.warn(\n",
      "/work/mehlc/2_IA_KINETICS/ai_reacting_flows/env_ia/lib/python3.9/site-packages/sklearn/base.py:409: UserWarning: X does not have valid feature names, but StandardScaler was fitted with feature names\n",
      "  warnings.warn(\n",
      "/work/mehlc/2_IA_KINETICS/ai_reacting_flows/env_ia/lib/python3.9/site-packages/sklearn/base.py:409: UserWarning: X does not have valid feature names, but StandardScaler was fitted with feature names\n",
      "  warnings.warn(\n",
      "/work/mehlc/2_IA_KINETICS/ai_reacting_flows/env_ia/lib/python3.9/site-packages/sklearn/base.py:409: UserWarning: X does not have valid feature names, but StandardScaler was fitted with feature names\n",
      "  warnings.warn(\n"
     ]
    },
    {
     "name": "stdout",
     "output_type": "stream",
     "text": [
      "1/1 [==============================] - 0s 17ms/step\n",
      "Current point in cluster: 1 \n",
      "\n",
      "1/1 [==============================] - 0s 17ms/step\n",
      "Current point in cluster: 1 \n",
      "\n",
      "1/1 [==============================] - 0s 17ms/step\n",
      "Current point in cluster: 1 \n",
      "\n",
      "1/1 [==============================] - 0s 17ms/step\n",
      "Current point in cluster: 1 \n",
      "\n"
     ]
    },
    {
     "name": "stderr",
     "output_type": "stream",
     "text": [
      "/work/mehlc/2_IA_KINETICS/ai_reacting_flows/env_ia/lib/python3.9/site-packages/sklearn/base.py:409: UserWarning: X does not have valid feature names, but StandardScaler was fitted with feature names\n",
      "  warnings.warn(\n",
      "/work/mehlc/2_IA_KINETICS/ai_reacting_flows/env_ia/lib/python3.9/site-packages/sklearn/base.py:409: UserWarning: X does not have valid feature names, but StandardScaler was fitted with feature names\n",
      "  warnings.warn(\n",
      "/work/mehlc/2_IA_KINETICS/ai_reacting_flows/env_ia/lib/python3.9/site-packages/sklearn/base.py:409: UserWarning: X does not have valid feature names, but StandardScaler was fitted with feature names\n",
      "  warnings.warn(\n",
      "/work/mehlc/2_IA_KINETICS/ai_reacting_flows/env_ia/lib/python3.9/site-packages/sklearn/base.py:409: UserWarning: X does not have valid feature names, but StandardScaler was fitted with feature names\n",
      "  warnings.warn(\n"
     ]
    },
    {
     "name": "stdout",
     "output_type": "stream",
     "text": [
      "1/1 [==============================] - 0s 17ms/step\n",
      "Current point in cluster: 1 \n",
      "\n",
      "1/1 [==============================] - 0s 18ms/step\n",
      "Current point in cluster: 1 \n",
      "\n",
      "1/1 [==============================] - 0s 17ms/step\n",
      "Current point in cluster: 1 \n",
      "\n",
      "1/1 [==============================] - 0s 18ms/step\n",
      "Current point in cluster: 1 \n",
      "\n"
     ]
    },
    {
     "name": "stderr",
     "output_type": "stream",
     "text": [
      "/work/mehlc/2_IA_KINETICS/ai_reacting_flows/env_ia/lib/python3.9/site-packages/sklearn/base.py:409: UserWarning: X does not have valid feature names, but StandardScaler was fitted with feature names\n",
      "  warnings.warn(\n",
      "/work/mehlc/2_IA_KINETICS/ai_reacting_flows/env_ia/lib/python3.9/site-packages/sklearn/base.py:409: UserWarning: X does not have valid feature names, but StandardScaler was fitted with feature names\n",
      "  warnings.warn(\n",
      "/work/mehlc/2_IA_KINETICS/ai_reacting_flows/env_ia/lib/python3.9/site-packages/sklearn/base.py:409: UserWarning: X does not have valid feature names, but StandardScaler was fitted with feature names\n",
      "  warnings.warn(\n",
      "/work/mehlc/2_IA_KINETICS/ai_reacting_flows/env_ia/lib/python3.9/site-packages/sklearn/base.py:409: UserWarning: X does not have valid feature names, but StandardScaler was fitted with feature names\n",
      "  warnings.warn(\n"
     ]
    },
    {
     "name": "stdout",
     "output_type": "stream",
     "text": [
      "1/1 [==============================] - 0s 17ms/step\n",
      "Current point in cluster: 1 \n",
      "\n",
      "1/1 [==============================] - 0s 18ms/step\n",
      "Current point in cluster: 1 \n",
      "\n",
      "1/1 [==============================] - 0s 18ms/step\n",
      "Current point in cluster: 1 \n",
      "\n",
      "1/1 [==============================] - 0s 17ms/step\n",
      "Current point in cluster: 1 \n",
      "\n"
     ]
    },
    {
     "name": "stderr",
     "output_type": "stream",
     "text": [
      "/work/mehlc/2_IA_KINETICS/ai_reacting_flows/env_ia/lib/python3.9/site-packages/sklearn/base.py:409: UserWarning: X does not have valid feature names, but StandardScaler was fitted with feature names\n",
      "  warnings.warn(\n",
      "/work/mehlc/2_IA_KINETICS/ai_reacting_flows/env_ia/lib/python3.9/site-packages/sklearn/base.py:409: UserWarning: X does not have valid feature names, but StandardScaler was fitted with feature names\n",
      "  warnings.warn(\n",
      "/work/mehlc/2_IA_KINETICS/ai_reacting_flows/env_ia/lib/python3.9/site-packages/sklearn/base.py:409: UserWarning: X does not have valid feature names, but StandardScaler was fitted with feature names\n",
      "  warnings.warn(\n",
      "/work/mehlc/2_IA_KINETICS/ai_reacting_flows/env_ia/lib/python3.9/site-packages/sklearn/base.py:409: UserWarning: X does not have valid feature names, but StandardScaler was fitted with feature names\n",
      "  warnings.warn(\n"
     ]
    },
    {
     "name": "stdout",
     "output_type": "stream",
     "text": [
      "1/1 [==============================] - 0s 18ms/step\n",
      "Current point in cluster: 1 \n",
      "\n",
      "1/1 [==============================] - 0s 18ms/step\n",
      "Current point in cluster: 1 \n",
      "\n",
      "1/1 [==============================] - 0s 17ms/step\n",
      "Current point in cluster: 1 \n",
      "\n",
      "1/1 [==============================] - 0s 17ms/step\n",
      "Current point in cluster: 1 \n",
      "\n"
     ]
    },
    {
     "name": "stderr",
     "output_type": "stream",
     "text": [
      "/work/mehlc/2_IA_KINETICS/ai_reacting_flows/env_ia/lib/python3.9/site-packages/sklearn/base.py:409: UserWarning: X does not have valid feature names, but StandardScaler was fitted with feature names\n",
      "  warnings.warn(\n",
      "/work/mehlc/2_IA_KINETICS/ai_reacting_flows/env_ia/lib/python3.9/site-packages/sklearn/base.py:409: UserWarning: X does not have valid feature names, but StandardScaler was fitted with feature names\n",
      "  warnings.warn(\n",
      "/work/mehlc/2_IA_KINETICS/ai_reacting_flows/env_ia/lib/python3.9/site-packages/sklearn/base.py:409: UserWarning: X does not have valid feature names, but StandardScaler was fitted with feature names\n",
      "  warnings.warn(\n",
      "/work/mehlc/2_IA_KINETICS/ai_reacting_flows/env_ia/lib/python3.9/site-packages/sklearn/base.py:409: UserWarning: X does not have valid feature names, but StandardScaler was fitted with feature names\n",
      "  warnings.warn(\n"
     ]
    },
    {
     "name": "stdout",
     "output_type": "stream",
     "text": [
      "1/1 [==============================] - 0s 18ms/step\n",
      "Current point in cluster: 1 \n",
      "\n",
      "1/1 [==============================] - 0s 18ms/step\n",
      "Current point in cluster: 1 \n",
      "\n",
      "1/1 [==============================] - 0s 17ms/step\n",
      "Current point in cluster: 1 \n",
      "\n",
      "1/1 [==============================] - 0s 18ms/step\n",
      "Current point in cluster: 1 \n",
      "\n"
     ]
    },
    {
     "name": "stderr",
     "output_type": "stream",
     "text": [
      "/work/mehlc/2_IA_KINETICS/ai_reacting_flows/env_ia/lib/python3.9/site-packages/sklearn/base.py:409: UserWarning: X does not have valid feature names, but StandardScaler was fitted with feature names\n",
      "  warnings.warn(\n",
      "/work/mehlc/2_IA_KINETICS/ai_reacting_flows/env_ia/lib/python3.9/site-packages/sklearn/base.py:409: UserWarning: X does not have valid feature names, but StandardScaler was fitted with feature names\n",
      "  warnings.warn(\n",
      "/work/mehlc/2_IA_KINETICS/ai_reacting_flows/env_ia/lib/python3.9/site-packages/sklearn/base.py:409: UserWarning: X does not have valid feature names, but StandardScaler was fitted with feature names\n",
      "  warnings.warn(\n",
      "/work/mehlc/2_IA_KINETICS/ai_reacting_flows/env_ia/lib/python3.9/site-packages/sklearn/base.py:409: UserWarning: X does not have valid feature names, but StandardScaler was fitted with feature names\n",
      "  warnings.warn(\n"
     ]
    },
    {
     "name": "stdout",
     "output_type": "stream",
     "text": [
      "1/1 [==============================] - 0s 17ms/step\n",
      "Current point in cluster: 1 \n",
      "\n",
      "1/1 [==============================] - 0s 17ms/step\n",
      "Current point in cluster: 1 \n",
      "\n",
      "1/1 [==============================] - 0s 18ms/step\n",
      "Current point in cluster: 1 \n",
      "\n",
      "1/1 [==============================] - 0s 17ms/step\n",
      "Current point in cluster: 1 \n",
      "\n"
     ]
    },
    {
     "name": "stderr",
     "output_type": "stream",
     "text": [
      "/work/mehlc/2_IA_KINETICS/ai_reacting_flows/env_ia/lib/python3.9/site-packages/sklearn/base.py:409: UserWarning: X does not have valid feature names, but StandardScaler was fitted with feature names\n",
      "  warnings.warn(\n",
      "/work/mehlc/2_IA_KINETICS/ai_reacting_flows/env_ia/lib/python3.9/site-packages/sklearn/base.py:409: UserWarning: X does not have valid feature names, but StandardScaler was fitted with feature names\n",
      "  warnings.warn(\n",
      "/work/mehlc/2_IA_KINETICS/ai_reacting_flows/env_ia/lib/python3.9/site-packages/sklearn/base.py:409: UserWarning: X does not have valid feature names, but StandardScaler was fitted with feature names\n",
      "  warnings.warn(\n",
      "/work/mehlc/2_IA_KINETICS/ai_reacting_flows/env_ia/lib/python3.9/site-packages/sklearn/base.py:409: UserWarning: X does not have valid feature names, but StandardScaler was fitted with feature names\n",
      "  warnings.warn(\n"
     ]
    },
    {
     "name": "stdout",
     "output_type": "stream",
     "text": [
      "1/1 [==============================] - 0s 17ms/step\n",
      "Current point in cluster: 1 \n",
      "\n",
      "1/1 [==============================] - 0s 20ms/step\n",
      "Current point in cluster: 1 \n",
      "\n",
      "1/1 [==============================] - 0s 18ms/step\n",
      "Current point in cluster: 1 \n",
      "\n",
      "1/1 [==============================] - 0s 17ms/step\n",
      "Current point in cluster: 1 \n",
      "\n"
     ]
    },
    {
     "name": "stderr",
     "output_type": "stream",
     "text": [
      "/work/mehlc/2_IA_KINETICS/ai_reacting_flows/env_ia/lib/python3.9/site-packages/sklearn/base.py:409: UserWarning: X does not have valid feature names, but StandardScaler was fitted with feature names\n",
      "  warnings.warn(\n",
      "/work/mehlc/2_IA_KINETICS/ai_reacting_flows/env_ia/lib/python3.9/site-packages/sklearn/base.py:409: UserWarning: X does not have valid feature names, but StandardScaler was fitted with feature names\n",
      "  warnings.warn(\n",
      "/work/mehlc/2_IA_KINETICS/ai_reacting_flows/env_ia/lib/python3.9/site-packages/sklearn/base.py:409: UserWarning: X does not have valid feature names, but StandardScaler was fitted with feature names\n",
      "  warnings.warn(\n",
      "/work/mehlc/2_IA_KINETICS/ai_reacting_flows/env_ia/lib/python3.9/site-packages/sklearn/base.py:409: UserWarning: X does not have valid feature names, but StandardScaler was fitted with feature names\n",
      "  warnings.warn(\n"
     ]
    },
    {
     "name": "stdout",
     "output_type": "stream",
     "text": [
      "1/1 [==============================] - 0s 18ms/step\n",
      "Current point in cluster: 1 \n",
      "\n",
      "1/1 [==============================] - 0s 17ms/step\n",
      "Current point in cluster: 1 \n",
      "\n",
      "1/1 [==============================] - 0s 18ms/step\n",
      "Current point in cluster: 1 \n",
      "\n",
      "1/1 [==============================] - 0s 17ms/step\n",
      "Current point in cluster: 1 \n",
      "\n"
     ]
    },
    {
     "name": "stderr",
     "output_type": "stream",
     "text": [
      "/work/mehlc/2_IA_KINETICS/ai_reacting_flows/env_ia/lib/python3.9/site-packages/sklearn/base.py:409: UserWarning: X does not have valid feature names, but StandardScaler was fitted with feature names\n",
      "  warnings.warn(\n",
      "/work/mehlc/2_IA_KINETICS/ai_reacting_flows/env_ia/lib/python3.9/site-packages/sklearn/base.py:409: UserWarning: X does not have valid feature names, but StandardScaler was fitted with feature names\n",
      "  warnings.warn(\n",
      "/work/mehlc/2_IA_KINETICS/ai_reacting_flows/env_ia/lib/python3.9/site-packages/sklearn/base.py:409: UserWarning: X does not have valid feature names, but StandardScaler was fitted with feature names\n",
      "  warnings.warn(\n",
      "/work/mehlc/2_IA_KINETICS/ai_reacting_flows/env_ia/lib/python3.9/site-packages/sklearn/base.py:409: UserWarning: X does not have valid feature names, but StandardScaler was fitted with feature names\n",
      "  warnings.warn(\n"
     ]
    },
    {
     "name": "stdout",
     "output_type": "stream",
     "text": [
      "1/1 [==============================] - 0s 17ms/step\n",
      "Current point in cluster: 1 \n",
      "\n",
      "1/1 [==============================] - 0s 18ms/step\n",
      "Current point in cluster: 1 \n",
      "\n",
      "1/1 [==============================] - 0s 18ms/step\n",
      "Current point in cluster: 1 \n",
      "\n",
      "1/1 [==============================] - 0s 18ms/step\n",
      "Current point in cluster: 1 \n",
      "\n"
     ]
    },
    {
     "name": "stderr",
     "output_type": "stream",
     "text": [
      "/work/mehlc/2_IA_KINETICS/ai_reacting_flows/env_ia/lib/python3.9/site-packages/sklearn/base.py:409: UserWarning: X does not have valid feature names, but StandardScaler was fitted with feature names\n",
      "  warnings.warn(\n",
      "/work/mehlc/2_IA_KINETICS/ai_reacting_flows/env_ia/lib/python3.9/site-packages/sklearn/base.py:409: UserWarning: X does not have valid feature names, but StandardScaler was fitted with feature names\n",
      "  warnings.warn(\n",
      "/work/mehlc/2_IA_KINETICS/ai_reacting_flows/env_ia/lib/python3.9/site-packages/sklearn/base.py:409: UserWarning: X does not have valid feature names, but StandardScaler was fitted with feature names\n",
      "  warnings.warn(\n",
      "/work/mehlc/2_IA_KINETICS/ai_reacting_flows/env_ia/lib/python3.9/site-packages/sklearn/base.py:409: UserWarning: X does not have valid feature names, but StandardScaler was fitted with feature names\n",
      "  warnings.warn(\n"
     ]
    },
    {
     "name": "stdout",
     "output_type": "stream",
     "text": [
      "1/1 [==============================] - 0s 18ms/step\n",
      "Current point in cluster: 1 \n",
      "\n",
      "1/1 [==============================] - 0s 18ms/step\n",
      "Current point in cluster: 1 \n",
      "\n",
      "1/1 [==============================] - 0s 18ms/step\n",
      "Current point in cluster: 1 \n",
      "\n",
      "1/1 [==============================] - 0s 18ms/step\n",
      "Current point in cluster: 1 \n",
      "\n"
     ]
    },
    {
     "name": "stderr",
     "output_type": "stream",
     "text": [
      "/work/mehlc/2_IA_KINETICS/ai_reacting_flows/env_ia/lib/python3.9/site-packages/sklearn/base.py:409: UserWarning: X does not have valid feature names, but StandardScaler was fitted with feature names\n",
      "  warnings.warn(\n",
      "/work/mehlc/2_IA_KINETICS/ai_reacting_flows/env_ia/lib/python3.9/site-packages/sklearn/base.py:409: UserWarning: X does not have valid feature names, but StandardScaler was fitted with feature names\n",
      "  warnings.warn(\n",
      "/work/mehlc/2_IA_KINETICS/ai_reacting_flows/env_ia/lib/python3.9/site-packages/sklearn/base.py:409: UserWarning: X does not have valid feature names, but StandardScaler was fitted with feature names\n",
      "  warnings.warn(\n",
      "/work/mehlc/2_IA_KINETICS/ai_reacting_flows/env_ia/lib/python3.9/site-packages/sklearn/base.py:409: UserWarning: X does not have valid feature names, but StandardScaler was fitted with feature names\n",
      "  warnings.warn(\n"
     ]
    },
    {
     "name": "stdout",
     "output_type": "stream",
     "text": [
      "1/1 [==============================] - 0s 18ms/step\n",
      "Current point in cluster: 1 \n",
      "\n",
      "1/1 [==============================] - 0s 17ms/step\n",
      "Current point in cluster: 1 \n",
      "\n",
      "1/1 [==============================] - 0s 17ms/step\n",
      "Current point in cluster: 1 \n",
      "\n",
      "1/1 [==============================] - 0s 17ms/step\n",
      "Current point in cluster: 1 \n",
      "\n"
     ]
    },
    {
     "name": "stderr",
     "output_type": "stream",
     "text": [
      "/work/mehlc/2_IA_KINETICS/ai_reacting_flows/env_ia/lib/python3.9/site-packages/sklearn/base.py:409: UserWarning: X does not have valid feature names, but StandardScaler was fitted with feature names\n",
      "  warnings.warn(\n",
      "/work/mehlc/2_IA_KINETICS/ai_reacting_flows/env_ia/lib/python3.9/site-packages/sklearn/base.py:409: UserWarning: X does not have valid feature names, but StandardScaler was fitted with feature names\n",
      "  warnings.warn(\n",
      "/work/mehlc/2_IA_KINETICS/ai_reacting_flows/env_ia/lib/python3.9/site-packages/sklearn/base.py:409: UserWarning: X does not have valid feature names, but StandardScaler was fitted with feature names\n",
      "  warnings.warn(\n",
      "/work/mehlc/2_IA_KINETICS/ai_reacting_flows/env_ia/lib/python3.9/site-packages/sklearn/base.py:409: UserWarning: X does not have valid feature names, but StandardScaler was fitted with feature names\n",
      "  warnings.warn(\n"
     ]
    },
    {
     "name": "stdout",
     "output_type": "stream",
     "text": [
      "1/1 [==============================] - 0s 17ms/step\n",
      "Current point in cluster: 1 \n",
      "\n",
      "1/1 [==============================] - 0s 18ms/step\n",
      "Current point in cluster: 1 \n",
      "\n",
      "1/1 [==============================] - 0s 18ms/step\n",
      "Current point in cluster: 1 \n",
      "\n",
      "1/1 [==============================] - 0s 18ms/step\n",
      "Current point in cluster: 1 \n",
      "\n",
      "1/1 [==============================] - ETA: 0s"
     ]
    },
    {
     "name": "stderr",
     "output_type": "stream",
     "text": [
      "/work/mehlc/2_IA_KINETICS/ai_reacting_flows/env_ia/lib/python3.9/site-packages/sklearn/base.py:409: UserWarning: X does not have valid feature names, but StandardScaler was fitted with feature names\n",
      "  warnings.warn(\n",
      "/work/mehlc/2_IA_KINETICS/ai_reacting_flows/env_ia/lib/python3.9/site-packages/sklearn/base.py:409: UserWarning: X does not have valid feature names, but StandardScaler was fitted with feature names\n",
      "  warnings.warn(\n",
      "/work/mehlc/2_IA_KINETICS/ai_reacting_flows/env_ia/lib/python3.9/site-packages/sklearn/base.py:409: UserWarning: X does not have valid feature names, but StandardScaler was fitted with feature names\n",
      "  warnings.warn(\n",
      "/work/mehlc/2_IA_KINETICS/ai_reacting_flows/env_ia/lib/python3.9/site-packages/sklearn/base.py:409: UserWarning: X does not have valid feature names, but StandardScaler was fitted with feature names\n",
      "  warnings.warn(\n"
     ]
    },
    {
     "name": "stdout",
     "output_type": "stream",
     "text": [
      "1/1 [==============================] - 0s 18ms/step\n",
      "Current point in cluster: 1 \n",
      "\n",
      "1/1 [==============================] - 0s 18ms/step\n",
      "Current point in cluster: 1 \n",
      "\n",
      "1/1 [==============================] - 0s 18ms/step\n",
      "Current point in cluster: 1 \n",
      "\n",
      "1/1 [==============================] - 0s 18ms/step\n",
      "Current point in cluster: 1 \n",
      "\n"
     ]
    },
    {
     "name": "stderr",
     "output_type": "stream",
     "text": [
      "/work/mehlc/2_IA_KINETICS/ai_reacting_flows/env_ia/lib/python3.9/site-packages/sklearn/base.py:409: UserWarning: X does not have valid feature names, but StandardScaler was fitted with feature names\n",
      "  warnings.warn(\n",
      "/work/mehlc/2_IA_KINETICS/ai_reacting_flows/env_ia/lib/python3.9/site-packages/sklearn/base.py:409: UserWarning: X does not have valid feature names, but StandardScaler was fitted with feature names\n",
      "  warnings.warn(\n",
      "/work/mehlc/2_IA_KINETICS/ai_reacting_flows/env_ia/lib/python3.9/site-packages/sklearn/base.py:409: UserWarning: X does not have valid feature names, but StandardScaler was fitted with feature names\n",
      "  warnings.warn(\n",
      "/work/mehlc/2_IA_KINETICS/ai_reacting_flows/env_ia/lib/python3.9/site-packages/sklearn/base.py:409: UserWarning: X does not have valid feature names, but StandardScaler was fitted with feature names\n",
      "  warnings.warn(\n"
     ]
    },
    {
     "name": "stdout",
     "output_type": "stream",
     "text": [
      "1/1 [==============================] - 0s 17ms/step\n",
      "Current point in cluster: 1 \n",
      "\n",
      "1/1 [==============================] - 0s 19ms/step\n",
      "Current point in cluster: 1 \n",
      "\n",
      "1/1 [==============================] - 0s 18ms/step\n",
      "Current point in cluster: 1 \n",
      "\n",
      "1/1 [==============================] - 0s 18ms/step\n",
      "Current point in cluster: 1 \n",
      "\n"
     ]
    },
    {
     "name": "stderr",
     "output_type": "stream",
     "text": [
      "/work/mehlc/2_IA_KINETICS/ai_reacting_flows/env_ia/lib/python3.9/site-packages/sklearn/base.py:409: UserWarning: X does not have valid feature names, but StandardScaler was fitted with feature names\n",
      "  warnings.warn(\n",
      "/work/mehlc/2_IA_KINETICS/ai_reacting_flows/env_ia/lib/python3.9/site-packages/sklearn/base.py:409: UserWarning: X does not have valid feature names, but StandardScaler was fitted with feature names\n",
      "  warnings.warn(\n",
      "/work/mehlc/2_IA_KINETICS/ai_reacting_flows/env_ia/lib/python3.9/site-packages/sklearn/base.py:409: UserWarning: X does not have valid feature names, but StandardScaler was fitted with feature names\n",
      "  warnings.warn(\n",
      "/work/mehlc/2_IA_KINETICS/ai_reacting_flows/env_ia/lib/python3.9/site-packages/sklearn/base.py:409: UserWarning: X does not have valid feature names, but StandardScaler was fitted with feature names\n",
      "  warnings.warn(\n"
     ]
    },
    {
     "name": "stdout",
     "output_type": "stream",
     "text": [
      "1/1 [==============================] - 0s 18ms/step\n",
      "Current point in cluster: 1 \n",
      "\n",
      "1/1 [==============================] - 0s 19ms/step\n",
      "Current point in cluster: 1 \n",
      "\n",
      "1/1 [==============================] - 0s 18ms/step\n",
      "Current point in cluster: 1 \n",
      "\n",
      "1/1 [==============================] - 0s 18ms/step\n",
      "Current point in cluster: 1 \n",
      "\n"
     ]
    },
    {
     "name": "stderr",
     "output_type": "stream",
     "text": [
      "/work/mehlc/2_IA_KINETICS/ai_reacting_flows/env_ia/lib/python3.9/site-packages/sklearn/base.py:409: UserWarning: X does not have valid feature names, but StandardScaler was fitted with feature names\n",
      "  warnings.warn(\n",
      "/work/mehlc/2_IA_KINETICS/ai_reacting_flows/env_ia/lib/python3.9/site-packages/sklearn/base.py:409: UserWarning: X does not have valid feature names, but StandardScaler was fitted with feature names\n",
      "  warnings.warn(\n",
      "/work/mehlc/2_IA_KINETICS/ai_reacting_flows/env_ia/lib/python3.9/site-packages/sklearn/base.py:409: UserWarning: X does not have valid feature names, but StandardScaler was fitted with feature names\n",
      "  warnings.warn(\n",
      "/work/mehlc/2_IA_KINETICS/ai_reacting_flows/env_ia/lib/python3.9/site-packages/sklearn/base.py:409: UserWarning: X does not have valid feature names, but StandardScaler was fitted with feature names\n",
      "  warnings.warn(\n"
     ]
    },
    {
     "name": "stdout",
     "output_type": "stream",
     "text": [
      "1/1 [==============================] - 0s 17ms/step\n",
      "Current point in cluster: 1 \n",
      "\n",
      "1/1 [==============================] - 0s 18ms/step\n",
      "Current point in cluster: 1 \n",
      "\n",
      "1/1 [==============================] - 0s 19ms/step\n",
      "Current point in cluster: 1 \n",
      "\n",
      "1/1 [==============================] - 0s 18ms/step\n",
      "Current point in cluster: 1 \n",
      "\n"
     ]
    },
    {
     "name": "stderr",
     "output_type": "stream",
     "text": [
      "/work/mehlc/2_IA_KINETICS/ai_reacting_flows/env_ia/lib/python3.9/site-packages/sklearn/base.py:409: UserWarning: X does not have valid feature names, but StandardScaler was fitted with feature names\n",
      "  warnings.warn(\n",
      "/work/mehlc/2_IA_KINETICS/ai_reacting_flows/env_ia/lib/python3.9/site-packages/sklearn/base.py:409: UserWarning: X does not have valid feature names, but StandardScaler was fitted with feature names\n",
      "  warnings.warn(\n",
      "/work/mehlc/2_IA_KINETICS/ai_reacting_flows/env_ia/lib/python3.9/site-packages/sklearn/base.py:409: UserWarning: X does not have valid feature names, but StandardScaler was fitted with feature names\n",
      "  warnings.warn(\n",
      "/work/mehlc/2_IA_KINETICS/ai_reacting_flows/env_ia/lib/python3.9/site-packages/sklearn/base.py:409: UserWarning: X does not have valid feature names, but StandardScaler was fitted with feature names\n",
      "  warnings.warn(\n"
     ]
    },
    {
     "name": "stdout",
     "output_type": "stream",
     "text": [
      "1/1 [==============================] - 0s 18ms/step\n",
      "Current point in cluster: 1 \n",
      "\n",
      "1/1 [==============================] - 0s 18ms/step\n",
      "Current point in cluster: 1 \n",
      "\n",
      "1/1 [==============================] - 0s 17ms/step\n",
      "Current point in cluster: 1 \n",
      "\n",
      "1/1 [==============================] - 0s 18ms/step\n",
      "Current point in cluster: 1 \n",
      "\n"
     ]
    },
    {
     "name": "stderr",
     "output_type": "stream",
     "text": [
      "/work/mehlc/2_IA_KINETICS/ai_reacting_flows/env_ia/lib/python3.9/site-packages/sklearn/base.py:409: UserWarning: X does not have valid feature names, but StandardScaler was fitted with feature names\n",
      "  warnings.warn(\n",
      "/work/mehlc/2_IA_KINETICS/ai_reacting_flows/env_ia/lib/python3.9/site-packages/sklearn/base.py:409: UserWarning: X does not have valid feature names, but StandardScaler was fitted with feature names\n",
      "  warnings.warn(\n",
      "/work/mehlc/2_IA_KINETICS/ai_reacting_flows/env_ia/lib/python3.9/site-packages/sklearn/base.py:409: UserWarning: X does not have valid feature names, but StandardScaler was fitted with feature names\n",
      "  warnings.warn(\n",
      "/work/mehlc/2_IA_KINETICS/ai_reacting_flows/env_ia/lib/python3.9/site-packages/sklearn/base.py:409: UserWarning: X does not have valid feature names, but StandardScaler was fitted with feature names\n",
      "  warnings.warn(\n"
     ]
    },
    {
     "name": "stdout",
     "output_type": "stream",
     "text": [
      "1/1 [==============================] - 0s 17ms/step\n",
      "Current point in cluster: 1 \n",
      "\n",
      "1/1 [==============================] - 0s 18ms/step\n",
      "Current point in cluster: 1 \n",
      "\n",
      "1/1 [==============================] - 0s 17ms/step\n",
      "Current point in cluster: 1 \n",
      "\n",
      "1/1 [==============================] - 0s 19ms/step\n",
      "Current point in cluster: 1 \n",
      "\n"
     ]
    },
    {
     "name": "stderr",
     "output_type": "stream",
     "text": [
      "/work/mehlc/2_IA_KINETICS/ai_reacting_flows/env_ia/lib/python3.9/site-packages/sklearn/base.py:409: UserWarning: X does not have valid feature names, but StandardScaler was fitted with feature names\n",
      "  warnings.warn(\n",
      "/work/mehlc/2_IA_KINETICS/ai_reacting_flows/env_ia/lib/python3.9/site-packages/sklearn/base.py:409: UserWarning: X does not have valid feature names, but StandardScaler was fitted with feature names\n",
      "  warnings.warn(\n",
      "/work/mehlc/2_IA_KINETICS/ai_reacting_flows/env_ia/lib/python3.9/site-packages/sklearn/base.py:409: UserWarning: X does not have valid feature names, but StandardScaler was fitted with feature names\n",
      "  warnings.warn(\n",
      "/work/mehlc/2_IA_KINETICS/ai_reacting_flows/env_ia/lib/python3.9/site-packages/sklearn/base.py:409: UserWarning: X does not have valid feature names, but StandardScaler was fitted with feature names\n",
      "  warnings.warn(\n"
     ]
    },
    {
     "name": "stdout",
     "output_type": "stream",
     "text": [
      "1/1 [==============================] - 0s 17ms/step\n",
      "Current point in cluster: 1 \n",
      "\n",
      "1/1 [==============================] - 0s 17ms/step\n",
      "Current point in cluster: 1 \n",
      "\n",
      "1/1 [==============================] - 0s 18ms/step\n",
      "Current point in cluster: 1 \n",
      "\n",
      "1/1 [==============================] - 0s 17ms/step\n",
      "Current point in cluster: 1 \n",
      "\n",
      "1/1 [==============================] - ETA: 0s"
     ]
    },
    {
     "name": "stderr",
     "output_type": "stream",
     "text": [
      "/work/mehlc/2_IA_KINETICS/ai_reacting_flows/env_ia/lib/python3.9/site-packages/sklearn/base.py:409: UserWarning: X does not have valid feature names, but StandardScaler was fitted with feature names\n",
      "  warnings.warn(\n",
      "/work/mehlc/2_IA_KINETICS/ai_reacting_flows/env_ia/lib/python3.9/site-packages/sklearn/base.py:409: UserWarning: X does not have valid feature names, but StandardScaler was fitted with feature names\n",
      "  warnings.warn(\n",
      "/work/mehlc/2_IA_KINETICS/ai_reacting_flows/env_ia/lib/python3.9/site-packages/sklearn/base.py:409: UserWarning: X does not have valid feature names, but StandardScaler was fitted with feature names\n",
      "  warnings.warn(\n",
      "/work/mehlc/2_IA_KINETICS/ai_reacting_flows/env_ia/lib/python3.9/site-packages/sklearn/base.py:409: UserWarning: X does not have valid feature names, but StandardScaler was fitted with feature names\n",
      "  warnings.warn(\n"
     ]
    },
    {
     "name": "stdout",
     "output_type": "stream",
     "text": [
      "1/1 [==============================] - 0s 17ms/step\n",
      "Current point in cluster: 1 \n",
      "\n",
      "1/1 [==============================] - 0s 17ms/step\n",
      "Current point in cluster: 1 \n",
      "\n",
      "1/1 [==============================] - 0s 17ms/step\n",
      "Current point in cluster: 1 \n",
      "\n",
      "1/1 [==============================] - 0s 17ms/step\n",
      "Current point in cluster: 1 \n",
      "\n"
     ]
    },
    {
     "name": "stderr",
     "output_type": "stream",
     "text": [
      "/work/mehlc/2_IA_KINETICS/ai_reacting_flows/env_ia/lib/python3.9/site-packages/sklearn/base.py:409: UserWarning: X does not have valid feature names, but StandardScaler was fitted with feature names\n",
      "  warnings.warn(\n",
      "/work/mehlc/2_IA_KINETICS/ai_reacting_flows/env_ia/lib/python3.9/site-packages/sklearn/base.py:409: UserWarning: X does not have valid feature names, but StandardScaler was fitted with feature names\n",
      "  warnings.warn(\n",
      "/work/mehlc/2_IA_KINETICS/ai_reacting_flows/env_ia/lib/python3.9/site-packages/sklearn/base.py:409: UserWarning: X does not have valid feature names, but StandardScaler was fitted with feature names\n",
      "  warnings.warn(\n",
      "/work/mehlc/2_IA_KINETICS/ai_reacting_flows/env_ia/lib/python3.9/site-packages/sklearn/base.py:409: UserWarning: X does not have valid feature names, but StandardScaler was fitted with feature names\n",
      "  warnings.warn(\n"
     ]
    },
    {
     "name": "stdout",
     "output_type": "stream",
     "text": [
      "1/1 [==============================] - 0s 19ms/step\n",
      "Current point in cluster: 1 \n",
      "\n",
      "1/1 [==============================] - 0s 17ms/step\n",
      "Current point in cluster: 1 \n",
      "\n",
      "1/1 [==============================] - 0s 19ms/step\n",
      "Current point in cluster: 1 \n",
      "\n",
      "1/1 [==============================] - 0s 17ms/step\n",
      "Current point in cluster: 1 \n",
      "\n"
     ]
    },
    {
     "name": "stderr",
     "output_type": "stream",
     "text": [
      "/work/mehlc/2_IA_KINETICS/ai_reacting_flows/env_ia/lib/python3.9/site-packages/sklearn/base.py:409: UserWarning: X does not have valid feature names, but StandardScaler was fitted with feature names\n",
      "  warnings.warn(\n",
      "/work/mehlc/2_IA_KINETICS/ai_reacting_flows/env_ia/lib/python3.9/site-packages/sklearn/base.py:409: UserWarning: X does not have valid feature names, but StandardScaler was fitted with feature names\n",
      "  warnings.warn(\n",
      "/work/mehlc/2_IA_KINETICS/ai_reacting_flows/env_ia/lib/python3.9/site-packages/sklearn/base.py:409: UserWarning: X does not have valid feature names, but StandardScaler was fitted with feature names\n",
      "  warnings.warn(\n",
      "/work/mehlc/2_IA_KINETICS/ai_reacting_flows/env_ia/lib/python3.9/site-packages/sklearn/base.py:409: UserWarning: X does not have valid feature names, but StandardScaler was fitted with feature names\n",
      "  warnings.warn(\n"
     ]
    },
    {
     "name": "stdout",
     "output_type": "stream",
     "text": [
      "1/1 [==============================] - 0s 18ms/step\n",
      "Current point in cluster: 1 \n",
      "\n",
      "1/1 [==============================] - 0s 17ms/step\n",
      "Current point in cluster: 1 \n",
      "\n",
      "1/1 [==============================] - 0s 18ms/step\n",
      "Current point in cluster: 1 \n",
      "\n",
      "1/1 [==============================] - 0s 17ms/step\n",
      "Current point in cluster: 1 \n",
      "\n",
      "1/1 [==============================] - ETA: 0s"
     ]
    },
    {
     "name": "stderr",
     "output_type": "stream",
     "text": [
      "/work/mehlc/2_IA_KINETICS/ai_reacting_flows/env_ia/lib/python3.9/site-packages/sklearn/base.py:409: UserWarning: X does not have valid feature names, but StandardScaler was fitted with feature names\n",
      "  warnings.warn(\n",
      "/work/mehlc/2_IA_KINETICS/ai_reacting_flows/env_ia/lib/python3.9/site-packages/sklearn/base.py:409: UserWarning: X does not have valid feature names, but StandardScaler was fitted with feature names\n",
      "  warnings.warn(\n",
      "/work/mehlc/2_IA_KINETICS/ai_reacting_flows/env_ia/lib/python3.9/site-packages/sklearn/base.py:409: UserWarning: X does not have valid feature names, but StandardScaler was fitted with feature names\n",
      "  warnings.warn(\n",
      "/work/mehlc/2_IA_KINETICS/ai_reacting_flows/env_ia/lib/python3.9/site-packages/sklearn/base.py:409: UserWarning: X does not have valid feature names, but StandardScaler was fitted with feature names\n",
      "  warnings.warn(\n"
     ]
    },
    {
     "name": "stdout",
     "output_type": "stream",
     "text": [
      "1/1 [==============================] - 0s 18ms/step\n",
      "Current point in cluster: 1 \n",
      "\n",
      "1/1 [==============================] - 0s 19ms/step\n",
      "Current point in cluster: 1 \n",
      "\n",
      "1/1 [==============================] - 0s 19ms/step\n",
      "Current point in cluster: 1 \n",
      "\n",
      "1/1 [==============================] - 0s 17ms/step\n",
      "Current point in cluster: 1 \n",
      "\n"
     ]
    },
    {
     "name": "stderr",
     "output_type": "stream",
     "text": [
      "/work/mehlc/2_IA_KINETICS/ai_reacting_flows/env_ia/lib/python3.9/site-packages/sklearn/base.py:409: UserWarning: X does not have valid feature names, but StandardScaler was fitted with feature names\n",
      "  warnings.warn(\n",
      "/work/mehlc/2_IA_KINETICS/ai_reacting_flows/env_ia/lib/python3.9/site-packages/sklearn/base.py:409: UserWarning: X does not have valid feature names, but StandardScaler was fitted with feature names\n",
      "  warnings.warn(\n",
      "/work/mehlc/2_IA_KINETICS/ai_reacting_flows/env_ia/lib/python3.9/site-packages/sklearn/base.py:409: UserWarning: X does not have valid feature names, but StandardScaler was fitted with feature names\n",
      "  warnings.warn(\n",
      "/work/mehlc/2_IA_KINETICS/ai_reacting_flows/env_ia/lib/python3.9/site-packages/sklearn/base.py:409: UserWarning: X does not have valid feature names, but StandardScaler was fitted with feature names\n",
      "  warnings.warn(\n"
     ]
    },
    {
     "name": "stdout",
     "output_type": "stream",
     "text": [
      "1/1 [==============================] - 0s 18ms/step\n",
      "Current point in cluster: 1 \n",
      "\n",
      "1/1 [==============================] - 0s 18ms/step\n",
      "Current point in cluster: 1 \n",
      "\n",
      "1/1 [==============================] - 0s 17ms/step\n",
      "Current point in cluster: 1 \n",
      "\n",
      "1/1 [==============================] - 0s 17ms/step\n",
      "Current point in cluster: 1 \n",
      "\n"
     ]
    },
    {
     "name": "stderr",
     "output_type": "stream",
     "text": [
      "/work/mehlc/2_IA_KINETICS/ai_reacting_flows/env_ia/lib/python3.9/site-packages/sklearn/base.py:409: UserWarning: X does not have valid feature names, but StandardScaler was fitted with feature names\n",
      "  warnings.warn(\n",
      "/work/mehlc/2_IA_KINETICS/ai_reacting_flows/env_ia/lib/python3.9/site-packages/sklearn/base.py:409: UserWarning: X does not have valid feature names, but StandardScaler was fitted with feature names\n",
      "  warnings.warn(\n",
      "/work/mehlc/2_IA_KINETICS/ai_reacting_flows/env_ia/lib/python3.9/site-packages/sklearn/base.py:409: UserWarning: X does not have valid feature names, but StandardScaler was fitted with feature names\n",
      "  warnings.warn(\n",
      "/work/mehlc/2_IA_KINETICS/ai_reacting_flows/env_ia/lib/python3.9/site-packages/sklearn/base.py:409: UserWarning: X does not have valid feature names, but StandardScaler was fitted with feature names\n",
      "  warnings.warn(\n"
     ]
    },
    {
     "name": "stdout",
     "output_type": "stream",
     "text": [
      "1/1 [==============================] - 0s 18ms/step\n",
      "Current point in cluster: 1 \n",
      "\n",
      "1/1 [==============================] - 0s 18ms/step\n",
      "Current point in cluster: 1 \n",
      "\n",
      "1/1 [==============================] - 0s 17ms/step\n",
      "Current point in cluster: 1 \n",
      "\n",
      "1/1 [==============================] - 0s 18ms/step\n",
      "Current point in cluster: 1 \n",
      "\n"
     ]
    },
    {
     "name": "stderr",
     "output_type": "stream",
     "text": [
      "/work/mehlc/2_IA_KINETICS/ai_reacting_flows/env_ia/lib/python3.9/site-packages/sklearn/base.py:409: UserWarning: X does not have valid feature names, but StandardScaler was fitted with feature names\n",
      "  warnings.warn(\n",
      "/work/mehlc/2_IA_KINETICS/ai_reacting_flows/env_ia/lib/python3.9/site-packages/sklearn/base.py:409: UserWarning: X does not have valid feature names, but StandardScaler was fitted with feature names\n",
      "  warnings.warn(\n",
      "/work/mehlc/2_IA_KINETICS/ai_reacting_flows/env_ia/lib/python3.9/site-packages/sklearn/base.py:409: UserWarning: X does not have valid feature names, but StandardScaler was fitted with feature names\n",
      "  warnings.warn(\n",
      "/work/mehlc/2_IA_KINETICS/ai_reacting_flows/env_ia/lib/python3.9/site-packages/sklearn/base.py:409: UserWarning: X does not have valid feature names, but StandardScaler was fitted with feature names\n",
      "  warnings.warn(\n"
     ]
    },
    {
     "name": "stdout",
     "output_type": "stream",
     "text": [
      "1/1 [==============================] - 0s 18ms/step\n",
      "Current point in cluster: 1 \n",
      "\n",
      "1/1 [==============================] - 0s 18ms/step\n",
      "Current point in cluster: 1 \n",
      "\n",
      "1/1 [==============================] - 0s 18ms/step\n",
      "Current point in cluster: 1 \n",
      "\n",
      "1/1 [==============================] - 0s 19ms/step\n",
      "Current point in cluster: 1 \n",
      "\n"
     ]
    },
    {
     "name": "stderr",
     "output_type": "stream",
     "text": [
      "/work/mehlc/2_IA_KINETICS/ai_reacting_flows/env_ia/lib/python3.9/site-packages/sklearn/base.py:409: UserWarning: X does not have valid feature names, but StandardScaler was fitted with feature names\n",
      "  warnings.warn(\n",
      "/work/mehlc/2_IA_KINETICS/ai_reacting_flows/env_ia/lib/python3.9/site-packages/sklearn/base.py:409: UserWarning: X does not have valid feature names, but StandardScaler was fitted with feature names\n",
      "  warnings.warn(\n",
      "/work/mehlc/2_IA_KINETICS/ai_reacting_flows/env_ia/lib/python3.9/site-packages/sklearn/base.py:409: UserWarning: X does not have valid feature names, but StandardScaler was fitted with feature names\n",
      "  warnings.warn(\n",
      "/work/mehlc/2_IA_KINETICS/ai_reacting_flows/env_ia/lib/python3.9/site-packages/sklearn/base.py:409: UserWarning: X does not have valid feature names, but StandardScaler was fitted with feature names\n",
      "  warnings.warn(\n"
     ]
    },
    {
     "name": "stdout",
     "output_type": "stream",
     "text": [
      "1/1 [==============================] - 0s 18ms/step\n",
      "Current point in cluster: 1 \n",
      "\n",
      "1/1 [==============================] - 0s 17ms/step\n",
      "Current point in cluster: 1 \n",
      "\n",
      "1/1 [==============================] - 0s 17ms/step\n",
      "Current point in cluster: 1 \n",
      "\n",
      "1/1 [==============================] - 0s 17ms/step\n",
      "Current point in cluster: 1 \n",
      "\n"
     ]
    },
    {
     "name": "stderr",
     "output_type": "stream",
     "text": [
      "/work/mehlc/2_IA_KINETICS/ai_reacting_flows/env_ia/lib/python3.9/site-packages/sklearn/base.py:409: UserWarning: X does not have valid feature names, but StandardScaler was fitted with feature names\n",
      "  warnings.warn(\n",
      "/work/mehlc/2_IA_KINETICS/ai_reacting_flows/env_ia/lib/python3.9/site-packages/sklearn/base.py:409: UserWarning: X does not have valid feature names, but StandardScaler was fitted with feature names\n",
      "  warnings.warn(\n",
      "/work/mehlc/2_IA_KINETICS/ai_reacting_flows/env_ia/lib/python3.9/site-packages/sklearn/base.py:409: UserWarning: X does not have valid feature names, but StandardScaler was fitted with feature names\n",
      "  warnings.warn(\n",
      "/work/mehlc/2_IA_KINETICS/ai_reacting_flows/env_ia/lib/python3.9/site-packages/sklearn/base.py:409: UserWarning: X does not have valid feature names, but StandardScaler was fitted with feature names\n",
      "  warnings.warn(\n"
     ]
    },
    {
     "name": "stdout",
     "output_type": "stream",
     "text": [
      "1/1 [==============================] - 0s 19ms/step\n",
      "Current point in cluster: 1 \n",
      "\n",
      "1/1 [==============================] - 0s 17ms/step\n",
      "Current point in cluster: 1 \n",
      "\n",
      "1/1 [==============================] - 0s 17ms/step\n",
      "Current point in cluster: 1 \n",
      "\n",
      "1/1 [==============================] - 0s 18ms/step\n",
      "Current point in cluster: 1 \n",
      "\n",
      "1/1 [==============================] - ETA: 0s"
     ]
    },
    {
     "name": "stderr",
     "output_type": "stream",
     "text": [
      "/work/mehlc/2_IA_KINETICS/ai_reacting_flows/env_ia/lib/python3.9/site-packages/sklearn/base.py:409: UserWarning: X does not have valid feature names, but StandardScaler was fitted with feature names\n",
      "  warnings.warn(\n",
      "/work/mehlc/2_IA_KINETICS/ai_reacting_flows/env_ia/lib/python3.9/site-packages/sklearn/base.py:409: UserWarning: X does not have valid feature names, but StandardScaler was fitted with feature names\n",
      "  warnings.warn(\n",
      "/work/mehlc/2_IA_KINETICS/ai_reacting_flows/env_ia/lib/python3.9/site-packages/sklearn/base.py:409: UserWarning: X does not have valid feature names, but StandardScaler was fitted with feature names\n",
      "  warnings.warn(\n",
      "/work/mehlc/2_IA_KINETICS/ai_reacting_flows/env_ia/lib/python3.9/site-packages/sklearn/base.py:409: UserWarning: X does not have valid feature names, but StandardScaler was fitted with feature names\n",
      "  warnings.warn(\n"
     ]
    },
    {
     "name": "stdout",
     "output_type": "stream",
     "text": [
      "1/1 [==============================] - 0s 17ms/step\n",
      "Current point in cluster: 1 \n",
      "\n",
      "1/1 [==============================] - 0s 17ms/step\n",
      "Current point in cluster: 1 \n",
      "\n",
      "1/1 [==============================] - 0s 18ms/step\n",
      "Current point in cluster: 1 \n",
      "\n",
      "1/1 [==============================] - 0s 17ms/step\n",
      "Current point in cluster: 1 \n",
      "\n",
      "1/1 [==============================] - 0s 17ms/step\n"
     ]
    },
    {
     "name": "stderr",
     "output_type": "stream",
     "text": [
      "/work/mehlc/2_IA_KINETICS/ai_reacting_flows/env_ia/lib/python3.9/site-packages/sklearn/base.py:409: UserWarning: X does not have valid feature names, but StandardScaler was fitted with feature names\n",
      "  warnings.warn(\n",
      "/work/mehlc/2_IA_KINETICS/ai_reacting_flows/env_ia/lib/python3.9/site-packages/sklearn/base.py:409: UserWarning: X does not have valid feature names, but StandardScaler was fitted with feature names\n",
      "  warnings.warn(\n",
      "/work/mehlc/2_IA_KINETICS/ai_reacting_flows/env_ia/lib/python3.9/site-packages/sklearn/base.py:409: UserWarning: X does not have valid feature names, but StandardScaler was fitted with feature names\n",
      "  warnings.warn(\n",
      "/work/mehlc/2_IA_KINETICS/ai_reacting_flows/env_ia/lib/python3.9/site-packages/sklearn/base.py:409: UserWarning: X does not have valid feature names, but StandardScaler was fitted with feature names\n",
      "  warnings.warn(\n"
     ]
    },
    {
     "name": "stdout",
     "output_type": "stream",
     "text": [
      "Current point in cluster: 1 \n",
      "\n",
      "1/1 [==============================] - 0s 18ms/step\n",
      "Current point in cluster: 1 \n",
      "\n",
      "1/1 [==============================] - 0s 17ms/step\n",
      "Current point in cluster: 1 \n",
      "\n",
      "1/1 [==============================] - 0s 19ms/step\n",
      "Current point in cluster: 1 \n",
      "\n"
     ]
    },
    {
     "name": "stderr",
     "output_type": "stream",
     "text": [
      "/work/mehlc/2_IA_KINETICS/ai_reacting_flows/env_ia/lib/python3.9/site-packages/sklearn/base.py:409: UserWarning: X does not have valid feature names, but StandardScaler was fitted with feature names\n",
      "  warnings.warn(\n",
      "/work/mehlc/2_IA_KINETICS/ai_reacting_flows/env_ia/lib/python3.9/site-packages/sklearn/base.py:409: UserWarning: X does not have valid feature names, but StandardScaler was fitted with feature names\n",
      "  warnings.warn(\n",
      "/work/mehlc/2_IA_KINETICS/ai_reacting_flows/env_ia/lib/python3.9/site-packages/sklearn/base.py:409: UserWarning: X does not have valid feature names, but StandardScaler was fitted with feature names\n",
      "  warnings.warn(\n",
      "/work/mehlc/2_IA_KINETICS/ai_reacting_flows/env_ia/lib/python3.9/site-packages/sklearn/base.py:409: UserWarning: X does not have valid feature names, but StandardScaler was fitted with feature names\n",
      "  warnings.warn(\n"
     ]
    },
    {
     "name": "stdout",
     "output_type": "stream",
     "text": [
      "1/1 [==============================] - 0s 18ms/step\n",
      "Current point in cluster: 1 \n",
      "\n",
      "1/1 [==============================] - 0s 17ms/step\n",
      "Current point in cluster: 1 \n",
      "\n",
      "1/1 [==============================] - 0s 17ms/step\n",
      "Current point in cluster: 1 \n",
      "\n",
      "1/1 [==============================] - 0s 19ms/step\n",
      "Current point in cluster: 1 \n",
      "\n"
     ]
    },
    {
     "name": "stderr",
     "output_type": "stream",
     "text": [
      "/work/mehlc/2_IA_KINETICS/ai_reacting_flows/env_ia/lib/python3.9/site-packages/sklearn/base.py:409: UserWarning: X does not have valid feature names, but StandardScaler was fitted with feature names\n",
      "  warnings.warn(\n",
      "/work/mehlc/2_IA_KINETICS/ai_reacting_flows/env_ia/lib/python3.9/site-packages/sklearn/base.py:409: UserWarning: X does not have valid feature names, but StandardScaler was fitted with feature names\n",
      "  warnings.warn(\n",
      "/work/mehlc/2_IA_KINETICS/ai_reacting_flows/env_ia/lib/python3.9/site-packages/sklearn/base.py:409: UserWarning: X does not have valid feature names, but StandardScaler was fitted with feature names\n",
      "  warnings.warn(\n",
      "/work/mehlc/2_IA_KINETICS/ai_reacting_flows/env_ia/lib/python3.9/site-packages/sklearn/base.py:409: UserWarning: X does not have valid feature names, but StandardScaler was fitted with feature names\n",
      "  warnings.warn(\n"
     ]
    },
    {
     "name": "stdout",
     "output_type": "stream",
     "text": [
      "1/1 [==============================] - 0s 18ms/step\n",
      "Current point in cluster: 1 \n",
      "\n",
      "1/1 [==============================] - 0s 17ms/step\n",
      "Current point in cluster: 1 \n",
      "\n",
      "1/1 [==============================] - 0s 17ms/step\n",
      "Current point in cluster: 1 \n",
      "\n",
      "1/1 [==============================] - 0s 18ms/step\n",
      "Current point in cluster: 1 \n",
      "\n"
     ]
    },
    {
     "name": "stderr",
     "output_type": "stream",
     "text": [
      "/work/mehlc/2_IA_KINETICS/ai_reacting_flows/env_ia/lib/python3.9/site-packages/sklearn/base.py:409: UserWarning: X does not have valid feature names, but StandardScaler was fitted with feature names\n",
      "  warnings.warn(\n",
      "/work/mehlc/2_IA_KINETICS/ai_reacting_flows/env_ia/lib/python3.9/site-packages/sklearn/base.py:409: UserWarning: X does not have valid feature names, but StandardScaler was fitted with feature names\n",
      "  warnings.warn(\n",
      "/work/mehlc/2_IA_KINETICS/ai_reacting_flows/env_ia/lib/python3.9/site-packages/sklearn/base.py:409: UserWarning: X does not have valid feature names, but StandardScaler was fitted with feature names\n",
      "  warnings.warn(\n",
      "/work/mehlc/2_IA_KINETICS/ai_reacting_flows/env_ia/lib/python3.9/site-packages/sklearn/base.py:409: UserWarning: X does not have valid feature names, but StandardScaler was fitted with feature names\n",
      "  warnings.warn(\n"
     ]
    },
    {
     "name": "stdout",
     "output_type": "stream",
     "text": [
      "1/1 [==============================] - 0s 17ms/step\n",
      "Current point in cluster: 1 \n",
      "\n",
      "1/1 [==============================] - 0s 17ms/step\n",
      "Current point in cluster: 1 \n",
      "\n",
      "1/1 [==============================] - 0s 17ms/step\n",
      "Current point in cluster: 1 \n",
      "\n",
      "1/1 [==============================] - 0s 17ms/step\n",
      "Current point in cluster: 1 \n",
      "\n",
      "1/1 [==============================] - 0s 17ms/step\n",
      "Current point in cluster: 1 \n"
     ]
    },
    {
     "name": "stderr",
     "output_type": "stream",
     "text": [
      "/work/mehlc/2_IA_KINETICS/ai_reacting_flows/env_ia/lib/python3.9/site-packages/sklearn/base.py:409: UserWarning: X does not have valid feature names, but StandardScaler was fitted with feature names\n",
      "  warnings.warn(\n",
      "/work/mehlc/2_IA_KINETICS/ai_reacting_flows/env_ia/lib/python3.9/site-packages/sklearn/base.py:409: UserWarning: X does not have valid feature names, but StandardScaler was fitted with feature names\n",
      "  warnings.warn(\n",
      "/work/mehlc/2_IA_KINETICS/ai_reacting_flows/env_ia/lib/python3.9/site-packages/sklearn/base.py:409: UserWarning: X does not have valid feature names, but StandardScaler was fitted with feature names\n",
      "  warnings.warn(\n",
      "/work/mehlc/2_IA_KINETICS/ai_reacting_flows/env_ia/lib/python3.9/site-packages/sklearn/base.py:409: UserWarning: X does not have valid feature names, but StandardScaler was fitted with feature names\n",
      "  warnings.warn(\n",
      "/work/mehlc/2_IA_KINETICS/ai_reacting_flows/env_ia/lib/python3.9/site-packages/sklearn/base.py:409: UserWarning: X does not have valid feature names, but StandardScaler was fitted with feature names\n",
      "  warnings.warn(\n"
     ]
    },
    {
     "name": "stdout",
     "output_type": "stream",
     "text": [
      "\n",
      "1/1 [==============================] - 0s 17ms/step\n",
      "Current point in cluster: 1 \n",
      "\n",
      "1/1 [==============================] - 0s 17ms/step\n",
      "Current point in cluster: 1 \n",
      "\n",
      "1/1 [==============================] - 0s 18ms/step\n",
      "Current point in cluster: 1 \n",
      "\n",
      "1/1 [==============================] - 0s 18ms/step\n",
      "Current point in cluster: 1 \n",
      "\n"
     ]
    },
    {
     "name": "stderr",
     "output_type": "stream",
     "text": [
      "/work/mehlc/2_IA_KINETICS/ai_reacting_flows/env_ia/lib/python3.9/site-packages/sklearn/base.py:409: UserWarning: X does not have valid feature names, but StandardScaler was fitted with feature names\n",
      "  warnings.warn(\n",
      "/work/mehlc/2_IA_KINETICS/ai_reacting_flows/env_ia/lib/python3.9/site-packages/sklearn/base.py:409: UserWarning: X does not have valid feature names, but StandardScaler was fitted with feature names\n",
      "  warnings.warn(\n",
      "/work/mehlc/2_IA_KINETICS/ai_reacting_flows/env_ia/lib/python3.9/site-packages/sklearn/base.py:409: UserWarning: X does not have valid feature names, but StandardScaler was fitted with feature names\n",
      "  warnings.warn(\n",
      "/work/mehlc/2_IA_KINETICS/ai_reacting_flows/env_ia/lib/python3.9/site-packages/sklearn/base.py:409: UserWarning: X does not have valid feature names, but StandardScaler was fitted with feature names\n",
      "  warnings.warn(\n"
     ]
    },
    {
     "name": "stdout",
     "output_type": "stream",
     "text": [
      "1/1 [==============================] - 0s 17ms/step\n",
      "Current point in cluster: 1 \n",
      "\n",
      "1/1 [==============================] - 0s 19ms/step\n",
      "Current point in cluster: 1 \n",
      "\n",
      "1/1 [==============================] - 0s 18ms/step\n",
      "Current point in cluster: 1 \n",
      "\n",
      "1/1 [==============================] - 0s 17ms/step\n",
      "Current point in cluster: 1 \n",
      "\n"
     ]
    },
    {
     "name": "stderr",
     "output_type": "stream",
     "text": [
      "/work/mehlc/2_IA_KINETICS/ai_reacting_flows/env_ia/lib/python3.9/site-packages/sklearn/base.py:409: UserWarning: X does not have valid feature names, but StandardScaler was fitted with feature names\n",
      "  warnings.warn(\n",
      "/work/mehlc/2_IA_KINETICS/ai_reacting_flows/env_ia/lib/python3.9/site-packages/sklearn/base.py:409: UserWarning: X does not have valid feature names, but StandardScaler was fitted with feature names\n",
      "  warnings.warn(\n",
      "/work/mehlc/2_IA_KINETICS/ai_reacting_flows/env_ia/lib/python3.9/site-packages/sklearn/base.py:409: UserWarning: X does not have valid feature names, but StandardScaler was fitted with feature names\n",
      "  warnings.warn(\n",
      "/work/mehlc/2_IA_KINETICS/ai_reacting_flows/env_ia/lib/python3.9/site-packages/sklearn/base.py:409: UserWarning: X does not have valid feature names, but StandardScaler was fitted with feature names\n",
      "  warnings.warn(\n"
     ]
    },
    {
     "name": "stdout",
     "output_type": "stream",
     "text": [
      "1/1 [==============================] - 0s 17ms/step\n",
      "Current point in cluster: 1 \n",
      "\n",
      "1/1 [==============================] - 0s 18ms/step\n",
      "Current point in cluster: 1 \n",
      "\n",
      "1/1 [==============================] - 0s 18ms/step\n",
      "Current point in cluster: 1 \n",
      "\n",
      "1/1 [==============================] - 0s 17ms/step\n",
      "Current point in cluster: 1 \n",
      "\n"
     ]
    },
    {
     "name": "stderr",
     "output_type": "stream",
     "text": [
      "/work/mehlc/2_IA_KINETICS/ai_reacting_flows/env_ia/lib/python3.9/site-packages/sklearn/base.py:409: UserWarning: X does not have valid feature names, but StandardScaler was fitted with feature names\n",
      "  warnings.warn(\n",
      "/work/mehlc/2_IA_KINETICS/ai_reacting_flows/env_ia/lib/python3.9/site-packages/sklearn/base.py:409: UserWarning: X does not have valid feature names, but StandardScaler was fitted with feature names\n",
      "  warnings.warn(\n",
      "/work/mehlc/2_IA_KINETICS/ai_reacting_flows/env_ia/lib/python3.9/site-packages/sklearn/base.py:409: UserWarning: X does not have valid feature names, but StandardScaler was fitted with feature names\n",
      "  warnings.warn(\n",
      "/work/mehlc/2_IA_KINETICS/ai_reacting_flows/env_ia/lib/python3.9/site-packages/sklearn/base.py:409: UserWarning: X does not have valid feature names, but StandardScaler was fitted with feature names\n",
      "  warnings.warn(\n"
     ]
    },
    {
     "name": "stdout",
     "output_type": "stream",
     "text": [
      "1/1 [==============================] - 0s 18ms/step\n",
      "Current point in cluster: 1 \n",
      "\n",
      "1/1 [==============================] - 0s 17ms/step\n",
      "Current point in cluster: 1 \n",
      "\n",
      "1/1 [==============================] - 0s 17ms/step\n",
      "Current point in cluster: 1 \n",
      "\n",
      "1/1 [==============================] - 0s 17ms/step\n",
      "Current point in cluster: 1 \n",
      "\n"
     ]
    },
    {
     "name": "stderr",
     "output_type": "stream",
     "text": [
      "/work/mehlc/2_IA_KINETICS/ai_reacting_flows/env_ia/lib/python3.9/site-packages/sklearn/base.py:409: UserWarning: X does not have valid feature names, but StandardScaler was fitted with feature names\n",
      "  warnings.warn(\n",
      "/work/mehlc/2_IA_KINETICS/ai_reacting_flows/env_ia/lib/python3.9/site-packages/sklearn/base.py:409: UserWarning: X does not have valid feature names, but StandardScaler was fitted with feature names\n",
      "  warnings.warn(\n",
      "/work/mehlc/2_IA_KINETICS/ai_reacting_flows/env_ia/lib/python3.9/site-packages/sklearn/base.py:409: UserWarning: X does not have valid feature names, but StandardScaler was fitted with feature names\n",
      "  warnings.warn(\n",
      "/work/mehlc/2_IA_KINETICS/ai_reacting_flows/env_ia/lib/python3.9/site-packages/sklearn/base.py:409: UserWarning: X does not have valid feature names, but StandardScaler was fitted with feature names\n",
      "  warnings.warn(\n"
     ]
    },
    {
     "name": "stdout",
     "output_type": "stream",
     "text": [
      "1/1 [==============================] - 0s 17ms/step\n",
      "Current point in cluster: 1 \n",
      "\n",
      "1/1 [==============================] - 0s 18ms/step\n",
      "Current point in cluster: 1 \n",
      "\n",
      "1/1 [==============================] - 0s 18ms/step\n",
      "Current point in cluster: 1 \n",
      "\n",
      "1/1 [==============================] - 0s 18ms/step\n",
      "Current point in cluster: 1 \n",
      "\n"
     ]
    },
    {
     "name": "stderr",
     "output_type": "stream",
     "text": [
      "/work/mehlc/2_IA_KINETICS/ai_reacting_flows/env_ia/lib/python3.9/site-packages/sklearn/base.py:409: UserWarning: X does not have valid feature names, but StandardScaler was fitted with feature names\n",
      "  warnings.warn(\n",
      "/work/mehlc/2_IA_KINETICS/ai_reacting_flows/env_ia/lib/python3.9/site-packages/sklearn/base.py:409: UserWarning: X does not have valid feature names, but StandardScaler was fitted with feature names\n",
      "  warnings.warn(\n",
      "/work/mehlc/2_IA_KINETICS/ai_reacting_flows/env_ia/lib/python3.9/site-packages/sklearn/base.py:409: UserWarning: X does not have valid feature names, but StandardScaler was fitted with feature names\n",
      "  warnings.warn(\n",
      "/work/mehlc/2_IA_KINETICS/ai_reacting_flows/env_ia/lib/python3.9/site-packages/sklearn/base.py:409: UserWarning: X does not have valid feature names, but StandardScaler was fitted with feature names\n",
      "  warnings.warn(\n"
     ]
    },
    {
     "name": "stdout",
     "output_type": "stream",
     "text": [
      "1/1 [==============================] - 0s 18ms/step\n",
      "Current point in cluster: 1 \n",
      "\n",
      "1/1 [==============================] - 0s 18ms/step\n",
      "Current point in cluster: 1 \n",
      "\n",
      "1/1 [==============================] - 0s 19ms/step\n",
      "Current point in cluster: 1 \n",
      "\n",
      "1/1 [==============================] - 0s 18ms/step\n",
      "Current point in cluster: 1 \n",
      "\n"
     ]
    },
    {
     "name": "stderr",
     "output_type": "stream",
     "text": [
      "/work/mehlc/2_IA_KINETICS/ai_reacting_flows/env_ia/lib/python3.9/site-packages/sklearn/base.py:409: UserWarning: X does not have valid feature names, but StandardScaler was fitted with feature names\n",
      "  warnings.warn(\n",
      "/work/mehlc/2_IA_KINETICS/ai_reacting_flows/env_ia/lib/python3.9/site-packages/sklearn/base.py:409: UserWarning: X does not have valid feature names, but StandardScaler was fitted with feature names\n",
      "  warnings.warn(\n",
      "/work/mehlc/2_IA_KINETICS/ai_reacting_flows/env_ia/lib/python3.9/site-packages/sklearn/base.py:409: UserWarning: X does not have valid feature names, but StandardScaler was fitted with feature names\n",
      "  warnings.warn(\n",
      "/work/mehlc/2_IA_KINETICS/ai_reacting_flows/env_ia/lib/python3.9/site-packages/sklearn/base.py:409: UserWarning: X does not have valid feature names, but StandardScaler was fitted with feature names\n",
      "  warnings.warn(\n"
     ]
    },
    {
     "name": "stdout",
     "output_type": "stream",
     "text": [
      "1/1 [==============================] - 0s 18ms/step\n",
      "Current point in cluster: 1 \n",
      "\n",
      "1/1 [==============================] - 0s 19ms/step\n",
      "Current point in cluster: 1 \n",
      "\n",
      "1/1 [==============================] - 0s 17ms/step\n",
      "Current point in cluster: 1 \n",
      "\n",
      "1/1 [==============================] - 0s 17ms/step\n",
      "Current point in cluster: 1 \n",
      "\n"
     ]
    },
    {
     "name": "stderr",
     "output_type": "stream",
     "text": [
      "/work/mehlc/2_IA_KINETICS/ai_reacting_flows/env_ia/lib/python3.9/site-packages/sklearn/base.py:409: UserWarning: X does not have valid feature names, but StandardScaler was fitted with feature names\n",
      "  warnings.warn(\n",
      "/work/mehlc/2_IA_KINETICS/ai_reacting_flows/env_ia/lib/python3.9/site-packages/sklearn/base.py:409: UserWarning: X does not have valid feature names, but StandardScaler was fitted with feature names\n",
      "  warnings.warn(\n",
      "/work/mehlc/2_IA_KINETICS/ai_reacting_flows/env_ia/lib/python3.9/site-packages/sklearn/base.py:409: UserWarning: X does not have valid feature names, but StandardScaler was fitted with feature names\n",
      "  warnings.warn(\n",
      "/work/mehlc/2_IA_KINETICS/ai_reacting_flows/env_ia/lib/python3.9/site-packages/sklearn/base.py:409: UserWarning: X does not have valid feature names, but StandardScaler was fitted with feature names\n",
      "  warnings.warn(\n"
     ]
    },
    {
     "name": "stdout",
     "output_type": "stream",
     "text": [
      "1/1 [==============================] - 0s 17ms/step\n",
      "Current point in cluster: 1 \n",
      "\n",
      "1/1 [==============================] - 0s 18ms/step\n",
      "Current point in cluster: 1 \n",
      "\n",
      "1/1 [==============================] - 0s 17ms/step\n",
      "Current point in cluster: 1 \n",
      "\n",
      "1/1 [==============================] - 0s 18ms/step\n",
      "Current point in cluster: 1 \n",
      "\n"
     ]
    },
    {
     "name": "stderr",
     "output_type": "stream",
     "text": [
      "/work/mehlc/2_IA_KINETICS/ai_reacting_flows/env_ia/lib/python3.9/site-packages/sklearn/base.py:409: UserWarning: X does not have valid feature names, but StandardScaler was fitted with feature names\n",
      "  warnings.warn(\n",
      "/work/mehlc/2_IA_KINETICS/ai_reacting_flows/env_ia/lib/python3.9/site-packages/sklearn/base.py:409: UserWarning: X does not have valid feature names, but StandardScaler was fitted with feature names\n",
      "  warnings.warn(\n",
      "/work/mehlc/2_IA_KINETICS/ai_reacting_flows/env_ia/lib/python3.9/site-packages/sklearn/base.py:409: UserWarning: X does not have valid feature names, but StandardScaler was fitted with feature names\n",
      "  warnings.warn(\n",
      "/work/mehlc/2_IA_KINETICS/ai_reacting_flows/env_ia/lib/python3.9/site-packages/sklearn/base.py:409: UserWarning: X does not have valid feature names, but StandardScaler was fitted with feature names\n",
      "  warnings.warn(\n"
     ]
    },
    {
     "name": "stdout",
     "output_type": "stream",
     "text": [
      "1/1 [==============================] - 0s 17ms/step\n",
      "Current point in cluster: 1 \n",
      "\n",
      "1/1 [==============================] - 0s 18ms/step\n",
      "Current point in cluster: 1 \n",
      "\n",
      "1/1 [==============================] - 0s 17ms/step\n",
      "Current point in cluster: 1 \n",
      "\n",
      "1/1 [==============================] - 0s 19ms/step\n",
      "Current point in cluster: 1 \n",
      "\n"
     ]
    },
    {
     "name": "stderr",
     "output_type": "stream",
     "text": [
      "/work/mehlc/2_IA_KINETICS/ai_reacting_flows/env_ia/lib/python3.9/site-packages/sklearn/base.py:409: UserWarning: X does not have valid feature names, but StandardScaler was fitted with feature names\n",
      "  warnings.warn(\n",
      "/work/mehlc/2_IA_KINETICS/ai_reacting_flows/env_ia/lib/python3.9/site-packages/sklearn/base.py:409: UserWarning: X does not have valid feature names, but StandardScaler was fitted with feature names\n",
      "  warnings.warn(\n",
      "/work/mehlc/2_IA_KINETICS/ai_reacting_flows/env_ia/lib/python3.9/site-packages/sklearn/base.py:409: UserWarning: X does not have valid feature names, but StandardScaler was fitted with feature names\n",
      "  warnings.warn(\n",
      "/work/mehlc/2_IA_KINETICS/ai_reacting_flows/env_ia/lib/python3.9/site-packages/sklearn/base.py:409: UserWarning: X does not have valid feature names, but StandardScaler was fitted with feature names\n",
      "  warnings.warn(\n"
     ]
    },
    {
     "name": "stdout",
     "output_type": "stream",
     "text": [
      "1/1 [==============================] - 0s 23ms/step\n",
      "Current point in cluster: 1 \n",
      "\n",
      "1/1 [==============================] - 0s 18ms/step\n",
      "Current point in cluster: 1 \n",
      "\n",
      "1/1 [==============================] - 0s 17ms/step\n",
      "Current point in cluster: 1 \n",
      "\n",
      "1/1 [==============================] - 0s 18ms/step\n",
      "Current point in cluster: 2 \n",
      "\n"
     ]
    },
    {
     "name": "stderr",
     "output_type": "stream",
     "text": [
      "/work/mehlc/2_IA_KINETICS/ai_reacting_flows/env_ia/lib/python3.9/site-packages/sklearn/base.py:409: UserWarning: X does not have valid feature names, but StandardScaler was fitted with feature names\n",
      "  warnings.warn(\n",
      "/work/mehlc/2_IA_KINETICS/ai_reacting_flows/env_ia/lib/python3.9/site-packages/sklearn/base.py:409: UserWarning: X does not have valid feature names, but StandardScaler was fitted with feature names\n",
      "  warnings.warn(\n",
      "/work/mehlc/2_IA_KINETICS/ai_reacting_flows/env_ia/lib/python3.9/site-packages/sklearn/base.py:409: UserWarning: X does not have valid feature names, but StandardScaler was fitted with feature names\n",
      "  warnings.warn(\n",
      "/work/mehlc/2_IA_KINETICS/ai_reacting_flows/env_ia/lib/python3.9/site-packages/sklearn/base.py:409: UserWarning: X does not have valid feature names, but StandardScaler was fitted with feature names\n",
      "  warnings.warn(\n"
     ]
    },
    {
     "name": "stdout",
     "output_type": "stream",
     "text": [
      "1/1 [==============================] - 0s 47ms/step\n",
      "Current point in cluster: 2 \n",
      "\n",
      "1/1 [==============================] - 0s 17ms/step\n",
      "Current point in cluster: 2 \n",
      "\n",
      "1/1 [==============================] - 0s 19ms/step\n",
      "Current point in cluster: 2 \n",
      "\n",
      "1/1 [==============================] - 0s 17ms/step\n",
      "Current point in cluster: 2 \n",
      "\n"
     ]
    },
    {
     "name": "stderr",
     "output_type": "stream",
     "text": [
      "/work/mehlc/2_IA_KINETICS/ai_reacting_flows/env_ia/lib/python3.9/site-packages/sklearn/base.py:409: UserWarning: X does not have valid feature names, but StandardScaler was fitted with feature names\n",
      "  warnings.warn(\n",
      "/work/mehlc/2_IA_KINETICS/ai_reacting_flows/env_ia/lib/python3.9/site-packages/sklearn/base.py:409: UserWarning: X does not have valid feature names, but StandardScaler was fitted with feature names\n",
      "  warnings.warn(\n",
      "/work/mehlc/2_IA_KINETICS/ai_reacting_flows/env_ia/lib/python3.9/site-packages/sklearn/base.py:409: UserWarning: X does not have valid feature names, but StandardScaler was fitted with feature names\n",
      "  warnings.warn(\n",
      "/work/mehlc/2_IA_KINETICS/ai_reacting_flows/env_ia/lib/python3.9/site-packages/sklearn/base.py:409: UserWarning: X does not have valid feature names, but StandardScaler was fitted with feature names\n",
      "  warnings.warn(\n"
     ]
    },
    {
     "name": "stdout",
     "output_type": "stream",
     "text": [
      "1/1 [==============================] - 0s 18ms/step\n",
      "Current point in cluster: 2 \n",
      "\n",
      "1/1 [==============================] - 0s 18ms/step\n",
      "Current point in cluster: 2 \n",
      "\n",
      "1/1 [==============================] - 0s 19ms/step\n",
      "Current point in cluster: 2 \n",
      "\n",
      "1/1 [==============================] - 0s 19ms/step\n",
      "Current point in cluster: 2 \n",
      "\n"
     ]
    },
    {
     "name": "stderr",
     "output_type": "stream",
     "text": [
      "/work/mehlc/2_IA_KINETICS/ai_reacting_flows/env_ia/lib/python3.9/site-packages/sklearn/base.py:409: UserWarning: X does not have valid feature names, but StandardScaler was fitted with feature names\n",
      "  warnings.warn(\n",
      "/work/mehlc/2_IA_KINETICS/ai_reacting_flows/env_ia/lib/python3.9/site-packages/sklearn/base.py:409: UserWarning: X does not have valid feature names, but StandardScaler was fitted with feature names\n",
      "  warnings.warn(\n",
      "/work/mehlc/2_IA_KINETICS/ai_reacting_flows/env_ia/lib/python3.9/site-packages/sklearn/base.py:409: UserWarning: X does not have valid feature names, but StandardScaler was fitted with feature names\n",
      "  warnings.warn(\n",
      "/work/mehlc/2_IA_KINETICS/ai_reacting_flows/env_ia/lib/python3.9/site-packages/sklearn/base.py:409: UserWarning: X does not have valid feature names, but StandardScaler was fitted with feature names\n",
      "  warnings.warn(\n"
     ]
    },
    {
     "name": "stdout",
     "output_type": "stream",
     "text": [
      "1/1 [==============================] - 0s 17ms/step\n",
      "Current point in cluster: 2 \n",
      "\n",
      "1/1 [==============================] - 0s 18ms/step\n",
      "Current point in cluster: 2 \n",
      "\n",
      "1/1 [==============================] - 0s 17ms/step\n",
      "Current point in cluster: 2 \n",
      "\n",
      "1/1 [==============================] - 0s 17ms/step\n",
      "Current point in cluster: 2 \n",
      "\n"
     ]
    },
    {
     "name": "stderr",
     "output_type": "stream",
     "text": [
      "/work/mehlc/2_IA_KINETICS/ai_reacting_flows/env_ia/lib/python3.9/site-packages/sklearn/base.py:409: UserWarning: X does not have valid feature names, but StandardScaler was fitted with feature names\n",
      "  warnings.warn(\n",
      "/work/mehlc/2_IA_KINETICS/ai_reacting_flows/env_ia/lib/python3.9/site-packages/sklearn/base.py:409: UserWarning: X does not have valid feature names, but StandardScaler was fitted with feature names\n",
      "  warnings.warn(\n",
      "/work/mehlc/2_IA_KINETICS/ai_reacting_flows/env_ia/lib/python3.9/site-packages/sklearn/base.py:409: UserWarning: X does not have valid feature names, but StandardScaler was fitted with feature names\n",
      "  warnings.warn(\n",
      "/work/mehlc/2_IA_KINETICS/ai_reacting_flows/env_ia/lib/python3.9/site-packages/sklearn/base.py:409: UserWarning: X does not have valid feature names, but StandardScaler was fitted with feature names\n",
      "  warnings.warn(\n"
     ]
    },
    {
     "name": "stdout",
     "output_type": "stream",
     "text": [
      "1/1 [==============================] - 0s 17ms/step\n",
      "Current point in cluster: 2 \n",
      "\n",
      "1/1 [==============================] - 0s 18ms/step\n",
      "Current point in cluster: 2 \n",
      "\n",
      "1/1 [==============================] - 0s 18ms/step\n",
      "Current point in cluster: 2 \n",
      "\n",
      "1/1 [==============================] - 0s 18ms/step\n",
      "Current point in cluster: 2 \n",
      "\n"
     ]
    },
    {
     "name": "stderr",
     "output_type": "stream",
     "text": [
      "/work/mehlc/2_IA_KINETICS/ai_reacting_flows/env_ia/lib/python3.9/site-packages/sklearn/base.py:409: UserWarning: X does not have valid feature names, but StandardScaler was fitted with feature names\n",
      "  warnings.warn(\n",
      "/work/mehlc/2_IA_KINETICS/ai_reacting_flows/env_ia/lib/python3.9/site-packages/sklearn/base.py:409: UserWarning: X does not have valid feature names, but StandardScaler was fitted with feature names\n",
      "  warnings.warn(\n",
      "/work/mehlc/2_IA_KINETICS/ai_reacting_flows/env_ia/lib/python3.9/site-packages/sklearn/base.py:409: UserWarning: X does not have valid feature names, but StandardScaler was fitted with feature names\n",
      "  warnings.warn(\n",
      "/work/mehlc/2_IA_KINETICS/ai_reacting_flows/env_ia/lib/python3.9/site-packages/sklearn/base.py:409: UserWarning: X does not have valid feature names, but StandardScaler was fitted with feature names\n",
      "  warnings.warn(\n"
     ]
    },
    {
     "name": "stdout",
     "output_type": "stream",
     "text": [
      "1/1 [==============================] - 0s 26ms/step\n",
      "Current point in cluster: 2 \n",
      "\n",
      "1/1 [==============================] - 0s 18ms/step\n",
      "Current point in cluster: 2 \n",
      "\n",
      "1/1 [==============================] - 0s 18ms/step\n",
      "Current point in cluster: 2 \n",
      "\n",
      "1/1 [==============================] - 0s 18ms/step\n",
      "Current point in cluster: 2 \n",
      "\n"
     ]
    },
    {
     "name": "stderr",
     "output_type": "stream",
     "text": [
      "/work/mehlc/2_IA_KINETICS/ai_reacting_flows/env_ia/lib/python3.9/site-packages/sklearn/base.py:409: UserWarning: X does not have valid feature names, but StandardScaler was fitted with feature names\n",
      "  warnings.warn(\n",
      "/work/mehlc/2_IA_KINETICS/ai_reacting_flows/env_ia/lib/python3.9/site-packages/sklearn/base.py:409: UserWarning: X does not have valid feature names, but StandardScaler was fitted with feature names\n",
      "  warnings.warn(\n",
      "/work/mehlc/2_IA_KINETICS/ai_reacting_flows/env_ia/lib/python3.9/site-packages/sklearn/base.py:409: UserWarning: X does not have valid feature names, but StandardScaler was fitted with feature names\n",
      "  warnings.warn(\n",
      "/work/mehlc/2_IA_KINETICS/ai_reacting_flows/env_ia/lib/python3.9/site-packages/sklearn/base.py:409: UserWarning: X does not have valid feature names, but StandardScaler was fitted with feature names\n",
      "  warnings.warn(\n"
     ]
    },
    {
     "name": "stdout",
     "output_type": "stream",
     "text": [
      "1/1 [==============================] - 0s 19ms/step\n",
      "Current point in cluster: 2 \n",
      "\n",
      "1/1 [==============================] - 0s 18ms/step\n",
      "Current point in cluster: 2 \n",
      "\n",
      "1/1 [==============================] - 0s 18ms/step\n",
      "Current point in cluster: 2 \n",
      "\n",
      "1/1 [==============================] - 0s 18ms/step\n",
      "Current point in cluster: 2 \n",
      "\n"
     ]
    },
    {
     "name": "stderr",
     "output_type": "stream",
     "text": [
      "/work/mehlc/2_IA_KINETICS/ai_reacting_flows/env_ia/lib/python3.9/site-packages/sklearn/base.py:409: UserWarning: X does not have valid feature names, but StandardScaler was fitted with feature names\n",
      "  warnings.warn(\n",
      "/work/mehlc/2_IA_KINETICS/ai_reacting_flows/env_ia/lib/python3.9/site-packages/sklearn/base.py:409: UserWarning: X does not have valid feature names, but StandardScaler was fitted with feature names\n",
      "  warnings.warn(\n",
      "/work/mehlc/2_IA_KINETICS/ai_reacting_flows/env_ia/lib/python3.9/site-packages/sklearn/base.py:409: UserWarning: X does not have valid feature names, but StandardScaler was fitted with feature names\n",
      "  warnings.warn(\n",
      "/work/mehlc/2_IA_KINETICS/ai_reacting_flows/env_ia/lib/python3.9/site-packages/sklearn/base.py:409: UserWarning: X does not have valid feature names, but StandardScaler was fitted with feature names\n",
      "  warnings.warn(\n"
     ]
    },
    {
     "name": "stdout",
     "output_type": "stream",
     "text": [
      "1/1 [==============================] - 0s 17ms/step\n",
      "Current point in cluster: 2 \n",
      "\n",
      "1/1 [==============================] - 0s 17ms/step\n",
      "Current point in cluster: 2 \n",
      "\n",
      "1/1 [==============================] - 0s 17ms/step\n",
      "Current point in cluster: 2 \n",
      "\n",
      "1/1 [==============================] - 0s 19ms/step\n",
      "Current point in cluster: 2 \n",
      "\n"
     ]
    },
    {
     "name": "stderr",
     "output_type": "stream",
     "text": [
      "/work/mehlc/2_IA_KINETICS/ai_reacting_flows/env_ia/lib/python3.9/site-packages/sklearn/base.py:409: UserWarning: X does not have valid feature names, but StandardScaler was fitted with feature names\n",
      "  warnings.warn(\n",
      "/work/mehlc/2_IA_KINETICS/ai_reacting_flows/env_ia/lib/python3.9/site-packages/sklearn/base.py:409: UserWarning: X does not have valid feature names, but StandardScaler was fitted with feature names\n",
      "  warnings.warn(\n",
      "/work/mehlc/2_IA_KINETICS/ai_reacting_flows/env_ia/lib/python3.9/site-packages/sklearn/base.py:409: UserWarning: X does not have valid feature names, but StandardScaler was fitted with feature names\n",
      "  warnings.warn(\n",
      "/work/mehlc/2_IA_KINETICS/ai_reacting_flows/env_ia/lib/python3.9/site-packages/sklearn/base.py:409: UserWarning: X does not have valid feature names, but StandardScaler was fitted with feature names\n",
      "  warnings.warn(\n"
     ]
    },
    {
     "name": "stdout",
     "output_type": "stream",
     "text": [
      "1/1 [==============================] - 0s 19ms/step\n",
      "Current point in cluster: 2 \n",
      "\n",
      "1/1 [==============================] - 0s 18ms/step\n",
      "Current point in cluster: 2 \n",
      "\n",
      "1/1 [==============================] - 0s 17ms/step\n",
      "Current point in cluster: 2 \n",
      "\n",
      "1/1 [==============================] - 0s 18ms/step\n",
      "Current point in cluster: 2 \n",
      "\n"
     ]
    },
    {
     "name": "stderr",
     "output_type": "stream",
     "text": [
      "/work/mehlc/2_IA_KINETICS/ai_reacting_flows/env_ia/lib/python3.9/site-packages/sklearn/base.py:409: UserWarning: X does not have valid feature names, but StandardScaler was fitted with feature names\n",
      "  warnings.warn(\n",
      "/work/mehlc/2_IA_KINETICS/ai_reacting_flows/env_ia/lib/python3.9/site-packages/sklearn/base.py:409: UserWarning: X does not have valid feature names, but StandardScaler was fitted with feature names\n",
      "  warnings.warn(\n",
      "/work/mehlc/2_IA_KINETICS/ai_reacting_flows/env_ia/lib/python3.9/site-packages/sklearn/base.py:409: UserWarning: X does not have valid feature names, but StandardScaler was fitted with feature names\n",
      "  warnings.warn(\n",
      "/work/mehlc/2_IA_KINETICS/ai_reacting_flows/env_ia/lib/python3.9/site-packages/sklearn/base.py:409: UserWarning: X does not have valid feature names, but StandardScaler was fitted with feature names\n",
      "  warnings.warn(\n"
     ]
    },
    {
     "name": "stdout",
     "output_type": "stream",
     "text": [
      "1/1 [==============================] - 0s 17ms/step\n",
      "Current point in cluster: 2 \n",
      "\n",
      "1/1 [==============================] - 0s 17ms/step\n",
      "Current point in cluster: 2 \n",
      "\n",
      "1/1 [==============================] - 0s 17ms/step\n",
      "Current point in cluster: 2 \n",
      "\n",
      "1/1 [==============================] - 0s 17ms/step\n",
      "Current point in cluster: 2 \n",
      "\n"
     ]
    },
    {
     "name": "stderr",
     "output_type": "stream",
     "text": [
      "/work/mehlc/2_IA_KINETICS/ai_reacting_flows/env_ia/lib/python3.9/site-packages/sklearn/base.py:409: UserWarning: X does not have valid feature names, but StandardScaler was fitted with feature names\n",
      "  warnings.warn(\n",
      "/work/mehlc/2_IA_KINETICS/ai_reacting_flows/env_ia/lib/python3.9/site-packages/sklearn/base.py:409: UserWarning: X does not have valid feature names, but StandardScaler was fitted with feature names\n",
      "  warnings.warn(\n",
      "/work/mehlc/2_IA_KINETICS/ai_reacting_flows/env_ia/lib/python3.9/site-packages/sklearn/base.py:409: UserWarning: X does not have valid feature names, but StandardScaler was fitted with feature names\n",
      "  warnings.warn(\n",
      "/work/mehlc/2_IA_KINETICS/ai_reacting_flows/env_ia/lib/python3.9/site-packages/sklearn/base.py:409: UserWarning: X does not have valid feature names, but StandardScaler was fitted with feature names\n",
      "  warnings.warn(\n"
     ]
    },
    {
     "name": "stdout",
     "output_type": "stream",
     "text": [
      "1/1 [==============================] - 0s 18ms/step\n",
      "Current point in cluster: 2 \n",
      "\n",
      "1/1 [==============================] - 0s 19ms/step\n",
      "Current point in cluster: 2 \n",
      "\n"
     ]
    },
    {
     "name": "stderr",
     "output_type": "stream",
     "text": [
      "/work/mehlc/2_IA_KINETICS/ai_reacting_flows/env_ia/lib/python3.9/site-packages/sklearn/base.py:409: UserWarning: X does not have valid feature names, but StandardScaler was fitted with feature names\n",
      "  warnings.warn(\n",
      "/work/mehlc/2_IA_KINETICS/ai_reacting_flows/env_ia/lib/python3.9/site-packages/sklearn/base.py:409: UserWarning: X does not have valid feature names, but StandardScaler was fitted with feature names\n",
      "  warnings.warn(\n"
     ]
    },
    {
     "name": "stdout",
     "output_type": "stream",
     "text": [
      "1/1 [==============================] - 0s 21ms/step\n",
      "Current point in cluster: 2 \n",
      "\n",
      "1/1 [==============================] - 0s 20ms/step\n",
      "Current point in cluster: 2 \n",
      "\n",
      "1/1 [==============================] - 0s 20ms/step\n",
      "Current point in cluster: 2 \n",
      "\n",
      "1/1 [==============================] - 0s 20ms/step\n",
      "Current point in cluster: 2 \n",
      "\n"
     ]
    },
    {
     "name": "stderr",
     "output_type": "stream",
     "text": [
      "/work/mehlc/2_IA_KINETICS/ai_reacting_flows/env_ia/lib/python3.9/site-packages/sklearn/base.py:409: UserWarning: X does not have valid feature names, but StandardScaler was fitted with feature names\n",
      "  warnings.warn(\n",
      "/work/mehlc/2_IA_KINETICS/ai_reacting_flows/env_ia/lib/python3.9/site-packages/sklearn/base.py:409: UserWarning: X does not have valid feature names, but StandardScaler was fitted with feature names\n",
      "  warnings.warn(\n",
      "/work/mehlc/2_IA_KINETICS/ai_reacting_flows/env_ia/lib/python3.9/site-packages/sklearn/base.py:409: UserWarning: X does not have valid feature names, but StandardScaler was fitted with feature names\n",
      "  warnings.warn(\n",
      "/work/mehlc/2_IA_KINETICS/ai_reacting_flows/env_ia/lib/python3.9/site-packages/sklearn/base.py:409: UserWarning: X does not have valid feature names, but StandardScaler was fitted with feature names\n",
      "  warnings.warn(\n"
     ]
    },
    {
     "name": "stdout",
     "output_type": "stream",
     "text": [
      "1/1 [==============================] - 0s 20ms/step\n",
      "Current point in cluster: 2 \n",
      "\n",
      "1/1 [==============================] - 0s 21ms/step\n",
      "Current point in cluster: 2 \n",
      "\n",
      "1/1 [==============================] - 0s 20ms/step\n",
      "Current point in cluster: 2 \n",
      "\n",
      "1/1 [==============================] - 0s 21ms/step\n",
      "Current point in cluster: 2 \n",
      "\n"
     ]
    },
    {
     "name": "stderr",
     "output_type": "stream",
     "text": [
      "/work/mehlc/2_IA_KINETICS/ai_reacting_flows/env_ia/lib/python3.9/site-packages/sklearn/base.py:409: UserWarning: X does not have valid feature names, but StandardScaler was fitted with feature names\n",
      "  warnings.warn(\n",
      "/work/mehlc/2_IA_KINETICS/ai_reacting_flows/env_ia/lib/python3.9/site-packages/sklearn/base.py:409: UserWarning: X does not have valid feature names, but StandardScaler was fitted with feature names\n",
      "  warnings.warn(\n",
      "/work/mehlc/2_IA_KINETICS/ai_reacting_flows/env_ia/lib/python3.9/site-packages/sklearn/base.py:409: UserWarning: X does not have valid feature names, but StandardScaler was fitted with feature names\n",
      "  warnings.warn(\n",
      "/work/mehlc/2_IA_KINETICS/ai_reacting_flows/env_ia/lib/python3.9/site-packages/sklearn/base.py:409: UserWarning: X does not have valid feature names, but StandardScaler was fitted with feature names\n",
      "  warnings.warn(\n"
     ]
    },
    {
     "name": "stdout",
     "output_type": "stream",
     "text": [
      "1/1 [==============================] - 0s 20ms/step\n",
      "Current point in cluster: 2 \n",
      "\n",
      "1/1 [==============================] - 0s 20ms/step\n",
      "Current point in cluster: 2 \n",
      "\n",
      "1/1 [==============================] - 0s 19ms/step\n",
      "Current point in cluster: 2 \n",
      "\n",
      "1/1 [==============================] - 0s 21ms/step\n",
      "Current point in cluster: 2 \n",
      "\n"
     ]
    },
    {
     "name": "stderr",
     "output_type": "stream",
     "text": [
      "/work/mehlc/2_IA_KINETICS/ai_reacting_flows/env_ia/lib/python3.9/site-packages/sklearn/base.py:409: UserWarning: X does not have valid feature names, but StandardScaler was fitted with feature names\n",
      "  warnings.warn(\n",
      "/work/mehlc/2_IA_KINETICS/ai_reacting_flows/env_ia/lib/python3.9/site-packages/sklearn/base.py:409: UserWarning: X does not have valid feature names, but StandardScaler was fitted with feature names\n",
      "  warnings.warn(\n",
      "/work/mehlc/2_IA_KINETICS/ai_reacting_flows/env_ia/lib/python3.9/site-packages/sklearn/base.py:409: UserWarning: X does not have valid feature names, but StandardScaler was fitted with feature names\n",
      "  warnings.warn(\n",
      "/work/mehlc/2_IA_KINETICS/ai_reacting_flows/env_ia/lib/python3.9/site-packages/sklearn/base.py:409: UserWarning: X does not have valid feature names, but StandardScaler was fitted with feature names\n",
      "  warnings.warn(\n"
     ]
    },
    {
     "name": "stdout",
     "output_type": "stream",
     "text": [
      "1/1 [==============================] - 0s 20ms/step\n",
      "Current point in cluster: 2 \n",
      "\n",
      "1/1 [==============================] - 0s 19ms/step\n",
      "Current point in cluster: 2 \n",
      "\n",
      "1/1 [==============================] - 0s 19ms/step\n",
      "Current point in cluster: 2 \n",
      "\n",
      "1/1 [==============================] - 0s 18ms/step\n",
      "Current point in cluster: 2 \n",
      "\n"
     ]
    },
    {
     "name": "stderr",
     "output_type": "stream",
     "text": [
      "/work/mehlc/2_IA_KINETICS/ai_reacting_flows/env_ia/lib/python3.9/site-packages/sklearn/base.py:409: UserWarning: X does not have valid feature names, but StandardScaler was fitted with feature names\n",
      "  warnings.warn(\n",
      "/work/mehlc/2_IA_KINETICS/ai_reacting_flows/env_ia/lib/python3.9/site-packages/sklearn/base.py:409: UserWarning: X does not have valid feature names, but StandardScaler was fitted with feature names\n",
      "  warnings.warn(\n",
      "/work/mehlc/2_IA_KINETICS/ai_reacting_flows/env_ia/lib/python3.9/site-packages/sklearn/base.py:409: UserWarning: X does not have valid feature names, but StandardScaler was fitted with feature names\n",
      "  warnings.warn(\n",
      "/work/mehlc/2_IA_KINETICS/ai_reacting_flows/env_ia/lib/python3.9/site-packages/sklearn/base.py:409: UserWarning: X does not have valid feature names, but StandardScaler was fitted with feature names\n",
      "  warnings.warn(\n"
     ]
    },
    {
     "name": "stdout",
     "output_type": "stream",
     "text": [
      "1/1 [==============================] - 0s 18ms/step\n",
      "Current point in cluster: 2 \n",
      "\n",
      "1/1 [==============================] - 0s 20ms/step\n",
      "Current point in cluster: 2 \n",
      "\n",
      "1/1 [==============================] - 0s 19ms/step\n",
      "Current point in cluster: 2 \n",
      "\n",
      "1/1 [==============================] - 0s 19ms/step\n",
      "Current point in cluster: 2 \n",
      "\n"
     ]
    },
    {
     "name": "stderr",
     "output_type": "stream",
     "text": [
      "/work/mehlc/2_IA_KINETICS/ai_reacting_flows/env_ia/lib/python3.9/site-packages/sklearn/base.py:409: UserWarning: X does not have valid feature names, but StandardScaler was fitted with feature names\n",
      "  warnings.warn(\n",
      "/work/mehlc/2_IA_KINETICS/ai_reacting_flows/env_ia/lib/python3.9/site-packages/sklearn/base.py:409: UserWarning: X does not have valid feature names, but StandardScaler was fitted with feature names\n",
      "  warnings.warn(\n",
      "/work/mehlc/2_IA_KINETICS/ai_reacting_flows/env_ia/lib/python3.9/site-packages/sklearn/base.py:409: UserWarning: X does not have valid feature names, but StandardScaler was fitted with feature names\n",
      "  warnings.warn(\n",
      "/work/mehlc/2_IA_KINETICS/ai_reacting_flows/env_ia/lib/python3.9/site-packages/sklearn/base.py:409: UserWarning: X does not have valid feature names, but StandardScaler was fitted with feature names\n",
      "  warnings.warn(\n"
     ]
    },
    {
     "name": "stdout",
     "output_type": "stream",
     "text": [
      "1/1 [==============================] - 0s 19ms/step\n",
      "Current point in cluster: 2 \n",
      "\n",
      "1/1 [==============================] - 0s 18ms/step\n",
      "Current point in cluster: 2 \n",
      "\n",
      "1/1 [==============================] - 0s 18ms/step\n",
      "Current point in cluster: 2 \n",
      "\n",
      "1/1 [==============================] - 0s 17ms/step\n",
      "Current point in cluster: 2 \n",
      "\n"
     ]
    },
    {
     "name": "stderr",
     "output_type": "stream",
     "text": [
      "/work/mehlc/2_IA_KINETICS/ai_reacting_flows/env_ia/lib/python3.9/site-packages/sklearn/base.py:409: UserWarning: X does not have valid feature names, but StandardScaler was fitted with feature names\n",
      "  warnings.warn(\n",
      "/work/mehlc/2_IA_KINETICS/ai_reacting_flows/env_ia/lib/python3.9/site-packages/sklearn/base.py:409: UserWarning: X does not have valid feature names, but StandardScaler was fitted with feature names\n",
      "  warnings.warn(\n",
      "/work/mehlc/2_IA_KINETICS/ai_reacting_flows/env_ia/lib/python3.9/site-packages/sklearn/base.py:409: UserWarning: X does not have valid feature names, but StandardScaler was fitted with feature names\n",
      "  warnings.warn(\n",
      "/work/mehlc/2_IA_KINETICS/ai_reacting_flows/env_ia/lib/python3.9/site-packages/sklearn/base.py:409: UserWarning: X does not have valid feature names, but StandardScaler was fitted with feature names\n",
      "  warnings.warn(\n"
     ]
    },
    {
     "name": "stdout",
     "output_type": "stream",
     "text": [
      "1/1 [==============================] - 0s 17ms/step\n",
      "Current point in cluster: 2 \n",
      "\n",
      "1/1 [==============================] - 0s 19ms/step\n",
      "Current point in cluster: 2 \n",
      "\n",
      "1/1 [==============================] - 0s 19ms/step\n",
      "Current point in cluster: 2 \n",
      "\n",
      "1/1 [==============================] - 0s 18ms/step\n",
      "Current point in cluster: 2 \n",
      "\n"
     ]
    },
    {
     "name": "stderr",
     "output_type": "stream",
     "text": [
      "/work/mehlc/2_IA_KINETICS/ai_reacting_flows/env_ia/lib/python3.9/site-packages/sklearn/base.py:409: UserWarning: X does not have valid feature names, but StandardScaler was fitted with feature names\n",
      "  warnings.warn(\n",
      "/work/mehlc/2_IA_KINETICS/ai_reacting_flows/env_ia/lib/python3.9/site-packages/sklearn/base.py:409: UserWarning: X does not have valid feature names, but StandardScaler was fitted with feature names\n",
      "  warnings.warn(\n",
      "/work/mehlc/2_IA_KINETICS/ai_reacting_flows/env_ia/lib/python3.9/site-packages/sklearn/base.py:409: UserWarning: X does not have valid feature names, but StandardScaler was fitted with feature names\n",
      "  warnings.warn(\n",
      "/work/mehlc/2_IA_KINETICS/ai_reacting_flows/env_ia/lib/python3.9/site-packages/sklearn/base.py:409: UserWarning: X does not have valid feature names, but StandardScaler was fitted with feature names\n",
      "  warnings.warn(\n"
     ]
    },
    {
     "name": "stdout",
     "output_type": "stream",
     "text": [
      "1/1 [==============================] - 0s 18ms/step\n",
      "Current point in cluster: 2 \n",
      "\n",
      "1/1 [==============================] - 0s 18ms/step\n",
      "Current point in cluster: 2 \n",
      "\n",
      "1/1 [==============================] - 0s 18ms/step\n",
      "Current point in cluster: 2 \n",
      "\n",
      "1/1 [==============================] - 0s 18ms/step\n",
      "Current point in cluster: 2 \n",
      "\n"
     ]
    },
    {
     "name": "stderr",
     "output_type": "stream",
     "text": [
      "/work/mehlc/2_IA_KINETICS/ai_reacting_flows/env_ia/lib/python3.9/site-packages/sklearn/base.py:409: UserWarning: X does not have valid feature names, but StandardScaler was fitted with feature names\n",
      "  warnings.warn(\n",
      "/work/mehlc/2_IA_KINETICS/ai_reacting_flows/env_ia/lib/python3.9/site-packages/sklearn/base.py:409: UserWarning: X does not have valid feature names, but StandardScaler was fitted with feature names\n",
      "  warnings.warn(\n",
      "/work/mehlc/2_IA_KINETICS/ai_reacting_flows/env_ia/lib/python3.9/site-packages/sklearn/base.py:409: UserWarning: X does not have valid feature names, but StandardScaler was fitted with feature names\n",
      "  warnings.warn(\n",
      "/work/mehlc/2_IA_KINETICS/ai_reacting_flows/env_ia/lib/python3.9/site-packages/sklearn/base.py:409: UserWarning: X does not have valid feature names, but StandardScaler was fitted with feature names\n",
      "  warnings.warn(\n"
     ]
    },
    {
     "name": "stdout",
     "output_type": "stream",
     "text": [
      "1/1 [==============================] - 0s 18ms/step\n",
      "Current point in cluster: 2 \n",
      "\n",
      "1/1 [==============================] - 0s 19ms/step\n",
      "Current point in cluster: 2 \n",
      "\n",
      "1/1 [==============================] - 0s 17ms/step\n",
      "Current point in cluster: 2 \n",
      "\n",
      "1/1 [==============================] - 0s 18ms/step\n",
      "Current point in cluster: 2 \n",
      "\n"
     ]
    },
    {
     "name": "stderr",
     "output_type": "stream",
     "text": [
      "/work/mehlc/2_IA_KINETICS/ai_reacting_flows/env_ia/lib/python3.9/site-packages/sklearn/base.py:409: UserWarning: X does not have valid feature names, but StandardScaler was fitted with feature names\n",
      "  warnings.warn(\n",
      "/work/mehlc/2_IA_KINETICS/ai_reacting_flows/env_ia/lib/python3.9/site-packages/sklearn/base.py:409: UserWarning: X does not have valid feature names, but StandardScaler was fitted with feature names\n",
      "  warnings.warn(\n",
      "/work/mehlc/2_IA_KINETICS/ai_reacting_flows/env_ia/lib/python3.9/site-packages/sklearn/base.py:409: UserWarning: X does not have valid feature names, but StandardScaler was fitted with feature names\n",
      "  warnings.warn(\n",
      "/work/mehlc/2_IA_KINETICS/ai_reacting_flows/env_ia/lib/python3.9/site-packages/sklearn/base.py:409: UserWarning: X does not have valid feature names, but StandardScaler was fitted with feature names\n",
      "  warnings.warn(\n"
     ]
    },
    {
     "name": "stdout",
     "output_type": "stream",
     "text": [
      "1/1 [==============================] - 0s 18ms/step\n",
      "Current point in cluster: 2 \n",
      "\n",
      "1/1 [==============================] - 0s 18ms/step\n",
      "Current point in cluster: 2 \n",
      "\n",
      "1/1 [==============================] - 0s 17ms/step\n",
      "Current point in cluster: 2 \n",
      "\n",
      "1/1 [==============================] - 0s 17ms/step\n",
      "Current point in cluster: 2 \n",
      "\n"
     ]
    },
    {
     "name": "stderr",
     "output_type": "stream",
     "text": [
      "/work/mehlc/2_IA_KINETICS/ai_reacting_flows/env_ia/lib/python3.9/site-packages/sklearn/base.py:409: UserWarning: X does not have valid feature names, but StandardScaler was fitted with feature names\n",
      "  warnings.warn(\n",
      "/work/mehlc/2_IA_KINETICS/ai_reacting_flows/env_ia/lib/python3.9/site-packages/sklearn/base.py:409: UserWarning: X does not have valid feature names, but StandardScaler was fitted with feature names\n",
      "  warnings.warn(\n",
      "/work/mehlc/2_IA_KINETICS/ai_reacting_flows/env_ia/lib/python3.9/site-packages/sklearn/base.py:409: UserWarning: X does not have valid feature names, but StandardScaler was fitted with feature names\n",
      "  warnings.warn(\n",
      "/work/mehlc/2_IA_KINETICS/ai_reacting_flows/env_ia/lib/python3.9/site-packages/sklearn/base.py:409: UserWarning: X does not have valid feature names, but StandardScaler was fitted with feature names\n",
      "  warnings.warn(\n"
     ]
    },
    {
     "name": "stdout",
     "output_type": "stream",
     "text": [
      "1/1 [==============================] - 0s 18ms/step\n",
      "Current point in cluster: 2 \n",
      "\n",
      "1/1 [==============================] - 0s 18ms/step\n",
      "Current point in cluster: 2 \n",
      "\n",
      "1/1 [==============================] - 0s 17ms/step\n",
      "Current point in cluster: 2 \n",
      "\n",
      "1/1 [==============================] - 0s 18ms/step\n",
      "Current point in cluster: 2 \n",
      "\n"
     ]
    },
    {
     "name": "stderr",
     "output_type": "stream",
     "text": [
      "/work/mehlc/2_IA_KINETICS/ai_reacting_flows/env_ia/lib/python3.9/site-packages/sklearn/base.py:409: UserWarning: X does not have valid feature names, but StandardScaler was fitted with feature names\n",
      "  warnings.warn(\n",
      "/work/mehlc/2_IA_KINETICS/ai_reacting_flows/env_ia/lib/python3.9/site-packages/sklearn/base.py:409: UserWarning: X does not have valid feature names, but StandardScaler was fitted with feature names\n",
      "  warnings.warn(\n",
      "/work/mehlc/2_IA_KINETICS/ai_reacting_flows/env_ia/lib/python3.9/site-packages/sklearn/base.py:409: UserWarning: X does not have valid feature names, but StandardScaler was fitted with feature names\n",
      "  warnings.warn(\n",
      "/work/mehlc/2_IA_KINETICS/ai_reacting_flows/env_ia/lib/python3.9/site-packages/sklearn/base.py:409: UserWarning: X does not have valid feature names, but StandardScaler was fitted with feature names\n",
      "  warnings.warn(\n"
     ]
    },
    {
     "name": "stdout",
     "output_type": "stream",
     "text": [
      "1/1 [==============================] - 0s 18ms/step\n",
      "Current point in cluster: 2 \n",
      "\n",
      "1/1 [==============================] - 0s 18ms/step\n",
      "Current point in cluster: 2 \n",
      "\n",
      "1/1 [==============================] - 0s 18ms/step\n",
      "Current point in cluster: 2 \n",
      "\n",
      "1/1 [==============================] - 0s 18ms/step\n",
      "Current point in cluster: 2 \n",
      "\n"
     ]
    },
    {
     "name": "stderr",
     "output_type": "stream",
     "text": [
      "/work/mehlc/2_IA_KINETICS/ai_reacting_flows/env_ia/lib/python3.9/site-packages/sklearn/base.py:409: UserWarning: X does not have valid feature names, but StandardScaler was fitted with feature names\n",
      "  warnings.warn(\n",
      "/work/mehlc/2_IA_KINETICS/ai_reacting_flows/env_ia/lib/python3.9/site-packages/sklearn/base.py:409: UserWarning: X does not have valid feature names, but StandardScaler was fitted with feature names\n",
      "  warnings.warn(\n",
      "/work/mehlc/2_IA_KINETICS/ai_reacting_flows/env_ia/lib/python3.9/site-packages/sklearn/base.py:409: UserWarning: X does not have valid feature names, but StandardScaler was fitted with feature names\n",
      "  warnings.warn(\n",
      "/work/mehlc/2_IA_KINETICS/ai_reacting_flows/env_ia/lib/python3.9/site-packages/sklearn/base.py:409: UserWarning: X does not have valid feature names, but StandardScaler was fitted with feature names\n",
      "  warnings.warn(\n"
     ]
    },
    {
     "name": "stdout",
     "output_type": "stream",
     "text": [
      "1/1 [==============================] - 0s 17ms/step\n",
      "Current point in cluster: 2 \n",
      "\n",
      "1/1 [==============================] - 0s 17ms/step\n",
      "Current point in cluster: 2 \n",
      "\n",
      "1/1 [==============================] - 0s 17ms/step\n",
      "Current point in cluster: 2 \n",
      "\n",
      "1/1 [==============================] - 0s 17ms/step\n",
      "Current point in cluster: 2 \n",
      "\n",
      "1/1 [==============================] - 0s 17ms/step\n",
      "Current point in cluster: 2 \n",
      "\n"
     ]
    },
    {
     "name": "stderr",
     "output_type": "stream",
     "text": [
      "/work/mehlc/2_IA_KINETICS/ai_reacting_flows/env_ia/lib/python3.9/site-packages/sklearn/base.py:409: UserWarning: X does not have valid feature names, but StandardScaler was fitted with feature names\n",
      "  warnings.warn(\n",
      "/work/mehlc/2_IA_KINETICS/ai_reacting_flows/env_ia/lib/python3.9/site-packages/sklearn/base.py:409: UserWarning: X does not have valid feature names, but StandardScaler was fitted with feature names\n",
      "  warnings.warn(\n",
      "/work/mehlc/2_IA_KINETICS/ai_reacting_flows/env_ia/lib/python3.9/site-packages/sklearn/base.py:409: UserWarning: X does not have valid feature names, but StandardScaler was fitted with feature names\n",
      "  warnings.warn(\n",
      "/work/mehlc/2_IA_KINETICS/ai_reacting_flows/env_ia/lib/python3.9/site-packages/sklearn/base.py:409: UserWarning: X does not have valid feature names, but StandardScaler was fitted with feature names\n",
      "  warnings.warn(\n",
      "/work/mehlc/2_IA_KINETICS/ai_reacting_flows/env_ia/lib/python3.9/site-packages/sklearn/base.py:409: UserWarning: X does not have valid feature names, but StandardScaler was fitted with feature names\n",
      "  warnings.warn(\n"
     ]
    },
    {
     "name": "stdout",
     "output_type": "stream",
     "text": [
      "1/1 [==============================] - 0s 18ms/step\n",
      "Current point in cluster: 2 \n",
      "\n",
      "1/1 [==============================] - 0s 17ms/step\n",
      "Current point in cluster: 2 \n",
      "\n",
      "1/1 [==============================] - 0s 17ms/step\n",
      "Current point in cluster: 2 \n",
      "\n",
      "1/1 [==============================] - 0s 17ms/step\n",
      "Current point in cluster: 2 \n",
      "\n",
      "1/1 [==============================] - 0s 17ms/step\n"
     ]
    },
    {
     "name": "stderr",
     "output_type": "stream",
     "text": [
      "/work/mehlc/2_IA_KINETICS/ai_reacting_flows/env_ia/lib/python3.9/site-packages/sklearn/base.py:409: UserWarning: X does not have valid feature names, but StandardScaler was fitted with feature names\n",
      "  warnings.warn(\n",
      "/work/mehlc/2_IA_KINETICS/ai_reacting_flows/env_ia/lib/python3.9/site-packages/sklearn/base.py:409: UserWarning: X does not have valid feature names, but StandardScaler was fitted with feature names\n",
      "  warnings.warn(\n",
      "/work/mehlc/2_IA_KINETICS/ai_reacting_flows/env_ia/lib/python3.9/site-packages/sklearn/base.py:409: UserWarning: X does not have valid feature names, but StandardScaler was fitted with feature names\n",
      "  warnings.warn(\n",
      "/work/mehlc/2_IA_KINETICS/ai_reacting_flows/env_ia/lib/python3.9/site-packages/sklearn/base.py:409: UserWarning: X does not have valid feature names, but StandardScaler was fitted with feature names\n",
      "  warnings.warn(\n"
     ]
    },
    {
     "name": "stdout",
     "output_type": "stream",
     "text": [
      "Current point in cluster: 2 \n",
      "\n",
      "1/1 [==============================] - 0s 20ms/step\n",
      "Current point in cluster: 2 \n",
      "\n",
      "1/1 [==============================] - 0s 18ms/step\n",
      "Current point in cluster: 2 \n",
      "\n",
      "1/1 [==============================] - 0s 17ms/step\n",
      "Current point in cluster: 2 \n",
      "\n"
     ]
    },
    {
     "name": "stderr",
     "output_type": "stream",
     "text": [
      "/work/mehlc/2_IA_KINETICS/ai_reacting_flows/env_ia/lib/python3.9/site-packages/sklearn/base.py:409: UserWarning: X does not have valid feature names, but StandardScaler was fitted with feature names\n",
      "  warnings.warn(\n",
      "/work/mehlc/2_IA_KINETICS/ai_reacting_flows/env_ia/lib/python3.9/site-packages/sklearn/base.py:409: UserWarning: X does not have valid feature names, but StandardScaler was fitted with feature names\n",
      "  warnings.warn(\n",
      "/work/mehlc/2_IA_KINETICS/ai_reacting_flows/env_ia/lib/python3.9/site-packages/sklearn/base.py:409: UserWarning: X does not have valid feature names, but StandardScaler was fitted with feature names\n",
      "  warnings.warn(\n",
      "/work/mehlc/2_IA_KINETICS/ai_reacting_flows/env_ia/lib/python3.9/site-packages/sklearn/base.py:409: UserWarning: X does not have valid feature names, but StandardScaler was fitted with feature names\n",
      "  warnings.warn(\n"
     ]
    },
    {
     "name": "stdout",
     "output_type": "stream",
     "text": [
      "1/1 [==============================] - 0s 17ms/step\n",
      "Current point in cluster: 2 \n",
      "\n",
      "1/1 [==============================] - 0s 18ms/step\n",
      "Current point in cluster: 2 \n",
      "\n",
      "1/1 [==============================] - 0s 18ms/step\n",
      "Current point in cluster: 2 \n",
      "\n",
      "1/1 [==============================] - 0s 17ms/step\n",
      "Current point in cluster: 2 \n",
      "\n"
     ]
    },
    {
     "name": "stderr",
     "output_type": "stream",
     "text": [
      "/work/mehlc/2_IA_KINETICS/ai_reacting_flows/env_ia/lib/python3.9/site-packages/sklearn/base.py:409: UserWarning: X does not have valid feature names, but StandardScaler was fitted with feature names\n",
      "  warnings.warn(\n",
      "/work/mehlc/2_IA_KINETICS/ai_reacting_flows/env_ia/lib/python3.9/site-packages/sklearn/base.py:409: UserWarning: X does not have valid feature names, but StandardScaler was fitted with feature names\n",
      "  warnings.warn(\n",
      "/work/mehlc/2_IA_KINETICS/ai_reacting_flows/env_ia/lib/python3.9/site-packages/sklearn/base.py:409: UserWarning: X does not have valid feature names, but StandardScaler was fitted with feature names\n",
      "  warnings.warn(\n",
      "/work/mehlc/2_IA_KINETICS/ai_reacting_flows/env_ia/lib/python3.9/site-packages/sklearn/base.py:409: UserWarning: X does not have valid feature names, but StandardScaler was fitted with feature names\n",
      "  warnings.warn(\n"
     ]
    },
    {
     "name": "stdout",
     "output_type": "stream",
     "text": [
      "1/1 [==============================] - 0s 17ms/step\n",
      "Current point in cluster: 2 \n",
      "\n",
      "1/1 [==============================] - 0s 17ms/step\n",
      "Current point in cluster: 2 \n",
      "\n",
      "1/1 [==============================] - 0s 17ms/step\n",
      "Current point in cluster: 2 \n",
      "\n",
      "1/1 [==============================] - 0s 17ms/step\n",
      "Current point in cluster: 2 \n",
      "\n",
      "1/1 [==============================] - 0s 18ms/step\n"
     ]
    },
    {
     "name": "stderr",
     "output_type": "stream",
     "text": [
      "/work/mehlc/2_IA_KINETICS/ai_reacting_flows/env_ia/lib/python3.9/site-packages/sklearn/base.py:409: UserWarning: X does not have valid feature names, but StandardScaler was fitted with feature names\n",
      "  warnings.warn(\n",
      "/work/mehlc/2_IA_KINETICS/ai_reacting_flows/env_ia/lib/python3.9/site-packages/sklearn/base.py:409: UserWarning: X does not have valid feature names, but StandardScaler was fitted with feature names\n",
      "  warnings.warn(\n",
      "/work/mehlc/2_IA_KINETICS/ai_reacting_flows/env_ia/lib/python3.9/site-packages/sklearn/base.py:409: UserWarning: X does not have valid feature names, but StandardScaler was fitted with feature names\n",
      "  warnings.warn(\n",
      "/work/mehlc/2_IA_KINETICS/ai_reacting_flows/env_ia/lib/python3.9/site-packages/sklearn/base.py:409: UserWarning: X does not have valid feature names, but StandardScaler was fitted with feature names\n",
      "  warnings.warn(\n"
     ]
    },
    {
     "name": "stdout",
     "output_type": "stream",
     "text": [
      "Current point in cluster: 2 \n",
      "\n",
      "1/1 [==============================] - 0s 17ms/step\n",
      "Current point in cluster: 2 \n",
      "\n",
      "1/1 [==============================] - 0s 18ms/step\n",
      "Current point in cluster: 2 \n",
      "\n",
      "1/1 [==============================] - 0s 18ms/step\n",
      "Current point in cluster: 2 \n",
      "\n"
     ]
    },
    {
     "name": "stderr",
     "output_type": "stream",
     "text": [
      "/work/mehlc/2_IA_KINETICS/ai_reacting_flows/env_ia/lib/python3.9/site-packages/sklearn/base.py:409: UserWarning: X does not have valid feature names, but StandardScaler was fitted with feature names\n",
      "  warnings.warn(\n",
      "/work/mehlc/2_IA_KINETICS/ai_reacting_flows/env_ia/lib/python3.9/site-packages/sklearn/base.py:409: UserWarning: X does not have valid feature names, but StandardScaler was fitted with feature names\n",
      "  warnings.warn(\n",
      "/work/mehlc/2_IA_KINETICS/ai_reacting_flows/env_ia/lib/python3.9/site-packages/sklearn/base.py:409: UserWarning: X does not have valid feature names, but StandardScaler was fitted with feature names\n",
      "  warnings.warn(\n",
      "/work/mehlc/2_IA_KINETICS/ai_reacting_flows/env_ia/lib/python3.9/site-packages/sklearn/base.py:409: UserWarning: X does not have valid feature names, but StandardScaler was fitted with feature names\n",
      "  warnings.warn(\n"
     ]
    },
    {
     "name": "stdout",
     "output_type": "stream",
     "text": [
      "1/1 [==============================] - 0s 17ms/step\n",
      "Current point in cluster: 2 \n",
      "\n",
      "1/1 [==============================] - 0s 17ms/step\n",
      "Current point in cluster: 2 \n",
      "\n",
      "1/1 [==============================] - 0s 17ms/step\n",
      "Current point in cluster: 2 \n",
      "\n",
      "1/1 [==============================] - 0s 17ms/step\n",
      "Current point in cluster: 2 \n",
      "\n",
      "1/1 [==============================] - 0s 17ms/step\n",
      "Current point in cluster: 2 \n",
      "\n"
     ]
    },
    {
     "name": "stderr",
     "output_type": "stream",
     "text": [
      "/work/mehlc/2_IA_KINETICS/ai_reacting_flows/env_ia/lib/python3.9/site-packages/sklearn/base.py:409: UserWarning: X does not have valid feature names, but StandardScaler was fitted with feature names\n",
      "  warnings.warn(\n",
      "/work/mehlc/2_IA_KINETICS/ai_reacting_flows/env_ia/lib/python3.9/site-packages/sklearn/base.py:409: UserWarning: X does not have valid feature names, but StandardScaler was fitted with feature names\n",
      "  warnings.warn(\n",
      "/work/mehlc/2_IA_KINETICS/ai_reacting_flows/env_ia/lib/python3.9/site-packages/sklearn/base.py:409: UserWarning: X does not have valid feature names, but StandardScaler was fitted with feature names\n",
      "  warnings.warn(\n",
      "/work/mehlc/2_IA_KINETICS/ai_reacting_flows/env_ia/lib/python3.9/site-packages/sklearn/base.py:409: UserWarning: X does not have valid feature names, but StandardScaler was fitted with feature names\n",
      "  warnings.warn(\n",
      "/work/mehlc/2_IA_KINETICS/ai_reacting_flows/env_ia/lib/python3.9/site-packages/sklearn/base.py:409: UserWarning: X does not have valid feature names, but StandardScaler was fitted with feature names\n",
      "  warnings.warn(\n"
     ]
    },
    {
     "name": "stdout",
     "output_type": "stream",
     "text": [
      "1/1 [==============================] - 0s 17ms/step\n",
      "Current point in cluster: 2 \n",
      "\n",
      "1/1 [==============================] - 0s 17ms/step\n",
      "Current point in cluster: 2 \n",
      "\n",
      "1/1 [==============================] - 0s 17ms/step\n",
      "Current point in cluster: 2 \n",
      "\n",
      "1/1 [==============================] - 0s 18ms/step\n",
      "Current point in cluster: 2 \n",
      "\n"
     ]
    },
    {
     "name": "stderr",
     "output_type": "stream",
     "text": [
      "/work/mehlc/2_IA_KINETICS/ai_reacting_flows/env_ia/lib/python3.9/site-packages/sklearn/base.py:409: UserWarning: X does not have valid feature names, but StandardScaler was fitted with feature names\n",
      "  warnings.warn(\n",
      "/work/mehlc/2_IA_KINETICS/ai_reacting_flows/env_ia/lib/python3.9/site-packages/sklearn/base.py:409: UserWarning: X does not have valid feature names, but StandardScaler was fitted with feature names\n",
      "  warnings.warn(\n",
      "/work/mehlc/2_IA_KINETICS/ai_reacting_flows/env_ia/lib/python3.9/site-packages/sklearn/base.py:409: UserWarning: X does not have valid feature names, but StandardScaler was fitted with feature names\n",
      "  warnings.warn(\n",
      "/work/mehlc/2_IA_KINETICS/ai_reacting_flows/env_ia/lib/python3.9/site-packages/sklearn/base.py:409: UserWarning: X does not have valid feature names, but StandardScaler was fitted with feature names\n",
      "  warnings.warn(\n"
     ]
    },
    {
     "name": "stdout",
     "output_type": "stream",
     "text": [
      "1/1 [==============================] - 0s 17ms/step\n",
      "Current point in cluster: 2 \n",
      "\n",
      "1/1 [==============================] - 0s 17ms/step\n",
      "Current point in cluster: 2 \n",
      "\n",
      "1/1 [==============================] - 0s 17ms/step\n",
      "Current point in cluster: 2 \n",
      "\n",
      "1/1 [==============================] - 0s 16ms/step\n",
      "Current point in cluster: 2 \n",
      "\n",
      "1/1 [==============================] - ETA: 0s"
     ]
    },
    {
     "name": "stderr",
     "output_type": "stream",
     "text": [
      "/work/mehlc/2_IA_KINETICS/ai_reacting_flows/env_ia/lib/python3.9/site-packages/sklearn/base.py:409: UserWarning: X does not have valid feature names, but StandardScaler was fitted with feature names\n",
      "  warnings.warn(\n",
      "/work/mehlc/2_IA_KINETICS/ai_reacting_flows/env_ia/lib/python3.9/site-packages/sklearn/base.py:409: UserWarning: X does not have valid feature names, but StandardScaler was fitted with feature names\n",
      "  warnings.warn(\n",
      "/work/mehlc/2_IA_KINETICS/ai_reacting_flows/env_ia/lib/python3.9/site-packages/sklearn/base.py:409: UserWarning: X does not have valid feature names, but StandardScaler was fitted with feature names\n",
      "  warnings.warn(\n",
      "/work/mehlc/2_IA_KINETICS/ai_reacting_flows/env_ia/lib/python3.9/site-packages/sklearn/base.py:409: UserWarning: X does not have valid feature names, but StandardScaler was fitted with feature names\n",
      "  warnings.warn(\n"
     ]
    },
    {
     "name": "stdout",
     "output_type": "stream",
     "text": [
      "1/1 [==============================] - 0s 18ms/step\n",
      "Current point in cluster: 2 \n",
      "\n",
      "1/1 [==============================] - 0s 17ms/step\n",
      "Current point in cluster: 2 \n",
      "\n",
      "1/1 [==============================] - 0s 17ms/step\n",
      "Current point in cluster: 2 \n",
      "\n",
      "1/1 [==============================] - 0s 18ms/step\n",
      "Current point in cluster: 2 \n",
      "\n"
     ]
    },
    {
     "name": "stderr",
     "output_type": "stream",
     "text": [
      "/work/mehlc/2_IA_KINETICS/ai_reacting_flows/env_ia/lib/python3.9/site-packages/sklearn/base.py:409: UserWarning: X does not have valid feature names, but StandardScaler was fitted with feature names\n",
      "  warnings.warn(\n",
      "/work/mehlc/2_IA_KINETICS/ai_reacting_flows/env_ia/lib/python3.9/site-packages/sklearn/base.py:409: UserWarning: X does not have valid feature names, but StandardScaler was fitted with feature names\n",
      "  warnings.warn(\n",
      "/work/mehlc/2_IA_KINETICS/ai_reacting_flows/env_ia/lib/python3.9/site-packages/sklearn/base.py:409: UserWarning: X does not have valid feature names, but StandardScaler was fitted with feature names\n",
      "  warnings.warn(\n",
      "/work/mehlc/2_IA_KINETICS/ai_reacting_flows/env_ia/lib/python3.9/site-packages/sklearn/base.py:409: UserWarning: X does not have valid feature names, but StandardScaler was fitted with feature names\n",
      "  warnings.warn(\n"
     ]
    },
    {
     "name": "stdout",
     "output_type": "stream",
     "text": [
      "1/1 [==============================] - 0s 17ms/step\n",
      "Current point in cluster: 2 \n",
      "\n",
      "1/1 [==============================] - 0s 17ms/step\n",
      "Current point in cluster: 2 \n",
      "\n",
      "1/1 [==============================] - 0s 17ms/step\n",
      "Current point in cluster: 2 \n",
      "\n",
      "1/1 [==============================] - 0s 17ms/step\n",
      "Current point in cluster: 2 \n",
      "\n",
      "1/1 [==============================] - 0s 17ms/step\n",
      "Current point in cluster: 2 \n"
     ]
    },
    {
     "name": "stderr",
     "output_type": "stream",
     "text": [
      "/work/mehlc/2_IA_KINETICS/ai_reacting_flows/env_ia/lib/python3.9/site-packages/sklearn/base.py:409: UserWarning: X does not have valid feature names, but StandardScaler was fitted with feature names\n",
      "  warnings.warn(\n",
      "/work/mehlc/2_IA_KINETICS/ai_reacting_flows/env_ia/lib/python3.9/site-packages/sklearn/base.py:409: UserWarning: X does not have valid feature names, but StandardScaler was fitted with feature names\n",
      "  warnings.warn(\n",
      "/work/mehlc/2_IA_KINETICS/ai_reacting_flows/env_ia/lib/python3.9/site-packages/sklearn/base.py:409: UserWarning: X does not have valid feature names, but StandardScaler was fitted with feature names\n",
      "  warnings.warn(\n",
      "/work/mehlc/2_IA_KINETICS/ai_reacting_flows/env_ia/lib/python3.9/site-packages/sklearn/base.py:409: UserWarning: X does not have valid feature names, but StandardScaler was fitted with feature names\n",
      "  warnings.warn(\n",
      "/work/mehlc/2_IA_KINETICS/ai_reacting_flows/env_ia/lib/python3.9/site-packages/sklearn/base.py:409: UserWarning: X does not have valid feature names, but StandardScaler was fitted with feature names\n",
      "  warnings.warn(\n"
     ]
    },
    {
     "name": "stdout",
     "output_type": "stream",
     "text": [
      "\n",
      "1/1 [==============================] - 0s 18ms/step\n",
      "Current point in cluster: 2 \n",
      "\n",
      "1/1 [==============================] - 0s 17ms/step\n",
      "Current point in cluster: 2 \n",
      "\n",
      "1/1 [==============================] - 0s 17ms/step\n",
      "Current point in cluster: 2 \n",
      "\n",
      "1/1 [==============================] - 0s 17ms/step\n",
      "Current point in cluster: 2 \n",
      "\n",
      "1/1 [==============================] - ETA: 0s"
     ]
    },
    {
     "name": "stderr",
     "output_type": "stream",
     "text": [
      "/work/mehlc/2_IA_KINETICS/ai_reacting_flows/env_ia/lib/python3.9/site-packages/sklearn/base.py:409: UserWarning: X does not have valid feature names, but StandardScaler was fitted with feature names\n",
      "  warnings.warn(\n",
      "/work/mehlc/2_IA_KINETICS/ai_reacting_flows/env_ia/lib/python3.9/site-packages/sklearn/base.py:409: UserWarning: X does not have valid feature names, but StandardScaler was fitted with feature names\n",
      "  warnings.warn(\n",
      "/work/mehlc/2_IA_KINETICS/ai_reacting_flows/env_ia/lib/python3.9/site-packages/sklearn/base.py:409: UserWarning: X does not have valid feature names, but StandardScaler was fitted with feature names\n",
      "  warnings.warn(\n",
      "/work/mehlc/2_IA_KINETICS/ai_reacting_flows/env_ia/lib/python3.9/site-packages/sklearn/base.py:409: UserWarning: X does not have valid feature names, but StandardScaler was fitted with feature names\n",
      "  warnings.warn(\n"
     ]
    },
    {
     "name": "stdout",
     "output_type": "stream",
     "text": [
      "1/1 [==============================] - 0s 17ms/step\n",
      "Current point in cluster: 2 \n",
      "\n",
      "1/1 [==============================] - 0s 17ms/step\n",
      "Current point in cluster: 2 \n",
      "\n",
      "1/1 [==============================] - 0s 17ms/step\n",
      "Current point in cluster: 2 \n",
      "\n",
      "1/1 [==============================] - 0s 17ms/step\n",
      "Current point in cluster: 2 \n",
      "\n",
      "1/1 [==============================] - 0s 17ms/step\n"
     ]
    },
    {
     "name": "stderr",
     "output_type": "stream",
     "text": [
      "/work/mehlc/2_IA_KINETICS/ai_reacting_flows/env_ia/lib/python3.9/site-packages/sklearn/base.py:409: UserWarning: X does not have valid feature names, but StandardScaler was fitted with feature names\n",
      "  warnings.warn(\n",
      "/work/mehlc/2_IA_KINETICS/ai_reacting_flows/env_ia/lib/python3.9/site-packages/sklearn/base.py:409: UserWarning: X does not have valid feature names, but StandardScaler was fitted with feature names\n",
      "  warnings.warn(\n",
      "/work/mehlc/2_IA_KINETICS/ai_reacting_flows/env_ia/lib/python3.9/site-packages/sklearn/base.py:409: UserWarning: X does not have valid feature names, but StandardScaler was fitted with feature names\n",
      "  warnings.warn(\n",
      "/work/mehlc/2_IA_KINETICS/ai_reacting_flows/env_ia/lib/python3.9/site-packages/sklearn/base.py:409: UserWarning: X does not have valid feature names, but StandardScaler was fitted with feature names\n",
      "  warnings.warn(\n"
     ]
    },
    {
     "name": "stdout",
     "output_type": "stream",
     "text": [
      "Current point in cluster: 2 \n",
      "\n",
      "1/1 [==============================] - 0s 17ms/step\n",
      "Current point in cluster: 2 \n",
      "\n",
      "1/1 [==============================] - 0s 17ms/step\n",
      "Current point in cluster: 2 \n",
      "\n",
      "1/1 [==============================] - 0s 17ms/step\n",
      "Current point in cluster: 2 \n",
      "\n",
      "1/1 [==============================] - 0s 17ms/step\n",
      "Current point in cluster: 2 \n"
     ]
    },
    {
     "name": "stderr",
     "output_type": "stream",
     "text": [
      "/work/mehlc/2_IA_KINETICS/ai_reacting_flows/env_ia/lib/python3.9/site-packages/sklearn/base.py:409: UserWarning: X does not have valid feature names, but StandardScaler was fitted with feature names\n",
      "  warnings.warn(\n",
      "/work/mehlc/2_IA_KINETICS/ai_reacting_flows/env_ia/lib/python3.9/site-packages/sklearn/base.py:409: UserWarning: X does not have valid feature names, but StandardScaler was fitted with feature names\n",
      "  warnings.warn(\n",
      "/work/mehlc/2_IA_KINETICS/ai_reacting_flows/env_ia/lib/python3.9/site-packages/sklearn/base.py:409: UserWarning: X does not have valid feature names, but StandardScaler was fitted with feature names\n",
      "  warnings.warn(\n",
      "/work/mehlc/2_IA_KINETICS/ai_reacting_flows/env_ia/lib/python3.9/site-packages/sklearn/base.py:409: UserWarning: X does not have valid feature names, but StandardScaler was fitted with feature names\n",
      "  warnings.warn(\n"
     ]
    },
    {
     "name": "stdout",
     "output_type": "stream",
     "text": [
      "\n",
      "1/1 [==============================] - 0s 17ms/step\n",
      "Current point in cluster: 2 \n",
      "\n",
      "1/1 [==============================] - 0s 17ms/step\n",
      "Current point in cluster: 2 \n",
      "\n",
      "1/1 [==============================] - 0s 17ms/step\n",
      "Current point in cluster: 2 \n",
      "\n"
     ]
    },
    {
     "name": "stderr",
     "output_type": "stream",
     "text": [
      "/work/mehlc/2_IA_KINETICS/ai_reacting_flows/env_ia/lib/python3.9/site-packages/sklearn/base.py:409: UserWarning: X does not have valid feature names, but StandardScaler was fitted with feature names\n",
      "  warnings.warn(\n",
      "/work/mehlc/2_IA_KINETICS/ai_reacting_flows/env_ia/lib/python3.9/site-packages/sklearn/base.py:409: UserWarning: X does not have valid feature names, but StandardScaler was fitted with feature names\n",
      "  warnings.warn(\n",
      "/work/mehlc/2_IA_KINETICS/ai_reacting_flows/env_ia/lib/python3.9/site-packages/sklearn/base.py:409: UserWarning: X does not have valid feature names, but StandardScaler was fitted with feature names\n",
      "  warnings.warn(\n",
      "/work/mehlc/2_IA_KINETICS/ai_reacting_flows/env_ia/lib/python3.9/site-packages/sklearn/base.py:409: UserWarning: X does not have valid feature names, but StandardScaler was fitted with feature names\n",
      "  warnings.warn(\n"
     ]
    },
    {
     "name": "stdout",
     "output_type": "stream",
     "text": [
      "1/1 [==============================] - 0s 17ms/step\n",
      "Current point in cluster: 2 \n",
      "\n",
      "1/1 [==============================] - 0s 17ms/step\n",
      "Current point in cluster: 2 \n",
      "\n",
      "1/1 [==============================] - 0s 18ms/step\n",
      "Current point in cluster: 2 \n",
      "\n",
      "1/1 [==============================] - 0s 17ms/step\n",
      "Current point in cluster: 2 \n",
      "\n",
      "1/1 [==============================] - 0s 17ms/step\n"
     ]
    },
    {
     "name": "stderr",
     "output_type": "stream",
     "text": [
      "/work/mehlc/2_IA_KINETICS/ai_reacting_flows/env_ia/lib/python3.9/site-packages/sklearn/base.py:409: UserWarning: X does not have valid feature names, but StandardScaler was fitted with feature names\n",
      "  warnings.warn(\n",
      "/work/mehlc/2_IA_KINETICS/ai_reacting_flows/env_ia/lib/python3.9/site-packages/sklearn/base.py:409: UserWarning: X does not have valid feature names, but StandardScaler was fitted with feature names\n",
      "  warnings.warn(\n",
      "/work/mehlc/2_IA_KINETICS/ai_reacting_flows/env_ia/lib/python3.9/site-packages/sklearn/base.py:409: UserWarning: X does not have valid feature names, but StandardScaler was fitted with feature names\n",
      "  warnings.warn(\n",
      "/work/mehlc/2_IA_KINETICS/ai_reacting_flows/env_ia/lib/python3.9/site-packages/sklearn/base.py:409: UserWarning: X does not have valid feature names, but StandardScaler was fitted with feature names\n",
      "  warnings.warn(\n"
     ]
    },
    {
     "name": "stdout",
     "output_type": "stream",
     "text": [
      "Current point in cluster: 2 \n",
      "\n",
      "1/1 [==============================] - 0s 17ms/step\n",
      "Current point in cluster: 2 \n",
      "\n",
      "1/1 [==============================] - 0s 17ms/step\n",
      "Current point in cluster: 2 \n",
      "\n",
      "1/1 [==============================] - 0s 18ms/step\n",
      "Current point in cluster: 2 \n",
      "\n"
     ]
    },
    {
     "name": "stderr",
     "output_type": "stream",
     "text": [
      "/work/mehlc/2_IA_KINETICS/ai_reacting_flows/env_ia/lib/python3.9/site-packages/sklearn/base.py:409: UserWarning: X does not have valid feature names, but StandardScaler was fitted with feature names\n",
      "  warnings.warn(\n",
      "/work/mehlc/2_IA_KINETICS/ai_reacting_flows/env_ia/lib/python3.9/site-packages/sklearn/base.py:409: UserWarning: X does not have valid feature names, but StandardScaler was fitted with feature names\n",
      "  warnings.warn(\n",
      "/work/mehlc/2_IA_KINETICS/ai_reacting_flows/env_ia/lib/python3.9/site-packages/sklearn/base.py:409: UserWarning: X does not have valid feature names, but StandardScaler was fitted with feature names\n",
      "  warnings.warn(\n",
      "/work/mehlc/2_IA_KINETICS/ai_reacting_flows/env_ia/lib/python3.9/site-packages/sklearn/base.py:409: UserWarning: X does not have valid feature names, but StandardScaler was fitted with feature names\n",
      "  warnings.warn(\n"
     ]
    },
    {
     "name": "stdout",
     "output_type": "stream",
     "text": [
      "1/1 [==============================] - 0s 17ms/step\n",
      "Current point in cluster: 2 \n",
      "\n",
      "1/1 [==============================] - 0s 18ms/step\n",
      "Current point in cluster: 2 \n",
      "\n",
      "1/1 [==============================] - 0s 17ms/step\n",
      "Current point in cluster: 2 \n",
      "\n",
      "1/1 [==============================] - 0s 17ms/step\n",
      "Current point in cluster: 2 \n",
      "\n"
     ]
    },
    {
     "name": "stderr",
     "output_type": "stream",
     "text": [
      "/work/mehlc/2_IA_KINETICS/ai_reacting_flows/env_ia/lib/python3.9/site-packages/sklearn/base.py:409: UserWarning: X does not have valid feature names, but StandardScaler was fitted with feature names\n",
      "  warnings.warn(\n",
      "/work/mehlc/2_IA_KINETICS/ai_reacting_flows/env_ia/lib/python3.9/site-packages/sklearn/base.py:409: UserWarning: X does not have valid feature names, but StandardScaler was fitted with feature names\n",
      "  warnings.warn(\n",
      "/work/mehlc/2_IA_KINETICS/ai_reacting_flows/env_ia/lib/python3.9/site-packages/sklearn/base.py:409: UserWarning: X does not have valid feature names, but StandardScaler was fitted with feature names\n",
      "  warnings.warn(\n",
      "/work/mehlc/2_IA_KINETICS/ai_reacting_flows/env_ia/lib/python3.9/site-packages/sklearn/base.py:409: UserWarning: X does not have valid feature names, but StandardScaler was fitted with feature names\n",
      "  warnings.warn(\n"
     ]
    },
    {
     "name": "stdout",
     "output_type": "stream",
     "text": [
      "1/1 [==============================] - 0s 18ms/step\n",
      "Current point in cluster: 2 \n",
      "\n",
      "1/1 [==============================] - 0s 17ms/step\n",
      "Current point in cluster: 2 \n",
      "\n",
      "1/1 [==============================] - 0s 17ms/step\n",
      "Current point in cluster: 2 \n",
      "\n",
      "1/1 [==============================] - 0s 17ms/step\n",
      "Current point in cluster: 2 \n",
      "\n"
     ]
    },
    {
     "name": "stderr",
     "output_type": "stream",
     "text": [
      "/work/mehlc/2_IA_KINETICS/ai_reacting_flows/env_ia/lib/python3.9/site-packages/sklearn/base.py:409: UserWarning: X does not have valid feature names, but StandardScaler was fitted with feature names\n",
      "  warnings.warn(\n",
      "/work/mehlc/2_IA_KINETICS/ai_reacting_flows/env_ia/lib/python3.9/site-packages/sklearn/base.py:409: UserWarning: X does not have valid feature names, but StandardScaler was fitted with feature names\n",
      "  warnings.warn(\n",
      "/work/mehlc/2_IA_KINETICS/ai_reacting_flows/env_ia/lib/python3.9/site-packages/sklearn/base.py:409: UserWarning: X does not have valid feature names, but StandardScaler was fitted with feature names\n",
      "  warnings.warn(\n",
      "/work/mehlc/2_IA_KINETICS/ai_reacting_flows/env_ia/lib/python3.9/site-packages/sklearn/base.py:409: UserWarning: X does not have valid feature names, but StandardScaler was fitted with feature names\n",
      "  warnings.warn(\n"
     ]
    },
    {
     "name": "stdout",
     "output_type": "stream",
     "text": [
      "1/1 [==============================] - 0s 18ms/step\n",
      "Current point in cluster: 2 \n",
      "\n",
      "1/1 [==============================] - 0s 18ms/step\n",
      "Current point in cluster: 2 \n",
      "\n",
      "1/1 [==============================] - 0s 18ms/step\n",
      "Current point in cluster: 2 \n",
      "\n",
      "1/1 [==============================] - 0s 18ms/step\n",
      "Current point in cluster: 2 \n",
      "\n"
     ]
    },
    {
     "name": "stderr",
     "output_type": "stream",
     "text": [
      "/work/mehlc/2_IA_KINETICS/ai_reacting_flows/env_ia/lib/python3.9/site-packages/sklearn/base.py:409: UserWarning: X does not have valid feature names, but StandardScaler was fitted with feature names\n",
      "  warnings.warn(\n",
      "/work/mehlc/2_IA_KINETICS/ai_reacting_flows/env_ia/lib/python3.9/site-packages/sklearn/base.py:409: UserWarning: X does not have valid feature names, but StandardScaler was fitted with feature names\n",
      "  warnings.warn(\n",
      "/work/mehlc/2_IA_KINETICS/ai_reacting_flows/env_ia/lib/python3.9/site-packages/sklearn/base.py:409: UserWarning: X does not have valid feature names, but StandardScaler was fitted with feature names\n",
      "  warnings.warn(\n",
      "/work/mehlc/2_IA_KINETICS/ai_reacting_flows/env_ia/lib/python3.9/site-packages/sklearn/base.py:409: UserWarning: X does not have valid feature names, but StandardScaler was fitted with feature names\n",
      "  warnings.warn(\n"
     ]
    },
    {
     "name": "stdout",
     "output_type": "stream",
     "text": [
      "1/1 [==============================] - 0s 18ms/step\n",
      "Current point in cluster: 2 \n",
      "\n",
      "1/1 [==============================] - 0s 17ms/step\n",
      "Current point in cluster: 2 \n",
      "\n",
      "1/1 [==============================] - 0s 17ms/step\n",
      "Current point in cluster: 2 \n",
      "\n",
      "1/1 [==============================] - 0s 17ms/step\n",
      "Current point in cluster: 2 \n",
      "\n",
      "1/1 [==============================] - 0s 17ms/step\n"
     ]
    },
    {
     "name": "stderr",
     "output_type": "stream",
     "text": [
      "/work/mehlc/2_IA_KINETICS/ai_reacting_flows/env_ia/lib/python3.9/site-packages/sklearn/base.py:409: UserWarning: X does not have valid feature names, but StandardScaler was fitted with feature names\n",
      "  warnings.warn(\n",
      "/work/mehlc/2_IA_KINETICS/ai_reacting_flows/env_ia/lib/python3.9/site-packages/sklearn/base.py:409: UserWarning: X does not have valid feature names, but StandardScaler was fitted with feature names\n",
      "  warnings.warn(\n",
      "/work/mehlc/2_IA_KINETICS/ai_reacting_flows/env_ia/lib/python3.9/site-packages/sklearn/base.py:409: UserWarning: X does not have valid feature names, but StandardScaler was fitted with feature names\n",
      "  warnings.warn(\n",
      "/work/mehlc/2_IA_KINETICS/ai_reacting_flows/env_ia/lib/python3.9/site-packages/sklearn/base.py:409: UserWarning: X does not have valid feature names, but StandardScaler was fitted with feature names\n",
      "  warnings.warn(\n"
     ]
    },
    {
     "name": "stdout",
     "output_type": "stream",
     "text": [
      "Current point in cluster: 2 \n",
      "\n",
      "1/1 [==============================] - 0s 18ms/step\n",
      "Current point in cluster: 2 \n",
      "\n",
      "1/1 [==============================] - 0s 18ms/step\n",
      "Current point in cluster: 2 \n",
      "\n",
      "1/1 [==============================] - 0s 19ms/step\n",
      "Current point in cluster: 2 \n",
      "\n"
     ]
    },
    {
     "name": "stderr",
     "output_type": "stream",
     "text": [
      "/work/mehlc/2_IA_KINETICS/ai_reacting_flows/env_ia/lib/python3.9/site-packages/sklearn/base.py:409: UserWarning: X does not have valid feature names, but StandardScaler was fitted with feature names\n",
      "  warnings.warn(\n",
      "/work/mehlc/2_IA_KINETICS/ai_reacting_flows/env_ia/lib/python3.9/site-packages/sklearn/base.py:409: UserWarning: X does not have valid feature names, but StandardScaler was fitted with feature names\n",
      "  warnings.warn(\n",
      "/work/mehlc/2_IA_KINETICS/ai_reacting_flows/env_ia/lib/python3.9/site-packages/sklearn/base.py:409: UserWarning: X does not have valid feature names, but StandardScaler was fitted with feature names\n",
      "  warnings.warn(\n",
      "/work/mehlc/2_IA_KINETICS/ai_reacting_flows/env_ia/lib/python3.9/site-packages/sklearn/base.py:409: UserWarning: X does not have valid feature names, but StandardScaler was fitted with feature names\n",
      "  warnings.warn(\n"
     ]
    },
    {
     "name": "stdout",
     "output_type": "stream",
     "text": [
      "1/1 [==============================] - 0s 17ms/step\n",
      "Current point in cluster: 2 \n",
      "\n",
      "1/1 [==============================] - 0s 17ms/step\n",
      "Current point in cluster: 2 \n",
      "\n",
      "1/1 [==============================] - 0s 19ms/step\n",
      "Current point in cluster: 2 \n",
      "\n",
      "1/1 [==============================] - 0s 18ms/step\n",
      "Current point in cluster: 2 \n",
      "\n"
     ]
    },
    {
     "name": "stderr",
     "output_type": "stream",
     "text": [
      "/work/mehlc/2_IA_KINETICS/ai_reacting_flows/env_ia/lib/python3.9/site-packages/sklearn/base.py:409: UserWarning: X does not have valid feature names, but StandardScaler was fitted with feature names\n",
      "  warnings.warn(\n",
      "/work/mehlc/2_IA_KINETICS/ai_reacting_flows/env_ia/lib/python3.9/site-packages/sklearn/base.py:409: UserWarning: X does not have valid feature names, but StandardScaler was fitted with feature names\n",
      "  warnings.warn(\n",
      "/work/mehlc/2_IA_KINETICS/ai_reacting_flows/env_ia/lib/python3.9/site-packages/sklearn/base.py:409: UserWarning: X does not have valid feature names, but StandardScaler was fitted with feature names\n",
      "  warnings.warn(\n",
      "/work/mehlc/2_IA_KINETICS/ai_reacting_flows/env_ia/lib/python3.9/site-packages/sklearn/base.py:409: UserWarning: X does not have valid feature names, but StandardScaler was fitted with feature names\n",
      "  warnings.warn(\n"
     ]
    },
    {
     "name": "stdout",
     "output_type": "stream",
     "text": [
      "1/1 [==============================] - 0s 17ms/step\n",
      "Current point in cluster: 2 \n",
      "\n",
      "1/1 [==============================] - 0s 17ms/step\n",
      "Current point in cluster: 2 \n",
      "\n",
      "1/1 [==============================] - 0s 18ms/step\n",
      "Current point in cluster: 2 \n",
      "\n",
      "1/1 [==============================] - 0s 19ms/step\n",
      "Current point in cluster: 2 \n",
      "\n"
     ]
    },
    {
     "name": "stderr",
     "output_type": "stream",
     "text": [
      "/work/mehlc/2_IA_KINETICS/ai_reacting_flows/env_ia/lib/python3.9/site-packages/sklearn/base.py:409: UserWarning: X does not have valid feature names, but StandardScaler was fitted with feature names\n",
      "  warnings.warn(\n",
      "/work/mehlc/2_IA_KINETICS/ai_reacting_flows/env_ia/lib/python3.9/site-packages/sklearn/base.py:409: UserWarning: X does not have valid feature names, but StandardScaler was fitted with feature names\n",
      "  warnings.warn(\n",
      "/work/mehlc/2_IA_KINETICS/ai_reacting_flows/env_ia/lib/python3.9/site-packages/sklearn/base.py:409: UserWarning: X does not have valid feature names, but StandardScaler was fitted with feature names\n",
      "  warnings.warn(\n",
      "/work/mehlc/2_IA_KINETICS/ai_reacting_flows/env_ia/lib/python3.9/site-packages/sklearn/base.py:409: UserWarning: X does not have valid feature names, but StandardScaler was fitted with feature names\n",
      "  warnings.warn(\n"
     ]
    },
    {
     "name": "stdout",
     "output_type": "stream",
     "text": [
      "1/1 [==============================] - 0s 18ms/step\n",
      "Current point in cluster: 2 \n",
      "\n",
      "1/1 [==============================] - 0s 18ms/step\n",
      "Current point in cluster: 2 \n",
      "\n",
      "1/1 [==============================] - 0s 17ms/step\n",
      "Current point in cluster: 2 \n",
      "\n",
      "1/1 [==============================] - 0s 18ms/step\n",
      "Current point in cluster: 2 \n",
      "\n"
     ]
    },
    {
     "name": "stderr",
     "output_type": "stream",
     "text": [
      "/work/mehlc/2_IA_KINETICS/ai_reacting_flows/env_ia/lib/python3.9/site-packages/sklearn/base.py:409: UserWarning: X does not have valid feature names, but StandardScaler was fitted with feature names\n",
      "  warnings.warn(\n",
      "/work/mehlc/2_IA_KINETICS/ai_reacting_flows/env_ia/lib/python3.9/site-packages/sklearn/base.py:409: UserWarning: X does not have valid feature names, but StandardScaler was fitted with feature names\n",
      "  warnings.warn(\n",
      "/work/mehlc/2_IA_KINETICS/ai_reacting_flows/env_ia/lib/python3.9/site-packages/sklearn/base.py:409: UserWarning: X does not have valid feature names, but StandardScaler was fitted with feature names\n",
      "  warnings.warn(\n",
      "/work/mehlc/2_IA_KINETICS/ai_reacting_flows/env_ia/lib/python3.9/site-packages/sklearn/base.py:409: UserWarning: X does not have valid feature names, but StandardScaler was fitted with feature names\n",
      "  warnings.warn(\n"
     ]
    },
    {
     "name": "stdout",
     "output_type": "stream",
     "text": [
      "1/1 [==============================] - 0s 17ms/step\n",
      "Current point in cluster: 2 \n",
      "\n",
      "1/1 [==============================] - 0s 18ms/step\n",
      "Current point in cluster: 2 \n",
      "\n",
      "1/1 [==============================] - 0s 17ms/step\n",
      "Current point in cluster: 2 \n",
      "\n",
      "1/1 [==============================] - 0s 18ms/step\n",
      "Current point in cluster: 2 \n",
      "\n"
     ]
    },
    {
     "name": "stderr",
     "output_type": "stream",
     "text": [
      "/work/mehlc/2_IA_KINETICS/ai_reacting_flows/env_ia/lib/python3.9/site-packages/sklearn/base.py:409: UserWarning: X does not have valid feature names, but StandardScaler was fitted with feature names\n",
      "  warnings.warn(\n",
      "/work/mehlc/2_IA_KINETICS/ai_reacting_flows/env_ia/lib/python3.9/site-packages/sklearn/base.py:409: UserWarning: X does not have valid feature names, but StandardScaler was fitted with feature names\n",
      "  warnings.warn(\n",
      "/work/mehlc/2_IA_KINETICS/ai_reacting_flows/env_ia/lib/python3.9/site-packages/sklearn/base.py:409: UserWarning: X does not have valid feature names, but StandardScaler was fitted with feature names\n",
      "  warnings.warn(\n",
      "/work/mehlc/2_IA_KINETICS/ai_reacting_flows/env_ia/lib/python3.9/site-packages/sklearn/base.py:409: UserWarning: X does not have valid feature names, but StandardScaler was fitted with feature names\n",
      "  warnings.warn(\n"
     ]
    },
    {
     "name": "stdout",
     "output_type": "stream",
     "text": [
      "1/1 [==============================] - 0s 18ms/step\n",
      "Current point in cluster: 2 \n",
      "\n",
      "1/1 [==============================] - 0s 17ms/step\n",
      "Current point in cluster: 2 \n",
      "\n",
      "1/1 [==============================] - 0s 17ms/step\n",
      "Current point in cluster: 2 \n",
      "\n",
      "1/1 [==============================] - 0s 17ms/step\n",
      "Current point in cluster: 2 \n",
      "\n"
     ]
    },
    {
     "name": "stderr",
     "output_type": "stream",
     "text": [
      "/work/mehlc/2_IA_KINETICS/ai_reacting_flows/env_ia/lib/python3.9/site-packages/sklearn/base.py:409: UserWarning: X does not have valid feature names, but StandardScaler was fitted with feature names\n",
      "  warnings.warn(\n",
      "/work/mehlc/2_IA_KINETICS/ai_reacting_flows/env_ia/lib/python3.9/site-packages/sklearn/base.py:409: UserWarning: X does not have valid feature names, but StandardScaler was fitted with feature names\n",
      "  warnings.warn(\n",
      "/work/mehlc/2_IA_KINETICS/ai_reacting_flows/env_ia/lib/python3.9/site-packages/sklearn/base.py:409: UserWarning: X does not have valid feature names, but StandardScaler was fitted with feature names\n",
      "  warnings.warn(\n",
      "/work/mehlc/2_IA_KINETICS/ai_reacting_flows/env_ia/lib/python3.9/site-packages/sklearn/base.py:409: UserWarning: X does not have valid feature names, but StandardScaler was fitted with feature names\n",
      "  warnings.warn(\n"
     ]
    },
    {
     "name": "stdout",
     "output_type": "stream",
     "text": [
      "1/1 [==============================] - 0s 18ms/step\n",
      "Current point in cluster: 2 \n",
      "\n",
      "1/1 [==============================] - 0s 18ms/step\n",
      "Current point in cluster: 2 \n",
      "\n",
      "1/1 [==============================] - 0s 18ms/step\n",
      "Current point in cluster: 2 \n",
      "\n",
      "1/1 [==============================] - 0s 18ms/step\n",
      "Current point in cluster: 2 \n",
      "\n"
     ]
    },
    {
     "name": "stderr",
     "output_type": "stream",
     "text": [
      "/work/mehlc/2_IA_KINETICS/ai_reacting_flows/env_ia/lib/python3.9/site-packages/sklearn/base.py:409: UserWarning: X does not have valid feature names, but StandardScaler was fitted with feature names\n",
      "  warnings.warn(\n",
      "/work/mehlc/2_IA_KINETICS/ai_reacting_flows/env_ia/lib/python3.9/site-packages/sklearn/base.py:409: UserWarning: X does not have valid feature names, but StandardScaler was fitted with feature names\n",
      "  warnings.warn(\n",
      "/work/mehlc/2_IA_KINETICS/ai_reacting_flows/env_ia/lib/python3.9/site-packages/sklearn/base.py:409: UserWarning: X does not have valid feature names, but StandardScaler was fitted with feature names\n",
      "  warnings.warn(\n",
      "/work/mehlc/2_IA_KINETICS/ai_reacting_flows/env_ia/lib/python3.9/site-packages/sklearn/base.py:409: UserWarning: X does not have valid feature names, but StandardScaler was fitted with feature names\n",
      "  warnings.warn(\n"
     ]
    },
    {
     "name": "stdout",
     "output_type": "stream",
     "text": [
      "1/1 [==============================] - 0s 17ms/step\n",
      "Current point in cluster: 2 \n",
      "\n",
      "1/1 [==============================] - 0s 18ms/step\n",
      "Current point in cluster: 2 \n",
      "\n",
      "1/1 [==============================] - 0s 18ms/step\n",
      "Current point in cluster: 2 \n",
      "\n",
      "1/1 [==============================] - 0s 17ms/step\n",
      "Current point in cluster: 2 \n",
      "\n"
     ]
    },
    {
     "name": "stderr",
     "output_type": "stream",
     "text": [
      "/work/mehlc/2_IA_KINETICS/ai_reacting_flows/env_ia/lib/python3.9/site-packages/sklearn/base.py:409: UserWarning: X does not have valid feature names, but StandardScaler was fitted with feature names\n",
      "  warnings.warn(\n",
      "/work/mehlc/2_IA_KINETICS/ai_reacting_flows/env_ia/lib/python3.9/site-packages/sklearn/base.py:409: UserWarning: X does not have valid feature names, but StandardScaler was fitted with feature names\n",
      "  warnings.warn(\n",
      "/work/mehlc/2_IA_KINETICS/ai_reacting_flows/env_ia/lib/python3.9/site-packages/sklearn/base.py:409: UserWarning: X does not have valid feature names, but StandardScaler was fitted with feature names\n",
      "  warnings.warn(\n",
      "/work/mehlc/2_IA_KINETICS/ai_reacting_flows/env_ia/lib/python3.9/site-packages/sklearn/base.py:409: UserWarning: X does not have valid feature names, but StandardScaler was fitted with feature names\n",
      "  warnings.warn(\n"
     ]
    },
    {
     "name": "stdout",
     "output_type": "stream",
     "text": [
      "1/1 [==============================] - 0s 19ms/step\n",
      "Current point in cluster: 2 \n",
      "\n",
      "1/1 [==============================] - 0s 18ms/step\n",
      "Current point in cluster: 2 \n",
      "\n",
      "1/1 [==============================] - 0s 17ms/step\n",
      "Current point in cluster: 2 \n",
      "\n",
      "1/1 [==============================] - 0s 18ms/step\n",
      "Current point in cluster: 2 \n",
      "\n"
     ]
    },
    {
     "name": "stderr",
     "output_type": "stream",
     "text": [
      "/work/mehlc/2_IA_KINETICS/ai_reacting_flows/env_ia/lib/python3.9/site-packages/sklearn/base.py:409: UserWarning: X does not have valid feature names, but StandardScaler was fitted with feature names\n",
      "  warnings.warn(\n",
      "/work/mehlc/2_IA_KINETICS/ai_reacting_flows/env_ia/lib/python3.9/site-packages/sklearn/base.py:409: UserWarning: X does not have valid feature names, but StandardScaler was fitted with feature names\n",
      "  warnings.warn(\n",
      "/work/mehlc/2_IA_KINETICS/ai_reacting_flows/env_ia/lib/python3.9/site-packages/sklearn/base.py:409: UserWarning: X does not have valid feature names, but StandardScaler was fitted with feature names\n",
      "  warnings.warn(\n",
      "/work/mehlc/2_IA_KINETICS/ai_reacting_flows/env_ia/lib/python3.9/site-packages/sklearn/base.py:409: UserWarning: X does not have valid feature names, but StandardScaler was fitted with feature names\n",
      "  warnings.warn(\n"
     ]
    },
    {
     "name": "stdout",
     "output_type": "stream",
     "text": [
      "1/1 [==============================] - 0s 18ms/step\n",
      "Current point in cluster: 2 \n",
      "\n",
      "1/1 [==============================] - 0s 18ms/step\n",
      "Current point in cluster: 2 \n",
      "\n",
      "1/1 [==============================] - 0s 19ms/step\n",
      "Current point in cluster: 2 \n",
      "\n",
      "1/1 [==============================] - 0s 17ms/step\n",
      "Current point in cluster: 2 \n",
      "\n"
     ]
    },
    {
     "name": "stderr",
     "output_type": "stream",
     "text": [
      "/work/mehlc/2_IA_KINETICS/ai_reacting_flows/env_ia/lib/python3.9/site-packages/sklearn/base.py:409: UserWarning: X does not have valid feature names, but StandardScaler was fitted with feature names\n",
      "  warnings.warn(\n",
      "/work/mehlc/2_IA_KINETICS/ai_reacting_flows/env_ia/lib/python3.9/site-packages/sklearn/base.py:409: UserWarning: X does not have valid feature names, but StandardScaler was fitted with feature names\n",
      "  warnings.warn(\n",
      "/work/mehlc/2_IA_KINETICS/ai_reacting_flows/env_ia/lib/python3.9/site-packages/sklearn/base.py:409: UserWarning: X does not have valid feature names, but StandardScaler was fitted with feature names\n",
      "  warnings.warn(\n",
      "/work/mehlc/2_IA_KINETICS/ai_reacting_flows/env_ia/lib/python3.9/site-packages/sklearn/base.py:409: UserWarning: X does not have valid feature names, but StandardScaler was fitted with feature names\n",
      "  warnings.warn(\n"
     ]
    },
    {
     "name": "stdout",
     "output_type": "stream",
     "text": [
      "1/1 [==============================] - 0s 17ms/step\n",
      "Current point in cluster: 2 \n",
      "\n",
      "1/1 [==============================] - 0s 18ms/step\n",
      "Current point in cluster: 2 \n",
      "\n",
      "1/1 [==============================] - 0s 17ms/step\n",
      "Current point in cluster: 2 \n",
      "\n",
      "1/1 [==============================] - 0s 17ms/step\n",
      "Current point in cluster: 2 \n",
      "\n",
      "1/1 [==============================] - 0s 17ms/step\n"
     ]
    },
    {
     "name": "stderr",
     "output_type": "stream",
     "text": [
      "/work/mehlc/2_IA_KINETICS/ai_reacting_flows/env_ia/lib/python3.9/site-packages/sklearn/base.py:409: UserWarning: X does not have valid feature names, but StandardScaler was fitted with feature names\n",
      "  warnings.warn(\n",
      "/work/mehlc/2_IA_KINETICS/ai_reacting_flows/env_ia/lib/python3.9/site-packages/sklearn/base.py:409: UserWarning: X does not have valid feature names, but StandardScaler was fitted with feature names\n",
      "  warnings.warn(\n",
      "/work/mehlc/2_IA_KINETICS/ai_reacting_flows/env_ia/lib/python3.9/site-packages/sklearn/base.py:409: UserWarning: X does not have valid feature names, but StandardScaler was fitted with feature names\n",
      "  warnings.warn(\n",
      "/work/mehlc/2_IA_KINETICS/ai_reacting_flows/env_ia/lib/python3.9/site-packages/sklearn/base.py:409: UserWarning: X does not have valid feature names, but StandardScaler was fitted with feature names\n",
      "  warnings.warn(\n"
     ]
    },
    {
     "name": "stdout",
     "output_type": "stream",
     "text": [
      "Current point in cluster: 2 \n",
      "\n",
      "1/1 [==============================] - 0s 17ms/step\n",
      "Current point in cluster: 2 \n",
      "\n",
      "1/1 [==============================] - 0s 17ms/step\n",
      "Current point in cluster: 2 \n",
      "\n",
      "1/1 [==============================] - 0s 17ms/step\n",
      "Current point in cluster: 2 \n",
      "\n"
     ]
    },
    {
     "name": "stderr",
     "output_type": "stream",
     "text": [
      "/work/mehlc/2_IA_KINETICS/ai_reacting_flows/env_ia/lib/python3.9/site-packages/sklearn/base.py:409: UserWarning: X does not have valid feature names, but StandardScaler was fitted with feature names\n",
      "  warnings.warn(\n",
      "/work/mehlc/2_IA_KINETICS/ai_reacting_flows/env_ia/lib/python3.9/site-packages/sklearn/base.py:409: UserWarning: X does not have valid feature names, but StandardScaler was fitted with feature names\n",
      "  warnings.warn(\n",
      "/work/mehlc/2_IA_KINETICS/ai_reacting_flows/env_ia/lib/python3.9/site-packages/sklearn/base.py:409: UserWarning: X does not have valid feature names, but StandardScaler was fitted with feature names\n",
      "  warnings.warn(\n",
      "/work/mehlc/2_IA_KINETICS/ai_reacting_flows/env_ia/lib/python3.9/site-packages/sklearn/base.py:409: UserWarning: X does not have valid feature names, but StandardScaler was fitted with feature names\n",
      "  warnings.warn(\n"
     ]
    },
    {
     "name": "stdout",
     "output_type": "stream",
     "text": [
      "1/1 [==============================] - 0s 18ms/step\n",
      "Current point in cluster: 2 \n",
      "\n",
      "1/1 [==============================] - 0s 18ms/step\n",
      "Current point in cluster: 2 \n",
      "\n",
      "1/1 [==============================] - 0s 17ms/step\n",
      "Current point in cluster: 2 \n",
      "\n",
      "1/1 [==============================] - 0s 18ms/step\n",
      "Current point in cluster: 2 \n",
      "\n"
     ]
    },
    {
     "name": "stderr",
     "output_type": "stream",
     "text": [
      "/work/mehlc/2_IA_KINETICS/ai_reacting_flows/env_ia/lib/python3.9/site-packages/sklearn/base.py:409: UserWarning: X does not have valid feature names, but StandardScaler was fitted with feature names\n",
      "  warnings.warn(\n",
      "/work/mehlc/2_IA_KINETICS/ai_reacting_flows/env_ia/lib/python3.9/site-packages/sklearn/base.py:409: UserWarning: X does not have valid feature names, but StandardScaler was fitted with feature names\n",
      "  warnings.warn(\n",
      "/work/mehlc/2_IA_KINETICS/ai_reacting_flows/env_ia/lib/python3.9/site-packages/sklearn/base.py:409: UserWarning: X does not have valid feature names, but StandardScaler was fitted with feature names\n",
      "  warnings.warn(\n",
      "/work/mehlc/2_IA_KINETICS/ai_reacting_flows/env_ia/lib/python3.9/site-packages/sklearn/base.py:409: UserWarning: X does not have valid feature names, but StandardScaler was fitted with feature names\n",
      "  warnings.warn(\n"
     ]
    },
    {
     "name": "stdout",
     "output_type": "stream",
     "text": [
      "1/1 [==============================] - 0s 18ms/step\n",
      "Current point in cluster: 2 \n",
      "\n",
      "1/1 [==============================] - 0s 17ms/step\n",
      "Current point in cluster: 2 \n",
      "\n",
      "1/1 [==============================] - 0s 17ms/step\n",
      "Current point in cluster: 2 \n",
      "\n",
      "1/1 [==============================] - 0s 18ms/step\n",
      "Current point in cluster: 2 \n",
      "\n"
     ]
    },
    {
     "name": "stderr",
     "output_type": "stream",
     "text": [
      "/work/mehlc/2_IA_KINETICS/ai_reacting_flows/env_ia/lib/python3.9/site-packages/sklearn/base.py:409: UserWarning: X does not have valid feature names, but StandardScaler was fitted with feature names\n",
      "  warnings.warn(\n",
      "/work/mehlc/2_IA_KINETICS/ai_reacting_flows/env_ia/lib/python3.9/site-packages/sklearn/base.py:409: UserWarning: X does not have valid feature names, but StandardScaler was fitted with feature names\n",
      "  warnings.warn(\n",
      "/work/mehlc/2_IA_KINETICS/ai_reacting_flows/env_ia/lib/python3.9/site-packages/sklearn/base.py:409: UserWarning: X does not have valid feature names, but StandardScaler was fitted with feature names\n",
      "  warnings.warn(\n",
      "/work/mehlc/2_IA_KINETICS/ai_reacting_flows/env_ia/lib/python3.9/site-packages/sklearn/base.py:409: UserWarning: X does not have valid feature names, but StandardScaler was fitted with feature names\n",
      "  warnings.warn(\n"
     ]
    },
    {
     "name": "stdout",
     "output_type": "stream",
     "text": [
      "1/1 [==============================] - 0s 18ms/step\n",
      "Current point in cluster: 2 \n",
      "\n",
      "1/1 [==============================] - 0s 19ms/step\n",
      "Current point in cluster: 2 \n",
      "\n",
      "1/1 [==============================] - 0s 17ms/step\n",
      "Current point in cluster: 2 \n",
      "\n",
      "1/1 [==============================] - 0s 18ms/step\n",
      "Current point in cluster: 2 \n",
      "\n"
     ]
    },
    {
     "name": "stderr",
     "output_type": "stream",
     "text": [
      "/work/mehlc/2_IA_KINETICS/ai_reacting_flows/env_ia/lib/python3.9/site-packages/sklearn/base.py:409: UserWarning: X does not have valid feature names, but StandardScaler was fitted with feature names\n",
      "  warnings.warn(\n",
      "/work/mehlc/2_IA_KINETICS/ai_reacting_flows/env_ia/lib/python3.9/site-packages/sklearn/base.py:409: UserWarning: X does not have valid feature names, but StandardScaler was fitted with feature names\n",
      "  warnings.warn(\n",
      "/work/mehlc/2_IA_KINETICS/ai_reacting_flows/env_ia/lib/python3.9/site-packages/sklearn/base.py:409: UserWarning: X does not have valid feature names, but StandardScaler was fitted with feature names\n",
      "  warnings.warn(\n",
      "/work/mehlc/2_IA_KINETICS/ai_reacting_flows/env_ia/lib/python3.9/site-packages/sklearn/base.py:409: UserWarning: X does not have valid feature names, but StandardScaler was fitted with feature names\n",
      "  warnings.warn(\n"
     ]
    },
    {
     "name": "stdout",
     "output_type": "stream",
     "text": [
      "1/1 [==============================] - 0s 17ms/step\n",
      "Current point in cluster: 2 \n",
      "\n",
      "1/1 [==============================] - 0s 17ms/step\n",
      "Current point in cluster: 2 \n",
      "\n",
      "1/1 [==============================] - 0s 18ms/step\n",
      "Current point in cluster: 2 \n",
      "\n",
      "1/1 [==============================] - 0s 17ms/step\n",
      "Current point in cluster: 2 \n",
      "\n"
     ]
    },
    {
     "name": "stderr",
     "output_type": "stream",
     "text": [
      "/work/mehlc/2_IA_KINETICS/ai_reacting_flows/env_ia/lib/python3.9/site-packages/sklearn/base.py:409: UserWarning: X does not have valid feature names, but StandardScaler was fitted with feature names\n",
      "  warnings.warn(\n",
      "/work/mehlc/2_IA_KINETICS/ai_reacting_flows/env_ia/lib/python3.9/site-packages/sklearn/base.py:409: UserWarning: X does not have valid feature names, but StandardScaler was fitted with feature names\n",
      "  warnings.warn(\n",
      "/work/mehlc/2_IA_KINETICS/ai_reacting_flows/env_ia/lib/python3.9/site-packages/sklearn/base.py:409: UserWarning: X does not have valid feature names, but StandardScaler was fitted with feature names\n",
      "  warnings.warn(\n",
      "/work/mehlc/2_IA_KINETICS/ai_reacting_flows/env_ia/lib/python3.9/site-packages/sklearn/base.py:409: UserWarning: X does not have valid feature names, but StandardScaler was fitted with feature names\n",
      "  warnings.warn(\n"
     ]
    },
    {
     "name": "stdout",
     "output_type": "stream",
     "text": [
      "1/1 [==============================] - 0s 18ms/step\n",
      "Current point in cluster: 2 \n",
      "\n",
      "1/1 [==============================] - 0s 31ms/step\n",
      "Current point in cluster: 2 \n",
      "\n",
      "1/1 [==============================] - 0s 18ms/step\n",
      "Current point in cluster: 2 \n",
      "\n",
      "1/1 [==============================] - 0s 17ms/step\n",
      "Current point in cluster: 2 \n",
      "\n"
     ]
    },
    {
     "name": "stderr",
     "output_type": "stream",
     "text": [
      "/work/mehlc/2_IA_KINETICS/ai_reacting_flows/env_ia/lib/python3.9/site-packages/sklearn/base.py:409: UserWarning: X does not have valid feature names, but StandardScaler was fitted with feature names\n",
      "  warnings.warn(\n",
      "/work/mehlc/2_IA_KINETICS/ai_reacting_flows/env_ia/lib/python3.9/site-packages/sklearn/base.py:409: UserWarning: X does not have valid feature names, but StandardScaler was fitted with feature names\n",
      "  warnings.warn(\n",
      "/work/mehlc/2_IA_KINETICS/ai_reacting_flows/env_ia/lib/python3.9/site-packages/sklearn/base.py:409: UserWarning: X does not have valid feature names, but StandardScaler was fitted with feature names\n",
      "  warnings.warn(\n",
      "/work/mehlc/2_IA_KINETICS/ai_reacting_flows/env_ia/lib/python3.9/site-packages/sklearn/base.py:409: UserWarning: X does not have valid feature names, but StandardScaler was fitted with feature names\n",
      "  warnings.warn(\n"
     ]
    },
    {
     "name": "stdout",
     "output_type": "stream",
     "text": [
      "1/1 [==============================] - 0s 18ms/step\n",
      "Current point in cluster: 2 \n",
      "\n",
      "1/1 [==============================] - 0s 18ms/step\n",
      "Current point in cluster: 2 \n",
      "\n",
      "1/1 [==============================] - 0s 19ms/step\n",
      "Current point in cluster: 2 \n",
      "\n",
      "1/1 [==============================] - 0s 18ms/step\n",
      "Current point in cluster: 2 \n",
      "\n"
     ]
    },
    {
     "name": "stderr",
     "output_type": "stream",
     "text": [
      "/work/mehlc/2_IA_KINETICS/ai_reacting_flows/env_ia/lib/python3.9/site-packages/sklearn/base.py:409: UserWarning: X does not have valid feature names, but StandardScaler was fitted with feature names\n",
      "  warnings.warn(\n",
      "/work/mehlc/2_IA_KINETICS/ai_reacting_flows/env_ia/lib/python3.9/site-packages/sklearn/base.py:409: UserWarning: X does not have valid feature names, but StandardScaler was fitted with feature names\n",
      "  warnings.warn(\n",
      "/work/mehlc/2_IA_KINETICS/ai_reacting_flows/env_ia/lib/python3.9/site-packages/sklearn/base.py:409: UserWarning: X does not have valid feature names, but StandardScaler was fitted with feature names\n",
      "  warnings.warn(\n",
      "/work/mehlc/2_IA_KINETICS/ai_reacting_flows/env_ia/lib/python3.9/site-packages/sklearn/base.py:409: UserWarning: X does not have valid feature names, but StandardScaler was fitted with feature names\n",
      "  warnings.warn(\n"
     ]
    },
    {
     "name": "stdout",
     "output_type": "stream",
     "text": [
      "1/1 [==============================] - 0s 17ms/step\n",
      "Current point in cluster: 2 \n",
      "\n",
      "1/1 [==============================] - 0s 17ms/step\n",
      "Current point in cluster: 2 \n",
      "\n",
      "1/1 [==============================] - 0s 17ms/step\n",
      "Current point in cluster: 2 \n",
      "\n",
      "1/1 [==============================] - 0s 18ms/step\n",
      "Current point in cluster: 2 \n",
      "\n"
     ]
    },
    {
     "name": "stderr",
     "output_type": "stream",
     "text": [
      "/work/mehlc/2_IA_KINETICS/ai_reacting_flows/env_ia/lib/python3.9/site-packages/sklearn/base.py:409: UserWarning: X does not have valid feature names, but StandardScaler was fitted with feature names\n",
      "  warnings.warn(\n",
      "/work/mehlc/2_IA_KINETICS/ai_reacting_flows/env_ia/lib/python3.9/site-packages/sklearn/base.py:409: UserWarning: X does not have valid feature names, but StandardScaler was fitted with feature names\n",
      "  warnings.warn(\n",
      "/work/mehlc/2_IA_KINETICS/ai_reacting_flows/env_ia/lib/python3.9/site-packages/sklearn/base.py:409: UserWarning: X does not have valid feature names, but StandardScaler was fitted with feature names\n",
      "  warnings.warn(\n",
      "/work/mehlc/2_IA_KINETICS/ai_reacting_flows/env_ia/lib/python3.9/site-packages/sklearn/base.py:409: UserWarning: X does not have valid feature names, but StandardScaler was fitted with feature names\n",
      "  warnings.warn(\n"
     ]
    },
    {
     "name": "stdout",
     "output_type": "stream",
     "text": [
      "1/1 [==============================] - 0s 17ms/step\n",
      "Current point in cluster: 2 \n",
      "\n",
      "1/1 [==============================] - 0s 17ms/step\n",
      "Current point in cluster: 2 \n",
      "\n",
      "1/1 [==============================] - 0s 17ms/step\n",
      "Current point in cluster: 2 \n",
      "\n",
      "1/1 [==============================] - 0s 17ms/step\n",
      "Current point in cluster: 2 \n",
      "\n"
     ]
    },
    {
     "name": "stderr",
     "output_type": "stream",
     "text": [
      "/work/mehlc/2_IA_KINETICS/ai_reacting_flows/env_ia/lib/python3.9/site-packages/sklearn/base.py:409: UserWarning: X does not have valid feature names, but StandardScaler was fitted with feature names\n",
      "  warnings.warn(\n",
      "/work/mehlc/2_IA_KINETICS/ai_reacting_flows/env_ia/lib/python3.9/site-packages/sklearn/base.py:409: UserWarning: X does not have valid feature names, but StandardScaler was fitted with feature names\n",
      "  warnings.warn(\n",
      "/work/mehlc/2_IA_KINETICS/ai_reacting_flows/env_ia/lib/python3.9/site-packages/sklearn/base.py:409: UserWarning: X does not have valid feature names, but StandardScaler was fitted with feature names\n",
      "  warnings.warn(\n",
      "/work/mehlc/2_IA_KINETICS/ai_reacting_flows/env_ia/lib/python3.9/site-packages/sklearn/base.py:409: UserWarning: X does not have valid feature names, but StandardScaler was fitted with feature names\n",
      "  warnings.warn(\n"
     ]
    },
    {
     "name": "stdout",
     "output_type": "stream",
     "text": [
      "1/1 [==============================] - 0s 18ms/step\n",
      "Current point in cluster: 2 \n",
      "\n",
      "1/1 [==============================] - 0s 17ms/step\n",
      "Current point in cluster: 2 \n",
      "\n",
      "1/1 [==============================] - 0s 17ms/step\n",
      "Current point in cluster: 2 \n",
      "\n",
      "1/1 [==============================] - 0s 17ms/step\n",
      "Current point in cluster: 2 \n",
      "\n"
     ]
    },
    {
     "name": "stderr",
     "output_type": "stream",
     "text": [
      "/work/mehlc/2_IA_KINETICS/ai_reacting_flows/env_ia/lib/python3.9/site-packages/sklearn/base.py:409: UserWarning: X does not have valid feature names, but StandardScaler was fitted with feature names\n",
      "  warnings.warn(\n",
      "/work/mehlc/2_IA_KINETICS/ai_reacting_flows/env_ia/lib/python3.9/site-packages/sklearn/base.py:409: UserWarning: X does not have valid feature names, but StandardScaler was fitted with feature names\n",
      "  warnings.warn(\n",
      "/work/mehlc/2_IA_KINETICS/ai_reacting_flows/env_ia/lib/python3.9/site-packages/sklearn/base.py:409: UserWarning: X does not have valid feature names, but StandardScaler was fitted with feature names\n",
      "  warnings.warn(\n",
      "/work/mehlc/2_IA_KINETICS/ai_reacting_flows/env_ia/lib/python3.9/site-packages/sklearn/base.py:409: UserWarning: X does not have valid feature names, but StandardScaler was fitted with feature names\n",
      "  warnings.warn(\n"
     ]
    },
    {
     "name": "stdout",
     "output_type": "stream",
     "text": [
      "1/1 [==============================] - 0s 18ms/step\n",
      "Current point in cluster: 2 \n",
      "\n",
      "1/1 [==============================] - 0s 18ms/step\n",
      "Current point in cluster: 2 \n",
      "\n",
      "1/1 [==============================] - 0s 17ms/step\n",
      "Current point in cluster: 2 \n",
      "\n",
      "1/1 [==============================] - 0s 18ms/step\n",
      "Current point in cluster: 2 \n",
      "\n"
     ]
    },
    {
     "name": "stderr",
     "output_type": "stream",
     "text": [
      "/work/mehlc/2_IA_KINETICS/ai_reacting_flows/env_ia/lib/python3.9/site-packages/sklearn/base.py:409: UserWarning: X does not have valid feature names, but StandardScaler was fitted with feature names\n",
      "  warnings.warn(\n",
      "/work/mehlc/2_IA_KINETICS/ai_reacting_flows/env_ia/lib/python3.9/site-packages/sklearn/base.py:409: UserWarning: X does not have valid feature names, but StandardScaler was fitted with feature names\n",
      "  warnings.warn(\n",
      "/work/mehlc/2_IA_KINETICS/ai_reacting_flows/env_ia/lib/python3.9/site-packages/sklearn/base.py:409: UserWarning: X does not have valid feature names, but StandardScaler was fitted with feature names\n",
      "  warnings.warn(\n",
      "/work/mehlc/2_IA_KINETICS/ai_reacting_flows/env_ia/lib/python3.9/site-packages/sklearn/base.py:409: UserWarning: X does not have valid feature names, but StandardScaler was fitted with feature names\n",
      "  warnings.warn(\n"
     ]
    },
    {
     "name": "stdout",
     "output_type": "stream",
     "text": [
      "1/1 [==============================] - 0s 18ms/step\n",
      "Current point in cluster: 2 \n",
      "\n",
      "1/1 [==============================] - 0s 17ms/step\n",
      "Current point in cluster: 2 \n",
      "\n",
      "1/1 [==============================] - 0s 17ms/step\n",
      "Current point in cluster: 2 \n",
      "\n",
      "1/1 [==============================] - 0s 17ms/step\n",
      "Current point in cluster: 2 \n",
      "\n",
      "1/1 [==============================] - ETA: 0s"
     ]
    },
    {
     "name": "stderr",
     "output_type": "stream",
     "text": [
      "/work/mehlc/2_IA_KINETICS/ai_reacting_flows/env_ia/lib/python3.9/site-packages/sklearn/base.py:409: UserWarning: X does not have valid feature names, but StandardScaler was fitted with feature names\n",
      "  warnings.warn(\n",
      "/work/mehlc/2_IA_KINETICS/ai_reacting_flows/env_ia/lib/python3.9/site-packages/sklearn/base.py:409: UserWarning: X does not have valid feature names, but StandardScaler was fitted with feature names\n",
      "  warnings.warn(\n",
      "/work/mehlc/2_IA_KINETICS/ai_reacting_flows/env_ia/lib/python3.9/site-packages/sklearn/base.py:409: UserWarning: X does not have valid feature names, but StandardScaler was fitted with feature names\n",
      "  warnings.warn(\n",
      "/work/mehlc/2_IA_KINETICS/ai_reacting_flows/env_ia/lib/python3.9/site-packages/sklearn/base.py:409: UserWarning: X does not have valid feature names, but StandardScaler was fitted with feature names\n",
      "  warnings.warn(\n"
     ]
    },
    {
     "name": "stdout",
     "output_type": "stream",
     "text": [
      "1/1 [==============================] - 0s 17ms/step\n",
      "Current point in cluster: 2 \n",
      "\n",
      "1/1 [==============================] - 0s 17ms/step\n",
      "Current point in cluster: 2 \n",
      "\n",
      "1/1 [==============================] - 0s 18ms/step\n",
      "Current point in cluster: 2 \n",
      "\n",
      "1/1 [==============================] - 0s 18ms/step\n",
      "Current point in cluster: 2 \n",
      "\n"
     ]
    },
    {
     "name": "stderr",
     "output_type": "stream",
     "text": [
      "/work/mehlc/2_IA_KINETICS/ai_reacting_flows/env_ia/lib/python3.9/site-packages/sklearn/base.py:409: UserWarning: X does not have valid feature names, but StandardScaler was fitted with feature names\n",
      "  warnings.warn(\n",
      "/work/mehlc/2_IA_KINETICS/ai_reacting_flows/env_ia/lib/python3.9/site-packages/sklearn/base.py:409: UserWarning: X does not have valid feature names, but StandardScaler was fitted with feature names\n",
      "  warnings.warn(\n",
      "/work/mehlc/2_IA_KINETICS/ai_reacting_flows/env_ia/lib/python3.9/site-packages/sklearn/base.py:409: UserWarning: X does not have valid feature names, but StandardScaler was fitted with feature names\n",
      "  warnings.warn(\n",
      "/work/mehlc/2_IA_KINETICS/ai_reacting_flows/env_ia/lib/python3.9/site-packages/sklearn/base.py:409: UserWarning: X does not have valid feature names, but StandardScaler was fitted with feature names\n",
      "  warnings.warn(\n"
     ]
    },
    {
     "name": "stdout",
     "output_type": "stream",
     "text": [
      "1/1 [==============================] - 0s 18ms/step\n",
      "Current point in cluster: 2 \n",
      "\n",
      "1/1 [==============================] - 0s 18ms/step\n",
      "Current point in cluster: 2 \n",
      "\n",
      "1/1 [==============================] - 0s 18ms/step\n",
      "Current point in cluster: 2 \n",
      "\n",
      "1/1 [==============================] - 0s 18ms/step\n",
      "Current point in cluster: 2 \n",
      "\n"
     ]
    },
    {
     "name": "stderr",
     "output_type": "stream",
     "text": [
      "/work/mehlc/2_IA_KINETICS/ai_reacting_flows/env_ia/lib/python3.9/site-packages/sklearn/base.py:409: UserWarning: X does not have valid feature names, but StandardScaler was fitted with feature names\n",
      "  warnings.warn(\n",
      "/work/mehlc/2_IA_KINETICS/ai_reacting_flows/env_ia/lib/python3.9/site-packages/sklearn/base.py:409: UserWarning: X does not have valid feature names, but StandardScaler was fitted with feature names\n",
      "  warnings.warn(\n",
      "/work/mehlc/2_IA_KINETICS/ai_reacting_flows/env_ia/lib/python3.9/site-packages/sklearn/base.py:409: UserWarning: X does not have valid feature names, but StandardScaler was fitted with feature names\n",
      "  warnings.warn(\n",
      "/work/mehlc/2_IA_KINETICS/ai_reacting_flows/env_ia/lib/python3.9/site-packages/sklearn/base.py:409: UserWarning: X does not have valid feature names, but StandardScaler was fitted with feature names\n",
      "  warnings.warn(\n"
     ]
    },
    {
     "name": "stdout",
     "output_type": "stream",
     "text": [
      "1/1 [==============================] - 0s 18ms/step\n",
      "Current point in cluster: 2 \n",
      "\n",
      "1/1 [==============================] - 0s 17ms/step\n",
      "Current point in cluster: 2 \n",
      "\n",
      "1/1 [==============================] - 0s 18ms/step\n",
      "Current point in cluster: 2 \n",
      "\n",
      "1/1 [==============================] - 0s 18ms/step\n",
      "Current point in cluster: 2 \n",
      "\n"
     ]
    },
    {
     "name": "stderr",
     "output_type": "stream",
     "text": [
      "/work/mehlc/2_IA_KINETICS/ai_reacting_flows/env_ia/lib/python3.9/site-packages/sklearn/base.py:409: UserWarning: X does not have valid feature names, but StandardScaler was fitted with feature names\n",
      "  warnings.warn(\n",
      "/work/mehlc/2_IA_KINETICS/ai_reacting_flows/env_ia/lib/python3.9/site-packages/sklearn/base.py:409: UserWarning: X does not have valid feature names, but StandardScaler was fitted with feature names\n",
      "  warnings.warn(\n",
      "/work/mehlc/2_IA_KINETICS/ai_reacting_flows/env_ia/lib/python3.9/site-packages/sklearn/base.py:409: UserWarning: X does not have valid feature names, but StandardScaler was fitted with feature names\n",
      "  warnings.warn(\n",
      "/work/mehlc/2_IA_KINETICS/ai_reacting_flows/env_ia/lib/python3.9/site-packages/sklearn/base.py:409: UserWarning: X does not have valid feature names, but StandardScaler was fitted with feature names\n",
      "  warnings.warn(\n"
     ]
    },
    {
     "name": "stdout",
     "output_type": "stream",
     "text": [
      "1/1 [==============================] - 0s 17ms/step\n",
      "Current point in cluster: 2 \n",
      "\n",
      "1/1 [==============================] - 0s 17ms/step\n",
      "Current point in cluster: 2 \n",
      "\n",
      "1/1 [==============================] - 0s 18ms/step\n",
      "Current point in cluster: 2 \n",
      "\n",
      "1/1 [==============================] - 0s 17ms/step\n",
      "Current point in cluster: 2 \n",
      "\n",
      "1/1 [==============================] - ETA: 0s"
     ]
    },
    {
     "name": "stderr",
     "output_type": "stream",
     "text": [
      "/work/mehlc/2_IA_KINETICS/ai_reacting_flows/env_ia/lib/python3.9/site-packages/sklearn/base.py:409: UserWarning: X does not have valid feature names, but StandardScaler was fitted with feature names\n",
      "  warnings.warn(\n",
      "/work/mehlc/2_IA_KINETICS/ai_reacting_flows/env_ia/lib/python3.9/site-packages/sklearn/base.py:409: UserWarning: X does not have valid feature names, but StandardScaler was fitted with feature names\n",
      "  warnings.warn(\n",
      "/work/mehlc/2_IA_KINETICS/ai_reacting_flows/env_ia/lib/python3.9/site-packages/sklearn/base.py:409: UserWarning: X does not have valid feature names, but StandardScaler was fitted with feature names\n",
      "  warnings.warn(\n",
      "/work/mehlc/2_IA_KINETICS/ai_reacting_flows/env_ia/lib/python3.9/site-packages/sklearn/base.py:409: UserWarning: X does not have valid feature names, but StandardScaler was fitted with feature names\n",
      "  warnings.warn(\n"
     ]
    },
    {
     "name": "stdout",
     "output_type": "stream",
     "text": [
      "1/1 [==============================] - 0s 18ms/step\n",
      "Current point in cluster: 2 \n",
      "\n",
      "1/1 [==============================] - 0s 17ms/step\n",
      "Current point in cluster: 2 \n",
      "\n",
      "1/1 [==============================] - 0s 17ms/step\n",
      "Current point in cluster: 2 \n",
      "\n",
      "1/1 [==============================] - 0s 18ms/step\n",
      "Current point in cluster: 2 \n",
      "\n"
     ]
    },
    {
     "name": "stderr",
     "output_type": "stream",
     "text": [
      "/work/mehlc/2_IA_KINETICS/ai_reacting_flows/env_ia/lib/python3.9/site-packages/sklearn/base.py:409: UserWarning: X does not have valid feature names, but StandardScaler was fitted with feature names\n",
      "  warnings.warn(\n",
      "/work/mehlc/2_IA_KINETICS/ai_reacting_flows/env_ia/lib/python3.9/site-packages/sklearn/base.py:409: UserWarning: X does not have valid feature names, but StandardScaler was fitted with feature names\n",
      "  warnings.warn(\n",
      "/work/mehlc/2_IA_KINETICS/ai_reacting_flows/env_ia/lib/python3.9/site-packages/sklearn/base.py:409: UserWarning: X does not have valid feature names, but StandardScaler was fitted with feature names\n",
      "  warnings.warn(\n",
      "/work/mehlc/2_IA_KINETICS/ai_reacting_flows/env_ia/lib/python3.9/site-packages/sklearn/base.py:409: UserWarning: X does not have valid feature names, but StandardScaler was fitted with feature names\n",
      "  warnings.warn(\n"
     ]
    },
    {
     "name": "stdout",
     "output_type": "stream",
     "text": [
      "1/1 [==============================] - 0s 18ms/step\n",
      "Current point in cluster: 2 \n",
      "\n",
      "1/1 [==============================] - 0s 18ms/step\n",
      "Current point in cluster: 2 \n",
      "\n",
      "1/1 [==============================] - 0s 17ms/step\n",
      "Current point in cluster: 2 \n",
      "\n",
      "1/1 [==============================] - 0s 17ms/step\n",
      "Current point in cluster: 2 \n",
      "\n"
     ]
    },
    {
     "name": "stderr",
     "output_type": "stream",
     "text": [
      "/work/mehlc/2_IA_KINETICS/ai_reacting_flows/env_ia/lib/python3.9/site-packages/sklearn/base.py:409: UserWarning: X does not have valid feature names, but StandardScaler was fitted with feature names\n",
      "  warnings.warn(\n",
      "/work/mehlc/2_IA_KINETICS/ai_reacting_flows/env_ia/lib/python3.9/site-packages/sklearn/base.py:409: UserWarning: X does not have valid feature names, but StandardScaler was fitted with feature names\n",
      "  warnings.warn(\n",
      "/work/mehlc/2_IA_KINETICS/ai_reacting_flows/env_ia/lib/python3.9/site-packages/sklearn/base.py:409: UserWarning: X does not have valid feature names, but StandardScaler was fitted with feature names\n",
      "  warnings.warn(\n",
      "/work/mehlc/2_IA_KINETICS/ai_reacting_flows/env_ia/lib/python3.9/site-packages/sklearn/base.py:409: UserWarning: X does not have valid feature names, but StandardScaler was fitted with feature names\n",
      "  warnings.warn(\n"
     ]
    },
    {
     "name": "stdout",
     "output_type": "stream",
     "text": [
      "1/1 [==============================] - 0s 18ms/step\n",
      "Current point in cluster: 2 \n",
      "\n",
      "1/1 [==============================] - 0s 17ms/step\n",
      "Current point in cluster: 2 \n",
      "\n",
      "1/1 [==============================] - 0s 17ms/step\n",
      "Current point in cluster: 2 \n",
      "\n",
      "1/1 [==============================] - 0s 17ms/step\n",
      "Current point in cluster: 2 \n",
      "\n"
     ]
    },
    {
     "name": "stderr",
     "output_type": "stream",
     "text": [
      "/work/mehlc/2_IA_KINETICS/ai_reacting_flows/env_ia/lib/python3.9/site-packages/sklearn/base.py:409: UserWarning: X does not have valid feature names, but StandardScaler was fitted with feature names\n",
      "  warnings.warn(\n",
      "/work/mehlc/2_IA_KINETICS/ai_reacting_flows/env_ia/lib/python3.9/site-packages/sklearn/base.py:409: UserWarning: X does not have valid feature names, but StandardScaler was fitted with feature names\n",
      "  warnings.warn(\n",
      "/work/mehlc/2_IA_KINETICS/ai_reacting_flows/env_ia/lib/python3.9/site-packages/sklearn/base.py:409: UserWarning: X does not have valid feature names, but StandardScaler was fitted with feature names\n",
      "  warnings.warn(\n",
      "/work/mehlc/2_IA_KINETICS/ai_reacting_flows/env_ia/lib/python3.9/site-packages/sklearn/base.py:409: UserWarning: X does not have valid feature names, but StandardScaler was fitted with feature names\n",
      "  warnings.warn(\n"
     ]
    },
    {
     "name": "stdout",
     "output_type": "stream",
     "text": [
      "1/1 [==============================] - 0s 17ms/step\n",
      "Current point in cluster: 2 \n",
      "\n",
      "1/1 [==============================] - 0s 24ms/step\n",
      "Current point in cluster: 2 \n",
      "\n",
      "1/1 [==============================] - 0s 18ms/step\n",
      "Current point in cluster: 2 \n",
      "\n",
      "1/1 [==============================] - 0s 18ms/step\n",
      "Current point in cluster: 2 \n",
      "\n"
     ]
    },
    {
     "name": "stderr",
     "output_type": "stream",
     "text": [
      "/work/mehlc/2_IA_KINETICS/ai_reacting_flows/env_ia/lib/python3.9/site-packages/sklearn/base.py:409: UserWarning: X does not have valid feature names, but StandardScaler was fitted with feature names\n",
      "  warnings.warn(\n",
      "/work/mehlc/2_IA_KINETICS/ai_reacting_flows/env_ia/lib/python3.9/site-packages/sklearn/base.py:409: UserWarning: X does not have valid feature names, but StandardScaler was fitted with feature names\n",
      "  warnings.warn(\n",
      "/work/mehlc/2_IA_KINETICS/ai_reacting_flows/env_ia/lib/python3.9/site-packages/sklearn/base.py:409: UserWarning: X does not have valid feature names, but StandardScaler was fitted with feature names\n",
      "  warnings.warn(\n",
      "/work/mehlc/2_IA_KINETICS/ai_reacting_flows/env_ia/lib/python3.9/site-packages/sklearn/base.py:409: UserWarning: X does not have valid feature names, but StandardScaler was fitted with feature names\n",
      "  warnings.warn(\n"
     ]
    },
    {
     "name": "stdout",
     "output_type": "stream",
     "text": [
      "1/1 [==============================] - 0s 17ms/step\n",
      "Current point in cluster: 2 \n",
      "\n",
      "1/1 [==============================] - 0s 18ms/step\n",
      "Current point in cluster: 2 \n",
      "\n",
      "1/1 [==============================] - 0s 18ms/step\n",
      "Current point in cluster: 2 \n",
      "\n",
      "1/1 [==============================] - 0s 18ms/step\n",
      "Current point in cluster: 2 \n",
      "\n"
     ]
    },
    {
     "name": "stderr",
     "output_type": "stream",
     "text": [
      "/work/mehlc/2_IA_KINETICS/ai_reacting_flows/env_ia/lib/python3.9/site-packages/sklearn/base.py:409: UserWarning: X does not have valid feature names, but StandardScaler was fitted with feature names\n",
      "  warnings.warn(\n",
      "/work/mehlc/2_IA_KINETICS/ai_reacting_flows/env_ia/lib/python3.9/site-packages/sklearn/base.py:409: UserWarning: X does not have valid feature names, but StandardScaler was fitted with feature names\n",
      "  warnings.warn(\n",
      "/work/mehlc/2_IA_KINETICS/ai_reacting_flows/env_ia/lib/python3.9/site-packages/sklearn/base.py:409: UserWarning: X does not have valid feature names, but StandardScaler was fitted with feature names\n",
      "  warnings.warn(\n",
      "/work/mehlc/2_IA_KINETICS/ai_reacting_flows/env_ia/lib/python3.9/site-packages/sklearn/base.py:409: UserWarning: X does not have valid feature names, but StandardScaler was fitted with feature names\n",
      "  warnings.warn(\n"
     ]
    },
    {
     "name": "stdout",
     "output_type": "stream",
     "text": [
      "1/1 [==============================] - 0s 18ms/step\n",
      "Current point in cluster: 2 \n",
      "\n",
      "1/1 [==============================] - 0s 17ms/step\n",
      "Current point in cluster: 2 \n",
      "\n",
      "1/1 [==============================] - 0s 17ms/step\n",
      "Current point in cluster: 2 \n",
      "\n",
      "1/1 [==============================] - 0s 18ms/step\n",
      "Current point in cluster: 2 \n",
      "\n"
     ]
    },
    {
     "name": "stderr",
     "output_type": "stream",
     "text": [
      "/work/mehlc/2_IA_KINETICS/ai_reacting_flows/env_ia/lib/python3.9/site-packages/sklearn/base.py:409: UserWarning: X does not have valid feature names, but StandardScaler was fitted with feature names\n",
      "  warnings.warn(\n",
      "/work/mehlc/2_IA_KINETICS/ai_reacting_flows/env_ia/lib/python3.9/site-packages/sklearn/base.py:409: UserWarning: X does not have valid feature names, but StandardScaler was fitted with feature names\n",
      "  warnings.warn(\n",
      "/work/mehlc/2_IA_KINETICS/ai_reacting_flows/env_ia/lib/python3.9/site-packages/sklearn/base.py:409: UserWarning: X does not have valid feature names, but StandardScaler was fitted with feature names\n",
      "  warnings.warn(\n",
      "/work/mehlc/2_IA_KINETICS/ai_reacting_flows/env_ia/lib/python3.9/site-packages/sklearn/base.py:409: UserWarning: X does not have valid feature names, but StandardScaler was fitted with feature names\n",
      "  warnings.warn(\n"
     ]
    },
    {
     "name": "stdout",
     "output_type": "stream",
     "text": [
      "1/1 [==============================] - 0s 18ms/step\n",
      "Current point in cluster: 2 \n",
      "\n",
      "1/1 [==============================] - 0s 18ms/step\n",
      "Current point in cluster: 2 \n",
      "\n",
      "1/1 [==============================] - 0s 18ms/step\n",
      "Current point in cluster: 2 \n",
      "\n",
      "1/1 [==============================] - 0s 18ms/step\n",
      "Current point in cluster: 2 \n",
      "\n"
     ]
    },
    {
     "name": "stderr",
     "output_type": "stream",
     "text": [
      "/work/mehlc/2_IA_KINETICS/ai_reacting_flows/env_ia/lib/python3.9/site-packages/sklearn/base.py:409: UserWarning: X does not have valid feature names, but StandardScaler was fitted with feature names\n",
      "  warnings.warn(\n",
      "/work/mehlc/2_IA_KINETICS/ai_reacting_flows/env_ia/lib/python3.9/site-packages/sklearn/base.py:409: UserWarning: X does not have valid feature names, but StandardScaler was fitted with feature names\n",
      "  warnings.warn(\n",
      "/work/mehlc/2_IA_KINETICS/ai_reacting_flows/env_ia/lib/python3.9/site-packages/sklearn/base.py:409: UserWarning: X does not have valid feature names, but StandardScaler was fitted with feature names\n",
      "  warnings.warn(\n",
      "/work/mehlc/2_IA_KINETICS/ai_reacting_flows/env_ia/lib/python3.9/site-packages/sklearn/base.py:409: UserWarning: X does not have valid feature names, but StandardScaler was fitted with feature names\n",
      "  warnings.warn(\n"
     ]
    },
    {
     "name": "stdout",
     "output_type": "stream",
     "text": [
      "1/1 [==============================] - 0s 17ms/step\n",
      "Current point in cluster: 2 \n",
      "\n",
      "1/1 [==============================] - 0s 18ms/step\n",
      "Current point in cluster: 2 \n",
      "\n",
      "1/1 [==============================] - 0s 17ms/step\n",
      "Current point in cluster: 2 \n",
      "\n",
      "1/1 [==============================] - 0s 18ms/step\n",
      "Current point in cluster: 2 \n",
      "\n"
     ]
    },
    {
     "name": "stderr",
     "output_type": "stream",
     "text": [
      "/work/mehlc/2_IA_KINETICS/ai_reacting_flows/env_ia/lib/python3.9/site-packages/sklearn/base.py:409: UserWarning: X does not have valid feature names, but StandardScaler was fitted with feature names\n",
      "  warnings.warn(\n",
      "/work/mehlc/2_IA_KINETICS/ai_reacting_flows/env_ia/lib/python3.9/site-packages/sklearn/base.py:409: UserWarning: X does not have valid feature names, but StandardScaler was fitted with feature names\n",
      "  warnings.warn(\n",
      "/work/mehlc/2_IA_KINETICS/ai_reacting_flows/env_ia/lib/python3.9/site-packages/sklearn/base.py:409: UserWarning: X does not have valid feature names, but StandardScaler was fitted with feature names\n",
      "  warnings.warn(\n",
      "/work/mehlc/2_IA_KINETICS/ai_reacting_flows/env_ia/lib/python3.9/site-packages/sklearn/base.py:409: UserWarning: X does not have valid feature names, but StandardScaler was fitted with feature names\n",
      "  warnings.warn(\n"
     ]
    },
    {
     "name": "stdout",
     "output_type": "stream",
     "text": [
      "1/1 [==============================] - 0s 18ms/step\n",
      "Current point in cluster: 2 \n",
      "\n",
      "1/1 [==============================] - 0s 17ms/step\n",
      "Current point in cluster: 2 \n",
      "\n",
      "1/1 [==============================] - 0s 18ms/step\n",
      "Current point in cluster: 2 \n",
      "\n",
      "1/1 [==============================] - 0s 17ms/step\n",
      "Current point in cluster: 2 \n",
      "\n"
     ]
    },
    {
     "name": "stderr",
     "output_type": "stream",
     "text": [
      "/work/mehlc/2_IA_KINETICS/ai_reacting_flows/env_ia/lib/python3.9/site-packages/sklearn/base.py:409: UserWarning: X does not have valid feature names, but StandardScaler was fitted with feature names\n",
      "  warnings.warn(\n",
      "/work/mehlc/2_IA_KINETICS/ai_reacting_flows/env_ia/lib/python3.9/site-packages/sklearn/base.py:409: UserWarning: X does not have valid feature names, but StandardScaler was fitted with feature names\n",
      "  warnings.warn(\n",
      "/work/mehlc/2_IA_KINETICS/ai_reacting_flows/env_ia/lib/python3.9/site-packages/sklearn/base.py:409: UserWarning: X does not have valid feature names, but StandardScaler was fitted with feature names\n",
      "  warnings.warn(\n",
      "/work/mehlc/2_IA_KINETICS/ai_reacting_flows/env_ia/lib/python3.9/site-packages/sklearn/base.py:409: UserWarning: X does not have valid feature names, but StandardScaler was fitted with feature names\n",
      "  warnings.warn(\n"
     ]
    },
    {
     "name": "stdout",
     "output_type": "stream",
     "text": [
      "1/1 [==============================] - 0s 18ms/step\n",
      "Current point in cluster: 2 \n",
      "\n",
      "1/1 [==============================] - 0s 17ms/step\n",
      "Current point in cluster: 2 \n",
      "\n",
      "1/1 [==============================] - 0s 18ms/step\n",
      "Current point in cluster: 2 \n",
      "\n",
      "1/1 [==============================] - 0s 17ms/step\n",
      "Current point in cluster: 2 \n",
      "\n"
     ]
    },
    {
     "name": "stderr",
     "output_type": "stream",
     "text": [
      "/work/mehlc/2_IA_KINETICS/ai_reacting_flows/env_ia/lib/python3.9/site-packages/sklearn/base.py:409: UserWarning: X does not have valid feature names, but StandardScaler was fitted with feature names\n",
      "  warnings.warn(\n",
      "/work/mehlc/2_IA_KINETICS/ai_reacting_flows/env_ia/lib/python3.9/site-packages/sklearn/base.py:409: UserWarning: X does not have valid feature names, but StandardScaler was fitted with feature names\n",
      "  warnings.warn(\n",
      "/work/mehlc/2_IA_KINETICS/ai_reacting_flows/env_ia/lib/python3.9/site-packages/sklearn/base.py:409: UserWarning: X does not have valid feature names, but StandardScaler was fitted with feature names\n",
      "  warnings.warn(\n",
      "/work/mehlc/2_IA_KINETICS/ai_reacting_flows/env_ia/lib/python3.9/site-packages/sklearn/base.py:409: UserWarning: X does not have valid feature names, but StandardScaler was fitted with feature names\n",
      "  warnings.warn(\n"
     ]
    },
    {
     "name": "stdout",
     "output_type": "stream",
     "text": [
      "1/1 [==============================] - 0s 18ms/step\n",
      "Current point in cluster: 2 \n",
      "\n",
      "1/1 [==============================] - 0s 19ms/step\n",
      "Current point in cluster: 2 \n",
      "\n",
      "1/1 [==============================] - 0s 18ms/step\n",
      "Current point in cluster: 2 \n",
      "\n",
      "1/1 [==============================] - 0s 18ms/step\n",
      "Current point in cluster: 2 \n",
      "\n"
     ]
    },
    {
     "name": "stderr",
     "output_type": "stream",
     "text": [
      "/work/mehlc/2_IA_KINETICS/ai_reacting_flows/env_ia/lib/python3.9/site-packages/sklearn/base.py:409: UserWarning: X does not have valid feature names, but StandardScaler was fitted with feature names\n",
      "  warnings.warn(\n",
      "/work/mehlc/2_IA_KINETICS/ai_reacting_flows/env_ia/lib/python3.9/site-packages/sklearn/base.py:409: UserWarning: X does not have valid feature names, but StandardScaler was fitted with feature names\n",
      "  warnings.warn(\n",
      "/work/mehlc/2_IA_KINETICS/ai_reacting_flows/env_ia/lib/python3.9/site-packages/sklearn/base.py:409: UserWarning: X does not have valid feature names, but StandardScaler was fitted with feature names\n",
      "  warnings.warn(\n",
      "/work/mehlc/2_IA_KINETICS/ai_reacting_flows/env_ia/lib/python3.9/site-packages/sklearn/base.py:409: UserWarning: X does not have valid feature names, but StandardScaler was fitted with feature names\n",
      "  warnings.warn(\n"
     ]
    },
    {
     "name": "stdout",
     "output_type": "stream",
     "text": [
      "1/1 [==============================] - 0s 18ms/step\n",
      "Current point in cluster: 2 \n",
      "\n",
      "1/1 [==============================] - 0s 17ms/step\n",
      "Current point in cluster: 2 \n",
      "\n",
      "1/1 [==============================] - 0s 18ms/step\n",
      "Current point in cluster: 2 \n",
      "\n",
      "1/1 [==============================] - 0s 19ms/step\n",
      "Current point in cluster: 2 \n",
      "\n"
     ]
    },
    {
     "name": "stderr",
     "output_type": "stream",
     "text": [
      "/work/mehlc/2_IA_KINETICS/ai_reacting_flows/env_ia/lib/python3.9/site-packages/sklearn/base.py:409: UserWarning: X does not have valid feature names, but StandardScaler was fitted with feature names\n",
      "  warnings.warn(\n",
      "/work/mehlc/2_IA_KINETICS/ai_reacting_flows/env_ia/lib/python3.9/site-packages/sklearn/base.py:409: UserWarning: X does not have valid feature names, but StandardScaler was fitted with feature names\n",
      "  warnings.warn(\n",
      "/work/mehlc/2_IA_KINETICS/ai_reacting_flows/env_ia/lib/python3.9/site-packages/sklearn/base.py:409: UserWarning: X does not have valid feature names, but StandardScaler was fitted with feature names\n",
      "  warnings.warn(\n",
      "/work/mehlc/2_IA_KINETICS/ai_reacting_flows/env_ia/lib/python3.9/site-packages/sklearn/base.py:409: UserWarning: X does not have valid feature names, but StandardScaler was fitted with feature names\n",
      "  warnings.warn(\n"
     ]
    },
    {
     "name": "stdout",
     "output_type": "stream",
     "text": [
      "1/1 [==============================] - 0s 17ms/step\n",
      "Current point in cluster: 2 \n",
      "\n",
      "1/1 [==============================] - 0s 17ms/step\n",
      "Current point in cluster: 2 \n",
      "\n",
      "1/1 [==============================] - 0s 18ms/step\n",
      "Current point in cluster: 2 \n",
      "\n",
      "1/1 [==============================] - 0s 18ms/step\n",
      "Current point in cluster: 2 \n",
      "\n"
     ]
    },
    {
     "name": "stderr",
     "output_type": "stream",
     "text": [
      "/work/mehlc/2_IA_KINETICS/ai_reacting_flows/env_ia/lib/python3.9/site-packages/sklearn/base.py:409: UserWarning: X does not have valid feature names, but StandardScaler was fitted with feature names\n",
      "  warnings.warn(\n",
      "/work/mehlc/2_IA_KINETICS/ai_reacting_flows/env_ia/lib/python3.9/site-packages/sklearn/base.py:409: UserWarning: X does not have valid feature names, but StandardScaler was fitted with feature names\n",
      "  warnings.warn(\n",
      "/work/mehlc/2_IA_KINETICS/ai_reacting_flows/env_ia/lib/python3.9/site-packages/sklearn/base.py:409: UserWarning: X does not have valid feature names, but StandardScaler was fitted with feature names\n",
      "  warnings.warn(\n",
      "/work/mehlc/2_IA_KINETICS/ai_reacting_flows/env_ia/lib/python3.9/site-packages/sklearn/base.py:409: UserWarning: X does not have valid feature names, but StandardScaler was fitted with feature names\n",
      "  warnings.warn(\n"
     ]
    },
    {
     "name": "stdout",
     "output_type": "stream",
     "text": [
      "1/1 [==============================] - 0s 17ms/step\n",
      "Current point in cluster: 2 \n",
      "\n",
      "1/1 [==============================] - 0s 18ms/step\n",
      "Current point in cluster: 2 \n",
      "\n",
      "1/1 [==============================] - 0s 17ms/step\n",
      "Current point in cluster: 2 \n",
      "\n",
      "1/1 [==============================] - 0s 18ms/step\n",
      "Current point in cluster: 2 \n",
      "\n"
     ]
    },
    {
     "name": "stderr",
     "output_type": "stream",
     "text": [
      "/work/mehlc/2_IA_KINETICS/ai_reacting_flows/env_ia/lib/python3.9/site-packages/sklearn/base.py:409: UserWarning: X does not have valid feature names, but StandardScaler was fitted with feature names\n",
      "  warnings.warn(\n",
      "/work/mehlc/2_IA_KINETICS/ai_reacting_flows/env_ia/lib/python3.9/site-packages/sklearn/base.py:409: UserWarning: X does not have valid feature names, but StandardScaler was fitted with feature names\n",
      "  warnings.warn(\n",
      "/work/mehlc/2_IA_KINETICS/ai_reacting_flows/env_ia/lib/python3.9/site-packages/sklearn/base.py:409: UserWarning: X does not have valid feature names, but StandardScaler was fitted with feature names\n",
      "  warnings.warn(\n",
      "/work/mehlc/2_IA_KINETICS/ai_reacting_flows/env_ia/lib/python3.9/site-packages/sklearn/base.py:409: UserWarning: X does not have valid feature names, but StandardScaler was fitted with feature names\n",
      "  warnings.warn(\n"
     ]
    },
    {
     "name": "stdout",
     "output_type": "stream",
     "text": [
      "1/1 [==============================] - 0s 17ms/step\n",
      "Current point in cluster: 2 \n",
      "\n",
      "1/1 [==============================] - 0s 17ms/step\n",
      "Current point in cluster: 2 \n",
      "\n",
      "1/1 [==============================] - 0s 17ms/step\n",
      "Current point in cluster: 2 \n",
      "\n",
      "1/1 [==============================] - 0s 17ms/step\n",
      "Current point in cluster: 2 \n",
      "\n"
     ]
    },
    {
     "name": "stderr",
     "output_type": "stream",
     "text": [
      "/work/mehlc/2_IA_KINETICS/ai_reacting_flows/env_ia/lib/python3.9/site-packages/sklearn/base.py:409: UserWarning: X does not have valid feature names, but StandardScaler was fitted with feature names\n",
      "  warnings.warn(\n",
      "/work/mehlc/2_IA_KINETICS/ai_reacting_flows/env_ia/lib/python3.9/site-packages/sklearn/base.py:409: UserWarning: X does not have valid feature names, but StandardScaler was fitted with feature names\n",
      "  warnings.warn(\n",
      "/work/mehlc/2_IA_KINETICS/ai_reacting_flows/env_ia/lib/python3.9/site-packages/sklearn/base.py:409: UserWarning: X does not have valid feature names, but StandardScaler was fitted with feature names\n",
      "  warnings.warn(\n",
      "/work/mehlc/2_IA_KINETICS/ai_reacting_flows/env_ia/lib/python3.9/site-packages/sklearn/base.py:409: UserWarning: X does not have valid feature names, but StandardScaler was fitted with feature names\n",
      "  warnings.warn(\n"
     ]
    },
    {
     "name": "stdout",
     "output_type": "stream",
     "text": [
      "1/1 [==============================] - 0s 19ms/step\n",
      "Current point in cluster: 2 \n",
      "\n",
      "1/1 [==============================] - 0s 18ms/step\n",
      "Current point in cluster: 2 \n",
      "\n",
      "1/1 [==============================] - 0s 19ms/step\n",
      "Current point in cluster: 2 \n",
      "\n",
      "1/1 [==============================] - 0s 17ms/step\n",
      "Current point in cluster: 2 \n",
      "\n"
     ]
    },
    {
     "name": "stderr",
     "output_type": "stream",
     "text": [
      "/work/mehlc/2_IA_KINETICS/ai_reacting_flows/env_ia/lib/python3.9/site-packages/sklearn/base.py:409: UserWarning: X does not have valid feature names, but StandardScaler was fitted with feature names\n",
      "  warnings.warn(\n",
      "/work/mehlc/2_IA_KINETICS/ai_reacting_flows/env_ia/lib/python3.9/site-packages/sklearn/base.py:409: UserWarning: X does not have valid feature names, but StandardScaler was fitted with feature names\n",
      "  warnings.warn(\n",
      "/work/mehlc/2_IA_KINETICS/ai_reacting_flows/env_ia/lib/python3.9/site-packages/sklearn/base.py:409: UserWarning: X does not have valid feature names, but StandardScaler was fitted with feature names\n",
      "  warnings.warn(\n",
      "/work/mehlc/2_IA_KINETICS/ai_reacting_flows/env_ia/lib/python3.9/site-packages/sklearn/base.py:409: UserWarning: X does not have valid feature names, but StandardScaler was fitted with feature names\n",
      "  warnings.warn(\n"
     ]
    },
    {
     "name": "stdout",
     "output_type": "stream",
     "text": [
      "1/1 [==============================] - 0s 17ms/step\n",
      "Current point in cluster: 2 \n",
      "\n",
      "1/1 [==============================] - 0s 18ms/step\n",
      "Current point in cluster: 2 \n",
      "\n",
      "1/1 [==============================] - 0s 18ms/step\n",
      "Current point in cluster: 2 \n",
      "\n",
      "1/1 [==============================] - 0s 18ms/step\n",
      "Current point in cluster: 2 \n",
      "\n"
     ]
    },
    {
     "name": "stderr",
     "output_type": "stream",
     "text": [
      "/work/mehlc/2_IA_KINETICS/ai_reacting_flows/env_ia/lib/python3.9/site-packages/sklearn/base.py:409: UserWarning: X does not have valid feature names, but StandardScaler was fitted with feature names\n",
      "  warnings.warn(\n",
      "/work/mehlc/2_IA_KINETICS/ai_reacting_flows/env_ia/lib/python3.9/site-packages/sklearn/base.py:409: UserWarning: X does not have valid feature names, but StandardScaler was fitted with feature names\n",
      "  warnings.warn(\n",
      "/work/mehlc/2_IA_KINETICS/ai_reacting_flows/env_ia/lib/python3.9/site-packages/sklearn/base.py:409: UserWarning: X does not have valid feature names, but StandardScaler was fitted with feature names\n",
      "  warnings.warn(\n",
      "/work/mehlc/2_IA_KINETICS/ai_reacting_flows/env_ia/lib/python3.9/site-packages/sklearn/base.py:409: UserWarning: X does not have valid feature names, but StandardScaler was fitted with feature names\n",
      "  warnings.warn(\n"
     ]
    },
    {
     "name": "stdout",
     "output_type": "stream",
     "text": [
      "1/1 [==============================] - 0s 19ms/step\n",
      "Current point in cluster: 2 \n",
      "\n",
      "1/1 [==============================] - 0s 19ms/step\n",
      "Current point in cluster: 2 \n",
      "\n",
      "1/1 [==============================] - 0s 18ms/step\n",
      "Current point in cluster: 2 \n",
      "\n",
      "1/1 [==============================] - 0s 18ms/step\n",
      "Current point in cluster: 2 \n",
      "\n"
     ]
    },
    {
     "name": "stderr",
     "output_type": "stream",
     "text": [
      "/work/mehlc/2_IA_KINETICS/ai_reacting_flows/env_ia/lib/python3.9/site-packages/sklearn/base.py:409: UserWarning: X does not have valid feature names, but StandardScaler was fitted with feature names\n",
      "  warnings.warn(\n",
      "/work/mehlc/2_IA_KINETICS/ai_reacting_flows/env_ia/lib/python3.9/site-packages/sklearn/base.py:409: UserWarning: X does not have valid feature names, but StandardScaler was fitted with feature names\n",
      "  warnings.warn(\n",
      "/work/mehlc/2_IA_KINETICS/ai_reacting_flows/env_ia/lib/python3.9/site-packages/sklearn/base.py:409: UserWarning: X does not have valid feature names, but StandardScaler was fitted with feature names\n",
      "  warnings.warn(\n",
      "/work/mehlc/2_IA_KINETICS/ai_reacting_flows/env_ia/lib/python3.9/site-packages/sklearn/base.py:409: UserWarning: X does not have valid feature names, but StandardScaler was fitted with feature names\n",
      "  warnings.warn(\n"
     ]
    },
    {
     "name": "stdout",
     "output_type": "stream",
     "text": [
      "1/1 [==============================] - 0s 18ms/step\n",
      "Current point in cluster: 2 \n",
      "\n",
      "1/1 [==============================] - 0s 17ms/step\n",
      "Current point in cluster: 2 \n",
      "\n",
      "1/1 [==============================] - 0s 18ms/step\n",
      "Current point in cluster: 2 \n",
      "\n",
      "1/1 [==============================] - 0s 18ms/step\n",
      "Current point in cluster: 2 \n",
      "\n"
     ]
    },
    {
     "name": "stderr",
     "output_type": "stream",
     "text": [
      "/work/mehlc/2_IA_KINETICS/ai_reacting_flows/env_ia/lib/python3.9/site-packages/sklearn/base.py:409: UserWarning: X does not have valid feature names, but StandardScaler was fitted with feature names\n",
      "  warnings.warn(\n",
      "/work/mehlc/2_IA_KINETICS/ai_reacting_flows/env_ia/lib/python3.9/site-packages/sklearn/base.py:409: UserWarning: X does not have valid feature names, but StandardScaler was fitted with feature names\n",
      "  warnings.warn(\n",
      "/work/mehlc/2_IA_KINETICS/ai_reacting_flows/env_ia/lib/python3.9/site-packages/sklearn/base.py:409: UserWarning: X does not have valid feature names, but StandardScaler was fitted with feature names\n",
      "  warnings.warn(\n",
      "/work/mehlc/2_IA_KINETICS/ai_reacting_flows/env_ia/lib/python3.9/site-packages/sklearn/base.py:409: UserWarning: X does not have valid feature names, but StandardScaler was fitted with feature names\n",
      "  warnings.warn(\n"
     ]
    },
    {
     "name": "stdout",
     "output_type": "stream",
     "text": [
      "1/1 [==============================] - 0s 18ms/step\n",
      "Current point in cluster: 2 \n",
      "\n",
      "1/1 [==============================] - 0s 18ms/step\n",
      "Current point in cluster: 2 \n",
      "\n",
      "1/1 [==============================] - 0s 18ms/step\n",
      "Current point in cluster: 2 \n",
      "\n",
      "1/1 [==============================] - 0s 19ms/step\n",
      "Current point in cluster: 2 \n",
      "\n"
     ]
    },
    {
     "name": "stderr",
     "output_type": "stream",
     "text": [
      "/work/mehlc/2_IA_KINETICS/ai_reacting_flows/env_ia/lib/python3.9/site-packages/sklearn/base.py:409: UserWarning: X does not have valid feature names, but StandardScaler was fitted with feature names\n",
      "  warnings.warn(\n",
      "/work/mehlc/2_IA_KINETICS/ai_reacting_flows/env_ia/lib/python3.9/site-packages/sklearn/base.py:409: UserWarning: X does not have valid feature names, but StandardScaler was fitted with feature names\n",
      "  warnings.warn(\n",
      "/work/mehlc/2_IA_KINETICS/ai_reacting_flows/env_ia/lib/python3.9/site-packages/sklearn/base.py:409: UserWarning: X does not have valid feature names, but StandardScaler was fitted with feature names\n",
      "  warnings.warn(\n",
      "/work/mehlc/2_IA_KINETICS/ai_reacting_flows/env_ia/lib/python3.9/site-packages/sklearn/base.py:409: UserWarning: X does not have valid feature names, but StandardScaler was fitted with feature names\n",
      "  warnings.warn(\n"
     ]
    },
    {
     "name": "stdout",
     "output_type": "stream",
     "text": [
      "1/1 [==============================] - 0s 18ms/step\n",
      "Current point in cluster: 2 \n",
      "\n",
      "1/1 [==============================] - 0s 18ms/step\n",
      "Current point in cluster: 2 \n",
      "\n",
      "1/1 [==============================] - 0s 19ms/step\n",
      "Current point in cluster: 2 \n",
      "\n",
      "1/1 [==============================] - 0s 18ms/step\n",
      "Current point in cluster: 2 \n",
      "\n"
     ]
    },
    {
     "name": "stderr",
     "output_type": "stream",
     "text": [
      "/work/mehlc/2_IA_KINETICS/ai_reacting_flows/env_ia/lib/python3.9/site-packages/sklearn/base.py:409: UserWarning: X does not have valid feature names, but StandardScaler was fitted with feature names\n",
      "  warnings.warn(\n",
      "/work/mehlc/2_IA_KINETICS/ai_reacting_flows/env_ia/lib/python3.9/site-packages/sklearn/base.py:409: UserWarning: X does not have valid feature names, but StandardScaler was fitted with feature names\n",
      "  warnings.warn(\n",
      "/work/mehlc/2_IA_KINETICS/ai_reacting_flows/env_ia/lib/python3.9/site-packages/sklearn/base.py:409: UserWarning: X does not have valid feature names, but StandardScaler was fitted with feature names\n",
      "  warnings.warn(\n",
      "/work/mehlc/2_IA_KINETICS/ai_reacting_flows/env_ia/lib/python3.9/site-packages/sklearn/base.py:409: UserWarning: X does not have valid feature names, but StandardScaler was fitted with feature names\n",
      "  warnings.warn(\n"
     ]
    },
    {
     "name": "stdout",
     "output_type": "stream",
     "text": [
      "1/1 [==============================] - 0s 17ms/step\n",
      "Current point in cluster: 2 \n",
      "\n",
      "1/1 [==============================] - 0s 17ms/step\n",
      "Current point in cluster: 2 \n",
      "\n",
      "1/1 [==============================] - 0s 17ms/step\n",
      "Current point in cluster: 2 \n",
      "\n",
      "1/1 [==============================] - 0s 18ms/step\n",
      "Current point in cluster: 2 \n",
      "\n"
     ]
    },
    {
     "name": "stderr",
     "output_type": "stream",
     "text": [
      "/work/mehlc/2_IA_KINETICS/ai_reacting_flows/env_ia/lib/python3.9/site-packages/sklearn/base.py:409: UserWarning: X does not have valid feature names, but StandardScaler was fitted with feature names\n",
      "  warnings.warn(\n",
      "/work/mehlc/2_IA_KINETICS/ai_reacting_flows/env_ia/lib/python3.9/site-packages/sklearn/base.py:409: UserWarning: X does not have valid feature names, but StandardScaler was fitted with feature names\n",
      "  warnings.warn(\n",
      "/work/mehlc/2_IA_KINETICS/ai_reacting_flows/env_ia/lib/python3.9/site-packages/sklearn/base.py:409: UserWarning: X does not have valid feature names, but StandardScaler was fitted with feature names\n",
      "  warnings.warn(\n",
      "/work/mehlc/2_IA_KINETICS/ai_reacting_flows/env_ia/lib/python3.9/site-packages/sklearn/base.py:409: UserWarning: X does not have valid feature names, but StandardScaler was fitted with feature names\n",
      "  warnings.warn(\n"
     ]
    },
    {
     "name": "stdout",
     "output_type": "stream",
     "text": [
      "1/1 [==============================] - 0s 17ms/step\n",
      "Current point in cluster: 2 \n",
      "\n",
      "1/1 [==============================] - 0s 19ms/step\n",
      "Current point in cluster: 2 \n",
      "\n",
      "1/1 [==============================] - 0s 17ms/step\n",
      "Current point in cluster: 2 \n",
      "\n",
      "1/1 [==============================] - 0s 17ms/step\n",
      "Current point in cluster: 2 \n",
      "\n"
     ]
    },
    {
     "name": "stderr",
     "output_type": "stream",
     "text": [
      "/work/mehlc/2_IA_KINETICS/ai_reacting_flows/env_ia/lib/python3.9/site-packages/sklearn/base.py:409: UserWarning: X does not have valid feature names, but StandardScaler was fitted with feature names\n",
      "  warnings.warn(\n",
      "/work/mehlc/2_IA_KINETICS/ai_reacting_flows/env_ia/lib/python3.9/site-packages/sklearn/base.py:409: UserWarning: X does not have valid feature names, but StandardScaler was fitted with feature names\n",
      "  warnings.warn(\n",
      "/work/mehlc/2_IA_KINETICS/ai_reacting_flows/env_ia/lib/python3.9/site-packages/sklearn/base.py:409: UserWarning: X does not have valid feature names, but StandardScaler was fitted with feature names\n",
      "  warnings.warn(\n",
      "/work/mehlc/2_IA_KINETICS/ai_reacting_flows/env_ia/lib/python3.9/site-packages/sklearn/base.py:409: UserWarning: X does not have valid feature names, but StandardScaler was fitted with feature names\n",
      "  warnings.warn(\n"
     ]
    },
    {
     "name": "stdout",
     "output_type": "stream",
     "text": [
      "1/1 [==============================] - 0s 18ms/step\n",
      "Current point in cluster: 2 \n",
      "\n",
      "1/1 [==============================] - 0s 18ms/step\n",
      "Current point in cluster: 2 \n",
      "\n",
      "1/1 [==============================] - 0s 18ms/step\n",
      "Current point in cluster: 2 \n",
      "\n",
      "1/1 [==============================] - 0s 18ms/step\n",
      "Current point in cluster: 2 \n",
      "\n"
     ]
    },
    {
     "name": "stderr",
     "output_type": "stream",
     "text": [
      "/work/mehlc/2_IA_KINETICS/ai_reacting_flows/env_ia/lib/python3.9/site-packages/sklearn/base.py:409: UserWarning: X does not have valid feature names, but StandardScaler was fitted with feature names\n",
      "  warnings.warn(\n",
      "/work/mehlc/2_IA_KINETICS/ai_reacting_flows/env_ia/lib/python3.9/site-packages/sklearn/base.py:409: UserWarning: X does not have valid feature names, but StandardScaler was fitted with feature names\n",
      "  warnings.warn(\n",
      "/work/mehlc/2_IA_KINETICS/ai_reacting_flows/env_ia/lib/python3.9/site-packages/sklearn/base.py:409: UserWarning: X does not have valid feature names, but StandardScaler was fitted with feature names\n",
      "  warnings.warn(\n",
      "/work/mehlc/2_IA_KINETICS/ai_reacting_flows/env_ia/lib/python3.9/site-packages/sklearn/base.py:409: UserWarning: X does not have valid feature names, but StandardScaler was fitted with feature names\n",
      "  warnings.warn(\n"
     ]
    },
    {
     "name": "stdout",
     "output_type": "stream",
     "text": [
      "1/1 [==============================] - 0s 18ms/step\n",
      "Current point in cluster: 2 \n",
      "\n",
      "1/1 [==============================] - 0s 19ms/step\n",
      "Current point in cluster: 2 \n",
      "\n",
      "1/1 [==============================] - 0s 19ms/step\n",
      "Current point in cluster: 2 \n",
      "\n",
      "1/1 [==============================] - 0s 17ms/step\n",
      "Current point in cluster: 2 \n",
      "\n"
     ]
    },
    {
     "name": "stderr",
     "output_type": "stream",
     "text": [
      "/work/mehlc/2_IA_KINETICS/ai_reacting_flows/env_ia/lib/python3.9/site-packages/sklearn/base.py:409: UserWarning: X does not have valid feature names, but StandardScaler was fitted with feature names\n",
      "  warnings.warn(\n",
      "/work/mehlc/2_IA_KINETICS/ai_reacting_flows/env_ia/lib/python3.9/site-packages/sklearn/base.py:409: UserWarning: X does not have valid feature names, but StandardScaler was fitted with feature names\n",
      "  warnings.warn(\n",
      "/work/mehlc/2_IA_KINETICS/ai_reacting_flows/env_ia/lib/python3.9/site-packages/sklearn/base.py:409: UserWarning: X does not have valid feature names, but StandardScaler was fitted with feature names\n",
      "  warnings.warn(\n",
      "/work/mehlc/2_IA_KINETICS/ai_reacting_flows/env_ia/lib/python3.9/site-packages/sklearn/base.py:409: UserWarning: X does not have valid feature names, but StandardScaler was fitted with feature names\n",
      "  warnings.warn(\n"
     ]
    },
    {
     "name": "stdout",
     "output_type": "stream",
     "text": [
      "1/1 [==============================] - 0s 18ms/step\n",
      "Current point in cluster: 2 \n",
      "\n",
      "1/1 [==============================] - 0s 17ms/step\n",
      "Current point in cluster: 2 \n",
      "\n",
      "1/1 [==============================] - 0s 18ms/step\n",
      "Current point in cluster: 2 \n",
      "\n",
      "1/1 [==============================] - 0s 17ms/step\n",
      "Current point in cluster: 2 \n",
      "\n",
      "1/1 [==============================] - ETA: 0s"
     ]
    },
    {
     "name": "stderr",
     "output_type": "stream",
     "text": [
      "/work/mehlc/2_IA_KINETICS/ai_reacting_flows/env_ia/lib/python3.9/site-packages/sklearn/base.py:409: UserWarning: X does not have valid feature names, but StandardScaler was fitted with feature names\n",
      "  warnings.warn(\n",
      "/work/mehlc/2_IA_KINETICS/ai_reacting_flows/env_ia/lib/python3.9/site-packages/sklearn/base.py:409: UserWarning: X does not have valid feature names, but StandardScaler was fitted with feature names\n",
      "  warnings.warn(\n",
      "/work/mehlc/2_IA_KINETICS/ai_reacting_flows/env_ia/lib/python3.9/site-packages/sklearn/base.py:409: UserWarning: X does not have valid feature names, but StandardScaler was fitted with feature names\n",
      "  warnings.warn(\n",
      "/work/mehlc/2_IA_KINETICS/ai_reacting_flows/env_ia/lib/python3.9/site-packages/sklearn/base.py:409: UserWarning: X does not have valid feature names, but StandardScaler was fitted with feature names\n",
      "  warnings.warn(\n"
     ]
    },
    {
     "name": "stdout",
     "output_type": "stream",
     "text": [
      "1/1 [==============================] - 0s 18ms/step\n",
      "Current point in cluster: 2 \n",
      "\n",
      "1/1 [==============================] - 0s 18ms/step\n",
      "Current point in cluster: 2 \n",
      "\n",
      "1/1 [==============================] - 0s 19ms/step\n",
      "Current point in cluster: 2 \n",
      "\n",
      "1/1 [==============================] - 0s 17ms/step\n",
      "Current point in cluster: 2 \n",
      "\n"
     ]
    },
    {
     "name": "stderr",
     "output_type": "stream",
     "text": [
      "/work/mehlc/2_IA_KINETICS/ai_reacting_flows/env_ia/lib/python3.9/site-packages/sklearn/base.py:409: UserWarning: X does not have valid feature names, but StandardScaler was fitted with feature names\n",
      "  warnings.warn(\n",
      "/work/mehlc/2_IA_KINETICS/ai_reacting_flows/env_ia/lib/python3.9/site-packages/sklearn/base.py:409: UserWarning: X does not have valid feature names, but StandardScaler was fitted with feature names\n",
      "  warnings.warn(\n",
      "/work/mehlc/2_IA_KINETICS/ai_reacting_flows/env_ia/lib/python3.9/site-packages/sklearn/base.py:409: UserWarning: X does not have valid feature names, but StandardScaler was fitted with feature names\n",
      "  warnings.warn(\n",
      "/work/mehlc/2_IA_KINETICS/ai_reacting_flows/env_ia/lib/python3.9/site-packages/sklearn/base.py:409: UserWarning: X does not have valid feature names, but StandardScaler was fitted with feature names\n",
      "  warnings.warn(\n"
     ]
    },
    {
     "name": "stdout",
     "output_type": "stream",
     "text": [
      "1/1 [==============================] - 0s 18ms/step\n",
      "Current point in cluster: 2 \n",
      "\n",
      "1/1 [==============================] - 0s 18ms/step\n",
      "Current point in cluster: 2 \n",
      "\n",
      "1/1 [==============================] - 0s 18ms/step\n",
      "Current point in cluster: 2 \n",
      "\n",
      "1/1 [==============================] - 0s 17ms/step\n",
      "Current point in cluster: 2 \n",
      "\n"
     ]
    },
    {
     "name": "stderr",
     "output_type": "stream",
     "text": [
      "/work/mehlc/2_IA_KINETICS/ai_reacting_flows/env_ia/lib/python3.9/site-packages/sklearn/base.py:409: UserWarning: X does not have valid feature names, but StandardScaler was fitted with feature names\n",
      "  warnings.warn(\n",
      "/work/mehlc/2_IA_KINETICS/ai_reacting_flows/env_ia/lib/python3.9/site-packages/sklearn/base.py:409: UserWarning: X does not have valid feature names, but StandardScaler was fitted with feature names\n",
      "  warnings.warn(\n",
      "/work/mehlc/2_IA_KINETICS/ai_reacting_flows/env_ia/lib/python3.9/site-packages/sklearn/base.py:409: UserWarning: X does not have valid feature names, but StandardScaler was fitted with feature names\n",
      "  warnings.warn(\n",
      "/work/mehlc/2_IA_KINETICS/ai_reacting_flows/env_ia/lib/python3.9/site-packages/sklearn/base.py:409: UserWarning: X does not have valid feature names, but StandardScaler was fitted with feature names\n",
      "  warnings.warn(\n"
     ]
    },
    {
     "name": "stdout",
     "output_type": "stream",
     "text": [
      "1/1 [==============================] - 0s 17ms/step\n",
      "Current point in cluster: 2 \n",
      "\n",
      "1/1 [==============================] - 0s 18ms/step\n",
      "Current point in cluster: 2 \n",
      "\n",
      "1/1 [==============================] - 0s 17ms/step\n",
      "Current point in cluster: 2 \n",
      "\n",
      "1/1 [==============================] - 0s 18ms/step\n",
      "Current point in cluster: 2 \n",
      "\n"
     ]
    },
    {
     "name": "stderr",
     "output_type": "stream",
     "text": [
      "/work/mehlc/2_IA_KINETICS/ai_reacting_flows/env_ia/lib/python3.9/site-packages/sklearn/base.py:409: UserWarning: X does not have valid feature names, but StandardScaler was fitted with feature names\n",
      "  warnings.warn(\n",
      "/work/mehlc/2_IA_KINETICS/ai_reacting_flows/env_ia/lib/python3.9/site-packages/sklearn/base.py:409: UserWarning: X does not have valid feature names, but StandardScaler was fitted with feature names\n",
      "  warnings.warn(\n",
      "/work/mehlc/2_IA_KINETICS/ai_reacting_flows/env_ia/lib/python3.9/site-packages/sklearn/base.py:409: UserWarning: X does not have valid feature names, but StandardScaler was fitted with feature names\n",
      "  warnings.warn(\n",
      "/work/mehlc/2_IA_KINETICS/ai_reacting_flows/env_ia/lib/python3.9/site-packages/sklearn/base.py:409: UserWarning: X does not have valid feature names, but StandardScaler was fitted with feature names\n",
      "  warnings.warn(\n"
     ]
    },
    {
     "name": "stdout",
     "output_type": "stream",
     "text": [
      "1/1 [==============================] - 0s 17ms/step\n",
      "Current point in cluster: 2 \n",
      "\n",
      "1/1 [==============================] - 0s 17ms/step\n",
      "Current point in cluster: 2 \n",
      "\n",
      "1/1 [==============================] - 0s 17ms/step\n",
      "Current point in cluster: 2 \n",
      "\n",
      "1/1 [==============================] - 0s 18ms/step\n",
      "Current point in cluster: 2 \n",
      "\n"
     ]
    },
    {
     "name": "stderr",
     "output_type": "stream",
     "text": [
      "/work/mehlc/2_IA_KINETICS/ai_reacting_flows/env_ia/lib/python3.9/site-packages/sklearn/base.py:409: UserWarning: X does not have valid feature names, but StandardScaler was fitted with feature names\n",
      "  warnings.warn(\n",
      "/work/mehlc/2_IA_KINETICS/ai_reacting_flows/env_ia/lib/python3.9/site-packages/sklearn/base.py:409: UserWarning: X does not have valid feature names, but StandardScaler was fitted with feature names\n",
      "  warnings.warn(\n",
      "/work/mehlc/2_IA_KINETICS/ai_reacting_flows/env_ia/lib/python3.9/site-packages/sklearn/base.py:409: UserWarning: X does not have valid feature names, but StandardScaler was fitted with feature names\n",
      "  warnings.warn(\n",
      "/work/mehlc/2_IA_KINETICS/ai_reacting_flows/env_ia/lib/python3.9/site-packages/sklearn/base.py:409: UserWarning: X does not have valid feature names, but StandardScaler was fitted with feature names\n",
      "  warnings.warn(\n"
     ]
    },
    {
     "name": "stdout",
     "output_type": "stream",
     "text": [
      "1/1 [==============================] - 0s 17ms/step\n",
      "Current point in cluster: 2 \n",
      "\n",
      "1/1 [==============================] - 0s 18ms/step\n",
      "Current point in cluster: 2 \n",
      "\n",
      "1/1 [==============================] - 0s 17ms/step\n",
      "Current point in cluster: 2 \n",
      "\n",
      "1/1 [==============================] - 0s 18ms/step\n",
      "Current point in cluster: 2 \n",
      "\n"
     ]
    },
    {
     "name": "stderr",
     "output_type": "stream",
     "text": [
      "/work/mehlc/2_IA_KINETICS/ai_reacting_flows/env_ia/lib/python3.9/site-packages/sklearn/base.py:409: UserWarning: X does not have valid feature names, but StandardScaler was fitted with feature names\n",
      "  warnings.warn(\n",
      "/work/mehlc/2_IA_KINETICS/ai_reacting_flows/env_ia/lib/python3.9/site-packages/sklearn/base.py:409: UserWarning: X does not have valid feature names, but StandardScaler was fitted with feature names\n",
      "  warnings.warn(\n",
      "/work/mehlc/2_IA_KINETICS/ai_reacting_flows/env_ia/lib/python3.9/site-packages/sklearn/base.py:409: UserWarning: X does not have valid feature names, but StandardScaler was fitted with feature names\n",
      "  warnings.warn(\n",
      "/work/mehlc/2_IA_KINETICS/ai_reacting_flows/env_ia/lib/python3.9/site-packages/sklearn/base.py:409: UserWarning: X does not have valid feature names, but StandardScaler was fitted with feature names\n",
      "  warnings.warn(\n"
     ]
    },
    {
     "name": "stdout",
     "output_type": "stream",
     "text": [
      "1/1 [==============================] - 0s 18ms/step\n",
      "Current point in cluster: 2 \n",
      "\n",
      "1/1 [==============================] - 0s 17ms/step\n",
      "Current point in cluster: 2 \n",
      "\n",
      "1/1 [==============================] - 0s 18ms/step\n",
      "Current point in cluster: 2 \n",
      "\n",
      "1/1 [==============================] - 0s 17ms/step\n",
      "Current point in cluster: 2 \n",
      "\n"
     ]
    },
    {
     "name": "stderr",
     "output_type": "stream",
     "text": [
      "/work/mehlc/2_IA_KINETICS/ai_reacting_flows/env_ia/lib/python3.9/site-packages/sklearn/base.py:409: UserWarning: X does not have valid feature names, but StandardScaler was fitted with feature names\n",
      "  warnings.warn(\n",
      "/work/mehlc/2_IA_KINETICS/ai_reacting_flows/env_ia/lib/python3.9/site-packages/sklearn/base.py:409: UserWarning: X does not have valid feature names, but StandardScaler was fitted with feature names\n",
      "  warnings.warn(\n",
      "/work/mehlc/2_IA_KINETICS/ai_reacting_flows/env_ia/lib/python3.9/site-packages/sklearn/base.py:409: UserWarning: X does not have valid feature names, but StandardScaler was fitted with feature names\n",
      "  warnings.warn(\n",
      "/work/mehlc/2_IA_KINETICS/ai_reacting_flows/env_ia/lib/python3.9/site-packages/sklearn/base.py:409: UserWarning: X does not have valid feature names, but StandardScaler was fitted with feature names\n",
      "  warnings.warn(\n"
     ]
    },
    {
     "name": "stdout",
     "output_type": "stream",
     "text": [
      "1/1 [==============================] - 0s 18ms/step\n",
      "Current point in cluster: 2 \n",
      "\n",
      "1/1 [==============================] - 0s 18ms/step\n",
      "Current point in cluster: 2 \n",
      "\n",
      "1/1 [==============================] - 0s 18ms/step\n",
      "Current point in cluster: 2 \n",
      "\n",
      "1/1 [==============================] - 0s 18ms/step\n",
      "Current point in cluster: 2 \n",
      "\n"
     ]
    },
    {
     "name": "stderr",
     "output_type": "stream",
     "text": [
      "/work/mehlc/2_IA_KINETICS/ai_reacting_flows/env_ia/lib/python3.9/site-packages/sklearn/base.py:409: UserWarning: X does not have valid feature names, but StandardScaler was fitted with feature names\n",
      "  warnings.warn(\n",
      "/work/mehlc/2_IA_KINETICS/ai_reacting_flows/env_ia/lib/python3.9/site-packages/sklearn/base.py:409: UserWarning: X does not have valid feature names, but StandardScaler was fitted with feature names\n",
      "  warnings.warn(\n",
      "/work/mehlc/2_IA_KINETICS/ai_reacting_flows/env_ia/lib/python3.9/site-packages/sklearn/base.py:409: UserWarning: X does not have valid feature names, but StandardScaler was fitted with feature names\n",
      "  warnings.warn(\n",
      "/work/mehlc/2_IA_KINETICS/ai_reacting_flows/env_ia/lib/python3.9/site-packages/sklearn/base.py:409: UserWarning: X does not have valid feature names, but StandardScaler was fitted with feature names\n",
      "  warnings.warn(\n"
     ]
    },
    {
     "name": "stdout",
     "output_type": "stream",
     "text": [
      "1/1 [==============================] - 0s 18ms/step\n",
      "Current point in cluster: 2 \n",
      "\n",
      "1/1 [==============================] - 0s 17ms/step\n",
      "Current point in cluster: 2 \n",
      "\n",
      "1/1 [==============================] - 0s 19ms/step\n",
      "Current point in cluster: 2 \n",
      "\n",
      "1/1 [==============================] - 0s 18ms/step\n",
      "Current point in cluster: 2 \n",
      "\n"
     ]
    },
    {
     "name": "stderr",
     "output_type": "stream",
     "text": [
      "/work/mehlc/2_IA_KINETICS/ai_reacting_flows/env_ia/lib/python3.9/site-packages/sklearn/base.py:409: UserWarning: X does not have valid feature names, but StandardScaler was fitted with feature names\n",
      "  warnings.warn(\n",
      "/work/mehlc/2_IA_KINETICS/ai_reacting_flows/env_ia/lib/python3.9/site-packages/sklearn/base.py:409: UserWarning: X does not have valid feature names, but StandardScaler was fitted with feature names\n",
      "  warnings.warn(\n",
      "/work/mehlc/2_IA_KINETICS/ai_reacting_flows/env_ia/lib/python3.9/site-packages/sklearn/base.py:409: UserWarning: X does not have valid feature names, but StandardScaler was fitted with feature names\n",
      "  warnings.warn(\n",
      "/work/mehlc/2_IA_KINETICS/ai_reacting_flows/env_ia/lib/python3.9/site-packages/sklearn/base.py:409: UserWarning: X does not have valid feature names, but StandardScaler was fitted with feature names\n",
      "  warnings.warn(\n"
     ]
    },
    {
     "name": "stdout",
     "output_type": "stream",
     "text": [
      "1/1 [==============================] - 0s 18ms/step\n",
      "Current point in cluster: 2 \n",
      "\n",
      "1/1 [==============================] - 0s 18ms/step\n",
      "Current point in cluster: 2 \n",
      "\n",
      "1/1 [==============================] - 0s 18ms/step\n",
      "Current point in cluster: 2 \n",
      "\n",
      "1/1 [==============================] - 0s 18ms/step\n",
      "Current point in cluster: 2 \n",
      "\n"
     ]
    },
    {
     "name": "stderr",
     "output_type": "stream",
     "text": [
      "/work/mehlc/2_IA_KINETICS/ai_reacting_flows/env_ia/lib/python3.9/site-packages/sklearn/base.py:409: UserWarning: X does not have valid feature names, but StandardScaler was fitted with feature names\n",
      "  warnings.warn(\n",
      "/work/mehlc/2_IA_KINETICS/ai_reacting_flows/env_ia/lib/python3.9/site-packages/sklearn/base.py:409: UserWarning: X does not have valid feature names, but StandardScaler was fitted with feature names\n",
      "  warnings.warn(\n",
      "/work/mehlc/2_IA_KINETICS/ai_reacting_flows/env_ia/lib/python3.9/site-packages/sklearn/base.py:409: UserWarning: X does not have valid feature names, but StandardScaler was fitted with feature names\n",
      "  warnings.warn(\n",
      "/work/mehlc/2_IA_KINETICS/ai_reacting_flows/env_ia/lib/python3.9/site-packages/sklearn/base.py:409: UserWarning: X does not have valid feature names, but StandardScaler was fitted with feature names\n",
      "  warnings.warn(\n"
     ]
    },
    {
     "name": "stdout",
     "output_type": "stream",
     "text": [
      "1/1 [==============================] - 0s 21ms/step\n",
      "Current point in cluster: 2 \n",
      "\n",
      "1/1 [==============================] - 0s 17ms/step\n",
      "Current point in cluster: 2 \n",
      "\n",
      "1/1 [==============================] - 0s 18ms/step\n",
      "Current point in cluster: 2 \n",
      "\n",
      "1/1 [==============================] - 0s 18ms/step\n",
      "Current point in cluster: 2 \n",
      "\n"
     ]
    },
    {
     "name": "stderr",
     "output_type": "stream",
     "text": [
      "/work/mehlc/2_IA_KINETICS/ai_reacting_flows/env_ia/lib/python3.9/site-packages/sklearn/base.py:409: UserWarning: X does not have valid feature names, but StandardScaler was fitted with feature names\n",
      "  warnings.warn(\n",
      "/work/mehlc/2_IA_KINETICS/ai_reacting_flows/env_ia/lib/python3.9/site-packages/sklearn/base.py:409: UserWarning: X does not have valid feature names, but StandardScaler was fitted with feature names\n",
      "  warnings.warn(\n",
      "/work/mehlc/2_IA_KINETICS/ai_reacting_flows/env_ia/lib/python3.9/site-packages/sklearn/base.py:409: UserWarning: X does not have valid feature names, but StandardScaler was fitted with feature names\n",
      "  warnings.warn(\n",
      "/work/mehlc/2_IA_KINETICS/ai_reacting_flows/env_ia/lib/python3.9/site-packages/sklearn/base.py:409: UserWarning: X does not have valid feature names, but StandardScaler was fitted with feature names\n",
      "  warnings.warn(\n"
     ]
    },
    {
     "name": "stdout",
     "output_type": "stream",
     "text": [
      "1/1 [==============================] - 0s 18ms/step\n",
      "Current point in cluster: 2 \n",
      "\n",
      "1/1 [==============================] - 0s 17ms/step\n",
      "Current point in cluster: 2 \n",
      "\n",
      "1/1 [==============================] - 0s 18ms/step\n",
      "Current point in cluster: 2 \n",
      "\n",
      "1/1 [==============================] - 0s 18ms/step\n",
      "Current point in cluster: 2 \n",
      "\n"
     ]
    },
    {
     "name": "stderr",
     "output_type": "stream",
     "text": [
      "/work/mehlc/2_IA_KINETICS/ai_reacting_flows/env_ia/lib/python3.9/site-packages/sklearn/base.py:409: UserWarning: X does not have valid feature names, but StandardScaler was fitted with feature names\n",
      "  warnings.warn(\n",
      "/work/mehlc/2_IA_KINETICS/ai_reacting_flows/env_ia/lib/python3.9/site-packages/sklearn/base.py:409: UserWarning: X does not have valid feature names, but StandardScaler was fitted with feature names\n",
      "  warnings.warn(\n",
      "/work/mehlc/2_IA_KINETICS/ai_reacting_flows/env_ia/lib/python3.9/site-packages/sklearn/base.py:409: UserWarning: X does not have valid feature names, but StandardScaler was fitted with feature names\n",
      "  warnings.warn(\n",
      "/work/mehlc/2_IA_KINETICS/ai_reacting_flows/env_ia/lib/python3.9/site-packages/sklearn/base.py:409: UserWarning: X does not have valid feature names, but StandardScaler was fitted with feature names\n",
      "  warnings.warn(\n"
     ]
    },
    {
     "name": "stdout",
     "output_type": "stream",
     "text": [
      "1/1 [==============================] - 0s 17ms/step\n",
      "Current point in cluster: 2 \n",
      "\n",
      "1/1 [==============================] - 0s 18ms/step\n",
      "Current point in cluster: 2 \n",
      "\n",
      "1/1 [==============================] - 0s 17ms/step\n",
      "Current point in cluster: 2 \n",
      "\n",
      "1/1 [==============================] - 0s 17ms/step\n",
      "Current point in cluster: 2 \n",
      "\n"
     ]
    },
    {
     "name": "stderr",
     "output_type": "stream",
     "text": [
      "/work/mehlc/2_IA_KINETICS/ai_reacting_flows/env_ia/lib/python3.9/site-packages/sklearn/base.py:409: UserWarning: X does not have valid feature names, but StandardScaler was fitted with feature names\n",
      "  warnings.warn(\n",
      "/work/mehlc/2_IA_KINETICS/ai_reacting_flows/env_ia/lib/python3.9/site-packages/sklearn/base.py:409: UserWarning: X does not have valid feature names, but StandardScaler was fitted with feature names\n",
      "  warnings.warn(\n",
      "/work/mehlc/2_IA_KINETICS/ai_reacting_flows/env_ia/lib/python3.9/site-packages/sklearn/base.py:409: UserWarning: X does not have valid feature names, but StandardScaler was fitted with feature names\n",
      "  warnings.warn(\n",
      "/work/mehlc/2_IA_KINETICS/ai_reacting_flows/env_ia/lib/python3.9/site-packages/sklearn/base.py:409: UserWarning: X does not have valid feature names, but StandardScaler was fitted with feature names\n",
      "  warnings.warn(\n"
     ]
    },
    {
     "name": "stdout",
     "output_type": "stream",
     "text": [
      "1/1 [==============================] - 0s 18ms/step\n",
      "Current point in cluster: 2 \n",
      "\n",
      "1/1 [==============================] - 0s 18ms/step\n",
      "Current point in cluster: 2 \n",
      "\n",
      "1/1 [==============================] - 0s 18ms/step\n",
      "Current point in cluster: 2 \n",
      "\n",
      "1/1 [==============================] - 0s 18ms/step\n",
      "Current point in cluster: 2 \n",
      "\n"
     ]
    },
    {
     "name": "stderr",
     "output_type": "stream",
     "text": [
      "/work/mehlc/2_IA_KINETICS/ai_reacting_flows/env_ia/lib/python3.9/site-packages/sklearn/base.py:409: UserWarning: X does not have valid feature names, but StandardScaler was fitted with feature names\n",
      "  warnings.warn(\n",
      "/work/mehlc/2_IA_KINETICS/ai_reacting_flows/env_ia/lib/python3.9/site-packages/sklearn/base.py:409: UserWarning: X does not have valid feature names, but StandardScaler was fitted with feature names\n",
      "  warnings.warn(\n",
      "/work/mehlc/2_IA_KINETICS/ai_reacting_flows/env_ia/lib/python3.9/site-packages/sklearn/base.py:409: UserWarning: X does not have valid feature names, but StandardScaler was fitted with feature names\n",
      "  warnings.warn(\n",
      "/work/mehlc/2_IA_KINETICS/ai_reacting_flows/env_ia/lib/python3.9/site-packages/sklearn/base.py:409: UserWarning: X does not have valid feature names, but StandardScaler was fitted with feature names\n",
      "  warnings.warn(\n"
     ]
    },
    {
     "name": "stdout",
     "output_type": "stream",
     "text": [
      "1/1 [==============================] - 0s 24ms/step\n",
      "Current point in cluster: 2 \n",
      "\n",
      "1/1 [==============================] - 0s 18ms/step\n",
      "Current point in cluster: 2 \n",
      "\n",
      "1/1 [==============================] - 0s 18ms/step\n",
      "Current point in cluster: 2 \n",
      "\n",
      "1/1 [==============================] - 0s 18ms/step\n",
      "Current point in cluster: 2 \n",
      "\n"
     ]
    },
    {
     "name": "stderr",
     "output_type": "stream",
     "text": [
      "/work/mehlc/2_IA_KINETICS/ai_reacting_flows/env_ia/lib/python3.9/site-packages/sklearn/base.py:409: UserWarning: X does not have valid feature names, but StandardScaler was fitted with feature names\n",
      "  warnings.warn(\n",
      "/work/mehlc/2_IA_KINETICS/ai_reacting_flows/env_ia/lib/python3.9/site-packages/sklearn/base.py:409: UserWarning: X does not have valid feature names, but StandardScaler was fitted with feature names\n",
      "  warnings.warn(\n",
      "/work/mehlc/2_IA_KINETICS/ai_reacting_flows/env_ia/lib/python3.9/site-packages/sklearn/base.py:409: UserWarning: X does not have valid feature names, but StandardScaler was fitted with feature names\n",
      "  warnings.warn(\n",
      "/work/mehlc/2_IA_KINETICS/ai_reacting_flows/env_ia/lib/python3.9/site-packages/sklearn/base.py:409: UserWarning: X does not have valid feature names, but StandardScaler was fitted with feature names\n",
      "  warnings.warn(\n"
     ]
    },
    {
     "name": "stdout",
     "output_type": "stream",
     "text": [
      "1/1 [==============================] - 0s 18ms/step\n",
      "Current point in cluster: 2 \n",
      "\n",
      "1/1 [==============================] - 0s 19ms/step\n",
      "Current point in cluster: 2 \n",
      "\n",
      "1/1 [==============================] - 0s 17ms/step\n",
      "Current point in cluster: 2 \n",
      "\n",
      "1/1 [==============================] - 0s 18ms/step\n",
      "Current point in cluster: 2 \n",
      "\n"
     ]
    },
    {
     "name": "stderr",
     "output_type": "stream",
     "text": [
      "/work/mehlc/2_IA_KINETICS/ai_reacting_flows/env_ia/lib/python3.9/site-packages/sklearn/base.py:409: UserWarning: X does not have valid feature names, but StandardScaler was fitted with feature names\n",
      "  warnings.warn(\n",
      "/work/mehlc/2_IA_KINETICS/ai_reacting_flows/env_ia/lib/python3.9/site-packages/sklearn/base.py:409: UserWarning: X does not have valid feature names, but StandardScaler was fitted with feature names\n",
      "  warnings.warn(\n",
      "/work/mehlc/2_IA_KINETICS/ai_reacting_flows/env_ia/lib/python3.9/site-packages/sklearn/base.py:409: UserWarning: X does not have valid feature names, but StandardScaler was fitted with feature names\n",
      "  warnings.warn(\n",
      "/work/mehlc/2_IA_KINETICS/ai_reacting_flows/env_ia/lib/python3.9/site-packages/sklearn/base.py:409: UserWarning: X does not have valid feature names, but StandardScaler was fitted with feature names\n",
      "  warnings.warn(\n"
     ]
    },
    {
     "name": "stdout",
     "output_type": "stream",
     "text": [
      "1/1 [==============================] - 0s 18ms/step\n",
      "Current point in cluster: 2 \n",
      "\n",
      "1/1 [==============================] - 0s 17ms/step\n",
      "Current point in cluster: 2 \n",
      "\n",
      "1/1 [==============================] - 0s 17ms/step\n",
      "Current point in cluster: 2 \n",
      "\n",
      "1/1 [==============================] - 0s 17ms/step\n",
      "Current point in cluster: 2 \n",
      "\n",
      "1/1 [==============================] - 0s 18ms/step\n",
      "Current point in cluster: 2 \n",
      "\n"
     ]
    },
    {
     "name": "stderr",
     "output_type": "stream",
     "text": [
      "/work/mehlc/2_IA_KINETICS/ai_reacting_flows/env_ia/lib/python3.9/site-packages/sklearn/base.py:409: UserWarning: X does not have valid feature names, but StandardScaler was fitted with feature names\n",
      "  warnings.warn(\n",
      "/work/mehlc/2_IA_KINETICS/ai_reacting_flows/env_ia/lib/python3.9/site-packages/sklearn/base.py:409: UserWarning: X does not have valid feature names, but StandardScaler was fitted with feature names\n",
      "  warnings.warn(\n",
      "/work/mehlc/2_IA_KINETICS/ai_reacting_flows/env_ia/lib/python3.9/site-packages/sklearn/base.py:409: UserWarning: X does not have valid feature names, but StandardScaler was fitted with feature names\n",
      "  warnings.warn(\n",
      "/work/mehlc/2_IA_KINETICS/ai_reacting_flows/env_ia/lib/python3.9/site-packages/sklearn/base.py:409: UserWarning: X does not have valid feature names, but StandardScaler was fitted with feature names\n",
      "  warnings.warn(\n",
      "/work/mehlc/2_IA_KINETICS/ai_reacting_flows/env_ia/lib/python3.9/site-packages/sklearn/base.py:409: UserWarning: X does not have valid feature names, but StandardScaler was fitted with feature names\n",
      "  warnings.warn(\n"
     ]
    },
    {
     "name": "stdout",
     "output_type": "stream",
     "text": [
      "1/1 [==============================] - 0s 17ms/step\n",
      "Current point in cluster: 2 \n",
      "\n",
      "1/1 [==============================] - 0s 18ms/step\n",
      "Current point in cluster: 2 \n",
      "\n",
      "1/1 [==============================] - 0s 18ms/step\n",
      "Current point in cluster: 2 \n",
      "\n",
      "1/1 [==============================] - 0s 18ms/step\n",
      "Current point in cluster: 2 \n",
      "\n"
     ]
    },
    {
     "name": "stderr",
     "output_type": "stream",
     "text": [
      "/work/mehlc/2_IA_KINETICS/ai_reacting_flows/env_ia/lib/python3.9/site-packages/sklearn/base.py:409: UserWarning: X does not have valid feature names, but StandardScaler was fitted with feature names\n",
      "  warnings.warn(\n",
      "/work/mehlc/2_IA_KINETICS/ai_reacting_flows/env_ia/lib/python3.9/site-packages/sklearn/base.py:409: UserWarning: X does not have valid feature names, but StandardScaler was fitted with feature names\n",
      "  warnings.warn(\n",
      "/work/mehlc/2_IA_KINETICS/ai_reacting_flows/env_ia/lib/python3.9/site-packages/sklearn/base.py:409: UserWarning: X does not have valid feature names, but StandardScaler was fitted with feature names\n",
      "  warnings.warn(\n",
      "/work/mehlc/2_IA_KINETICS/ai_reacting_flows/env_ia/lib/python3.9/site-packages/sklearn/base.py:409: UserWarning: X does not have valid feature names, but StandardScaler was fitted with feature names\n",
      "  warnings.warn(\n"
     ]
    },
    {
     "name": "stdout",
     "output_type": "stream",
     "text": [
      "1/1 [==============================] - 0s 17ms/step\n",
      "Current point in cluster: 2 \n",
      "\n",
      "1/1 [==============================] - 0s 17ms/step\n",
      "Current point in cluster: 2 \n",
      "\n",
      "1/1 [==============================] - 0s 17ms/step\n",
      "Current point in cluster: 2 \n",
      "\n",
      "1/1 [==============================] - 0s 19ms/step\n",
      "Current point in cluster: 2 \n",
      "\n"
     ]
    },
    {
     "name": "stderr",
     "output_type": "stream",
     "text": [
      "/work/mehlc/2_IA_KINETICS/ai_reacting_flows/env_ia/lib/python3.9/site-packages/sklearn/base.py:409: UserWarning: X does not have valid feature names, but StandardScaler was fitted with feature names\n",
      "  warnings.warn(\n",
      "/work/mehlc/2_IA_KINETICS/ai_reacting_flows/env_ia/lib/python3.9/site-packages/sklearn/base.py:409: UserWarning: X does not have valid feature names, but StandardScaler was fitted with feature names\n",
      "  warnings.warn(\n",
      "/work/mehlc/2_IA_KINETICS/ai_reacting_flows/env_ia/lib/python3.9/site-packages/sklearn/base.py:409: UserWarning: X does not have valid feature names, but StandardScaler was fitted with feature names\n",
      "  warnings.warn(\n",
      "/work/mehlc/2_IA_KINETICS/ai_reacting_flows/env_ia/lib/python3.9/site-packages/sklearn/base.py:409: UserWarning: X does not have valid feature names, but StandardScaler was fitted with feature names\n",
      "  warnings.warn(\n"
     ]
    },
    {
     "name": "stdout",
     "output_type": "stream",
     "text": [
      "1/1 [==============================] - 0s 18ms/step\n",
      "Current point in cluster: 2 \n",
      "\n",
      "1/1 [==============================] - 0s 19ms/step\n",
      "Current point in cluster: 2 \n",
      "\n",
      "1/1 [==============================] - 0s 18ms/step\n",
      "Current point in cluster: 2 \n",
      "\n",
      "1/1 [==============================] - 0s 19ms/step\n",
      "Current point in cluster: 2 \n",
      "\n"
     ]
    },
    {
     "name": "stderr",
     "output_type": "stream",
     "text": [
      "/work/mehlc/2_IA_KINETICS/ai_reacting_flows/env_ia/lib/python3.9/site-packages/sklearn/base.py:409: UserWarning: X does not have valid feature names, but StandardScaler was fitted with feature names\n",
      "  warnings.warn(\n",
      "/work/mehlc/2_IA_KINETICS/ai_reacting_flows/env_ia/lib/python3.9/site-packages/sklearn/base.py:409: UserWarning: X does not have valid feature names, but StandardScaler was fitted with feature names\n",
      "  warnings.warn(\n",
      "/work/mehlc/2_IA_KINETICS/ai_reacting_flows/env_ia/lib/python3.9/site-packages/sklearn/base.py:409: UserWarning: X does not have valid feature names, but StandardScaler was fitted with feature names\n",
      "  warnings.warn(\n",
      "/work/mehlc/2_IA_KINETICS/ai_reacting_flows/env_ia/lib/python3.9/site-packages/sklearn/base.py:409: UserWarning: X does not have valid feature names, but StandardScaler was fitted with feature names\n",
      "  warnings.warn(\n"
     ]
    },
    {
     "name": "stdout",
     "output_type": "stream",
     "text": [
      "1/1 [==============================] - 0s 18ms/step\n",
      "Current point in cluster: 2 \n",
      "\n",
      "1/1 [==============================] - 0s 18ms/step\n",
      "Current point in cluster: 2 \n",
      "\n",
      "1/1 [==============================] - 0s 18ms/step\n",
      "Current point in cluster: 2 \n",
      "\n",
      "1/1 [==============================] - 0s 18ms/step\n",
      "Current point in cluster: 2 \n",
      "\n"
     ]
    },
    {
     "name": "stderr",
     "output_type": "stream",
     "text": [
      "/work/mehlc/2_IA_KINETICS/ai_reacting_flows/env_ia/lib/python3.9/site-packages/sklearn/base.py:409: UserWarning: X does not have valid feature names, but StandardScaler was fitted with feature names\n",
      "  warnings.warn(\n",
      "/work/mehlc/2_IA_KINETICS/ai_reacting_flows/env_ia/lib/python3.9/site-packages/sklearn/base.py:409: UserWarning: X does not have valid feature names, but StandardScaler was fitted with feature names\n",
      "  warnings.warn(\n",
      "/work/mehlc/2_IA_KINETICS/ai_reacting_flows/env_ia/lib/python3.9/site-packages/sklearn/base.py:409: UserWarning: X does not have valid feature names, but StandardScaler was fitted with feature names\n",
      "  warnings.warn(\n",
      "/work/mehlc/2_IA_KINETICS/ai_reacting_flows/env_ia/lib/python3.9/site-packages/sklearn/base.py:409: UserWarning: X does not have valid feature names, but StandardScaler was fitted with feature names\n",
      "  warnings.warn(\n"
     ]
    },
    {
     "name": "stdout",
     "output_type": "stream",
     "text": [
      "1/1 [==============================] - 0s 18ms/step\n",
      "Current point in cluster: 2 \n",
      "\n",
      "1/1 [==============================] - 0s 18ms/step\n",
      "Current point in cluster: 2 \n",
      "\n",
      "1/1 [==============================] - 0s 18ms/step\n",
      "Current point in cluster: 2 \n",
      "\n",
      "1/1 [==============================] - 0s 19ms/step\n",
      "Current point in cluster: 2 \n",
      "\n"
     ]
    },
    {
     "name": "stderr",
     "output_type": "stream",
     "text": [
      "/work/mehlc/2_IA_KINETICS/ai_reacting_flows/env_ia/lib/python3.9/site-packages/sklearn/base.py:409: UserWarning: X does not have valid feature names, but StandardScaler was fitted with feature names\n",
      "  warnings.warn(\n",
      "/work/mehlc/2_IA_KINETICS/ai_reacting_flows/env_ia/lib/python3.9/site-packages/sklearn/base.py:409: UserWarning: X does not have valid feature names, but StandardScaler was fitted with feature names\n",
      "  warnings.warn(\n",
      "/work/mehlc/2_IA_KINETICS/ai_reacting_flows/env_ia/lib/python3.9/site-packages/sklearn/base.py:409: UserWarning: X does not have valid feature names, but StandardScaler was fitted with feature names\n",
      "  warnings.warn(\n",
      "/work/mehlc/2_IA_KINETICS/ai_reacting_flows/env_ia/lib/python3.9/site-packages/sklearn/base.py:409: UserWarning: X does not have valid feature names, but StandardScaler was fitted with feature names\n",
      "  warnings.warn(\n"
     ]
    },
    {
     "name": "stdout",
     "output_type": "stream",
     "text": [
      "1/1 [==============================] - 0s 20ms/step\n",
      "Current point in cluster: 2 \n",
      "\n",
      "1/1 [==============================] - 0s 18ms/step\n",
      "Current point in cluster: 2 \n",
      "\n",
      "1/1 [==============================] - 0s 18ms/step\n",
      "Current point in cluster: 2 \n",
      "\n",
      "1/1 [==============================] - 0s 17ms/step\n",
      "Current point in cluster: 2 \n",
      "\n"
     ]
    },
    {
     "name": "stderr",
     "output_type": "stream",
     "text": [
      "/work/mehlc/2_IA_KINETICS/ai_reacting_flows/env_ia/lib/python3.9/site-packages/sklearn/base.py:409: UserWarning: X does not have valid feature names, but StandardScaler was fitted with feature names\n",
      "  warnings.warn(\n",
      "/work/mehlc/2_IA_KINETICS/ai_reacting_flows/env_ia/lib/python3.9/site-packages/sklearn/base.py:409: UserWarning: X does not have valid feature names, but StandardScaler was fitted with feature names\n",
      "  warnings.warn(\n",
      "/work/mehlc/2_IA_KINETICS/ai_reacting_flows/env_ia/lib/python3.9/site-packages/sklearn/base.py:409: UserWarning: X does not have valid feature names, but StandardScaler was fitted with feature names\n",
      "  warnings.warn(\n",
      "/work/mehlc/2_IA_KINETICS/ai_reacting_flows/env_ia/lib/python3.9/site-packages/sklearn/base.py:409: UserWarning: X does not have valid feature names, but StandardScaler was fitted with feature names\n",
      "  warnings.warn(\n"
     ]
    },
    {
     "name": "stdout",
     "output_type": "stream",
     "text": [
      "1/1 [==============================] - 0s 17ms/step\n",
      "Current point in cluster: 2 \n",
      "\n",
      "1/1 [==============================] - 0s 18ms/step\n",
      "Current point in cluster: 2 \n",
      "\n",
      "1/1 [==============================] - 0s 18ms/step\n",
      "Current point in cluster: 2 \n",
      "\n",
      "1/1 [==============================] - 0s 18ms/step\n",
      "Current point in cluster: 2 \n",
      "\n"
     ]
    },
    {
     "name": "stderr",
     "output_type": "stream",
     "text": [
      "/work/mehlc/2_IA_KINETICS/ai_reacting_flows/env_ia/lib/python3.9/site-packages/sklearn/base.py:409: UserWarning: X does not have valid feature names, but StandardScaler was fitted with feature names\n",
      "  warnings.warn(\n",
      "/work/mehlc/2_IA_KINETICS/ai_reacting_flows/env_ia/lib/python3.9/site-packages/sklearn/base.py:409: UserWarning: X does not have valid feature names, but StandardScaler was fitted with feature names\n",
      "  warnings.warn(\n",
      "/work/mehlc/2_IA_KINETICS/ai_reacting_flows/env_ia/lib/python3.9/site-packages/sklearn/base.py:409: UserWarning: X does not have valid feature names, but StandardScaler was fitted with feature names\n",
      "  warnings.warn(\n",
      "/work/mehlc/2_IA_KINETICS/ai_reacting_flows/env_ia/lib/python3.9/site-packages/sklearn/base.py:409: UserWarning: X does not have valid feature names, but StandardScaler was fitted with feature names\n",
      "  warnings.warn(\n"
     ]
    },
    {
     "name": "stdout",
     "output_type": "stream",
     "text": [
      "1/1 [==============================] - 0s 18ms/step\n",
      "Current point in cluster: 2 \n",
      "\n",
      "1/1 [==============================] - 0s 18ms/step\n",
      "Current point in cluster: 2 \n",
      "\n",
      "1/1 [==============================] - 0s 18ms/step\n",
      "Current point in cluster: 2 \n",
      "\n",
      "1/1 [==============================] - 0s 18ms/step\n",
      "Current point in cluster: 2 \n",
      "\n"
     ]
    },
    {
     "name": "stderr",
     "output_type": "stream",
     "text": [
      "/work/mehlc/2_IA_KINETICS/ai_reacting_flows/env_ia/lib/python3.9/site-packages/sklearn/base.py:409: UserWarning: X does not have valid feature names, but StandardScaler was fitted with feature names\n",
      "  warnings.warn(\n",
      "/work/mehlc/2_IA_KINETICS/ai_reacting_flows/env_ia/lib/python3.9/site-packages/sklearn/base.py:409: UserWarning: X does not have valid feature names, but StandardScaler was fitted with feature names\n",
      "  warnings.warn(\n",
      "/work/mehlc/2_IA_KINETICS/ai_reacting_flows/env_ia/lib/python3.9/site-packages/sklearn/base.py:409: UserWarning: X does not have valid feature names, but StandardScaler was fitted with feature names\n",
      "  warnings.warn(\n",
      "/work/mehlc/2_IA_KINETICS/ai_reacting_flows/env_ia/lib/python3.9/site-packages/sklearn/base.py:409: UserWarning: X does not have valid feature names, but StandardScaler was fitted with feature names\n",
      "  warnings.warn(\n"
     ]
    },
    {
     "name": "stdout",
     "output_type": "stream",
     "text": [
      "1/1 [==============================] - 0s 18ms/step\n",
      "Current point in cluster: 2 \n",
      "\n",
      "1/1 [==============================] - 0s 18ms/step\n",
      "Current point in cluster: 2 \n",
      "\n",
      "1/1 [==============================] - 0s 18ms/step\n",
      "Current point in cluster: 2 \n",
      "\n",
      "1/1 [==============================] - 0s 18ms/step\n",
      "Current point in cluster: 2 \n",
      "\n"
     ]
    },
    {
     "name": "stderr",
     "output_type": "stream",
     "text": [
      "/work/mehlc/2_IA_KINETICS/ai_reacting_flows/env_ia/lib/python3.9/site-packages/sklearn/base.py:409: UserWarning: X does not have valid feature names, but StandardScaler was fitted with feature names\n",
      "  warnings.warn(\n",
      "/work/mehlc/2_IA_KINETICS/ai_reacting_flows/env_ia/lib/python3.9/site-packages/sklearn/base.py:409: UserWarning: X does not have valid feature names, but StandardScaler was fitted with feature names\n",
      "  warnings.warn(\n",
      "/work/mehlc/2_IA_KINETICS/ai_reacting_flows/env_ia/lib/python3.9/site-packages/sklearn/base.py:409: UserWarning: X does not have valid feature names, but StandardScaler was fitted with feature names\n",
      "  warnings.warn(\n",
      "/work/mehlc/2_IA_KINETICS/ai_reacting_flows/env_ia/lib/python3.9/site-packages/sklearn/base.py:409: UserWarning: X does not have valid feature names, but StandardScaler was fitted with feature names\n",
      "  warnings.warn(\n"
     ]
    },
    {
     "name": "stdout",
     "output_type": "stream",
     "text": [
      "1/1 [==============================] - 0s 17ms/step\n",
      "Current point in cluster: 2 \n",
      "\n",
      "1/1 [==============================] - 0s 18ms/step\n",
      "Current point in cluster: 2 \n",
      "\n",
      "1/1 [==============================] - 0s 17ms/step\n",
      "Current point in cluster: 2 \n",
      "\n",
      "1/1 [==============================] - 0s 19ms/step\n",
      "Current point in cluster: 2 \n",
      "\n"
     ]
    },
    {
     "name": "stderr",
     "output_type": "stream",
     "text": [
      "/work/mehlc/2_IA_KINETICS/ai_reacting_flows/env_ia/lib/python3.9/site-packages/sklearn/base.py:409: UserWarning: X does not have valid feature names, but StandardScaler was fitted with feature names\n",
      "  warnings.warn(\n",
      "/work/mehlc/2_IA_KINETICS/ai_reacting_flows/env_ia/lib/python3.9/site-packages/sklearn/base.py:409: UserWarning: X does not have valid feature names, but StandardScaler was fitted with feature names\n",
      "  warnings.warn(\n",
      "/work/mehlc/2_IA_KINETICS/ai_reacting_flows/env_ia/lib/python3.9/site-packages/sklearn/base.py:409: UserWarning: X does not have valid feature names, but StandardScaler was fitted with feature names\n",
      "  warnings.warn(\n",
      "/work/mehlc/2_IA_KINETICS/ai_reacting_flows/env_ia/lib/python3.9/site-packages/sklearn/base.py:409: UserWarning: X does not have valid feature names, but StandardScaler was fitted with feature names\n",
      "  warnings.warn(\n"
     ]
    },
    {
     "name": "stdout",
     "output_type": "stream",
     "text": [
      "1/1 [==============================] - 0s 18ms/step\n",
      "Current point in cluster: 2 \n",
      "\n",
      "1/1 [==============================] - 0s 18ms/step\n",
      "Current point in cluster: 2 \n",
      "\n",
      "1/1 [==============================] - 0s 17ms/step\n",
      "Current point in cluster: 2 \n",
      "\n",
      "1/1 [==============================] - 0s 18ms/step\n",
      "Current point in cluster: 2 \n",
      "\n"
     ]
    },
    {
     "name": "stderr",
     "output_type": "stream",
     "text": [
      "/work/mehlc/2_IA_KINETICS/ai_reacting_flows/env_ia/lib/python3.9/site-packages/sklearn/base.py:409: UserWarning: X does not have valid feature names, but StandardScaler was fitted with feature names\n",
      "  warnings.warn(\n",
      "/work/mehlc/2_IA_KINETICS/ai_reacting_flows/env_ia/lib/python3.9/site-packages/sklearn/base.py:409: UserWarning: X does not have valid feature names, but StandardScaler was fitted with feature names\n",
      "  warnings.warn(\n",
      "/work/mehlc/2_IA_KINETICS/ai_reacting_flows/env_ia/lib/python3.9/site-packages/sklearn/base.py:409: UserWarning: X does not have valid feature names, but StandardScaler was fitted with feature names\n",
      "  warnings.warn(\n",
      "/work/mehlc/2_IA_KINETICS/ai_reacting_flows/env_ia/lib/python3.9/site-packages/sklearn/base.py:409: UserWarning: X does not have valid feature names, but StandardScaler was fitted with feature names\n",
      "  warnings.warn(\n"
     ]
    },
    {
     "name": "stdout",
     "output_type": "stream",
     "text": [
      "1/1 [==============================] - 0s 17ms/step\n",
      "Current point in cluster: 2 \n",
      "\n",
      "1/1 [==============================] - 0s 18ms/step\n",
      "Current point in cluster: 2 \n",
      "\n",
      "1/1 [==============================] - 0s 19ms/step\n",
      "Current point in cluster: 2 \n",
      "\n",
      "1/1 [==============================] - 0s 19ms/step\n",
      "Current point in cluster: 2 \n",
      "\n"
     ]
    },
    {
     "name": "stderr",
     "output_type": "stream",
     "text": [
      "/work/mehlc/2_IA_KINETICS/ai_reacting_flows/env_ia/lib/python3.9/site-packages/sklearn/base.py:409: UserWarning: X does not have valid feature names, but StandardScaler was fitted with feature names\n",
      "  warnings.warn(\n",
      "/work/mehlc/2_IA_KINETICS/ai_reacting_flows/env_ia/lib/python3.9/site-packages/sklearn/base.py:409: UserWarning: X does not have valid feature names, but StandardScaler was fitted with feature names\n",
      "  warnings.warn(\n",
      "/work/mehlc/2_IA_KINETICS/ai_reacting_flows/env_ia/lib/python3.9/site-packages/sklearn/base.py:409: UserWarning: X does not have valid feature names, but StandardScaler was fitted with feature names\n",
      "  warnings.warn(\n",
      "/work/mehlc/2_IA_KINETICS/ai_reacting_flows/env_ia/lib/python3.9/site-packages/sklearn/base.py:409: UserWarning: X does not have valid feature names, but StandardScaler was fitted with feature names\n",
      "  warnings.warn(\n"
     ]
    },
    {
     "name": "stdout",
     "output_type": "stream",
     "text": [
      "1/1 [==============================] - 0s 19ms/step\n",
      "Current point in cluster: 2 \n",
      "\n",
      "1/1 [==============================] - 0s 18ms/step\n",
      "Current point in cluster: 2 \n",
      "\n",
      "1/1 [==============================] - 0s 18ms/step\n",
      "Current point in cluster: 2 \n",
      "\n",
      "1/1 [==============================] - 0s 17ms/step\n",
      "Current point in cluster: 2 \n",
      "\n"
     ]
    },
    {
     "name": "stderr",
     "output_type": "stream",
     "text": [
      "/work/mehlc/2_IA_KINETICS/ai_reacting_flows/env_ia/lib/python3.9/site-packages/sklearn/base.py:409: UserWarning: X does not have valid feature names, but StandardScaler was fitted with feature names\n",
      "  warnings.warn(\n",
      "/work/mehlc/2_IA_KINETICS/ai_reacting_flows/env_ia/lib/python3.9/site-packages/sklearn/base.py:409: UserWarning: X does not have valid feature names, but StandardScaler was fitted with feature names\n",
      "  warnings.warn(\n",
      "/work/mehlc/2_IA_KINETICS/ai_reacting_flows/env_ia/lib/python3.9/site-packages/sklearn/base.py:409: UserWarning: X does not have valid feature names, but StandardScaler was fitted with feature names\n",
      "  warnings.warn(\n",
      "/work/mehlc/2_IA_KINETICS/ai_reacting_flows/env_ia/lib/python3.9/site-packages/sklearn/base.py:409: UserWarning: X does not have valid feature names, but StandardScaler was fitted with feature names\n",
      "  warnings.warn(\n"
     ]
    },
    {
     "name": "stdout",
     "output_type": "stream",
     "text": [
      "1/1 [==============================] - 0s 18ms/step\n",
      "Current point in cluster: 2 \n",
      "\n",
      "1/1 [==============================] - 0s 18ms/step\n",
      "Current point in cluster: 2 \n",
      "\n",
      "1/1 [==============================] - 0s 18ms/step\n",
      "Current point in cluster: 2 \n",
      "\n",
      "1/1 [==============================] - 0s 18ms/step\n",
      "Current point in cluster: 2 \n",
      "\n"
     ]
    },
    {
     "name": "stderr",
     "output_type": "stream",
     "text": [
      "/work/mehlc/2_IA_KINETICS/ai_reacting_flows/env_ia/lib/python3.9/site-packages/sklearn/base.py:409: UserWarning: X does not have valid feature names, but StandardScaler was fitted with feature names\n",
      "  warnings.warn(\n",
      "/work/mehlc/2_IA_KINETICS/ai_reacting_flows/env_ia/lib/python3.9/site-packages/sklearn/base.py:409: UserWarning: X does not have valid feature names, but StandardScaler was fitted with feature names\n",
      "  warnings.warn(\n",
      "/work/mehlc/2_IA_KINETICS/ai_reacting_flows/env_ia/lib/python3.9/site-packages/sklearn/base.py:409: UserWarning: X does not have valid feature names, but StandardScaler was fitted with feature names\n",
      "  warnings.warn(\n",
      "/work/mehlc/2_IA_KINETICS/ai_reacting_flows/env_ia/lib/python3.9/site-packages/sklearn/base.py:409: UserWarning: X does not have valid feature names, but StandardScaler was fitted with feature names\n",
      "  warnings.warn(\n"
     ]
    },
    {
     "name": "stdout",
     "output_type": "stream",
     "text": [
      "1/1 [==============================] - 0s 18ms/step\n",
      "Current point in cluster: 2 \n",
      "\n",
      "1/1 [==============================] - 0s 19ms/step\n",
      "Current point in cluster: 2 \n",
      "\n",
      "1/1 [==============================] - 0s 18ms/step\n",
      "Current point in cluster: 2 \n",
      "\n",
      "1/1 [==============================] - 0s 18ms/step\n",
      "Current point in cluster: 2 \n",
      "\n"
     ]
    },
    {
     "name": "stderr",
     "output_type": "stream",
     "text": [
      "/work/mehlc/2_IA_KINETICS/ai_reacting_flows/env_ia/lib/python3.9/site-packages/sklearn/base.py:409: UserWarning: X does not have valid feature names, but StandardScaler was fitted with feature names\n",
      "  warnings.warn(\n",
      "/work/mehlc/2_IA_KINETICS/ai_reacting_flows/env_ia/lib/python3.9/site-packages/sklearn/base.py:409: UserWarning: X does not have valid feature names, but StandardScaler was fitted with feature names\n",
      "  warnings.warn(\n",
      "/work/mehlc/2_IA_KINETICS/ai_reacting_flows/env_ia/lib/python3.9/site-packages/sklearn/base.py:409: UserWarning: X does not have valid feature names, but StandardScaler was fitted with feature names\n",
      "  warnings.warn(\n",
      "/work/mehlc/2_IA_KINETICS/ai_reacting_flows/env_ia/lib/python3.9/site-packages/sklearn/base.py:409: UserWarning: X does not have valid feature names, but StandardScaler was fitted with feature names\n",
      "  warnings.warn(\n"
     ]
    },
    {
     "name": "stdout",
     "output_type": "stream",
     "text": [
      "1/1 [==============================] - 0s 23ms/step\n",
      "Current point in cluster: 2 \n",
      "\n",
      "1/1 [==============================] - 0s 17ms/step\n",
      "Current point in cluster: 2 \n",
      "\n",
      "1/1 [==============================] - 0s 18ms/step\n",
      "Current point in cluster: 2 \n",
      "\n",
      "1/1 [==============================] - 0s 17ms/step\n",
      "Current point in cluster: 2 \n",
      "\n"
     ]
    },
    {
     "name": "stderr",
     "output_type": "stream",
     "text": [
      "/work/mehlc/2_IA_KINETICS/ai_reacting_flows/env_ia/lib/python3.9/site-packages/sklearn/base.py:409: UserWarning: X does not have valid feature names, but StandardScaler was fitted with feature names\n",
      "  warnings.warn(\n",
      "/work/mehlc/2_IA_KINETICS/ai_reacting_flows/env_ia/lib/python3.9/site-packages/sklearn/base.py:409: UserWarning: X does not have valid feature names, but StandardScaler was fitted with feature names\n",
      "  warnings.warn(\n",
      "/work/mehlc/2_IA_KINETICS/ai_reacting_flows/env_ia/lib/python3.9/site-packages/sklearn/base.py:409: UserWarning: X does not have valid feature names, but StandardScaler was fitted with feature names\n",
      "  warnings.warn(\n",
      "/work/mehlc/2_IA_KINETICS/ai_reacting_flows/env_ia/lib/python3.9/site-packages/sklearn/base.py:409: UserWarning: X does not have valid feature names, but StandardScaler was fitted with feature names\n",
      "  warnings.warn(\n"
     ]
    },
    {
     "name": "stdout",
     "output_type": "stream",
     "text": [
      "1/1 [==============================] - 0s 17ms/step\n",
      "Current point in cluster: 2 \n",
      "\n",
      "1/1 [==============================] - 0s 18ms/step\n",
      "Current point in cluster: 2 \n",
      "\n",
      "1/1 [==============================] - 0s 18ms/step\n",
      "Current point in cluster: 2 \n",
      "\n",
      "1/1 [==============================] - 0s 18ms/step\n",
      "Current point in cluster: 2 \n",
      "\n"
     ]
    },
    {
     "name": "stderr",
     "output_type": "stream",
     "text": [
      "/work/mehlc/2_IA_KINETICS/ai_reacting_flows/env_ia/lib/python3.9/site-packages/sklearn/base.py:409: UserWarning: X does not have valid feature names, but StandardScaler was fitted with feature names\n",
      "  warnings.warn(\n",
      "/work/mehlc/2_IA_KINETICS/ai_reacting_flows/env_ia/lib/python3.9/site-packages/sklearn/base.py:409: UserWarning: X does not have valid feature names, but StandardScaler was fitted with feature names\n",
      "  warnings.warn(\n",
      "/work/mehlc/2_IA_KINETICS/ai_reacting_flows/env_ia/lib/python3.9/site-packages/sklearn/base.py:409: UserWarning: X does not have valid feature names, but StandardScaler was fitted with feature names\n",
      "  warnings.warn(\n",
      "/work/mehlc/2_IA_KINETICS/ai_reacting_flows/env_ia/lib/python3.9/site-packages/sklearn/base.py:409: UserWarning: X does not have valid feature names, but StandardScaler was fitted with feature names\n",
      "  warnings.warn(\n"
     ]
    },
    {
     "name": "stdout",
     "output_type": "stream",
     "text": [
      "1/1 [==============================] - 0s 17ms/step\n",
      "Current point in cluster: 2 \n",
      "\n",
      "1/1 [==============================] - 0s 18ms/step\n",
      "Current point in cluster: 2 \n",
      "\n",
      "1/1 [==============================] - 0s 17ms/step\n",
      "Current point in cluster: 2 \n",
      "\n",
      "1/1 [==============================] - 0s 17ms/step\n",
      "Current point in cluster: 2 \n",
      "\n"
     ]
    },
    {
     "name": "stderr",
     "output_type": "stream",
     "text": [
      "/work/mehlc/2_IA_KINETICS/ai_reacting_flows/env_ia/lib/python3.9/site-packages/sklearn/base.py:409: UserWarning: X does not have valid feature names, but StandardScaler was fitted with feature names\n",
      "  warnings.warn(\n",
      "/work/mehlc/2_IA_KINETICS/ai_reacting_flows/env_ia/lib/python3.9/site-packages/sklearn/base.py:409: UserWarning: X does not have valid feature names, but StandardScaler was fitted with feature names\n",
      "  warnings.warn(\n",
      "/work/mehlc/2_IA_KINETICS/ai_reacting_flows/env_ia/lib/python3.9/site-packages/sklearn/base.py:409: UserWarning: X does not have valid feature names, but StandardScaler was fitted with feature names\n",
      "  warnings.warn(\n",
      "/work/mehlc/2_IA_KINETICS/ai_reacting_flows/env_ia/lib/python3.9/site-packages/sklearn/base.py:409: UserWarning: X does not have valid feature names, but StandardScaler was fitted with feature names\n",
      "  warnings.warn(\n"
     ]
    },
    {
     "name": "stdout",
     "output_type": "stream",
     "text": [
      "1/1 [==============================] - 0s 17ms/step\n",
      "Current point in cluster: 2 \n",
      "\n",
      "1/1 [==============================] - 0s 19ms/step\n",
      "Current point in cluster: 2 \n",
      "\n",
      "1/1 [==============================] - 0s 18ms/step\n",
      "Current point in cluster: 2 \n",
      "\n",
      "1/1 [==============================] - 0s 18ms/step\n",
      "Current point in cluster: 2 \n",
      "\n"
     ]
    },
    {
     "name": "stderr",
     "output_type": "stream",
     "text": [
      "/work/mehlc/2_IA_KINETICS/ai_reacting_flows/env_ia/lib/python3.9/site-packages/sklearn/base.py:409: UserWarning: X does not have valid feature names, but StandardScaler was fitted with feature names\n",
      "  warnings.warn(\n",
      "/work/mehlc/2_IA_KINETICS/ai_reacting_flows/env_ia/lib/python3.9/site-packages/sklearn/base.py:409: UserWarning: X does not have valid feature names, but StandardScaler was fitted with feature names\n",
      "  warnings.warn(\n",
      "/work/mehlc/2_IA_KINETICS/ai_reacting_flows/env_ia/lib/python3.9/site-packages/sklearn/base.py:409: UserWarning: X does not have valid feature names, but StandardScaler was fitted with feature names\n",
      "  warnings.warn(\n",
      "/work/mehlc/2_IA_KINETICS/ai_reacting_flows/env_ia/lib/python3.9/site-packages/sklearn/base.py:409: UserWarning: X does not have valid feature names, but StandardScaler was fitted with feature names\n",
      "  warnings.warn(\n"
     ]
    },
    {
     "name": "stdout",
     "output_type": "stream",
     "text": [
      "1/1 [==============================] - 0s 21ms/step\n",
      "Current point in cluster: 2 \n",
      "\n",
      "1/1 [==============================] - 0s 17ms/step\n",
      "Current point in cluster: 2 \n",
      "\n",
      "1/1 [==============================] - 0s 17ms/step\n",
      "Current point in cluster: 2 \n",
      "\n",
      "1/1 [==============================] - 0s 17ms/step\n",
      "Current point in cluster: 2 \n",
      "\n"
     ]
    },
    {
     "name": "stderr",
     "output_type": "stream",
     "text": [
      "/work/mehlc/2_IA_KINETICS/ai_reacting_flows/env_ia/lib/python3.9/site-packages/sklearn/base.py:409: UserWarning: X does not have valid feature names, but StandardScaler was fitted with feature names\n",
      "  warnings.warn(\n",
      "/work/mehlc/2_IA_KINETICS/ai_reacting_flows/env_ia/lib/python3.9/site-packages/sklearn/base.py:409: UserWarning: X does not have valid feature names, but StandardScaler was fitted with feature names\n",
      "  warnings.warn(\n",
      "/work/mehlc/2_IA_KINETICS/ai_reacting_flows/env_ia/lib/python3.9/site-packages/sklearn/base.py:409: UserWarning: X does not have valid feature names, but StandardScaler was fitted with feature names\n",
      "  warnings.warn(\n",
      "/work/mehlc/2_IA_KINETICS/ai_reacting_flows/env_ia/lib/python3.9/site-packages/sklearn/base.py:409: UserWarning: X does not have valid feature names, but StandardScaler was fitted with feature names\n",
      "  warnings.warn(\n"
     ]
    },
    {
     "name": "stdout",
     "output_type": "stream",
     "text": [
      "1/1 [==============================] - 0s 17ms/step\n",
      "Current point in cluster: 2 \n",
      "\n",
      "1/1 [==============================] - 0s 18ms/step\n",
      "Current point in cluster: 2 \n",
      "\n",
      "1/1 [==============================] - 0s 18ms/step\n",
      "Current point in cluster: 2 \n",
      "\n",
      "1/1 [==============================] - 0s 17ms/step\n",
      "Current point in cluster: 2 \n",
      "\n"
     ]
    },
    {
     "name": "stderr",
     "output_type": "stream",
     "text": [
      "/work/mehlc/2_IA_KINETICS/ai_reacting_flows/env_ia/lib/python3.9/site-packages/sklearn/base.py:409: UserWarning: X does not have valid feature names, but StandardScaler was fitted with feature names\n",
      "  warnings.warn(\n",
      "/work/mehlc/2_IA_KINETICS/ai_reacting_flows/env_ia/lib/python3.9/site-packages/sklearn/base.py:409: UserWarning: X does not have valid feature names, but StandardScaler was fitted with feature names\n",
      "  warnings.warn(\n",
      "/work/mehlc/2_IA_KINETICS/ai_reacting_flows/env_ia/lib/python3.9/site-packages/sklearn/base.py:409: UserWarning: X does not have valid feature names, but StandardScaler was fitted with feature names\n",
      "  warnings.warn(\n",
      "/work/mehlc/2_IA_KINETICS/ai_reacting_flows/env_ia/lib/python3.9/site-packages/sklearn/base.py:409: UserWarning: X does not have valid feature names, but StandardScaler was fitted with feature names\n",
      "  warnings.warn(\n"
     ]
    },
    {
     "name": "stdout",
     "output_type": "stream",
     "text": [
      "1/1 [==============================] - 0s 17ms/step\n",
      "Current point in cluster: 2 \n",
      "\n",
      "1/1 [==============================] - 0s 18ms/step\n",
      "Current point in cluster: 2 \n",
      "\n",
      "1/1 [==============================] - 0s 17ms/step\n",
      "Current point in cluster: 2 \n",
      "\n",
      "1/1 [==============================] - 0s 17ms/step\n",
      "Current point in cluster: 2 \n",
      "\n"
     ]
    },
    {
     "name": "stderr",
     "output_type": "stream",
     "text": [
      "/work/mehlc/2_IA_KINETICS/ai_reacting_flows/env_ia/lib/python3.9/site-packages/sklearn/base.py:409: UserWarning: X does not have valid feature names, but StandardScaler was fitted with feature names\n",
      "  warnings.warn(\n",
      "/work/mehlc/2_IA_KINETICS/ai_reacting_flows/env_ia/lib/python3.9/site-packages/sklearn/base.py:409: UserWarning: X does not have valid feature names, but StandardScaler was fitted with feature names\n",
      "  warnings.warn(\n",
      "/work/mehlc/2_IA_KINETICS/ai_reacting_flows/env_ia/lib/python3.9/site-packages/sklearn/base.py:409: UserWarning: X does not have valid feature names, but StandardScaler was fitted with feature names\n",
      "  warnings.warn(\n",
      "/work/mehlc/2_IA_KINETICS/ai_reacting_flows/env_ia/lib/python3.9/site-packages/sklearn/base.py:409: UserWarning: X does not have valid feature names, but StandardScaler was fitted with feature names\n",
      "  warnings.warn(\n"
     ]
    },
    {
     "name": "stdout",
     "output_type": "stream",
     "text": [
      "1/1 [==============================] - 0s 18ms/step\n",
      "Current point in cluster: 2 \n",
      "\n",
      "1/1 [==============================] - 0s 18ms/step\n",
      "Current point in cluster: 2 \n",
      "\n",
      "1/1 [==============================] - 0s 17ms/step\n",
      "Current point in cluster: 2 \n",
      "\n",
      "1/1 [==============================] - 0s 18ms/step\n",
      "Current point in cluster: 2 \n",
      "\n"
     ]
    },
    {
     "name": "stderr",
     "output_type": "stream",
     "text": [
      "/work/mehlc/2_IA_KINETICS/ai_reacting_flows/env_ia/lib/python3.9/site-packages/sklearn/base.py:409: UserWarning: X does not have valid feature names, but StandardScaler was fitted with feature names\n",
      "  warnings.warn(\n",
      "/work/mehlc/2_IA_KINETICS/ai_reacting_flows/env_ia/lib/python3.9/site-packages/sklearn/base.py:409: UserWarning: X does not have valid feature names, but StandardScaler was fitted with feature names\n",
      "  warnings.warn(\n",
      "/work/mehlc/2_IA_KINETICS/ai_reacting_flows/env_ia/lib/python3.9/site-packages/sklearn/base.py:409: UserWarning: X does not have valid feature names, but StandardScaler was fitted with feature names\n",
      "  warnings.warn(\n",
      "/work/mehlc/2_IA_KINETICS/ai_reacting_flows/env_ia/lib/python3.9/site-packages/sklearn/base.py:409: UserWarning: X does not have valid feature names, but StandardScaler was fitted with feature names\n",
      "  warnings.warn(\n"
     ]
    },
    {
     "name": "stdout",
     "output_type": "stream",
     "text": [
      "1/1 [==============================] - 0s 22ms/step\n",
      "Current point in cluster: 2 \n",
      "\n",
      "1/1 [==============================] - 0s 18ms/step\n",
      "Current point in cluster: 2 \n",
      "\n",
      "1/1 [==============================] - 0s 18ms/step\n",
      "Current point in cluster: 2 \n",
      "\n",
      "1/1 [==============================] - 0s 18ms/step\n",
      "Current point in cluster: 2 \n",
      "\n"
     ]
    },
    {
     "name": "stderr",
     "output_type": "stream",
     "text": [
      "/work/mehlc/2_IA_KINETICS/ai_reacting_flows/env_ia/lib/python3.9/site-packages/sklearn/base.py:409: UserWarning: X does not have valid feature names, but StandardScaler was fitted with feature names\n",
      "  warnings.warn(\n",
      "/work/mehlc/2_IA_KINETICS/ai_reacting_flows/env_ia/lib/python3.9/site-packages/sklearn/base.py:409: UserWarning: X does not have valid feature names, but StandardScaler was fitted with feature names\n",
      "  warnings.warn(\n",
      "/work/mehlc/2_IA_KINETICS/ai_reacting_flows/env_ia/lib/python3.9/site-packages/sklearn/base.py:409: UserWarning: X does not have valid feature names, but StandardScaler was fitted with feature names\n",
      "  warnings.warn(\n",
      "/work/mehlc/2_IA_KINETICS/ai_reacting_flows/env_ia/lib/python3.9/site-packages/sklearn/base.py:409: UserWarning: X does not have valid feature names, but StandardScaler was fitted with feature names\n",
      "  warnings.warn(\n"
     ]
    },
    {
     "name": "stdout",
     "output_type": "stream",
     "text": [
      "1/1 [==============================] - 0s 18ms/step\n",
      "Current point in cluster: 2 \n",
      "\n",
      "1/1 [==============================] - 0s 18ms/step\n",
      "Current point in cluster: 2 \n",
      "\n",
      "1/1 [==============================] - 0s 18ms/step\n",
      "Current point in cluster: 2 \n",
      "\n",
      "1/1 [==============================] - 0s 18ms/step\n",
      "Current point in cluster: 2 \n",
      "\n"
     ]
    },
    {
     "name": "stderr",
     "output_type": "stream",
     "text": [
      "/work/mehlc/2_IA_KINETICS/ai_reacting_flows/env_ia/lib/python3.9/site-packages/sklearn/base.py:409: UserWarning: X does not have valid feature names, but StandardScaler was fitted with feature names\n",
      "  warnings.warn(\n",
      "/work/mehlc/2_IA_KINETICS/ai_reacting_flows/env_ia/lib/python3.9/site-packages/sklearn/base.py:409: UserWarning: X does not have valid feature names, but StandardScaler was fitted with feature names\n",
      "  warnings.warn(\n",
      "/work/mehlc/2_IA_KINETICS/ai_reacting_flows/env_ia/lib/python3.9/site-packages/sklearn/base.py:409: UserWarning: X does not have valid feature names, but StandardScaler was fitted with feature names\n",
      "  warnings.warn(\n",
      "/work/mehlc/2_IA_KINETICS/ai_reacting_flows/env_ia/lib/python3.9/site-packages/sklearn/base.py:409: UserWarning: X does not have valid feature names, but StandardScaler was fitted with feature names\n",
      "  warnings.warn(\n"
     ]
    },
    {
     "name": "stdout",
     "output_type": "stream",
     "text": [
      "1/1 [==============================] - 0s 18ms/step\n",
      "Current point in cluster: 2 \n",
      "\n",
      "1/1 [==============================] - 0s 18ms/step\n",
      "Current point in cluster: 2 \n",
      "\n",
      "1/1 [==============================] - 0s 17ms/step\n",
      "Current point in cluster: 2 \n",
      "\n",
      "1/1 [==============================] - 0s 19ms/step\n",
      "Current point in cluster: 2 \n",
      "\n"
     ]
    },
    {
     "name": "stderr",
     "output_type": "stream",
     "text": [
      "/work/mehlc/2_IA_KINETICS/ai_reacting_flows/env_ia/lib/python3.9/site-packages/sklearn/base.py:409: UserWarning: X does not have valid feature names, but StandardScaler was fitted with feature names\n",
      "  warnings.warn(\n",
      "/work/mehlc/2_IA_KINETICS/ai_reacting_flows/env_ia/lib/python3.9/site-packages/sklearn/base.py:409: UserWarning: X does not have valid feature names, but StandardScaler was fitted with feature names\n",
      "  warnings.warn(\n",
      "/work/mehlc/2_IA_KINETICS/ai_reacting_flows/env_ia/lib/python3.9/site-packages/sklearn/base.py:409: UserWarning: X does not have valid feature names, but StandardScaler was fitted with feature names\n",
      "  warnings.warn(\n",
      "/work/mehlc/2_IA_KINETICS/ai_reacting_flows/env_ia/lib/python3.9/site-packages/sklearn/base.py:409: UserWarning: X does not have valid feature names, but StandardScaler was fitted with feature names\n",
      "  warnings.warn(\n"
     ]
    },
    {
     "name": "stdout",
     "output_type": "stream",
     "text": [
      "1/1 [==============================] - 0s 19ms/step\n",
      "Current point in cluster: 2 \n",
      "\n",
      "1/1 [==============================] - 0s 18ms/step\n",
      "Current point in cluster: 2 \n",
      "\n",
      "1/1 [==============================] - 0s 18ms/step\n",
      "Current point in cluster: 2 \n",
      "\n",
      "1/1 [==============================] - 0s 18ms/step\n",
      "Current point in cluster: 2 \n",
      "\n"
     ]
    },
    {
     "name": "stderr",
     "output_type": "stream",
     "text": [
      "/work/mehlc/2_IA_KINETICS/ai_reacting_flows/env_ia/lib/python3.9/site-packages/sklearn/base.py:409: UserWarning: X does not have valid feature names, but StandardScaler was fitted with feature names\n",
      "  warnings.warn(\n",
      "/work/mehlc/2_IA_KINETICS/ai_reacting_flows/env_ia/lib/python3.9/site-packages/sklearn/base.py:409: UserWarning: X does not have valid feature names, but StandardScaler was fitted with feature names\n",
      "  warnings.warn(\n",
      "/work/mehlc/2_IA_KINETICS/ai_reacting_flows/env_ia/lib/python3.9/site-packages/sklearn/base.py:409: UserWarning: X does not have valid feature names, but StandardScaler was fitted with feature names\n",
      "  warnings.warn(\n",
      "/work/mehlc/2_IA_KINETICS/ai_reacting_flows/env_ia/lib/python3.9/site-packages/sklearn/base.py:409: UserWarning: X does not have valid feature names, but StandardScaler was fitted with feature names\n",
      "  warnings.warn(\n"
     ]
    },
    {
     "name": "stdout",
     "output_type": "stream",
     "text": [
      "1/1 [==============================] - 0s 18ms/step\n",
      "Current point in cluster: 2 \n",
      "\n",
      "1/1 [==============================] - 0s 19ms/step\n",
      "Current point in cluster: 2 \n",
      "\n",
      "1/1 [==============================] - 0s 18ms/step\n",
      "Current point in cluster: 2 \n",
      "\n",
      "1/1 [==============================] - 0s 18ms/step\n",
      "Current point in cluster: 2 \n",
      "\n"
     ]
    },
    {
     "name": "stderr",
     "output_type": "stream",
     "text": [
      "/work/mehlc/2_IA_KINETICS/ai_reacting_flows/env_ia/lib/python3.9/site-packages/sklearn/base.py:409: UserWarning: X does not have valid feature names, but StandardScaler was fitted with feature names\n",
      "  warnings.warn(\n",
      "/work/mehlc/2_IA_KINETICS/ai_reacting_flows/env_ia/lib/python3.9/site-packages/sklearn/base.py:409: UserWarning: X does not have valid feature names, but StandardScaler was fitted with feature names\n",
      "  warnings.warn(\n",
      "/work/mehlc/2_IA_KINETICS/ai_reacting_flows/env_ia/lib/python3.9/site-packages/sklearn/base.py:409: UserWarning: X does not have valid feature names, but StandardScaler was fitted with feature names\n",
      "  warnings.warn(\n",
      "/work/mehlc/2_IA_KINETICS/ai_reacting_flows/env_ia/lib/python3.9/site-packages/sklearn/base.py:409: UserWarning: X does not have valid feature names, but StandardScaler was fitted with feature names\n",
      "  warnings.warn(\n"
     ]
    },
    {
     "name": "stdout",
     "output_type": "stream",
     "text": [
      "1/1 [==============================] - 0s 18ms/step\n",
      "Current point in cluster: 2 \n",
      "\n",
      "1/1 [==============================] - 0s 19ms/step\n",
      "Current point in cluster: 2 \n",
      "\n",
      "1/1 [==============================] - 0s 19ms/step\n",
      "Current point in cluster: 2 \n",
      "\n",
      "1/1 [==============================] - 0s 18ms/step\n",
      "Current point in cluster: 2 \n",
      "\n"
     ]
    },
    {
     "name": "stderr",
     "output_type": "stream",
     "text": [
      "/work/mehlc/2_IA_KINETICS/ai_reacting_flows/env_ia/lib/python3.9/site-packages/sklearn/base.py:409: UserWarning: X does not have valid feature names, but StandardScaler was fitted with feature names\n",
      "  warnings.warn(\n",
      "/work/mehlc/2_IA_KINETICS/ai_reacting_flows/env_ia/lib/python3.9/site-packages/sklearn/base.py:409: UserWarning: X does not have valid feature names, but StandardScaler was fitted with feature names\n",
      "  warnings.warn(\n",
      "/work/mehlc/2_IA_KINETICS/ai_reacting_flows/env_ia/lib/python3.9/site-packages/sklearn/base.py:409: UserWarning: X does not have valid feature names, but StandardScaler was fitted with feature names\n",
      "  warnings.warn(\n",
      "/work/mehlc/2_IA_KINETICS/ai_reacting_flows/env_ia/lib/python3.9/site-packages/sklearn/base.py:409: UserWarning: X does not have valid feature names, but StandardScaler was fitted with feature names\n",
      "  warnings.warn(\n"
     ]
    },
    {
     "name": "stdout",
     "output_type": "stream",
     "text": [
      "1/1 [==============================] - 0s 18ms/step\n",
      "Current point in cluster: 2 \n",
      "\n",
      "1/1 [==============================] - 0s 17ms/step\n",
      "Current point in cluster: 2 \n",
      "\n",
      "1/1 [==============================] - 0s 18ms/step\n",
      "Current point in cluster: 2 \n",
      "\n",
      "1/1 [==============================] - 0s 18ms/step\n",
      "Current point in cluster: 2 \n",
      "\n"
     ]
    },
    {
     "name": "stderr",
     "output_type": "stream",
     "text": [
      "/work/mehlc/2_IA_KINETICS/ai_reacting_flows/env_ia/lib/python3.9/site-packages/sklearn/base.py:409: UserWarning: X does not have valid feature names, but StandardScaler was fitted with feature names\n",
      "  warnings.warn(\n",
      "/work/mehlc/2_IA_KINETICS/ai_reacting_flows/env_ia/lib/python3.9/site-packages/sklearn/base.py:409: UserWarning: X does not have valid feature names, but StandardScaler was fitted with feature names\n",
      "  warnings.warn(\n",
      "/work/mehlc/2_IA_KINETICS/ai_reacting_flows/env_ia/lib/python3.9/site-packages/sklearn/base.py:409: UserWarning: X does not have valid feature names, but StandardScaler was fitted with feature names\n",
      "  warnings.warn(\n",
      "/work/mehlc/2_IA_KINETICS/ai_reacting_flows/env_ia/lib/python3.9/site-packages/sklearn/base.py:409: UserWarning: X does not have valid feature names, but StandardScaler was fitted with feature names\n",
      "  warnings.warn(\n"
     ]
    },
    {
     "name": "stdout",
     "output_type": "stream",
     "text": [
      "1/1 [==============================] - 0s 18ms/step\n",
      "Current point in cluster: 2 \n",
      "\n",
      "1/1 [==============================] - 0s 17ms/step\n",
      "Current point in cluster: 2 \n",
      "\n",
      "1/1 [==============================] - 0s 20ms/step\n",
      "Current point in cluster: 2 \n",
      "\n",
      "1/1 [==============================] - 0s 19ms/step\n",
      "Current point in cluster: 2 \n",
      "\n"
     ]
    },
    {
     "name": "stderr",
     "output_type": "stream",
     "text": [
      "/work/mehlc/2_IA_KINETICS/ai_reacting_flows/env_ia/lib/python3.9/site-packages/sklearn/base.py:409: UserWarning: X does not have valid feature names, but StandardScaler was fitted with feature names\n",
      "  warnings.warn(\n",
      "/work/mehlc/2_IA_KINETICS/ai_reacting_flows/env_ia/lib/python3.9/site-packages/sklearn/base.py:409: UserWarning: X does not have valid feature names, but StandardScaler was fitted with feature names\n",
      "  warnings.warn(\n",
      "/work/mehlc/2_IA_KINETICS/ai_reacting_flows/env_ia/lib/python3.9/site-packages/sklearn/base.py:409: UserWarning: X does not have valid feature names, but StandardScaler was fitted with feature names\n",
      "  warnings.warn(\n",
      "/work/mehlc/2_IA_KINETICS/ai_reacting_flows/env_ia/lib/python3.9/site-packages/sklearn/base.py:409: UserWarning: X does not have valid feature names, but StandardScaler was fitted with feature names\n",
      "  warnings.warn(\n"
     ]
    },
    {
     "name": "stdout",
     "output_type": "stream",
     "text": [
      "1/1 [==============================] - 0s 19ms/step\n",
      "Current point in cluster: 2 \n",
      "\n",
      "1/1 [==============================] - 0s 18ms/step\n",
      "Current point in cluster: 2 \n",
      "\n",
      "1/1 [==============================] - 0s 18ms/step\n",
      "Current point in cluster: 2 \n",
      "\n",
      "1/1 [==============================] - 0s 18ms/step\n",
      "Current point in cluster: 2 \n",
      "\n"
     ]
    },
    {
     "name": "stderr",
     "output_type": "stream",
     "text": [
      "/work/mehlc/2_IA_KINETICS/ai_reacting_flows/env_ia/lib/python3.9/site-packages/sklearn/base.py:409: UserWarning: X does not have valid feature names, but StandardScaler was fitted with feature names\n",
      "  warnings.warn(\n",
      "/work/mehlc/2_IA_KINETICS/ai_reacting_flows/env_ia/lib/python3.9/site-packages/sklearn/base.py:409: UserWarning: X does not have valid feature names, but StandardScaler was fitted with feature names\n",
      "  warnings.warn(\n",
      "/work/mehlc/2_IA_KINETICS/ai_reacting_flows/env_ia/lib/python3.9/site-packages/sklearn/base.py:409: UserWarning: X does not have valid feature names, but StandardScaler was fitted with feature names\n",
      "  warnings.warn(\n",
      "/work/mehlc/2_IA_KINETICS/ai_reacting_flows/env_ia/lib/python3.9/site-packages/sklearn/base.py:409: UserWarning: X does not have valid feature names, but StandardScaler was fitted with feature names\n",
      "  warnings.warn(\n"
     ]
    },
    {
     "name": "stdout",
     "output_type": "stream",
     "text": [
      "1/1 [==============================] - 0s 18ms/step\n",
      "Current point in cluster: 2 \n",
      "\n",
      "1/1 [==============================] - 0s 17ms/step\n",
      "Current point in cluster: 2 \n",
      "\n",
      "1/1 [==============================] - 0s 18ms/step\n",
      "Current point in cluster: 2 \n",
      "\n",
      "1/1 [==============================] - 0s 18ms/step\n",
      "Current point in cluster: 2 \n",
      "\n"
     ]
    },
    {
     "name": "stderr",
     "output_type": "stream",
     "text": [
      "/work/mehlc/2_IA_KINETICS/ai_reacting_flows/env_ia/lib/python3.9/site-packages/sklearn/base.py:409: UserWarning: X does not have valid feature names, but StandardScaler was fitted with feature names\n",
      "  warnings.warn(\n",
      "/work/mehlc/2_IA_KINETICS/ai_reacting_flows/env_ia/lib/python3.9/site-packages/sklearn/base.py:409: UserWarning: X does not have valid feature names, but StandardScaler was fitted with feature names\n",
      "  warnings.warn(\n",
      "/work/mehlc/2_IA_KINETICS/ai_reacting_flows/env_ia/lib/python3.9/site-packages/sklearn/base.py:409: UserWarning: X does not have valid feature names, but StandardScaler was fitted with feature names\n",
      "  warnings.warn(\n",
      "/work/mehlc/2_IA_KINETICS/ai_reacting_flows/env_ia/lib/python3.9/site-packages/sklearn/base.py:409: UserWarning: X does not have valid feature names, but StandardScaler was fitted with feature names\n",
      "  warnings.warn(\n"
     ]
    },
    {
     "name": "stdout",
     "output_type": "stream",
     "text": [
      "1/1 [==============================] - 0s 18ms/step\n",
      "Current point in cluster: 2 \n",
      "\n",
      "1/1 [==============================] - 0s 18ms/step\n",
      "Current point in cluster: 2 \n",
      "\n",
      "1/1 [==============================] - 0s 18ms/step\n",
      "Current point in cluster: 2 \n",
      "\n",
      "1/1 [==============================] - 0s 18ms/step\n",
      "Current point in cluster: 2 \n",
      "\n"
     ]
    },
    {
     "name": "stderr",
     "output_type": "stream",
     "text": [
      "/work/mehlc/2_IA_KINETICS/ai_reacting_flows/env_ia/lib/python3.9/site-packages/sklearn/base.py:409: UserWarning: X does not have valid feature names, but StandardScaler was fitted with feature names\n",
      "  warnings.warn(\n",
      "/work/mehlc/2_IA_KINETICS/ai_reacting_flows/env_ia/lib/python3.9/site-packages/sklearn/base.py:409: UserWarning: X does not have valid feature names, but StandardScaler was fitted with feature names\n",
      "  warnings.warn(\n",
      "/work/mehlc/2_IA_KINETICS/ai_reacting_flows/env_ia/lib/python3.9/site-packages/sklearn/base.py:409: UserWarning: X does not have valid feature names, but StandardScaler was fitted with feature names\n",
      "  warnings.warn(\n",
      "/work/mehlc/2_IA_KINETICS/ai_reacting_flows/env_ia/lib/python3.9/site-packages/sklearn/base.py:409: UserWarning: X does not have valid feature names, but StandardScaler was fitted with feature names\n",
      "  warnings.warn(\n"
     ]
    },
    {
     "name": "stdout",
     "output_type": "stream",
     "text": [
      "1/1 [==============================] - 0s 18ms/step\n",
      "Current point in cluster: 2 \n",
      "\n",
      "1/1 [==============================] - 0s 20ms/step\n",
      "Current point in cluster: 2 \n",
      "\n",
      "1/1 [==============================] - 0s 19ms/step\n",
      "Current point in cluster: 2 \n",
      "\n",
      "1/1 [==============================] - 0s 18ms/step\n",
      "Current point in cluster: 2 \n",
      "\n"
     ]
    },
    {
     "name": "stderr",
     "output_type": "stream",
     "text": [
      "/work/mehlc/2_IA_KINETICS/ai_reacting_flows/env_ia/lib/python3.9/site-packages/sklearn/base.py:409: UserWarning: X does not have valid feature names, but StandardScaler was fitted with feature names\n",
      "  warnings.warn(\n",
      "/work/mehlc/2_IA_KINETICS/ai_reacting_flows/env_ia/lib/python3.9/site-packages/sklearn/base.py:409: UserWarning: X does not have valid feature names, but StandardScaler was fitted with feature names\n",
      "  warnings.warn(\n",
      "/work/mehlc/2_IA_KINETICS/ai_reacting_flows/env_ia/lib/python3.9/site-packages/sklearn/base.py:409: UserWarning: X does not have valid feature names, but StandardScaler was fitted with feature names\n",
      "  warnings.warn(\n",
      "/work/mehlc/2_IA_KINETICS/ai_reacting_flows/env_ia/lib/python3.9/site-packages/sklearn/base.py:409: UserWarning: X does not have valid feature names, but StandardScaler was fitted with feature names\n",
      "  warnings.warn(\n"
     ]
    },
    {
     "name": "stdout",
     "output_type": "stream",
     "text": [
      "1/1 [==============================] - 0s 19ms/step\n",
      "Current point in cluster: 2 \n",
      "\n",
      "1/1 [==============================] - 0s 19ms/step\n",
      "Current point in cluster: 2 \n",
      "\n",
      "1/1 [==============================] - 0s 18ms/step\n",
      "Current point in cluster: 2 \n",
      "\n",
      "1/1 [==============================] - 0s 18ms/step\n",
      "Current point in cluster: 2 \n",
      "\n"
     ]
    },
    {
     "name": "stderr",
     "output_type": "stream",
     "text": [
      "/work/mehlc/2_IA_KINETICS/ai_reacting_flows/env_ia/lib/python3.9/site-packages/sklearn/base.py:409: UserWarning: X does not have valid feature names, but StandardScaler was fitted with feature names\n",
      "  warnings.warn(\n",
      "/work/mehlc/2_IA_KINETICS/ai_reacting_flows/env_ia/lib/python3.9/site-packages/sklearn/base.py:409: UserWarning: X does not have valid feature names, but StandardScaler was fitted with feature names\n",
      "  warnings.warn(\n",
      "/work/mehlc/2_IA_KINETICS/ai_reacting_flows/env_ia/lib/python3.9/site-packages/sklearn/base.py:409: UserWarning: X does not have valid feature names, but StandardScaler was fitted with feature names\n",
      "  warnings.warn(\n",
      "/work/mehlc/2_IA_KINETICS/ai_reacting_flows/env_ia/lib/python3.9/site-packages/sklearn/base.py:409: UserWarning: X does not have valid feature names, but StandardScaler was fitted with feature names\n",
      "  warnings.warn(\n"
     ]
    },
    {
     "name": "stdout",
     "output_type": "stream",
     "text": [
      "1/1 [==============================] - 0s 18ms/step\n",
      "Current point in cluster: 2 \n",
      "\n",
      "1/1 [==============================] - 0s 18ms/step\n",
      "Current point in cluster: 2 \n",
      "\n",
      "1/1 [==============================] - 0s 19ms/step\n",
      "Current point in cluster: 2 \n",
      "\n",
      "1/1 [==============================] - 0s 18ms/step\n",
      "Current point in cluster: 2 \n",
      "\n"
     ]
    },
    {
     "name": "stderr",
     "output_type": "stream",
     "text": [
      "/work/mehlc/2_IA_KINETICS/ai_reacting_flows/env_ia/lib/python3.9/site-packages/sklearn/base.py:409: UserWarning: X does not have valid feature names, but StandardScaler was fitted with feature names\n",
      "  warnings.warn(\n",
      "/work/mehlc/2_IA_KINETICS/ai_reacting_flows/env_ia/lib/python3.9/site-packages/sklearn/base.py:409: UserWarning: X does not have valid feature names, but StandardScaler was fitted with feature names\n",
      "  warnings.warn(\n",
      "/work/mehlc/2_IA_KINETICS/ai_reacting_flows/env_ia/lib/python3.9/site-packages/sklearn/base.py:409: UserWarning: X does not have valid feature names, but StandardScaler was fitted with feature names\n",
      "  warnings.warn(\n",
      "/work/mehlc/2_IA_KINETICS/ai_reacting_flows/env_ia/lib/python3.9/site-packages/sklearn/base.py:409: UserWarning: X does not have valid feature names, but StandardScaler was fitted with feature names\n",
      "  warnings.warn(\n"
     ]
    },
    {
     "name": "stdout",
     "output_type": "stream",
     "text": [
      "1/1 [==============================] - 0s 19ms/step\n",
      "Current point in cluster: 2 \n",
      "\n",
      "1/1 [==============================] - 0s 18ms/step\n",
      "Current point in cluster: 2 \n",
      "\n",
      "1/1 [==============================] - 0s 19ms/step\n",
      "Current point in cluster: 2 \n",
      "\n",
      "1/1 [==============================] - 0s 19ms/step\n",
      "Current point in cluster: 2 \n",
      "\n"
     ]
    },
    {
     "name": "stderr",
     "output_type": "stream",
     "text": [
      "/work/mehlc/2_IA_KINETICS/ai_reacting_flows/env_ia/lib/python3.9/site-packages/sklearn/base.py:409: UserWarning: X does not have valid feature names, but StandardScaler was fitted with feature names\n",
      "  warnings.warn(\n",
      "/work/mehlc/2_IA_KINETICS/ai_reacting_flows/env_ia/lib/python3.9/site-packages/sklearn/base.py:409: UserWarning: X does not have valid feature names, but StandardScaler was fitted with feature names\n",
      "  warnings.warn(\n",
      "/work/mehlc/2_IA_KINETICS/ai_reacting_flows/env_ia/lib/python3.9/site-packages/sklearn/base.py:409: UserWarning: X does not have valid feature names, but StandardScaler was fitted with feature names\n",
      "  warnings.warn(\n",
      "/work/mehlc/2_IA_KINETICS/ai_reacting_flows/env_ia/lib/python3.9/site-packages/sklearn/base.py:409: UserWarning: X does not have valid feature names, but StandardScaler was fitted with feature names\n",
      "  warnings.warn(\n"
     ]
    },
    {
     "name": "stdout",
     "output_type": "stream",
     "text": [
      "1/1 [==============================] - 0s 18ms/step\n",
      "Current point in cluster: 2 \n",
      "\n",
      "1/1 [==============================] - 0s 18ms/step\n",
      "Current point in cluster: 2 \n",
      "\n",
      "1/1 [==============================] - 0s 19ms/step\n",
      "Current point in cluster: 2 \n",
      "\n",
      "1/1 [==============================] - 0s 18ms/step\n",
      "Current point in cluster: 2 \n",
      "\n"
     ]
    },
    {
     "name": "stderr",
     "output_type": "stream",
     "text": [
      "/work/mehlc/2_IA_KINETICS/ai_reacting_flows/env_ia/lib/python3.9/site-packages/sklearn/base.py:409: UserWarning: X does not have valid feature names, but StandardScaler was fitted with feature names\n",
      "  warnings.warn(\n",
      "/work/mehlc/2_IA_KINETICS/ai_reacting_flows/env_ia/lib/python3.9/site-packages/sklearn/base.py:409: UserWarning: X does not have valid feature names, but StandardScaler was fitted with feature names\n",
      "  warnings.warn(\n",
      "/work/mehlc/2_IA_KINETICS/ai_reacting_flows/env_ia/lib/python3.9/site-packages/sklearn/base.py:409: UserWarning: X does not have valid feature names, but StandardScaler was fitted with feature names\n",
      "  warnings.warn(\n",
      "/work/mehlc/2_IA_KINETICS/ai_reacting_flows/env_ia/lib/python3.9/site-packages/sklearn/base.py:409: UserWarning: X does not have valid feature names, but StandardScaler was fitted with feature names\n",
      "  warnings.warn(\n"
     ]
    },
    {
     "name": "stdout",
     "output_type": "stream",
     "text": [
      "1/1 [==============================] - 0s 18ms/step\n",
      "Current point in cluster: 2 \n",
      "\n",
      "1/1 [==============================] - 0s 18ms/step\n",
      "Current point in cluster: 2 \n",
      "\n",
      "1/1 [==============================] - 0s 18ms/step\n",
      "Current point in cluster: 2 \n",
      "\n",
      "1/1 [==============================] - 0s 18ms/step\n",
      "Current point in cluster: 2 \n",
      "\n"
     ]
    },
    {
     "name": "stderr",
     "output_type": "stream",
     "text": [
      "/work/mehlc/2_IA_KINETICS/ai_reacting_flows/env_ia/lib/python3.9/site-packages/sklearn/base.py:409: UserWarning: X does not have valid feature names, but StandardScaler was fitted with feature names\n",
      "  warnings.warn(\n",
      "/work/mehlc/2_IA_KINETICS/ai_reacting_flows/env_ia/lib/python3.9/site-packages/sklearn/base.py:409: UserWarning: X does not have valid feature names, but StandardScaler was fitted with feature names\n",
      "  warnings.warn(\n",
      "/work/mehlc/2_IA_KINETICS/ai_reacting_flows/env_ia/lib/python3.9/site-packages/sklearn/base.py:409: UserWarning: X does not have valid feature names, but StandardScaler was fitted with feature names\n",
      "  warnings.warn(\n",
      "/work/mehlc/2_IA_KINETICS/ai_reacting_flows/env_ia/lib/python3.9/site-packages/sklearn/base.py:409: UserWarning: X does not have valid feature names, but StandardScaler was fitted with feature names\n",
      "  warnings.warn(\n"
     ]
    },
    {
     "name": "stdout",
     "output_type": "stream",
     "text": [
      "1/1 [==============================] - 0s 19ms/step\n",
      "Current point in cluster: 2 \n",
      "\n",
      "1/1 [==============================] - 0s 18ms/step\n",
      "Current point in cluster: 2 \n",
      "\n",
      "1/1 [==============================] - 0s 18ms/step\n",
      "Current point in cluster: 2 \n",
      "\n",
      "1/1 [==============================] - 0s 18ms/step\n",
      "Current point in cluster: 2 \n",
      "\n"
     ]
    },
    {
     "name": "stderr",
     "output_type": "stream",
     "text": [
      "/work/mehlc/2_IA_KINETICS/ai_reacting_flows/env_ia/lib/python3.9/site-packages/sklearn/base.py:409: UserWarning: X does not have valid feature names, but StandardScaler was fitted with feature names\n",
      "  warnings.warn(\n",
      "/work/mehlc/2_IA_KINETICS/ai_reacting_flows/env_ia/lib/python3.9/site-packages/sklearn/base.py:409: UserWarning: X does not have valid feature names, but StandardScaler was fitted with feature names\n",
      "  warnings.warn(\n",
      "/work/mehlc/2_IA_KINETICS/ai_reacting_flows/env_ia/lib/python3.9/site-packages/sklearn/base.py:409: UserWarning: X does not have valid feature names, but StandardScaler was fitted with feature names\n",
      "  warnings.warn(\n",
      "/work/mehlc/2_IA_KINETICS/ai_reacting_flows/env_ia/lib/python3.9/site-packages/sklearn/base.py:409: UserWarning: X does not have valid feature names, but StandardScaler was fitted with feature names\n",
      "  warnings.warn(\n"
     ]
    },
    {
     "name": "stdout",
     "output_type": "stream",
     "text": [
      "1/1 [==============================] - 0s 18ms/step\n",
      "Current point in cluster: 2 \n",
      "\n",
      "1/1 [==============================] - 0s 18ms/step\n",
      "Current point in cluster: 2 \n",
      "\n",
      "1/1 [==============================] - 0s 18ms/step\n",
      "Current point in cluster: 2 \n",
      "\n",
      "1/1 [==============================] - 0s 18ms/step\n",
      "Current point in cluster: 2 \n",
      "\n"
     ]
    },
    {
     "name": "stderr",
     "output_type": "stream",
     "text": [
      "/work/mehlc/2_IA_KINETICS/ai_reacting_flows/env_ia/lib/python3.9/site-packages/sklearn/base.py:409: UserWarning: X does not have valid feature names, but StandardScaler was fitted with feature names\n",
      "  warnings.warn(\n",
      "/work/mehlc/2_IA_KINETICS/ai_reacting_flows/env_ia/lib/python3.9/site-packages/sklearn/base.py:409: UserWarning: X does not have valid feature names, but StandardScaler was fitted with feature names\n",
      "  warnings.warn(\n",
      "/work/mehlc/2_IA_KINETICS/ai_reacting_flows/env_ia/lib/python3.9/site-packages/sklearn/base.py:409: UserWarning: X does not have valid feature names, but StandardScaler was fitted with feature names\n",
      "  warnings.warn(\n",
      "/work/mehlc/2_IA_KINETICS/ai_reacting_flows/env_ia/lib/python3.9/site-packages/sklearn/base.py:409: UserWarning: X does not have valid feature names, but StandardScaler was fitted with feature names\n",
      "  warnings.warn(\n"
     ]
    },
    {
     "name": "stdout",
     "output_type": "stream",
     "text": [
      "1/1 [==============================] - 0s 18ms/step\n",
      "Current point in cluster: 2 \n",
      "\n",
      "1/1 [==============================] - 0s 19ms/step\n",
      "Current point in cluster: 2 \n",
      "\n",
      "1/1 [==============================] - 0s 18ms/step\n",
      "Current point in cluster: 2 \n",
      "\n",
      "1/1 [==============================] - 0s 18ms/step\n",
      "Current point in cluster: 2 \n",
      "\n"
     ]
    },
    {
     "name": "stderr",
     "output_type": "stream",
     "text": [
      "/work/mehlc/2_IA_KINETICS/ai_reacting_flows/env_ia/lib/python3.9/site-packages/sklearn/base.py:409: UserWarning: X does not have valid feature names, but StandardScaler was fitted with feature names\n",
      "  warnings.warn(\n",
      "/work/mehlc/2_IA_KINETICS/ai_reacting_flows/env_ia/lib/python3.9/site-packages/sklearn/base.py:409: UserWarning: X does not have valid feature names, but StandardScaler was fitted with feature names\n",
      "  warnings.warn(\n",
      "/work/mehlc/2_IA_KINETICS/ai_reacting_flows/env_ia/lib/python3.9/site-packages/sklearn/base.py:409: UserWarning: X does not have valid feature names, but StandardScaler was fitted with feature names\n",
      "  warnings.warn(\n",
      "/work/mehlc/2_IA_KINETICS/ai_reacting_flows/env_ia/lib/python3.9/site-packages/sklearn/base.py:409: UserWarning: X does not have valid feature names, but StandardScaler was fitted with feature names\n",
      "  warnings.warn(\n"
     ]
    },
    {
     "name": "stdout",
     "output_type": "stream",
     "text": [
      "1/1 [==============================] - 0s 18ms/step\n",
      "Current point in cluster: 2 \n",
      "\n",
      "1/1 [==============================] - 0s 18ms/step\n",
      "Current point in cluster: 2 \n",
      "\n",
      "1/1 [==============================] - 0s 18ms/step\n",
      "Current point in cluster: 2 \n",
      "\n",
      "1/1 [==============================] - 0s 18ms/step\n",
      "Current point in cluster: 2 \n",
      "\n"
     ]
    },
    {
     "name": "stderr",
     "output_type": "stream",
     "text": [
      "/work/mehlc/2_IA_KINETICS/ai_reacting_flows/env_ia/lib/python3.9/site-packages/sklearn/base.py:409: UserWarning: X does not have valid feature names, but StandardScaler was fitted with feature names\n",
      "  warnings.warn(\n",
      "/work/mehlc/2_IA_KINETICS/ai_reacting_flows/env_ia/lib/python3.9/site-packages/sklearn/base.py:409: UserWarning: X does not have valid feature names, but StandardScaler was fitted with feature names\n",
      "  warnings.warn(\n",
      "/work/mehlc/2_IA_KINETICS/ai_reacting_flows/env_ia/lib/python3.9/site-packages/sklearn/base.py:409: UserWarning: X does not have valid feature names, but StandardScaler was fitted with feature names\n",
      "  warnings.warn(\n",
      "/work/mehlc/2_IA_KINETICS/ai_reacting_flows/env_ia/lib/python3.9/site-packages/sklearn/base.py:409: UserWarning: X does not have valid feature names, but StandardScaler was fitted with feature names\n",
      "  warnings.warn(\n"
     ]
    },
    {
     "name": "stdout",
     "output_type": "stream",
     "text": [
      "1/1 [==============================] - 0s 18ms/step\n",
      "Current point in cluster: 2 \n",
      "\n",
      "1/1 [==============================] - 0s 18ms/step\n",
      "Current point in cluster: 2 \n",
      "\n",
      "1/1 [==============================] - 0s 19ms/step\n",
      "Current point in cluster: 2 \n",
      "\n",
      "1/1 [==============================] - 0s 18ms/step\n",
      "Current point in cluster: 2 \n",
      "\n"
     ]
    },
    {
     "name": "stderr",
     "output_type": "stream",
     "text": [
      "/work/mehlc/2_IA_KINETICS/ai_reacting_flows/env_ia/lib/python3.9/site-packages/sklearn/base.py:409: UserWarning: X does not have valid feature names, but StandardScaler was fitted with feature names\n",
      "  warnings.warn(\n",
      "/work/mehlc/2_IA_KINETICS/ai_reacting_flows/env_ia/lib/python3.9/site-packages/sklearn/base.py:409: UserWarning: X does not have valid feature names, but StandardScaler was fitted with feature names\n",
      "  warnings.warn(\n",
      "/work/mehlc/2_IA_KINETICS/ai_reacting_flows/env_ia/lib/python3.9/site-packages/sklearn/base.py:409: UserWarning: X does not have valid feature names, but StandardScaler was fitted with feature names\n",
      "  warnings.warn(\n",
      "/work/mehlc/2_IA_KINETICS/ai_reacting_flows/env_ia/lib/python3.9/site-packages/sklearn/base.py:409: UserWarning: X does not have valid feature names, but StandardScaler was fitted with feature names\n",
      "  warnings.warn(\n"
     ]
    },
    {
     "name": "stdout",
     "output_type": "stream",
     "text": [
      "1/1 [==============================] - 0s 17ms/step\n",
      "Current point in cluster: 2 \n",
      "\n",
      "1/1 [==============================] - 0s 18ms/step\n",
      "Current point in cluster: 2 \n",
      "\n",
      "1/1 [==============================] - 0s 18ms/step\n",
      "Current point in cluster: 2 \n",
      "\n",
      "1/1 [==============================] - 0s 18ms/step\n",
      "Current point in cluster: 2 \n",
      "\n"
     ]
    },
    {
     "name": "stderr",
     "output_type": "stream",
     "text": [
      "/work/mehlc/2_IA_KINETICS/ai_reacting_flows/env_ia/lib/python3.9/site-packages/sklearn/base.py:409: UserWarning: X does not have valid feature names, but StandardScaler was fitted with feature names\n",
      "  warnings.warn(\n",
      "/work/mehlc/2_IA_KINETICS/ai_reacting_flows/env_ia/lib/python3.9/site-packages/sklearn/base.py:409: UserWarning: X does not have valid feature names, but StandardScaler was fitted with feature names\n",
      "  warnings.warn(\n",
      "/work/mehlc/2_IA_KINETICS/ai_reacting_flows/env_ia/lib/python3.9/site-packages/sklearn/base.py:409: UserWarning: X does not have valid feature names, but StandardScaler was fitted with feature names\n",
      "  warnings.warn(\n",
      "/work/mehlc/2_IA_KINETICS/ai_reacting_flows/env_ia/lib/python3.9/site-packages/sklearn/base.py:409: UserWarning: X does not have valid feature names, but StandardScaler was fitted with feature names\n",
      "  warnings.warn(\n"
     ]
    },
    {
     "name": "stdout",
     "output_type": "stream",
     "text": [
      "1/1 [==============================] - 0s 18ms/step\n",
      "Current point in cluster: 2 \n",
      "\n",
      "1/1 [==============================] - 0s 22ms/step\n",
      "Current point in cluster: 2 \n",
      "\n",
      "1/1 [==============================] - 0s 18ms/step\n",
      "Current point in cluster: 2 \n",
      "\n",
      "1/1 [==============================] - 0s 19ms/step\n",
      "Current point in cluster: 2 \n",
      "\n"
     ]
    },
    {
     "name": "stderr",
     "output_type": "stream",
     "text": [
      "/work/mehlc/2_IA_KINETICS/ai_reacting_flows/env_ia/lib/python3.9/site-packages/sklearn/base.py:409: UserWarning: X does not have valid feature names, but StandardScaler was fitted with feature names\n",
      "  warnings.warn(\n",
      "/work/mehlc/2_IA_KINETICS/ai_reacting_flows/env_ia/lib/python3.9/site-packages/sklearn/base.py:409: UserWarning: X does not have valid feature names, but StandardScaler was fitted with feature names\n",
      "  warnings.warn(\n",
      "/work/mehlc/2_IA_KINETICS/ai_reacting_flows/env_ia/lib/python3.9/site-packages/sklearn/base.py:409: UserWarning: X does not have valid feature names, but StandardScaler was fitted with feature names\n",
      "  warnings.warn(\n",
      "/work/mehlc/2_IA_KINETICS/ai_reacting_flows/env_ia/lib/python3.9/site-packages/sklearn/base.py:409: UserWarning: X does not have valid feature names, but StandardScaler was fitted with feature names\n",
      "  warnings.warn(\n"
     ]
    },
    {
     "name": "stdout",
     "output_type": "stream",
     "text": [
      "1/1 [==============================] - 0s 19ms/step\n",
      "Current point in cluster: 2 \n",
      "\n",
      "1/1 [==============================] - 0s 18ms/step\n",
      "Current point in cluster: 2 \n",
      "\n",
      "1/1 [==============================] - 0s 17ms/step\n",
      "Current point in cluster: 2 \n",
      "\n",
      "1/1 [==============================] - 0s 17ms/step\n",
      "Current point in cluster: 2 \n",
      "\n"
     ]
    },
    {
     "name": "stderr",
     "output_type": "stream",
     "text": [
      "/work/mehlc/2_IA_KINETICS/ai_reacting_flows/env_ia/lib/python3.9/site-packages/sklearn/base.py:409: UserWarning: X does not have valid feature names, but StandardScaler was fitted with feature names\n",
      "  warnings.warn(\n",
      "/work/mehlc/2_IA_KINETICS/ai_reacting_flows/env_ia/lib/python3.9/site-packages/sklearn/base.py:409: UserWarning: X does not have valid feature names, but StandardScaler was fitted with feature names\n",
      "  warnings.warn(\n",
      "/work/mehlc/2_IA_KINETICS/ai_reacting_flows/env_ia/lib/python3.9/site-packages/sklearn/base.py:409: UserWarning: X does not have valid feature names, but StandardScaler was fitted with feature names\n",
      "  warnings.warn(\n",
      "/work/mehlc/2_IA_KINETICS/ai_reacting_flows/env_ia/lib/python3.9/site-packages/sklearn/base.py:409: UserWarning: X does not have valid feature names, but StandardScaler was fitted with feature names\n",
      "  warnings.warn(\n"
     ]
    },
    {
     "name": "stdout",
     "output_type": "stream",
     "text": [
      "1/1 [==============================] - 0s 18ms/step\n",
      "Current point in cluster: 2 \n",
      "\n",
      "1/1 [==============================] - 0s 17ms/step\n",
      "Current point in cluster: 2 \n",
      "\n",
      "1/1 [==============================] - 0s 18ms/step\n",
      "Current point in cluster: 2 \n",
      "\n",
      "1/1 [==============================] - 0s 17ms/step\n",
      "Current point in cluster: 2 \n",
      "\n"
     ]
    },
    {
     "name": "stderr",
     "output_type": "stream",
     "text": [
      "/work/mehlc/2_IA_KINETICS/ai_reacting_flows/env_ia/lib/python3.9/site-packages/sklearn/base.py:409: UserWarning: X does not have valid feature names, but StandardScaler was fitted with feature names\n",
      "  warnings.warn(\n",
      "/work/mehlc/2_IA_KINETICS/ai_reacting_flows/env_ia/lib/python3.9/site-packages/sklearn/base.py:409: UserWarning: X does not have valid feature names, but StandardScaler was fitted with feature names\n",
      "  warnings.warn(\n",
      "/work/mehlc/2_IA_KINETICS/ai_reacting_flows/env_ia/lib/python3.9/site-packages/sklearn/base.py:409: UserWarning: X does not have valid feature names, but StandardScaler was fitted with feature names\n",
      "  warnings.warn(\n",
      "/work/mehlc/2_IA_KINETICS/ai_reacting_flows/env_ia/lib/python3.9/site-packages/sklearn/base.py:409: UserWarning: X does not have valid feature names, but StandardScaler was fitted with feature names\n",
      "  warnings.warn(\n"
     ]
    },
    {
     "name": "stdout",
     "output_type": "stream",
     "text": [
      "1/1 [==============================] - 0s 18ms/step\n",
      "Current point in cluster: 2 \n",
      "\n",
      "1/1 [==============================] - 0s 18ms/step\n",
      "Current point in cluster: 2 \n",
      "\n",
      "1/1 [==============================] - 0s 18ms/step\n",
      "Current point in cluster: 2 \n",
      "\n",
      "1/1 [==============================] - 0s 18ms/step\n",
      "Current point in cluster: 2 \n",
      "\n"
     ]
    },
    {
     "name": "stderr",
     "output_type": "stream",
     "text": [
      "/work/mehlc/2_IA_KINETICS/ai_reacting_flows/env_ia/lib/python3.9/site-packages/sklearn/base.py:409: UserWarning: X does not have valid feature names, but StandardScaler was fitted with feature names\n",
      "  warnings.warn(\n",
      "/work/mehlc/2_IA_KINETICS/ai_reacting_flows/env_ia/lib/python3.9/site-packages/sklearn/base.py:409: UserWarning: X does not have valid feature names, but StandardScaler was fitted with feature names\n",
      "  warnings.warn(\n",
      "/work/mehlc/2_IA_KINETICS/ai_reacting_flows/env_ia/lib/python3.9/site-packages/sklearn/base.py:409: UserWarning: X does not have valid feature names, but StandardScaler was fitted with feature names\n",
      "  warnings.warn(\n",
      "/work/mehlc/2_IA_KINETICS/ai_reacting_flows/env_ia/lib/python3.9/site-packages/sklearn/base.py:409: UserWarning: X does not have valid feature names, but StandardScaler was fitted with feature names\n",
      "  warnings.warn(\n"
     ]
    },
    {
     "name": "stdout",
     "output_type": "stream",
     "text": [
      "1/1 [==============================] - 0s 18ms/step\n",
      "Current point in cluster: 2 \n",
      "\n",
      "1/1 [==============================] - 0s 20ms/step\n",
      "Current point in cluster: 2 \n",
      "\n",
      "1/1 [==============================] - 0s 18ms/step\n",
      "Current point in cluster: 2 \n",
      "\n",
      "1/1 [==============================] - 0s 18ms/step\n",
      "Current point in cluster: 2 \n",
      "\n"
     ]
    },
    {
     "name": "stderr",
     "output_type": "stream",
     "text": [
      "/work/mehlc/2_IA_KINETICS/ai_reacting_flows/env_ia/lib/python3.9/site-packages/sklearn/base.py:409: UserWarning: X does not have valid feature names, but StandardScaler was fitted with feature names\n",
      "  warnings.warn(\n",
      "/work/mehlc/2_IA_KINETICS/ai_reacting_flows/env_ia/lib/python3.9/site-packages/sklearn/base.py:409: UserWarning: X does not have valid feature names, but StandardScaler was fitted with feature names\n",
      "  warnings.warn(\n",
      "/work/mehlc/2_IA_KINETICS/ai_reacting_flows/env_ia/lib/python3.9/site-packages/sklearn/base.py:409: UserWarning: X does not have valid feature names, but StandardScaler was fitted with feature names\n",
      "  warnings.warn(\n",
      "/work/mehlc/2_IA_KINETICS/ai_reacting_flows/env_ia/lib/python3.9/site-packages/sklearn/base.py:409: UserWarning: X does not have valid feature names, but StandardScaler was fitted with feature names\n",
      "  warnings.warn(\n"
     ]
    },
    {
     "name": "stdout",
     "output_type": "stream",
     "text": [
      "1/1 [==============================] - 0s 19ms/step\n",
      "Current point in cluster: 2 \n",
      "\n",
      "1/1 [==============================] - 0s 18ms/step\n",
      "Current point in cluster: 2 \n",
      "\n",
      "1/1 [==============================] - 0s 19ms/step\n",
      "Current point in cluster: 2 \n",
      "\n",
      "1/1 [==============================] - 0s 18ms/step\n",
      "Current point in cluster: 2 \n",
      "\n"
     ]
    },
    {
     "name": "stderr",
     "output_type": "stream",
     "text": [
      "/work/mehlc/2_IA_KINETICS/ai_reacting_flows/env_ia/lib/python3.9/site-packages/sklearn/base.py:409: UserWarning: X does not have valid feature names, but StandardScaler was fitted with feature names\n",
      "  warnings.warn(\n",
      "/work/mehlc/2_IA_KINETICS/ai_reacting_flows/env_ia/lib/python3.9/site-packages/sklearn/base.py:409: UserWarning: X does not have valid feature names, but StandardScaler was fitted with feature names\n",
      "  warnings.warn(\n",
      "/work/mehlc/2_IA_KINETICS/ai_reacting_flows/env_ia/lib/python3.9/site-packages/sklearn/base.py:409: UserWarning: X does not have valid feature names, but StandardScaler was fitted with feature names\n",
      "  warnings.warn(\n",
      "/work/mehlc/2_IA_KINETICS/ai_reacting_flows/env_ia/lib/python3.9/site-packages/sklearn/base.py:409: UserWarning: X does not have valid feature names, but StandardScaler was fitted with feature names\n",
      "  warnings.warn(\n"
     ]
    },
    {
     "name": "stdout",
     "output_type": "stream",
     "text": [
      "1/1 [==============================] - 0s 17ms/step\n",
      "Current point in cluster: 2 \n",
      "\n",
      "1/1 [==============================] - 0s 18ms/step\n",
      "Current point in cluster: 2 \n",
      "\n",
      "1/1 [==============================] - 0s 18ms/step\n",
      "Current point in cluster: 2 \n",
      "\n",
      "1/1 [==============================] - 0s 18ms/step\n",
      "Current point in cluster: 2 \n",
      "\n"
     ]
    },
    {
     "name": "stderr",
     "output_type": "stream",
     "text": [
      "/work/mehlc/2_IA_KINETICS/ai_reacting_flows/env_ia/lib/python3.9/site-packages/sklearn/base.py:409: UserWarning: X does not have valid feature names, but StandardScaler was fitted with feature names\n",
      "  warnings.warn(\n",
      "/work/mehlc/2_IA_KINETICS/ai_reacting_flows/env_ia/lib/python3.9/site-packages/sklearn/base.py:409: UserWarning: X does not have valid feature names, but StandardScaler was fitted with feature names\n",
      "  warnings.warn(\n",
      "/work/mehlc/2_IA_KINETICS/ai_reacting_flows/env_ia/lib/python3.9/site-packages/sklearn/base.py:409: UserWarning: X does not have valid feature names, but StandardScaler was fitted with feature names\n",
      "  warnings.warn(\n",
      "/work/mehlc/2_IA_KINETICS/ai_reacting_flows/env_ia/lib/python3.9/site-packages/sklearn/base.py:409: UserWarning: X does not have valid feature names, but StandardScaler was fitted with feature names\n",
      "  warnings.warn(\n"
     ]
    },
    {
     "name": "stdout",
     "output_type": "stream",
     "text": [
      "1/1 [==============================] - 0s 18ms/step\n",
      "Current point in cluster: 2 \n",
      "\n",
      "1/1 [==============================] - 0s 25ms/step\n",
      "Current point in cluster: 2 \n",
      "\n",
      "1/1 [==============================] - 0s 18ms/step\n",
      "Current point in cluster: 2 \n",
      "\n",
      "1/1 [==============================] - 0s 19ms/step\n",
      "Current point in cluster: 2 \n",
      "\n"
     ]
    },
    {
     "name": "stderr",
     "output_type": "stream",
     "text": [
      "/work/mehlc/2_IA_KINETICS/ai_reacting_flows/env_ia/lib/python3.9/site-packages/sklearn/base.py:409: UserWarning: X does not have valid feature names, but StandardScaler was fitted with feature names\n",
      "  warnings.warn(\n",
      "/work/mehlc/2_IA_KINETICS/ai_reacting_flows/env_ia/lib/python3.9/site-packages/sklearn/base.py:409: UserWarning: X does not have valid feature names, but StandardScaler was fitted with feature names\n",
      "  warnings.warn(\n",
      "/work/mehlc/2_IA_KINETICS/ai_reacting_flows/env_ia/lib/python3.9/site-packages/sklearn/base.py:409: UserWarning: X does not have valid feature names, but StandardScaler was fitted with feature names\n",
      "  warnings.warn(\n",
      "/work/mehlc/2_IA_KINETICS/ai_reacting_flows/env_ia/lib/python3.9/site-packages/sklearn/base.py:409: UserWarning: X does not have valid feature names, but StandardScaler was fitted with feature names\n",
      "  warnings.warn(\n"
     ]
    },
    {
     "name": "stdout",
     "output_type": "stream",
     "text": [
      "1/1 [==============================] - 0s 18ms/step\n",
      "Current point in cluster: 2 \n",
      "\n",
      "1/1 [==============================] - 0s 18ms/step\n",
      "Current point in cluster: 2 \n",
      "\n",
      "1/1 [==============================] - 0s 18ms/step\n",
      "Current point in cluster: 2 \n",
      "\n",
      "1/1 [==============================] - 0s 17ms/step\n",
      "Current point in cluster: 2 \n",
      "\n"
     ]
    },
    {
     "name": "stderr",
     "output_type": "stream",
     "text": [
      "/work/mehlc/2_IA_KINETICS/ai_reacting_flows/env_ia/lib/python3.9/site-packages/sklearn/base.py:409: UserWarning: X does not have valid feature names, but StandardScaler was fitted with feature names\n",
      "  warnings.warn(\n",
      "/work/mehlc/2_IA_KINETICS/ai_reacting_flows/env_ia/lib/python3.9/site-packages/sklearn/base.py:409: UserWarning: X does not have valid feature names, but StandardScaler was fitted with feature names\n",
      "  warnings.warn(\n",
      "/work/mehlc/2_IA_KINETICS/ai_reacting_flows/env_ia/lib/python3.9/site-packages/sklearn/base.py:409: UserWarning: X does not have valid feature names, but StandardScaler was fitted with feature names\n",
      "  warnings.warn(\n",
      "/work/mehlc/2_IA_KINETICS/ai_reacting_flows/env_ia/lib/python3.9/site-packages/sklearn/base.py:409: UserWarning: X does not have valid feature names, but StandardScaler was fitted with feature names\n",
      "  warnings.warn(\n"
     ]
    },
    {
     "name": "stdout",
     "output_type": "stream",
     "text": [
      "1/1 [==============================] - 0s 18ms/step\n",
      "Current point in cluster: 2 \n",
      "\n",
      "1/1 [==============================] - 0s 17ms/step\n",
      "Current point in cluster: 2 \n",
      "\n",
      "1/1 [==============================] - 0s 18ms/step\n",
      "Current point in cluster: 2 \n",
      "\n",
      "1/1 [==============================] - 0s 18ms/step\n",
      "Current point in cluster: 2 \n",
      "\n"
     ]
    },
    {
     "name": "stderr",
     "output_type": "stream",
     "text": [
      "/work/mehlc/2_IA_KINETICS/ai_reacting_flows/env_ia/lib/python3.9/site-packages/sklearn/base.py:409: UserWarning: X does not have valid feature names, but StandardScaler was fitted with feature names\n",
      "  warnings.warn(\n",
      "/work/mehlc/2_IA_KINETICS/ai_reacting_flows/env_ia/lib/python3.9/site-packages/sklearn/base.py:409: UserWarning: X does not have valid feature names, but StandardScaler was fitted with feature names\n",
      "  warnings.warn(\n",
      "/work/mehlc/2_IA_KINETICS/ai_reacting_flows/env_ia/lib/python3.9/site-packages/sklearn/base.py:409: UserWarning: X does not have valid feature names, but StandardScaler was fitted with feature names\n",
      "  warnings.warn(\n",
      "/work/mehlc/2_IA_KINETICS/ai_reacting_flows/env_ia/lib/python3.9/site-packages/sklearn/base.py:409: UserWarning: X does not have valid feature names, but StandardScaler was fitted with feature names\n",
      "  warnings.warn(\n"
     ]
    },
    {
     "name": "stdout",
     "output_type": "stream",
     "text": [
      "1/1 [==============================] - 0s 18ms/step\n",
      "Current point in cluster: 2 \n",
      "\n",
      "1/1 [==============================] - 0s 18ms/step\n",
      "Current point in cluster: 2 \n",
      "\n",
      "1/1 [==============================] - 0s 17ms/step\n",
      "Current point in cluster: 2 \n",
      "\n",
      "1/1 [==============================] - 0s 17ms/step\n",
      "Current point in cluster: 2 \n",
      "\n"
     ]
    },
    {
     "name": "stderr",
     "output_type": "stream",
     "text": [
      "/work/mehlc/2_IA_KINETICS/ai_reacting_flows/env_ia/lib/python3.9/site-packages/sklearn/base.py:409: UserWarning: X does not have valid feature names, but StandardScaler was fitted with feature names\n",
      "  warnings.warn(\n",
      "/work/mehlc/2_IA_KINETICS/ai_reacting_flows/env_ia/lib/python3.9/site-packages/sklearn/base.py:409: UserWarning: X does not have valid feature names, but StandardScaler was fitted with feature names\n",
      "  warnings.warn(\n",
      "/work/mehlc/2_IA_KINETICS/ai_reacting_flows/env_ia/lib/python3.9/site-packages/sklearn/base.py:409: UserWarning: X does not have valid feature names, but StandardScaler was fitted with feature names\n",
      "  warnings.warn(\n",
      "/work/mehlc/2_IA_KINETICS/ai_reacting_flows/env_ia/lib/python3.9/site-packages/sklearn/base.py:409: UserWarning: X does not have valid feature names, but StandardScaler was fitted with feature names\n",
      "  warnings.warn(\n"
     ]
    },
    {
     "name": "stdout",
     "output_type": "stream",
     "text": [
      "1/1 [==============================] - 0s 18ms/step\n",
      "Current point in cluster: 2 \n",
      "\n",
      "1/1 [==============================] - 0s 18ms/step\n",
      "Current point in cluster: 2 \n",
      "\n",
      "1/1 [==============================] - 0s 17ms/step\n",
      "Current point in cluster: 2 \n",
      "\n",
      "1/1 [==============================] - 0s 18ms/step\n",
      "Current point in cluster: 2 \n",
      "\n"
     ]
    },
    {
     "name": "stderr",
     "output_type": "stream",
     "text": [
      "/work/mehlc/2_IA_KINETICS/ai_reacting_flows/env_ia/lib/python3.9/site-packages/sklearn/base.py:409: UserWarning: X does not have valid feature names, but StandardScaler was fitted with feature names\n",
      "  warnings.warn(\n",
      "/work/mehlc/2_IA_KINETICS/ai_reacting_flows/env_ia/lib/python3.9/site-packages/sklearn/base.py:409: UserWarning: X does not have valid feature names, but StandardScaler was fitted with feature names\n",
      "  warnings.warn(\n",
      "/work/mehlc/2_IA_KINETICS/ai_reacting_flows/env_ia/lib/python3.9/site-packages/sklearn/base.py:409: UserWarning: X does not have valid feature names, but StandardScaler was fitted with feature names\n",
      "  warnings.warn(\n",
      "/work/mehlc/2_IA_KINETICS/ai_reacting_flows/env_ia/lib/python3.9/site-packages/sklearn/base.py:409: UserWarning: X does not have valid feature names, but StandardScaler was fitted with feature names\n",
      "  warnings.warn(\n"
     ]
    },
    {
     "name": "stdout",
     "output_type": "stream",
     "text": [
      "1/1 [==============================] - 0s 18ms/step\n",
      "Current point in cluster: 2 \n",
      "\n",
      "1/1 [==============================] - 0s 19ms/step\n",
      "Current point in cluster: 2 \n",
      "\n",
      "1/1 [==============================] - 0s 18ms/step\n",
      "Current point in cluster: 2 \n",
      "\n",
      "1/1 [==============================] - 0s 18ms/step\n",
      "Current point in cluster: 2 \n",
      "\n"
     ]
    },
    {
     "name": "stderr",
     "output_type": "stream",
     "text": [
      "/work/mehlc/2_IA_KINETICS/ai_reacting_flows/env_ia/lib/python3.9/site-packages/sklearn/base.py:409: UserWarning: X does not have valid feature names, but StandardScaler was fitted with feature names\n",
      "  warnings.warn(\n",
      "/work/mehlc/2_IA_KINETICS/ai_reacting_flows/env_ia/lib/python3.9/site-packages/sklearn/base.py:409: UserWarning: X does not have valid feature names, but StandardScaler was fitted with feature names\n",
      "  warnings.warn(\n",
      "/work/mehlc/2_IA_KINETICS/ai_reacting_flows/env_ia/lib/python3.9/site-packages/sklearn/base.py:409: UserWarning: X does not have valid feature names, but StandardScaler was fitted with feature names\n",
      "  warnings.warn(\n",
      "/work/mehlc/2_IA_KINETICS/ai_reacting_flows/env_ia/lib/python3.9/site-packages/sklearn/base.py:409: UserWarning: X does not have valid feature names, but StandardScaler was fitted with feature names\n",
      "  warnings.warn(\n"
     ]
    },
    {
     "name": "stdout",
     "output_type": "stream",
     "text": [
      "1/1 [==============================] - 0s 17ms/step\n",
      "Current point in cluster: 2 \n",
      "\n",
      "1/1 [==============================] - 0s 17ms/step\n",
      "\n",
      "Error on equilibrium flame temperature is: 0.9915571022369514 % \n",
      "\n",
      "\n",
      " NUMBER OF CALLS TO SOLVERS:\n",
      "   >>> Number of ANN calls: 1000\n",
      "   >>> Number of CVODE calls: 0\n"
     ]
    },
    {
     "name": "stderr",
     "output_type": "stream",
     "text": [
      "/work/mehlc/2_IA_KINETICS/ai_reacting_flows/env_ia/lib/python3.9/site-packages/sklearn/base.py:409: UserWarning: X does not have valid feature names, but StandardScaler was fitted with feature names\n",
      "  warnings.warn(\n",
      "/work/mehlc/2_IA_KINETICS/ai_reacting_flows/ai_reacting_flows/ann_model_generation/model_testing.py:351: UserWarning: Attempting to set identical low and high ylims makes transformation singular; automatically expanding.\n",
      "  axs3[0,0].set_ylim([atomic_cons[0,0]*ratio_scale_down,atomic_cons[0,0]*ratio_scale_up])\n"
     ]
    },
    {
     "data": {
      "image/png": "[encoded data removed]",
      "text/plain": [
       "<Figure size 640x480 with 1 Axes>"
      ]
     },
     "metadata": {},
     "output_type": "display_data"
    },
    {
     "data": {
      "image/png": "[encoded data removed]",
      "text/plain": [
       "<Figure size 640x480 with 1 Axes>"
      ]
     },
     "metadata": {},
     "output_type": "display_data"
    },
    {
     "data": {
      "image/png": "[encoded data removed]",
      "text/plain": [
       "<Figure size 640x480 with 1 Axes>"
      ]
     },
     "metadata": {},
     "output_type": "display_data"
    },
    {
     "data": {
      "image/png": "[encoded data removed]",
      "text/plain": [
       "<Figure size 640x480 with 1 Axes>"
      ]
     },
     "metadata": {},
     "output_type": "display_data"
    },
    {
     "data": {
      "image/png": "[encoded data removed]",
      "text/plain": [
       "<Figure size 640x480 with 1 Axes>"
      ]
     },
     "metadata": {},
     "output_type": "display_data"
    },
    {
     "data": {
      "image/png": "[encoded data removed]",
      "text/plain": [
       "<Figure size 640x480 with 1 Axes>"
      ]
     },
     "metadata": {},
     "output_type": "display_data"
    },
    {
     "data": {
      "image/png": "[encoded data removed]",
      "text/plain": [
       "<Figure size 640x480 with 1 Axes>"
      ]
     },
     "metadata": {},
     "output_type": "display_data"
    },
    {
     "data": {
      "image/png": "[encoded data removed]",
      "text/plain": [
       "<Figure size 640x480 with 4 Axes>"
      ]
     },
     "metadata": {},
     "output_type": "display_data"
    }
   ],
   "source": [
    "phi = 0.4\n",
    "T0 = 1200.0\n",
    "pressure = 101325.0\n",
    "dt = 0.5e-6\n",
    "nb_ite = 1000\n",
    "\n",
    "test.test_0D_ignition(phi, T0, pressure, dt, nb_ite)"
   ]
  },
  {
   "cell_type": "markdown",
   "metadata": {},
   "source": [
    "Another test, if the ANN has been built for that, is to assess its ability to reproduce laminar premixed flames. The test here is *a priori*, in the sense that we take a CANTERA converged solution, and compare the exact reaction rate to the ANN reaction rate. For a species $k$, if the exact solution is written $Y_k$, the local reaction rate is estimated as:\n",
    "\n",
    "$$ \\dot{\\omega}_k = \\frac{Y_k(dt) - Y_k}{dt} $$\n",
    "\n",
    "where $Y_k(dt)$ is the solution $Y_k$ advanced by a time increment $dt$, estimated using either CVODE or ANN."
   ]
  },
  {
   "cell_type": "code",
   "execution_count": 45,
   "metadata": {},
   "outputs": [
    {
     "name": "stdout",
     "output_type": "stream",
     "text": [
      "Computing Cantera 1D flame with T0 = 300.0 K and phi = 0.4\n",
      "Current point in cluster: 0 \n",
      "\n",
      "Current point in cluster: 0 \n",
      "\n",
      "Current point in cluster: 0 \n",
      "\n",
      "Current point in cluster: 0 \n",
      "\n",
      "Current point in cluster: 0 \n",
      "\n",
      "Current point in cluster: 0 \n",
      "\n",
      "Current point in cluster: 0 \n",
      "\n",
      "Current point in cluster: 0 \n",
      "\n",
      "Current point in cluster: 0 \n",
      "\n",
      "Current point in cluster: 0 \n",
      "\n",
      "Current point in cluster: 0 \n",
      "\n",
      "Current point in cluster: 0 \n",
      "\n",
      "Current point in cluster: 0 \n",
      "\n",
      "Current point in cluster: 0 \n",
      "\n",
      "Current point in cluster: 0 \n",
      "\n",
      "Current point in cluster: 0 \n",
      "\n",
      "Current point in cluster: 0 \n",
      "\n",
      "Current point in cluster: 0 \n",
      "\n",
      "Current point in cluster: 0 \n",
      "\n",
      "Current point in cluster: 0 \n",
      "\n",
      "Current point in cluster: 0 \n",
      "\n",
      "Current point in cluster: 0 \n",
      "\n",
      "Current point in cluster: 0 \n",
      "\n",
      "Current point in cluster: 0 \n",
      "\n",
      "Current point in cluster: 0 \n",
      "\n",
      "Current point in cluster: 0 \n",
      "\n",
      "Current point in cluster: 0 \n",
      "\n",
      "Current point in cluster: 0 \n",
      "\n",
      "Current point in cluster: 0 \n",
      "\n",
      "Current point in cluster: 0 \n",
      "\n",
      "Current point in cluster: 0 \n",
      "\n",
      "Current point in cluster: 0 \n",
      "\n",
      "Current point in cluster: 0 \n",
      "\n",
      "Current point in cluster: 0 \n",
      "\n",
      "Current point in cluster: 0 \n",
      "\n",
      "Current point in cluster: 0 \n",
      "\n",
      "Current point in cluster: 0 \n",
      "\n",
      "Current point in cluster: 0 \n",
      "\n",
      "Current point in cluster: 0 \n",
      "\n",
      "Current point in cluster: 0 \n",
      "\n",
      "Current point in cluster: 0 \n",
      "\n",
      "Current point in cluster: 0 \n",
      "\n",
      "Current point in cluster: 1 \n",
      "\n",
      "Current point in cluster: 1 \n",
      "\n",
      "Current point in cluster: 1 \n",
      "\n",
      "Current point in cluster: 1 \n",
      "\n",
      "Current point in cluster: 1 \n",
      "\n",
      "Current point in cluster: 1 \n",
      "\n",
      "Current point in cluster: 1 \n",
      "\n",
      "Current point in cluster: 1 \n",
      "\n",
      "1/1 [==============================] - 0s 18ms/step\n",
      "Current point in cluster: 1 \n",
      "\n",
      "1/1 [==============================] - 0s 18ms/step\n",
      "Current point in cluster: 1 \n",
      "\n",
      "1/1 [==============================] - 0s 17ms/step\n"
     ]
    },
    {
     "name": "stderr",
     "output_type": "stream",
     "text": [
      "/work/mehlc/2_IA_KINETICS/ai_reacting_flows/env_ia/lib/python3.9/site-packages/sklearn/base.py:409: UserWarning: X does not have valid feature names, but StandardScaler was fitted with feature names\n",
      "  warnings.warn(\n",
      "/work/mehlc/2_IA_KINETICS/ai_reacting_flows/env_ia/lib/python3.9/site-packages/sklearn/base.py:409: UserWarning: X does not have valid feature names, but StandardScaler was fitted with feature names\n",
      "  warnings.warn(\n",
      "/work/mehlc/2_IA_KINETICS/ai_reacting_flows/env_ia/lib/python3.9/site-packages/sklearn/base.py:409: UserWarning: X does not have valid feature names, but StandardScaler was fitted with feature names\n",
      "  warnings.warn(\n",
      "/work/mehlc/2_IA_KINETICS/ai_reacting_flows/env_ia/lib/python3.9/site-packages/sklearn/base.py:409: UserWarning: X does not have valid feature names, but StandardScaler was fitted with feature names\n",
      "  warnings.warn(\n"
     ]
    },
    {
     "name": "stdout",
     "output_type": "stream",
     "text": [
      "Current point in cluster: 1 \n",
      "\n",
      "1/1 [==============================] - 0s 17ms/step\n",
      "Current point in cluster: 1 \n",
      "\n",
      "1/1 [==============================] - 0s 17ms/step\n",
      "Current point in cluster: 1 \n",
      "\n",
      "1/1 [==============================] - 0s 17ms/step\n",
      "Current point in cluster: 1 \n",
      "\n",
      "1/1 [==============================] - 0s 17ms/step\n",
      "Current point in cluster: 1 \n",
      "\n"
     ]
    },
    {
     "name": "stderr",
     "output_type": "stream",
     "text": [
      "/work/mehlc/2_IA_KINETICS/ai_reacting_flows/env_ia/lib/python3.9/site-packages/sklearn/base.py:409: UserWarning: X does not have valid feature names, but StandardScaler was fitted with feature names\n",
      "  warnings.warn(\n",
      "/work/mehlc/2_IA_KINETICS/ai_reacting_flows/env_ia/lib/python3.9/site-packages/sklearn/base.py:409: UserWarning: X does not have valid feature names, but StandardScaler was fitted with feature names\n",
      "  warnings.warn(\n",
      "/work/mehlc/2_IA_KINETICS/ai_reacting_flows/env_ia/lib/python3.9/site-packages/sklearn/base.py:409: UserWarning: X does not have valid feature names, but StandardScaler was fitted with feature names\n",
      "  warnings.warn(\n",
      "/work/mehlc/2_IA_KINETICS/ai_reacting_flows/env_ia/lib/python3.9/site-packages/sklearn/base.py:409: UserWarning: X does not have valid feature names, but StandardScaler was fitted with feature names\n",
      "  warnings.warn(\n"
     ]
    },
    {
     "name": "stdout",
     "output_type": "stream",
     "text": [
      "1/1 [==============================] - 0s 18ms/step\n",
      "Current point in cluster: 1 \n",
      "\n",
      "1/1 [==============================] - 0s 17ms/step\n",
      "Current point in cluster: 1 \n",
      "\n",
      "1/1 [==============================] - 0s 17ms/step\n",
      "Current point in cluster: 1 \n",
      "\n",
      "1/1 [==============================] - 0s 18ms/step\n",
      "Current point in cluster: 1 \n",
      "\n"
     ]
    },
    {
     "name": "stderr",
     "output_type": "stream",
     "text": [
      "/work/mehlc/2_IA_KINETICS/ai_reacting_flows/env_ia/lib/python3.9/site-packages/sklearn/base.py:409: UserWarning: X does not have valid feature names, but StandardScaler was fitted with feature names\n",
      "  warnings.warn(\n",
      "/work/mehlc/2_IA_KINETICS/ai_reacting_flows/env_ia/lib/python3.9/site-packages/sklearn/base.py:409: UserWarning: X does not have valid feature names, but StandardScaler was fitted with feature names\n",
      "  warnings.warn(\n",
      "/work/mehlc/2_IA_KINETICS/ai_reacting_flows/env_ia/lib/python3.9/site-packages/sklearn/base.py:409: UserWarning: X does not have valid feature names, but StandardScaler was fitted with feature names\n",
      "  warnings.warn(\n",
      "/work/mehlc/2_IA_KINETICS/ai_reacting_flows/env_ia/lib/python3.9/site-packages/sklearn/base.py:409: UserWarning: X does not have valid feature names, but StandardScaler was fitted with feature names\n",
      "  warnings.warn(\n"
     ]
    },
    {
     "name": "stdout",
     "output_type": "stream",
     "text": [
      "1/1 [==============================] - 0s 17ms/step\n",
      "Current point in cluster: 1 \n",
      "\n",
      "1/1 [==============================] - 0s 17ms/step\n",
      "Current point in cluster: 1 \n",
      "\n",
      "1/1 [==============================] - 0s 17ms/step\n",
      "Current point in cluster: 1 \n",
      "\n",
      "1/1 [==============================] - 0s 18ms/step\n",
      "Current point in cluster: 1 \n",
      "\n"
     ]
    },
    {
     "name": "stderr",
     "output_type": "stream",
     "text": [
      "/work/mehlc/2_IA_KINETICS/ai_reacting_flows/env_ia/lib/python3.9/site-packages/sklearn/base.py:409: UserWarning: X does not have valid feature names, but StandardScaler was fitted with feature names\n",
      "  warnings.warn(\n",
      "/work/mehlc/2_IA_KINETICS/ai_reacting_flows/env_ia/lib/python3.9/site-packages/sklearn/base.py:409: UserWarning: X does not have valid feature names, but StandardScaler was fitted with feature names\n",
      "  warnings.warn(\n",
      "/work/mehlc/2_IA_KINETICS/ai_reacting_flows/env_ia/lib/python3.9/site-packages/sklearn/base.py:409: UserWarning: X does not have valid feature names, but StandardScaler was fitted with feature names\n",
      "  warnings.warn(\n",
      "/work/mehlc/2_IA_KINETICS/ai_reacting_flows/env_ia/lib/python3.9/site-packages/sklearn/base.py:409: UserWarning: X does not have valid feature names, but StandardScaler was fitted with feature names\n",
      "  warnings.warn(\n"
     ]
    },
    {
     "name": "stdout",
     "output_type": "stream",
     "text": [
      "1/1 [==============================] - 0s 18ms/step\n",
      "Current point in cluster: 1 \n",
      "\n",
      "1/1 [==============================] - 0s 17ms/step\n",
      "Current point in cluster: 1 \n",
      "\n",
      "1/1 [==============================] - 0s 17ms/step\n",
      "Current point in cluster: 1 \n",
      "\n",
      "1/1 [==============================] - 0s 17ms/step\n",
      "Current point in cluster: 1 \n",
      "\n"
     ]
    },
    {
     "name": "stderr",
     "output_type": "stream",
     "text": [
      "/work/mehlc/2_IA_KINETICS/ai_reacting_flows/env_ia/lib/python3.9/site-packages/sklearn/base.py:409: UserWarning: X does not have valid feature names, but StandardScaler was fitted with feature names\n",
      "  warnings.warn(\n",
      "/work/mehlc/2_IA_KINETICS/ai_reacting_flows/env_ia/lib/python3.9/site-packages/sklearn/base.py:409: UserWarning: X does not have valid feature names, but StandardScaler was fitted with feature names\n",
      "  warnings.warn(\n",
      "/work/mehlc/2_IA_KINETICS/ai_reacting_flows/env_ia/lib/python3.9/site-packages/sklearn/base.py:409: UserWarning: X does not have valid feature names, but StandardScaler was fitted with feature names\n",
      "  warnings.warn(\n",
      "/work/mehlc/2_IA_KINETICS/ai_reacting_flows/env_ia/lib/python3.9/site-packages/sklearn/base.py:409: UserWarning: X does not have valid feature names, but StandardScaler was fitted with feature names\n",
      "  warnings.warn(\n"
     ]
    },
    {
     "name": "stdout",
     "output_type": "stream",
     "text": [
      "1/1 [==============================] - 0s 17ms/step\n",
      "Current point in cluster: 1 \n",
      "\n",
      "1/1 [==============================] - 0s 17ms/step\n",
      "Current point in cluster: 1 \n",
      "\n",
      "1/1 [==============================] - 0s 18ms/step\n",
      "Current point in cluster: 1 \n",
      "\n",
      "1/1 [==============================] - 0s 17ms/step\n",
      "Current point in cluster: 1 \n",
      "\n"
     ]
    },
    {
     "name": "stderr",
     "output_type": "stream",
     "text": [
      "/work/mehlc/2_IA_KINETICS/ai_reacting_flows/env_ia/lib/python3.9/site-packages/sklearn/base.py:409: UserWarning: X does not have valid feature names, but StandardScaler was fitted with feature names\n",
      "  warnings.warn(\n",
      "/work/mehlc/2_IA_KINETICS/ai_reacting_flows/env_ia/lib/python3.9/site-packages/sklearn/base.py:409: UserWarning: X does not have valid feature names, but StandardScaler was fitted with feature names\n",
      "  warnings.warn(\n",
      "/work/mehlc/2_IA_KINETICS/ai_reacting_flows/env_ia/lib/python3.9/site-packages/sklearn/base.py:409: UserWarning: X does not have valid feature names, but StandardScaler was fitted with feature names\n",
      "  warnings.warn(\n",
      "/work/mehlc/2_IA_KINETICS/ai_reacting_flows/env_ia/lib/python3.9/site-packages/sklearn/base.py:409: UserWarning: X does not have valid feature names, but StandardScaler was fitted with feature names\n",
      "  warnings.warn(\n"
     ]
    },
    {
     "name": "stdout",
     "output_type": "stream",
     "text": [
      "1/1 [==============================] - 0s 17ms/step\n",
      "Current point in cluster: 1 \n",
      "\n",
      "1/1 [==============================] - 0s 17ms/step\n",
      "Current point in cluster: 1 \n",
      "\n",
      "1/1 [==============================] - 0s 17ms/step\n",
      "Current point in cluster: 1 \n",
      "\n",
      "1/1 [==============================] - 0s 17ms/step\n",
      "Current point in cluster: 1 \n",
      "\n"
     ]
    },
    {
     "name": "stderr",
     "output_type": "stream",
     "text": [
      "/work/mehlc/2_IA_KINETICS/ai_reacting_flows/env_ia/lib/python3.9/site-packages/sklearn/base.py:409: UserWarning: X does not have valid feature names, but StandardScaler was fitted with feature names\n",
      "  warnings.warn(\n",
      "/work/mehlc/2_IA_KINETICS/ai_reacting_flows/env_ia/lib/python3.9/site-packages/sklearn/base.py:409: UserWarning: X does not have valid feature names, but StandardScaler was fitted with feature names\n",
      "  warnings.warn(\n",
      "/work/mehlc/2_IA_KINETICS/ai_reacting_flows/env_ia/lib/python3.9/site-packages/sklearn/base.py:409: UserWarning: X does not have valid feature names, but StandardScaler was fitted with feature names\n",
      "  warnings.warn(\n",
      "/work/mehlc/2_IA_KINETICS/ai_reacting_flows/env_ia/lib/python3.9/site-packages/sklearn/base.py:409: UserWarning: X does not have valid feature names, but StandardScaler was fitted with feature names\n",
      "  warnings.warn(\n"
     ]
    },
    {
     "name": "stdout",
     "output_type": "stream",
     "text": [
      "1/1 [==============================] - 0s 17ms/step\n",
      "Current point in cluster: 1 \n",
      "\n",
      "1/1 [==============================] - 0s 17ms/step\n",
      "Current point in cluster: 1 \n",
      "\n",
      "1/1 [==============================] - 0s 17ms/step\n",
      "Current point in cluster: 1 \n",
      "\n",
      "1/1 [==============================] - 0s 17ms/step\n",
      "Current point in cluster: 1 \n",
      "\n"
     ]
    },
    {
     "name": "stderr",
     "output_type": "stream",
     "text": [
      "/work/mehlc/2_IA_KINETICS/ai_reacting_flows/env_ia/lib/python3.9/site-packages/sklearn/base.py:409: UserWarning: X does not have valid feature names, but StandardScaler was fitted with feature names\n",
      "  warnings.warn(\n",
      "/work/mehlc/2_IA_KINETICS/ai_reacting_flows/env_ia/lib/python3.9/site-packages/sklearn/base.py:409: UserWarning: X does not have valid feature names, but StandardScaler was fitted with feature names\n",
      "  warnings.warn(\n",
      "/work/mehlc/2_IA_KINETICS/ai_reacting_flows/env_ia/lib/python3.9/site-packages/sklearn/base.py:409: UserWarning: X does not have valid feature names, but StandardScaler was fitted with feature names\n",
      "  warnings.warn(\n",
      "/work/mehlc/2_IA_KINETICS/ai_reacting_flows/env_ia/lib/python3.9/site-packages/sklearn/base.py:409: UserWarning: X does not have valid feature names, but StandardScaler was fitted with feature names\n",
      "  warnings.warn(\n"
     ]
    },
    {
     "name": "stdout",
     "output_type": "stream",
     "text": [
      "1/1 [==============================] - 0s 17ms/step\n",
      "Current point in cluster: 1 \n",
      "\n",
      "1/1 [==============================] - 0s 17ms/step\n",
      "Current point in cluster: 1 \n",
      "\n",
      "1/1 [==============================] - 0s 18ms/step\n",
      "Current point in cluster: 1 \n",
      "\n",
      "1/1 [==============================] - ETA: 0s"
     ]
    },
    {
     "name": "stderr",
     "output_type": "stream",
     "text": [
      "/work/mehlc/2_IA_KINETICS/ai_reacting_flows/env_ia/lib/python3.9/site-packages/sklearn/base.py:409: UserWarning: X does not have valid feature names, but StandardScaler was fitted with feature names\n",
      "  warnings.warn(\n",
      "/work/mehlc/2_IA_KINETICS/ai_reacting_flows/env_ia/lib/python3.9/site-packages/sklearn/base.py:409: UserWarning: X does not have valid feature names, but StandardScaler was fitted with feature names\n",
      "  warnings.warn(\n",
      "/work/mehlc/2_IA_KINETICS/ai_reacting_flows/env_ia/lib/python3.9/site-packages/sklearn/base.py:409: UserWarning: X does not have valid feature names, but StandardScaler was fitted with feature names\n",
      "  warnings.warn(\n"
     ]
    },
    {
     "name": "stdout",
     "output_type": "stream",
     "text": [
      "1/1 [==============================] - 0s 19ms/step\n",
      "Current point in cluster: 1 \n",
      "\n",
      "1/1 [==============================] - 0s 19ms/step\n",
      "Current point in cluster: 1 \n",
      "\n",
      "1/1 [==============================] - 0s 17ms/step\n",
      "Current point in cluster: 1 \n",
      "\n",
      "1/1 [==============================] - 0s 17ms/step\n",
      "Current point in cluster: 1 \n",
      "\n"
     ]
    },
    {
     "name": "stderr",
     "output_type": "stream",
     "text": [
      "/work/mehlc/2_IA_KINETICS/ai_reacting_flows/env_ia/lib/python3.9/site-packages/sklearn/base.py:409: UserWarning: X does not have valid feature names, but StandardScaler was fitted with feature names\n",
      "  warnings.warn(\n",
      "/work/mehlc/2_IA_KINETICS/ai_reacting_flows/env_ia/lib/python3.9/site-packages/sklearn/base.py:409: UserWarning: X does not have valid feature names, but StandardScaler was fitted with feature names\n",
      "  warnings.warn(\n",
      "/work/mehlc/2_IA_KINETICS/ai_reacting_flows/env_ia/lib/python3.9/site-packages/sklearn/base.py:409: UserWarning: X does not have valid feature names, but StandardScaler was fitted with feature names\n",
      "  warnings.warn(\n",
      "/work/mehlc/2_IA_KINETICS/ai_reacting_flows/env_ia/lib/python3.9/site-packages/sklearn/base.py:409: UserWarning: X does not have valid feature names, but StandardScaler was fitted with feature names\n",
      "  warnings.warn(\n"
     ]
    },
    {
     "name": "stdout",
     "output_type": "stream",
     "text": [
      "1/1 [==============================] - 0s 17ms/step\n",
      "Current point in cluster: 1 \n",
      "\n",
      "1/1 [==============================] - 0s 18ms/step\n",
      "Current point in cluster: 1 \n",
      "\n",
      "1/1 [==============================] - 0s 17ms/step\n",
      "Current point in cluster: 1 \n",
      "\n",
      "1/1 [==============================] - 0s 18ms/step\n",
      "Current point in cluster: 1 \n",
      "\n"
     ]
    },
    {
     "name": "stderr",
     "output_type": "stream",
     "text": [
      "/work/mehlc/2_IA_KINETICS/ai_reacting_flows/env_ia/lib/python3.9/site-packages/sklearn/base.py:409: UserWarning: X does not have valid feature names, but StandardScaler was fitted with feature names\n",
      "  warnings.warn(\n",
      "/work/mehlc/2_IA_KINETICS/ai_reacting_flows/env_ia/lib/python3.9/site-packages/sklearn/base.py:409: UserWarning: X does not have valid feature names, but StandardScaler was fitted with feature names\n",
      "  warnings.warn(\n",
      "/work/mehlc/2_IA_KINETICS/ai_reacting_flows/env_ia/lib/python3.9/site-packages/sklearn/base.py:409: UserWarning: X does not have valid feature names, but StandardScaler was fitted with feature names\n",
      "  warnings.warn(\n",
      "/work/mehlc/2_IA_KINETICS/ai_reacting_flows/env_ia/lib/python3.9/site-packages/sklearn/base.py:409: UserWarning: X does not have valid feature names, but StandardScaler was fitted with feature names\n",
      "  warnings.warn(\n"
     ]
    },
    {
     "name": "stdout",
     "output_type": "stream",
     "text": [
      "1/1 [==============================] - 0s 17ms/step\n",
      "Current point in cluster: 1 \n",
      "\n",
      "1/1 [==============================] - 0s 17ms/step\n",
      "Current point in cluster: 1 \n",
      "\n",
      "1/1 [==============================] - 0s 19ms/step\n",
      "Current point in cluster: 1 \n",
      "\n",
      "1/1 [==============================] - ETA: 0s"
     ]
    },
    {
     "name": "stderr",
     "output_type": "stream",
     "text": [
      "/work/mehlc/2_IA_KINETICS/ai_reacting_flows/env_ia/lib/python3.9/site-packages/sklearn/base.py:409: UserWarning: X does not have valid feature names, but StandardScaler was fitted with feature names\n",
      "  warnings.warn(\n",
      "/work/mehlc/2_IA_KINETICS/ai_reacting_flows/env_ia/lib/python3.9/site-packages/sklearn/base.py:409: UserWarning: X does not have valid feature names, but StandardScaler was fitted with feature names\n",
      "  warnings.warn(\n",
      "/work/mehlc/2_IA_KINETICS/ai_reacting_flows/env_ia/lib/python3.9/site-packages/sklearn/base.py:409: UserWarning: X does not have valid feature names, but StandardScaler was fitted with feature names\n",
      "  warnings.warn(\n"
     ]
    },
    {
     "name": "stdout",
     "output_type": "stream",
     "text": [
      "1/1 [==============================] - 0s 18ms/step\n",
      "Current point in cluster: 1 \n",
      "\n",
      "1/1 [==============================] - 0s 17ms/step\n",
      "Current point in cluster: 1 \n",
      "\n",
      "1/1 [==============================] - 0s 17ms/step\n",
      "Current point in cluster: 1 \n",
      "\n",
      "1/1 [==============================] - 0s 18ms/step\n",
      "Current point in cluster: 1 \n"
     ]
    },
    {
     "name": "stderr",
     "output_type": "stream",
     "text": [
      "/work/mehlc/2_IA_KINETICS/ai_reacting_flows/env_ia/lib/python3.9/site-packages/sklearn/base.py:409: UserWarning: X does not have valid feature names, but StandardScaler was fitted with feature names\n",
      "  warnings.warn(\n",
      "/work/mehlc/2_IA_KINETICS/ai_reacting_flows/env_ia/lib/python3.9/site-packages/sklearn/base.py:409: UserWarning: X does not have valid feature names, but StandardScaler was fitted with feature names\n",
      "  warnings.warn(\n",
      "/work/mehlc/2_IA_KINETICS/ai_reacting_flows/env_ia/lib/python3.9/site-packages/sklearn/base.py:409: UserWarning: X does not have valid feature names, but StandardScaler was fitted with feature names\n",
      "  warnings.warn(\n",
      "/work/mehlc/2_IA_KINETICS/ai_reacting_flows/env_ia/lib/python3.9/site-packages/sklearn/base.py:409: UserWarning: X does not have valid feature names, but StandardScaler was fitted with feature names\n",
      "  warnings.warn(\n"
     ]
    },
    {
     "name": "stdout",
     "output_type": "stream",
     "text": [
      "\n",
      "1/1 [==============================] - 0s 18ms/step\n",
      "Current point in cluster: 1 \n",
      "\n",
      "1/1 [==============================] - 0s 18ms/step\n",
      "Current point in cluster: 1 \n",
      "\n",
      "1/1 [==============================] - 0s 18ms/step\n",
      "Current point in cluster: 1 \n",
      "\n",
      "1/1 [==============================] - 0s 18ms/step\n",
      "Current point in cluster: 1 \n",
      "\n"
     ]
    },
    {
     "name": "stderr",
     "output_type": "stream",
     "text": [
      "/work/mehlc/2_IA_KINETICS/ai_reacting_flows/env_ia/lib/python3.9/site-packages/sklearn/base.py:409: UserWarning: X does not have valid feature names, but StandardScaler was fitted with feature names\n",
      "  warnings.warn(\n",
      "/work/mehlc/2_IA_KINETICS/ai_reacting_flows/env_ia/lib/python3.9/site-packages/sklearn/base.py:409: UserWarning: X does not have valid feature names, but StandardScaler was fitted with feature names\n",
      "  warnings.warn(\n",
      "/work/mehlc/2_IA_KINETICS/ai_reacting_flows/env_ia/lib/python3.9/site-packages/sklearn/base.py:409: UserWarning: X does not have valid feature names, but StandardScaler was fitted with feature names\n",
      "  warnings.warn(\n",
      "/work/mehlc/2_IA_KINETICS/ai_reacting_flows/env_ia/lib/python3.9/site-packages/sklearn/base.py:409: UserWarning: X does not have valid feature names, but StandardScaler was fitted with feature names\n",
      "  warnings.warn(\n"
     ]
    },
    {
     "name": "stdout",
     "output_type": "stream",
     "text": [
      "1/1 [==============================] - 0s 18ms/step\n",
      "Current point in cluster: 1 \n",
      "\n",
      "1/1 [==============================] - 0s 18ms/step\n",
      "Current point in cluster: 1 \n",
      "\n",
      "1/1 [==============================] - 0s 17ms/step\n",
      "Current point in cluster: 1 \n",
      "\n",
      "1/1 [==============================] - 0s 18ms/step\n",
      "Current point in cluster: 1 \n",
      "\n"
     ]
    },
    {
     "name": "stderr",
     "output_type": "stream",
     "text": [
      "/work/mehlc/2_IA_KINETICS/ai_reacting_flows/env_ia/lib/python3.9/site-packages/sklearn/base.py:409: UserWarning: X does not have valid feature names, but StandardScaler was fitted with feature names\n",
      "  warnings.warn(\n",
      "/work/mehlc/2_IA_KINETICS/ai_reacting_flows/env_ia/lib/python3.9/site-packages/sklearn/base.py:409: UserWarning: X does not have valid feature names, but StandardScaler was fitted with feature names\n",
      "  warnings.warn(\n",
      "/work/mehlc/2_IA_KINETICS/ai_reacting_flows/env_ia/lib/python3.9/site-packages/sklearn/base.py:409: UserWarning: X does not have valid feature names, but StandardScaler was fitted with feature names\n",
      "  warnings.warn(\n",
      "/work/mehlc/2_IA_KINETICS/ai_reacting_flows/env_ia/lib/python3.9/site-packages/sklearn/base.py:409: UserWarning: X does not have valid feature names, but StandardScaler was fitted with feature names\n",
      "  warnings.warn(\n"
     ]
    },
    {
     "name": "stdout",
     "output_type": "stream",
     "text": [
      "1/1 [==============================] - 0s 18ms/step\n",
      "Current point in cluster: 1 \n",
      "\n",
      "1/1 [==============================] - 0s 17ms/step\n",
      "Current point in cluster: 2 \n",
      "\n",
      "1/1 [==============================] - 0s 17ms/step\n",
      "Current point in cluster: 2 \n",
      "\n",
      "1/1 [==============================] - 0s 17ms/step\n",
      "Current point in cluster: 2 \n",
      "\n"
     ]
    },
    {
     "name": "stderr",
     "output_type": "stream",
     "text": [
      "/work/mehlc/2_IA_KINETICS/ai_reacting_flows/env_ia/lib/python3.9/site-packages/sklearn/base.py:409: UserWarning: X does not have valid feature names, but StandardScaler was fitted with feature names\n",
      "  warnings.warn(\n",
      "/work/mehlc/2_IA_KINETICS/ai_reacting_flows/env_ia/lib/python3.9/site-packages/sklearn/base.py:409: UserWarning: X does not have valid feature names, but StandardScaler was fitted with feature names\n",
      "  warnings.warn(\n",
      "/work/mehlc/2_IA_KINETICS/ai_reacting_flows/env_ia/lib/python3.9/site-packages/sklearn/base.py:409: UserWarning: X does not have valid feature names, but StandardScaler was fitted with feature names\n",
      "  warnings.warn(\n",
      "/work/mehlc/2_IA_KINETICS/ai_reacting_flows/env_ia/lib/python3.9/site-packages/sklearn/base.py:409: UserWarning: X does not have valid feature names, but StandardScaler was fitted with feature names\n",
      "  warnings.warn(\n"
     ]
    },
    {
     "name": "stdout",
     "output_type": "stream",
     "text": [
      "1/1 [==============================] - 0s 17ms/step\n",
      "Current point in cluster: 2 \n",
      "\n",
      "1/1 [==============================] - 0s 17ms/step\n",
      "Current point in cluster: 2 \n",
      "\n",
      "1/1 [==============================] - 0s 17ms/step\n",
      "Current point in cluster: 2 \n",
      "\n",
      "1/1 [==============================] - 0s 19ms/step\n",
      "Current point in cluster: 2 \n",
      "\n"
     ]
    },
    {
     "name": "stderr",
     "output_type": "stream",
     "text": [
      "/work/mehlc/2_IA_KINETICS/ai_reacting_flows/env_ia/lib/python3.9/site-packages/sklearn/base.py:409: UserWarning: X does not have valid feature names, but StandardScaler was fitted with feature names\n",
      "  warnings.warn(\n",
      "/work/mehlc/2_IA_KINETICS/ai_reacting_flows/env_ia/lib/python3.9/site-packages/sklearn/base.py:409: UserWarning: X does not have valid feature names, but StandardScaler was fitted with feature names\n",
      "  warnings.warn(\n",
      "/work/mehlc/2_IA_KINETICS/ai_reacting_flows/env_ia/lib/python3.9/site-packages/sklearn/base.py:409: UserWarning: X does not have valid feature names, but StandardScaler was fitted with feature names\n",
      "  warnings.warn(\n",
      "/work/mehlc/2_IA_KINETICS/ai_reacting_flows/env_ia/lib/python3.9/site-packages/sklearn/base.py:409: UserWarning: X does not have valid feature names, but StandardScaler was fitted with feature names\n",
      "  warnings.warn(\n"
     ]
    },
    {
     "name": "stdout",
     "output_type": "stream",
     "text": [
      "1/1 [==============================] - 0s 18ms/step\n",
      "Current point in cluster: 2 \n",
      "\n",
      "1/1 [==============================] - 0s 17ms/step\n",
      "Current point in cluster: 2 \n",
      "\n",
      "1/1 [==============================] - 0s 17ms/step\n",
      "Current point in cluster: 2 \n",
      "\n",
      "1/1 [==============================] - 0s 18ms/step\n",
      "Current point in cluster: 2 \n",
      "\n"
     ]
    },
    {
     "name": "stderr",
     "output_type": "stream",
     "text": [
      "/work/mehlc/2_IA_KINETICS/ai_reacting_flows/env_ia/lib/python3.9/site-packages/sklearn/base.py:409: UserWarning: X does not have valid feature names, but StandardScaler was fitted with feature names\n",
      "  warnings.warn(\n",
      "/work/mehlc/2_IA_KINETICS/ai_reacting_flows/env_ia/lib/python3.9/site-packages/sklearn/base.py:409: UserWarning: X does not have valid feature names, but StandardScaler was fitted with feature names\n",
      "  warnings.warn(\n",
      "/work/mehlc/2_IA_KINETICS/ai_reacting_flows/env_ia/lib/python3.9/site-packages/sklearn/base.py:409: UserWarning: X does not have valid feature names, but StandardScaler was fitted with feature names\n",
      "  warnings.warn(\n",
      "/work/mehlc/2_IA_KINETICS/ai_reacting_flows/env_ia/lib/python3.9/site-packages/sklearn/base.py:409: UserWarning: X does not have valid feature names, but StandardScaler was fitted with feature names\n",
      "  warnings.warn(\n"
     ]
    },
    {
     "name": "stdout",
     "output_type": "stream",
     "text": [
      "1/1 [==============================] - 0s 17ms/step\n",
      "Current point in cluster: 2 \n",
      "\n",
      "1/1 [==============================] - 0s 17ms/step\n",
      "Current point in cluster: 2 \n",
      "\n",
      "1/1 [==============================] - 0s 17ms/step\n",
      "Current point in cluster: 2 \n",
      "\n",
      "1/1 [==============================] - 0s 17ms/step\n",
      "Current point in cluster: 2 \n",
      "\n"
     ]
    },
    {
     "name": "stderr",
     "output_type": "stream",
     "text": [
      "/work/mehlc/2_IA_KINETICS/ai_reacting_flows/env_ia/lib/python3.9/site-packages/sklearn/base.py:409: UserWarning: X does not have valid feature names, but StandardScaler was fitted with feature names\n",
      "  warnings.warn(\n",
      "/work/mehlc/2_IA_KINETICS/ai_reacting_flows/env_ia/lib/python3.9/site-packages/sklearn/base.py:409: UserWarning: X does not have valid feature names, but StandardScaler was fitted with feature names\n",
      "  warnings.warn(\n",
      "/work/mehlc/2_IA_KINETICS/ai_reacting_flows/env_ia/lib/python3.9/site-packages/sklearn/base.py:409: UserWarning: X does not have valid feature names, but StandardScaler was fitted with feature names\n",
      "  warnings.warn(\n",
      "/work/mehlc/2_IA_KINETICS/ai_reacting_flows/env_ia/lib/python3.9/site-packages/sklearn/base.py:409: UserWarning: X does not have valid feature names, but StandardScaler was fitted with feature names\n",
      "  warnings.warn(\n"
     ]
    },
    {
     "name": "stdout",
     "output_type": "stream",
     "text": [
      "1/1 [==============================] - 0s 17ms/step\n",
      "Current point in cluster: 2 \n",
      "\n",
      "1/1 [==============================] - 0s 17ms/step\n",
      "Current point in cluster: 2 \n",
      "\n",
      "1/1 [==============================] - 0s 17ms/step\n",
      "Current point in cluster: 2 \n",
      "\n",
      "1/1 [==============================] - 0s 17ms/step\n",
      "Current point in cluster: 2 \n",
      "\n"
     ]
    },
    {
     "name": "stderr",
     "output_type": "stream",
     "text": [
      "/work/mehlc/2_IA_KINETICS/ai_reacting_flows/env_ia/lib/python3.9/site-packages/sklearn/base.py:409: UserWarning: X does not have valid feature names, but StandardScaler was fitted with feature names\n",
      "  warnings.warn(\n",
      "/work/mehlc/2_IA_KINETICS/ai_reacting_flows/env_ia/lib/python3.9/site-packages/sklearn/base.py:409: UserWarning: X does not have valid feature names, but StandardScaler was fitted with feature names\n",
      "  warnings.warn(\n",
      "/work/mehlc/2_IA_KINETICS/ai_reacting_flows/env_ia/lib/python3.9/site-packages/sklearn/base.py:409: UserWarning: X does not have valid feature names, but StandardScaler was fitted with feature names\n",
      "  warnings.warn(\n",
      "/work/mehlc/2_IA_KINETICS/ai_reacting_flows/env_ia/lib/python3.9/site-packages/sklearn/base.py:409: UserWarning: X does not have valid feature names, but StandardScaler was fitted with feature names\n",
      "  warnings.warn(\n"
     ]
    },
    {
     "name": "stdout",
     "output_type": "stream",
     "text": [
      "1/1 [==============================] - 0s 20ms/step\n",
      "Current point in cluster: 2 \n",
      "\n",
      "1/1 [==============================] - 0s 20ms/step\n",
      "Current point in cluster: 2 \n",
      "\n",
      "1/1 [==============================] - 0s 22ms/step\n",
      "Current point in cluster: 2 \n",
      "\n"
     ]
    },
    {
     "name": "stderr",
     "output_type": "stream",
     "text": [
      "/work/mehlc/2_IA_KINETICS/ai_reacting_flows/env_ia/lib/python3.9/site-packages/sklearn/base.py:409: UserWarning: X does not have valid feature names, but StandardScaler was fitted with feature names\n",
      "  warnings.warn(\n",
      "/work/mehlc/2_IA_KINETICS/ai_reacting_flows/env_ia/lib/python3.9/site-packages/sklearn/base.py:409: UserWarning: X does not have valid feature names, but StandardScaler was fitted with feature names\n",
      "  warnings.warn(\n",
      "/work/mehlc/2_IA_KINETICS/ai_reacting_flows/env_ia/lib/python3.9/site-packages/sklearn/base.py:409: UserWarning: X does not have valid feature names, but StandardScaler was fitted with feature names\n",
      "  warnings.warn(\n"
     ]
    },
    {
     "name": "stdout",
     "output_type": "stream",
     "text": [
      "1/1 [==============================] - 0s 21ms/step\n",
      "Current point in cluster: 2 \n",
      "\n",
      "1/1 [==============================] - 0s 21ms/step\n",
      "Current point in cluster: 2 \n",
      "\n",
      "1/1 [==============================] - 0s 21ms/step\n",
      "Current point in cluster: 2 \n",
      "\n"
     ]
    },
    {
     "name": "stderr",
     "output_type": "stream",
     "text": [
      "/work/mehlc/2_IA_KINETICS/ai_reacting_flows/env_ia/lib/python3.9/site-packages/sklearn/base.py:409: UserWarning: X does not have valid feature names, but StandardScaler was fitted with feature names\n",
      "  warnings.warn(\n",
      "/work/mehlc/2_IA_KINETICS/ai_reacting_flows/env_ia/lib/python3.9/site-packages/sklearn/base.py:409: UserWarning: X does not have valid feature names, but StandardScaler was fitted with feature names\n",
      "  warnings.warn(\n",
      "/work/mehlc/2_IA_KINETICS/ai_reacting_flows/env_ia/lib/python3.9/site-packages/sklearn/base.py:409: UserWarning: X does not have valid feature names, but StandardScaler was fitted with feature names\n",
      "  warnings.warn(\n"
     ]
    },
    {
     "name": "stdout",
     "output_type": "stream",
     "text": [
      "1/1 [==============================] - 0s 21ms/step\n",
      "Current point in cluster: 2 \n",
      "\n",
      "1/1 [==============================] - 0s 20ms/step\n",
      "Current point in cluster: 2 \n",
      "\n",
      "1/1 [==============================] - 0s 21ms/step\n",
      "Current point in cluster: 2 \n",
      "\n"
     ]
    },
    {
     "name": "stderr",
     "output_type": "stream",
     "text": [
      "/work/mehlc/2_IA_KINETICS/ai_reacting_flows/env_ia/lib/python3.9/site-packages/sklearn/base.py:409: UserWarning: X does not have valid feature names, but StandardScaler was fitted with feature names\n",
      "  warnings.warn(\n",
      "/work/mehlc/2_IA_KINETICS/ai_reacting_flows/env_ia/lib/python3.9/site-packages/sklearn/base.py:409: UserWarning: X does not have valid feature names, but StandardScaler was fitted with feature names\n",
      "  warnings.warn(\n",
      "/work/mehlc/2_IA_KINETICS/ai_reacting_flows/env_ia/lib/python3.9/site-packages/sklearn/base.py:409: UserWarning: X does not have valid feature names, but StandardScaler was fitted with feature names\n",
      "  warnings.warn(\n"
     ]
    },
    {
     "name": "stdout",
     "output_type": "stream",
     "text": [
      "1/1 [==============================] - 0s 21ms/step\n",
      "Current point in cluster: 2 \n",
      "\n",
      "1/1 [==============================] - 0s 21ms/step\n",
      "Current point in cluster: 2 \n",
      "\n",
      "1/1 [==============================] - 0s 20ms/step\n",
      "Current point in cluster: 2 \n",
      "\n"
     ]
    },
    {
     "name": "stderr",
     "output_type": "stream",
     "text": [
      "/work/mehlc/2_IA_KINETICS/ai_reacting_flows/env_ia/lib/python3.9/site-packages/sklearn/base.py:409: UserWarning: X does not have valid feature names, but StandardScaler was fitted with feature names\n",
      "  warnings.warn(\n",
      "/work/mehlc/2_IA_KINETICS/ai_reacting_flows/env_ia/lib/python3.9/site-packages/sklearn/base.py:409: UserWarning: X does not have valid feature names, but StandardScaler was fitted with feature names\n",
      "  warnings.warn(\n",
      "/work/mehlc/2_IA_KINETICS/ai_reacting_flows/env_ia/lib/python3.9/site-packages/sklearn/base.py:409: UserWarning: X does not have valid feature names, but StandardScaler was fitted with feature names\n",
      "  warnings.warn(\n"
     ]
    },
    {
     "name": "stdout",
     "output_type": "stream",
     "text": [
      "1/1 [==============================] - 0s 22ms/step\n",
      "Current point in cluster: 2 \n",
      "\n",
      "1/1 [==============================] - 0s 22ms/step\n",
      "Current point in cluster: 2 \n",
      "\n",
      "1/1 [==============================] - 0s 21ms/step\n",
      "Current point in cluster: 2 \n",
      "\n"
     ]
    },
    {
     "name": "stderr",
     "output_type": "stream",
     "text": [
      "/work/mehlc/2_IA_KINETICS/ai_reacting_flows/env_ia/lib/python3.9/site-packages/sklearn/base.py:409: UserWarning: X does not have valid feature names, but StandardScaler was fitted with feature names\n",
      "  warnings.warn(\n",
      "/work/mehlc/2_IA_KINETICS/ai_reacting_flows/env_ia/lib/python3.9/site-packages/sklearn/base.py:409: UserWarning: X does not have valid feature names, but StandardScaler was fitted with feature names\n",
      "  warnings.warn(\n",
      "/work/mehlc/2_IA_KINETICS/ai_reacting_flows/env_ia/lib/python3.9/site-packages/sklearn/base.py:409: UserWarning: X does not have valid feature names, but StandardScaler was fitted with feature names\n",
      "  warnings.warn(\n"
     ]
    },
    {
     "name": "stdout",
     "output_type": "stream",
     "text": [
      "1/1 [==============================] - 0s 21ms/step\n",
      "Current point in cluster: 2 \n",
      "\n",
      "1/1 [==============================] - 0s 21ms/step\n",
      "Current point in cluster: 2 \n",
      "\n",
      "1/1 [==============================] - 0s 21ms/step\n",
      "Current point in cluster: 2 \n",
      "\n"
     ]
    },
    {
     "name": "stderr",
     "output_type": "stream",
     "text": [
      "/work/mehlc/2_IA_KINETICS/ai_reacting_flows/env_ia/lib/python3.9/site-packages/sklearn/base.py:409: UserWarning: X does not have valid feature names, but StandardScaler was fitted with feature names\n",
      "  warnings.warn(\n",
      "/work/mehlc/2_IA_KINETICS/ai_reacting_flows/env_ia/lib/python3.9/site-packages/sklearn/base.py:409: UserWarning: X does not have valid feature names, but StandardScaler was fitted with feature names\n",
      "  warnings.warn(\n",
      "/work/mehlc/2_IA_KINETICS/ai_reacting_flows/env_ia/lib/python3.9/site-packages/sklearn/base.py:409: UserWarning: X does not have valid feature names, but StandardScaler was fitted with feature names\n",
      "  warnings.warn(\n"
     ]
    },
    {
     "name": "stdout",
     "output_type": "stream",
     "text": [
      "1/1 [==============================] - 0s 21ms/step\n",
      "Current point in cluster: 2 \n",
      "\n",
      "1/1 [==============================] - 0s 21ms/step\n",
      "Current point in cluster: 2 \n",
      "\n",
      "1/1 [==============================] - 0s 21ms/step\n",
      "Current point in cluster: 2 \n",
      "\n"
     ]
    },
    {
     "name": "stderr",
     "output_type": "stream",
     "text": [
      "/work/mehlc/2_IA_KINETICS/ai_reacting_flows/env_ia/lib/python3.9/site-packages/sklearn/base.py:409: UserWarning: X does not have valid feature names, but StandardScaler was fitted with feature names\n",
      "  warnings.warn(\n",
      "/work/mehlc/2_IA_KINETICS/ai_reacting_flows/env_ia/lib/python3.9/site-packages/sklearn/base.py:409: UserWarning: X does not have valid feature names, but StandardScaler was fitted with feature names\n",
      "  warnings.warn(\n",
      "/work/mehlc/2_IA_KINETICS/ai_reacting_flows/env_ia/lib/python3.9/site-packages/sklearn/base.py:409: UserWarning: X does not have valid feature names, but StandardScaler was fitted with feature names\n",
      "  warnings.warn(\n"
     ]
    },
    {
     "name": "stdout",
     "output_type": "stream",
     "text": [
      "1/1 [==============================] - 0s 21ms/step\n",
      "Current point in cluster: 2 \n",
      "\n",
      "1/1 [==============================] - 0s 21ms/step\n",
      "Current point in cluster: 2 \n",
      "\n",
      "1/1 [==============================] - 0s 21ms/step\n",
      "\n",
      " NUMBER OF CALLS TO SOLVERS:\n",
      "   >>> Number of ANN calls: 101\n",
      "   >>> Number of CVODE calls: 0\n"
     ]
    },
    {
     "name": "stderr",
     "output_type": "stream",
     "text": [
      "/work/mehlc/2_IA_KINETICS/ai_reacting_flows/env_ia/lib/python3.9/site-packages/sklearn/base.py:409: UserWarning: X does not have valid feature names, but StandardScaler was fitted with feature names\n",
      "  warnings.warn(\n",
      "/work/mehlc/2_IA_KINETICS/ai_reacting_flows/env_ia/lib/python3.9/site-packages/sklearn/base.py:409: UserWarning: X does not have valid feature names, but StandardScaler was fitted with feature names\n",
      "  warnings.warn(\n"
     ]
    },
    {
     "data": {
      "image/png": "[encoded data removed]",
      "text/plain": [
       "<Figure size 640x480 with 1 Axes>"
      ]
     },
     "metadata": {},
     "output_type": "display_data"
    },
    {
     "data": {
      "image/png": "[encoded data removed]",
      "text/plain": [
       "<Figure size 640x480 with 1 Axes>"
      ]
     },
     "metadata": {},
     "output_type": "display_data"
    },
    {
     "data": {
      "image/png": "[encoded data removed]",
      "text/plain": [
       "<Figure size 640x480 with 1 Axes>"
      ]
     },
     "metadata": {},
     "output_type": "display_data"
    },
    {
     "data": {
      "image/png": "[encoded data removed]",
      "text/plain": [
       "<Figure size 640x480 with 1 Axes>"
      ]
     },
     "metadata": {},
     "output_type": "display_data"
    },
    {
     "data": {
      "image/png": "[encoded data removed]",
      "text/plain": [
       "<Figure size 640x480 with 1 Axes>"
      ]
     },
     "metadata": {},
     "output_type": "display_data"
    }
   ],
   "source": [
    "phi = 0.4\n",
    "T0 = 300.0\n",
    "pressure = 101325.0\n",
    "dt = 0.5e-6\n",
    "T_threshold = 600.0\n",
    "\n",
    "test.test_1D_premixed(phi, T0, pressure, dt, T_threshold)"
   ]
  }
 ],
 "metadata": {
  "kernelspec": {
   "display_name": "env_ia",
   "language": "python",
   "name": "python3"
  },
  "language_info": {
   "codemirror_mode": {
    "name": "ipython",
    "version": 3
   },
   "file_extension": ".py",
   "mimetype": "text/x-python",
   "name": "python",
   "nbconvert_exporter": "python",
   "pygments_lexer": "ipython3",
   "version": "3.9.5"
  },
  "orig_nbformat": 4,
  "vscode": {
   "interpreter": {
    "hash": "b2fd424e7fb1297f22c49c08f4f8cbc07f056222c8903ba4079436012990779e"
   }
  }
 },
 "nbformat": 4,
 "nbformat_minor": 2
}
