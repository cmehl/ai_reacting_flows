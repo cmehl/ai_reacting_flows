{
 "cells": [
  {
   "cell_type": "markdown",
   "metadata": {},
   "source": [
    "# Testing of ANN models for combustion\n",
    "\n",
    "Simple tests for the generated ANN models are made possible on python. These include:\n",
    "\n",
    "+ Test on 0D ignition simulations\n",
    "+ Test on the prediction of reaction rate of stationary 1D flames (*a priori* testing)"
   ]
  },
  {
   "cell_type": "code",
   "execution_count": 23,
   "metadata": {},
   "outputs": [],
   "source": [
    "from ai_reacting_flows.ann_model_generation.model_testing import ModelTesting"
   ]
  },
  {
   "cell_type": "code",
   "execution_count": null,
   "metadata": {},
   "outputs": [],
   "source": [
    "%load_ext autoreload\n",
    "%autoreload 2"
   ]
  },
  {
   "cell_type": "markdown",
   "metadata": {},
   "source": [
    "Parameters for the testing:"
   ]
  },
  {
   "cell_type": "code",
   "execution_count": null,
   "metadata": {},
   "outputs": [],
   "source": [
    "# Dictionary with parameters\n",
    "testing_parameters = {}\n",
    "\n",
    "testing_parameters[\"models_folder\"] = \"./MODEL_LOG_RESAMPLED_3Z\"     # Folder for the ML model\n",
    " \n",
    "testing_parameters[\"fuel\"] = \"H2\"            # Considered fuel\n",
    "testing_parameters[\"with_N_chemistry\"] = False         # Nitrogen chemistry considered or not\n",
    "\n",
    "testing_parameters[\"spec_to_plot\"] = [\"N2\", \"H2\", \"O2\", \"H2O\", \"H2O2\"]          # List of species to plot\n",
    "testing_parameters[\"pv_species\"] = [\"H2O\"]            # Species used for progress variable computation\n",
    "\n",
    "testing_parameters[\"hybrid_ann_cvode\"] = False             # CVODE helping ANN based on a conservation criterion\n",
    "testing_parameters[\"hybrid_ann_cvode_tol\"] = 5.0e-05      # Tolerance for the CVODE switching\n"
   ]
  },
  {
   "cell_type": "markdown",
   "metadata": {},
   "source": [
    "The model testing is first initialized:"
   ]
  },
  {
   "cell_type": "code",
   "execution_count": null,
   "metadata": {},
   "outputs": [],
   "source": [
    "test = ModelTesting(testing_parameters)"
   ]
  },
  {
   "cell_type": "markdown",
   "metadata": {},
   "source": [
    "We can test the ability of the ANN model to reproduce the ignition of a homogeneous 0-D mixture. The mixture initial state is defined by its temperature $T_0$, its pressure $p$ and its equivalence ratio $\\phi$. The simulation is here advanced in time using (i) the CVODE algorithm from CANTERA; (ii) the ANN model."
   ]
  },
  {
   "cell_type": "code",
   "execution_count": null,
   "metadata": {},
   "outputs": [],
   "source": [
    "phi = 0.4\n",
    "T0 = 1200.0\n",
    "pressure = 101325.0\n",
    "dt = 0.5e-6\n",
    "nb_ite = 1000\n",
    "\n",
    "test.test_0D_ignition(phi, T0, pressure, dt, nb_ite)"
   ]
  },
  {
   "cell_type": "markdown",
   "metadata": {},
   "source": [
    "Another test, if the ANN has been built for that, is to assess its ability to reproduce laminar premixed flames. The test here is *a priori*, in the sense that we take a CANTERA converged solution, and compare the exact reaction rate to the ANN reaction rate. For a species $k$, if the exact solution is written $Y_k$, the local reaction rate is estimated as:\n",
    "\n",
    "$$ \\dot{\\omega}_k = \\frac{Y_k(dt) - Y_k}{dt} $$\n",
    "\n",
    "where $Y_k(dt)$ is the solution $Y_k$ advanced by a time increment $dt$, estimated using either CVODE or ANN."
   ]
  },
  {
   "cell_type": "code",
   "execution_count": 22,
   "metadata": {},
   "outputs": [
    {
     "name": "stdout",
     "output_type": "stream",
     "text": [
      "Computing Cantera 1D flame with T0 = 300.0 K and phi = 0.4\n",
      "Current point in cluster: 0 \n",
      "\n",
      "Current point in cluster: 0 \n",
      "\n",
      "Current point in cluster: 0 \n",
      "\n",
      "Current point in cluster: 0 \n",
      "\n",
      "Current point in cluster: 0 \n",
      "\n",
      "Current point in cluster: 0 \n",
      "\n",
      "Current point in cluster: 0 \n",
      "\n",
      "Current point in cluster: 0 \n",
      "\n",
      "Current point in cluster: 0 \n",
      "\n",
      "Current point in cluster: 0 \n",
      "\n",
      "Current point in cluster: 0 \n",
      "\n",
      "Current point in cluster: 0 \n",
      "\n",
      "Current point in cluster: 0 \n",
      "\n",
      "Current point in cluster: 0 \n",
      "\n",
      "Current point in cluster: 0 \n",
      "\n",
      "Current point in cluster: 0 \n",
      "\n",
      "Current point in cluster: 0 \n",
      "\n",
      "Current point in cluster: 0 \n",
      "\n",
      "Current point in cluster: 0 \n",
      "\n",
      "Current point in cluster: 0 \n",
      "\n",
      "Current point in cluster: 0 \n",
      "\n",
      "Current point in cluster: 0 \n",
      "\n",
      "Current point in cluster: 0 \n",
      "\n",
      "Current point in cluster: 0 \n",
      "\n",
      "Current point in cluster: 0 \n",
      "\n",
      "Current point in cluster: 0 \n",
      "\n",
      "Current point in cluster: 0 \n",
      "\n",
      "Current point in cluster: 0 \n",
      "\n",
      "Current point in cluster: 0 \n",
      "\n",
      "Current point in cluster: 0 \n",
      "\n",
      "Current point in cluster: 0 \n",
      "\n",
      "Current point in cluster: 0 \n",
      "\n",
      "Current point in cluster: 0 \n",
      "\n",
      "Current point in cluster: 0 \n",
      "\n",
      "Current point in cluster: 0 \n",
      "\n",
      "Current point in cluster: 0 \n",
      "\n",
      "Current point in cluster: 0 \n",
      "\n",
      "Current point in cluster: 0 \n",
      "\n",
      "Current point in cluster: 0 \n",
      "\n",
      "Current point in cluster: 0 \n",
      "\n",
      "Current point in cluster: 0 \n",
      "\n",
      "Current point in cluster: 0 \n",
      "\n",
      "Current point in cluster: 1 \n",
      "\n",
      "Current point in cluster: 1 \n",
      "\n",
      "Current point in cluster: 1 \n",
      "\n",
      "Current point in cluster: 1 \n",
      "\n",
      "Current point in cluster: 1 \n",
      "\n",
      "Current point in cluster: 1 \n",
      "\n",
      "Current point in cluster: 1 \n",
      "\n",
      "Current point in cluster: 1 \n",
      "\n"
     ]
    },
    {
     "name": "stderr",
     "output_type": "stream",
     "text": [
      "/work/mehlc/2_IA_KINETICS/ai_reacting_flows/venv/lib/python3.9/site-packages/sklearn/base.py:450: UserWarning: X does not have valid feature names, but StandardScaler was fitted with feature names\n",
      "  warnings.warn(\n"
     ]
    },
    {
     "name": "stdout",
     "output_type": "stream",
     "text": [
      "1/1 [==============================] - 0s 473ms/step\n",
      "Current point in cluster: 1 \n",
      "\n",
      "1/1 [==============================] - 0s 17ms/step\n",
      "Current point in cluster: 1 \n",
      "\n",
      "1/1 [==============================] - 0s 18ms/step\n",
      "Current point in cluster: 1 \n",
      "\n",
      "1/1 [==============================] - 0s 17ms/step\n",
      "Current point in cluster: 1 \n",
      "\n"
     ]
    },
    {
     "name": "stderr",
     "output_type": "stream",
     "text": [
      "/work/mehlc/2_IA_KINETICS/ai_reacting_flows/venv/lib/python3.9/site-packages/sklearn/base.py:450: UserWarning: X does not have valid feature names, but StandardScaler was fitted with feature names\n",
      "  warnings.warn(\n",
      "/work/mehlc/2_IA_KINETICS/ai_reacting_flows/venv/lib/python3.9/site-packages/sklearn/base.py:450: UserWarning: X does not have valid feature names, but StandardScaler was fitted with feature names\n",
      "  warnings.warn(\n",
      "/work/mehlc/2_IA_KINETICS/ai_reacting_flows/venv/lib/python3.9/site-packages/sklearn/base.py:450: UserWarning: X does not have valid feature names, but StandardScaler was fitted with feature names\n",
      "  warnings.warn(\n",
      "/work/mehlc/2_IA_KINETICS/ai_reacting_flows/venv/lib/python3.9/site-packages/sklearn/base.py:450: UserWarning: X does not have valid feature names, but StandardScaler was fitted with feature names\n",
      "  warnings.warn(\n"
     ]
    },
    {
     "name": "stdout",
     "output_type": "stream",
     "text": [
      "1/1 [==============================] - 0s 18ms/step\n",
      "Current point in cluster: 1 \n",
      "\n",
      "1/1 [==============================] - 0s 18ms/step\n",
      "Current point in cluster: 1 \n",
      "\n",
      "1/1 [==============================] - 0s 18ms/step\n",
      "Current point in cluster: 1 \n",
      "\n",
      "1/1 [==============================] - 0s 18ms/step\n",
      "Current point in cluster: 1 \n",
      "\n"
     ]
    },
    {
     "name": "stderr",
     "output_type": "stream",
     "text": [
      "/work/mehlc/2_IA_KINETICS/ai_reacting_flows/venv/lib/python3.9/site-packages/sklearn/base.py:450: UserWarning: X does not have valid feature names, but StandardScaler was fitted with feature names\n",
      "  warnings.warn(\n",
      "/work/mehlc/2_IA_KINETICS/ai_reacting_flows/venv/lib/python3.9/site-packages/sklearn/base.py:450: UserWarning: X does not have valid feature names, but StandardScaler was fitted with feature names\n",
      "  warnings.warn(\n",
      "/work/mehlc/2_IA_KINETICS/ai_reacting_flows/venv/lib/python3.9/site-packages/sklearn/base.py:450: UserWarning: X does not have valid feature names, but StandardScaler was fitted with feature names\n",
      "  warnings.warn(\n",
      "/work/mehlc/2_IA_KINETICS/ai_reacting_flows/venv/lib/python3.9/site-packages/sklearn/base.py:450: UserWarning: X does not have valid feature names, but StandardScaler was fitted with feature names\n",
      "  warnings.warn(\n"
     ]
    },
    {
     "name": "stdout",
     "output_type": "stream",
     "text": [
      "1/1 [==============================] - 0s 18ms/step\n",
      "Current point in cluster: 1 \n",
      "\n",
      "1/1 [==============================] - 0s 19ms/step\n",
      "Current point in cluster: 1 \n",
      "\n",
      "1/1 [==============================] - 0s 18ms/step\n",
      "Current point in cluster: 1 \n",
      "\n",
      "1/1 [==============================] - 0s 18ms/step\n",
      "Current point in cluster: 1 \n",
      "\n"
     ]
    },
    {
     "name": "stderr",
     "output_type": "stream",
     "text": [
      "/work/mehlc/2_IA_KINETICS/ai_reacting_flows/venv/lib/python3.9/site-packages/sklearn/base.py:450: UserWarning: X does not have valid feature names, but StandardScaler was fitted with feature names\n",
      "  warnings.warn(\n",
      "/work/mehlc/2_IA_KINETICS/ai_reacting_flows/venv/lib/python3.9/site-packages/sklearn/base.py:450: UserWarning: X does not have valid feature names, but StandardScaler was fitted with feature names\n",
      "  warnings.warn(\n",
      "/work/mehlc/2_IA_KINETICS/ai_reacting_flows/venv/lib/python3.9/site-packages/sklearn/base.py:450: UserWarning: X does not have valid feature names, but StandardScaler was fitted with feature names\n",
      "  warnings.warn(\n"
     ]
    },
    {
     "name": "stdout",
     "output_type": "stream",
     "text": [
      "1/1 [==============================] - 0s 20ms/step\n",
      "Current point in cluster: 1 \n",
      "\n",
      "1/1 [==============================] - 0s 24ms/step\n",
      "Current point in cluster: 1 \n",
      "\n",
      "1/1 [==============================] - 0s 17ms/step\n"
     ]
    },
    {
     "name": "stderr",
     "output_type": "stream",
     "text": [
      "/work/mehlc/2_IA_KINETICS/ai_reacting_flows/venv/lib/python3.9/site-packages/sklearn/base.py:450: UserWarning: X does not have valid feature names, but StandardScaler was fitted with feature names\n",
      "  warnings.warn(\n",
      "/work/mehlc/2_IA_KINETICS/ai_reacting_flows/venv/lib/python3.9/site-packages/sklearn/base.py:450: UserWarning: X does not have valid feature names, but StandardScaler was fitted with feature names\n",
      "  warnings.warn(\n",
      "/work/mehlc/2_IA_KINETICS/ai_reacting_flows/venv/lib/python3.9/site-packages/sklearn/base.py:450: UserWarning: X does not have valid feature names, but StandardScaler was fitted with feature names\n",
      "  warnings.warn(\n"
     ]
    },
    {
     "name": "stdout",
     "output_type": "stream",
     "text": [
      "Current point in cluster: 1 \n",
      "\n",
      "1/1 [==============================] - 0s 18ms/step\n",
      "Current point in cluster: 1 \n",
      "\n",
      "1/1 [==============================] - 0s 17ms/step\n",
      "Current point in cluster: 1 \n",
      "\n",
      "1/1 [==============================] - 0s 18ms/step\n",
      "Current point in cluster: 1 \n",
      "\n"
     ]
    },
    {
     "name": "stderr",
     "output_type": "stream",
     "text": [
      "/work/mehlc/2_IA_KINETICS/ai_reacting_flows/venv/lib/python3.9/site-packages/sklearn/base.py:450: UserWarning: X does not have valid feature names, but StandardScaler was fitted with feature names\n",
      "  warnings.warn(\n",
      "/work/mehlc/2_IA_KINETICS/ai_reacting_flows/venv/lib/python3.9/site-packages/sklearn/base.py:450: UserWarning: X does not have valid feature names, but StandardScaler was fitted with feature names\n",
      "  warnings.warn(\n",
      "/work/mehlc/2_IA_KINETICS/ai_reacting_flows/venv/lib/python3.9/site-packages/sklearn/base.py:450: UserWarning: X does not have valid feature names, but StandardScaler was fitted with feature names\n",
      "  warnings.warn(\n",
      "/work/mehlc/2_IA_KINETICS/ai_reacting_flows/venv/lib/python3.9/site-packages/sklearn/base.py:450: UserWarning: X does not have valid feature names, but StandardScaler was fitted with feature names\n",
      "  warnings.warn(\n"
     ]
    },
    {
     "name": "stdout",
     "output_type": "stream",
     "text": [
      "1/1 [==============================] - 0s 18ms/step\n",
      "Current point in cluster: 1 \n",
      "\n",
      "1/1 [==============================] - 0s 18ms/step\n",
      "Current point in cluster: 1 \n",
      "\n",
      "1/1 [==============================] - 0s 19ms/step\n",
      "Current point in cluster: 1 \n",
      "\n",
      "1/1 [==============================] - 0s 18ms/step\n",
      "Current point in cluster: 1 \n"
     ]
    },
    {
     "name": "stderr",
     "output_type": "stream",
     "text": [
      "/work/mehlc/2_IA_KINETICS/ai_reacting_flows/venv/lib/python3.9/site-packages/sklearn/base.py:450: UserWarning: X does not have valid feature names, but StandardScaler was fitted with feature names\n",
      "  warnings.warn(\n",
      "/work/mehlc/2_IA_KINETICS/ai_reacting_flows/venv/lib/python3.9/site-packages/sklearn/base.py:450: UserWarning: X does not have valid feature names, but StandardScaler was fitted with feature names\n",
      "  warnings.warn(\n",
      "/work/mehlc/2_IA_KINETICS/ai_reacting_flows/venv/lib/python3.9/site-packages/sklearn/base.py:450: UserWarning: X does not have valid feature names, but StandardScaler was fitted with feature names\n",
      "  warnings.warn(\n"
     ]
    },
    {
     "name": "stdout",
     "output_type": "stream",
     "text": [
      "\n",
      "1/1 [==============================] - 0s 18ms/step\n",
      "Current point in cluster: 1 \n",
      "\n",
      "1/1 [==============================] - 0s 20ms/step\n",
      "Current point in cluster: 1 \n",
      "\n",
      "1/1 [==============================] - 0s 18ms/step\n",
      "Current point in cluster: 1 \n",
      "\n"
     ]
    },
    {
     "name": "stderr",
     "output_type": "stream",
     "text": [
      "/work/mehlc/2_IA_KINETICS/ai_reacting_flows/venv/lib/python3.9/site-packages/sklearn/base.py:450: UserWarning: X does not have valid feature names, but StandardScaler was fitted with feature names\n",
      "  warnings.warn(\n",
      "/work/mehlc/2_IA_KINETICS/ai_reacting_flows/venv/lib/python3.9/site-packages/sklearn/base.py:450: UserWarning: X does not have valid feature names, but StandardScaler was fitted with feature names\n",
      "  warnings.warn(\n",
      "/work/mehlc/2_IA_KINETICS/ai_reacting_flows/venv/lib/python3.9/site-packages/sklearn/base.py:450: UserWarning: X does not have valid feature names, but StandardScaler was fitted with feature names\n",
      "  warnings.warn(\n",
      "/work/mehlc/2_IA_KINETICS/ai_reacting_flows/venv/lib/python3.9/site-packages/sklearn/base.py:450: UserWarning: X does not have valid feature names, but StandardScaler was fitted with feature names\n",
      "  warnings.warn(\n"
     ]
    },
    {
     "name": "stdout",
     "output_type": "stream",
     "text": [
      "1/1 [==============================] - 0s 19ms/step\n",
      "Current point in cluster: 1 \n",
      "\n",
      "1/1 [==============================] - 0s 18ms/step\n",
      "Current point in cluster: 1 \n",
      "\n",
      "1/1 [==============================] - 0s 19ms/step\n",
      "Current point in cluster: 1 \n",
      "\n",
      "1/1 [==============================] - 0s 18ms/step\n",
      "Current point in cluster: 1 \n",
      "\n"
     ]
    },
    {
     "name": "stderr",
     "output_type": "stream",
     "text": [
      "/work/mehlc/2_IA_KINETICS/ai_reacting_flows/venv/lib/python3.9/site-packages/sklearn/base.py:450: UserWarning: X does not have valid feature names, but StandardScaler was fitted with feature names\n",
      "  warnings.warn(\n",
      "/work/mehlc/2_IA_KINETICS/ai_reacting_flows/venv/lib/python3.9/site-packages/sklearn/base.py:450: UserWarning: X does not have valid feature names, but StandardScaler was fitted with feature names\n",
      "  warnings.warn(\n",
      "/work/mehlc/2_IA_KINETICS/ai_reacting_flows/venv/lib/python3.9/site-packages/sklearn/base.py:450: UserWarning: X does not have valid feature names, but StandardScaler was fitted with feature names\n",
      "  warnings.warn(\n",
      "/work/mehlc/2_IA_KINETICS/ai_reacting_flows/venv/lib/python3.9/site-packages/sklearn/base.py:450: UserWarning: X does not have valid feature names, but StandardScaler was fitted with feature names\n",
      "  warnings.warn(\n"
     ]
    },
    {
     "name": "stdout",
     "output_type": "stream",
     "text": [
      "1/1 [==============================] - 0s 18ms/step\n",
      "Current point in cluster: 1 \n",
      "\n",
      "1/1 [==============================] - 0s 18ms/step\n",
      "Current point in cluster: 1 \n",
      "\n",
      "1/1 [==============================] - 0s 19ms/step\n",
      "Current point in cluster: 1 \n",
      "\n",
      "1/1 [==============================] - 0s 19ms/step\n",
      "Current point in cluster: 1 \n",
      "\n"
     ]
    },
    {
     "name": "stderr",
     "output_type": "stream",
     "text": [
      "/work/mehlc/2_IA_KINETICS/ai_reacting_flows/venv/lib/python3.9/site-packages/sklearn/base.py:450: UserWarning: X does not have valid feature names, but StandardScaler was fitted with feature names\n",
      "  warnings.warn(\n",
      "/work/mehlc/2_IA_KINETICS/ai_reacting_flows/venv/lib/python3.9/site-packages/sklearn/base.py:450: UserWarning: X does not have valid feature names, but StandardScaler was fitted with feature names\n",
      "  warnings.warn(\n",
      "/work/mehlc/2_IA_KINETICS/ai_reacting_flows/venv/lib/python3.9/site-packages/sklearn/base.py:450: UserWarning: X does not have valid feature names, but StandardScaler was fitted with feature names\n",
      "  warnings.warn(\n"
     ]
    },
    {
     "name": "stdout",
     "output_type": "stream",
     "text": [
      "1/1 [==============================] - 0s 19ms/step\n",
      "Current point in cluster: 1 \n",
      "\n",
      "1/1 [==============================] - 0s 23ms/step\n",
      "Current point in cluster: 1 \n",
      "\n"
     ]
    },
    {
     "name": "stderr",
     "output_type": "stream",
     "text": [
      "/work/mehlc/2_IA_KINETICS/ai_reacting_flows/venv/lib/python3.9/site-packages/sklearn/base.py:450: UserWarning: X does not have valid feature names, but StandardScaler was fitted with feature names\n",
      "  warnings.warn(\n",
      "/work/mehlc/2_IA_KINETICS/ai_reacting_flows/venv/lib/python3.9/site-packages/sklearn/base.py:450: UserWarning: X does not have valid feature names, but StandardScaler was fitted with feature names\n",
      "  warnings.warn(\n",
      "/work/mehlc/2_IA_KINETICS/ai_reacting_flows/venv/lib/python3.9/site-packages/sklearn/base.py:450: UserWarning: X does not have valid feature names, but StandardScaler was fitted with feature names\n",
      "  warnings.warn(\n"
     ]
    },
    {
     "name": "stdout",
     "output_type": "stream",
     "text": [
      "1/1 [==============================] - 0s 30ms/step\n",
      "Current point in cluster: 1 \n",
      "\n",
      "1/1 [==============================] - 0s 20ms/step\n",
      "Current point in cluster: 1 \n",
      "\n",
      "1/1 [==============================] - 0s 18ms/step\n",
      "Current point in cluster: 1 \n",
      "\n",
      "1/1 [==============================] - 0s 17ms/step\n",
      "Current point in cluster: 1 \n",
      "\n"
     ]
    },
    {
     "name": "stderr",
     "output_type": "stream",
     "text": [
      "/work/mehlc/2_IA_KINETICS/ai_reacting_flows/venv/lib/python3.9/site-packages/sklearn/base.py:450: UserWarning: X does not have valid feature names, but StandardScaler was fitted with feature names\n",
      "  warnings.warn(\n",
      "/work/mehlc/2_IA_KINETICS/ai_reacting_flows/venv/lib/python3.9/site-packages/sklearn/base.py:450: UserWarning: X does not have valid feature names, but StandardScaler was fitted with feature names\n",
      "  warnings.warn(\n",
      "/work/mehlc/2_IA_KINETICS/ai_reacting_flows/venv/lib/python3.9/site-packages/sklearn/base.py:450: UserWarning: X does not have valid feature names, but StandardScaler was fitted with feature names\n",
      "  warnings.warn(\n",
      "/work/mehlc/2_IA_KINETICS/ai_reacting_flows/venv/lib/python3.9/site-packages/sklearn/base.py:450: UserWarning: X does not have valid feature names, but StandardScaler was fitted with feature names\n",
      "  warnings.warn(\n"
     ]
    },
    {
     "name": "stdout",
     "output_type": "stream",
     "text": [
      "1/1 [==============================] - 0s 18ms/step\n",
      "Current point in cluster: 1 \n",
      "\n",
      "1/1 [==============================] - 0s 18ms/step\n",
      "Current point in cluster: 1 \n",
      "\n",
      "1/1 [==============================] - 0s 20ms/step\n",
      "Current point in cluster: 1 \n",
      "\n"
     ]
    },
    {
     "name": "stderr",
     "output_type": "stream",
     "text": [
      "/work/mehlc/2_IA_KINETICS/ai_reacting_flows/venv/lib/python3.9/site-packages/sklearn/base.py:450: UserWarning: X does not have valid feature names, but StandardScaler was fitted with feature names\n",
      "  warnings.warn(\n",
      "/work/mehlc/2_IA_KINETICS/ai_reacting_flows/venv/lib/python3.9/site-packages/sklearn/base.py:450: UserWarning: X does not have valid feature names, but StandardScaler was fitted with feature names\n",
      "  warnings.warn(\n",
      "/work/mehlc/2_IA_KINETICS/ai_reacting_flows/venv/lib/python3.9/site-packages/sklearn/base.py:450: UserWarning: X does not have valid feature names, but StandardScaler was fitted with feature names\n",
      "  warnings.warn(\n"
     ]
    },
    {
     "name": "stdout",
     "output_type": "stream",
     "text": [
      "1/1 [==============================] - 0s 19ms/step\n",
      "Current point in cluster: 1 \n",
      "\n",
      "1/1 [==============================] - 0s 18ms/step\n",
      "Current point in cluster: 1 \n",
      "\n",
      "1/1 [==============================] - 0s 19ms/step\n",
      "Current point in cluster: 1 \n",
      "\n",
      "1/1 [==============================] - 0s 17ms/step\n",
      "Current point in cluster: 1 \n",
      "\n"
     ]
    },
    {
     "name": "stderr",
     "output_type": "stream",
     "text": [
      "/work/mehlc/2_IA_KINETICS/ai_reacting_flows/venv/lib/python3.9/site-packages/sklearn/base.py:450: UserWarning: X does not have valid feature names, but StandardScaler was fitted with feature names\n",
      "  warnings.warn(\n",
      "/work/mehlc/2_IA_KINETICS/ai_reacting_flows/venv/lib/python3.9/site-packages/sklearn/base.py:450: UserWarning: X does not have valid feature names, but StandardScaler was fitted with feature names\n",
      "  warnings.warn(\n",
      "/work/mehlc/2_IA_KINETICS/ai_reacting_flows/venv/lib/python3.9/site-packages/sklearn/base.py:450: UserWarning: X does not have valid feature names, but StandardScaler was fitted with feature names\n",
      "  warnings.warn(\n",
      "/work/mehlc/2_IA_KINETICS/ai_reacting_flows/venv/lib/python3.9/site-packages/sklearn/base.py:450: UserWarning: X does not have valid feature names, but StandardScaler was fitted with feature names\n",
      "  warnings.warn(\n"
     ]
    },
    {
     "name": "stdout",
     "output_type": "stream",
     "text": [
      "1/1 [==============================] - 0s 18ms/step\n",
      "Current point in cluster: 1 \n",
      "\n",
      "1/1 [==============================] - 0s 18ms/step\n",
      "Current point in cluster: 1 \n",
      "\n",
      "1/1 [==============================] - 0s 26ms/step\n",
      "Current point in cluster: 1 \n",
      "\n"
     ]
    },
    {
     "name": "stderr",
     "output_type": "stream",
     "text": [
      "/work/mehlc/2_IA_KINETICS/ai_reacting_flows/venv/lib/python3.9/site-packages/sklearn/base.py:450: UserWarning: X does not have valid feature names, but StandardScaler was fitted with feature names\n",
      "  warnings.warn(\n",
      "/work/mehlc/2_IA_KINETICS/ai_reacting_flows/venv/lib/python3.9/site-packages/sklearn/base.py:450: UserWarning: X does not have valid feature names, but StandardScaler was fitted with feature names\n",
      "  warnings.warn(\n",
      "/work/mehlc/2_IA_KINETICS/ai_reacting_flows/venv/lib/python3.9/site-packages/sklearn/base.py:450: UserWarning: X does not have valid feature names, but StandardScaler was fitted with feature names\n",
      "  warnings.warn(\n"
     ]
    },
    {
     "name": "stdout",
     "output_type": "stream",
     "text": [
      "1/1 [==============================] - 0s 18ms/step\n",
      "Current point in cluster: 1 \n",
      "\n",
      "1/1 [==============================] - 0s 18ms/step\n",
      "Current point in cluster: 1 \n",
      "\n",
      "1/1 [==============================] - 0s 18ms/step\n",
      "Current point in cluster: 1 \n",
      "\n",
      "1/1 [==============================] - 0s 19ms/step\n",
      "Current point in cluster: 1 \n",
      "\n"
     ]
    },
    {
     "name": "stderr",
     "output_type": "stream",
     "text": [
      "/work/mehlc/2_IA_KINETICS/ai_reacting_flows/venv/lib/python3.9/site-packages/sklearn/base.py:450: UserWarning: X does not have valid feature names, but StandardScaler was fitted with feature names\n",
      "  warnings.warn(\n",
      "/work/mehlc/2_IA_KINETICS/ai_reacting_flows/venv/lib/python3.9/site-packages/sklearn/base.py:450: UserWarning: X does not have valid feature names, but StandardScaler was fitted with feature names\n",
      "  warnings.warn(\n",
      "/work/mehlc/2_IA_KINETICS/ai_reacting_flows/venv/lib/python3.9/site-packages/sklearn/base.py:450: UserWarning: X does not have valid feature names, but StandardScaler was fitted with feature names\n",
      "  warnings.warn(\n",
      "/work/mehlc/2_IA_KINETICS/ai_reacting_flows/venv/lib/python3.9/site-packages/sklearn/base.py:450: UserWarning: X does not have valid feature names, but StandardScaler was fitted with feature names\n",
      "  warnings.warn(\n"
     ]
    },
    {
     "name": "stdout",
     "output_type": "stream",
     "text": [
      "1/1 [==============================] - 0s 19ms/step\n",
      "Current point in cluster: 1 \n",
      "\n",
      "1/1 [==============================] - 0s 18ms/step\n",
      "Current point in cluster: 1 \n",
      "\n",
      "1/1 [==============================] - 0s 20ms/step\n",
      "Current point in cluster: 1 \n",
      "\n",
      "1/1 [==============================] - 0s 19ms/step\n",
      "Current point in cluster: 1 \n",
      "\n"
     ]
    },
    {
     "name": "stderr",
     "output_type": "stream",
     "text": [
      "/work/mehlc/2_IA_KINETICS/ai_reacting_flows/venv/lib/python3.9/site-packages/sklearn/base.py:450: UserWarning: X does not have valid feature names, but StandardScaler was fitted with feature names\n",
      "  warnings.warn(\n",
      "/work/mehlc/2_IA_KINETICS/ai_reacting_flows/venv/lib/python3.9/site-packages/sklearn/base.py:450: UserWarning: X does not have valid feature names, but StandardScaler was fitted with feature names\n",
      "  warnings.warn(\n",
      "/work/mehlc/2_IA_KINETICS/ai_reacting_flows/venv/lib/python3.9/site-packages/sklearn/base.py:450: UserWarning: X does not have valid feature names, but StandardScaler was fitted with feature names\n",
      "  warnings.warn(\n",
      "/work/mehlc/2_IA_KINETICS/ai_reacting_flows/venv/lib/python3.9/site-packages/sklearn/base.py:450: UserWarning: X does not have valid feature names, but StandardScaler was fitted with feature names\n",
      "  warnings.warn(\n"
     ]
    },
    {
     "name": "stdout",
     "output_type": "stream",
     "text": [
      "1/1 [==============================] - 0s 18ms/step\n",
      "Current point in cluster: 1 \n",
      "\n",
      "1/1 [==============================] - 0s 19ms/step\n",
      "Current point in cluster: 2 \n",
      "\n",
      "1/1 [==============================] - 0s 64ms/step\n",
      "Current point in cluster: 2 \n",
      "\n"
     ]
    },
    {
     "name": "stderr",
     "output_type": "stream",
     "text": [
      "/work/mehlc/2_IA_KINETICS/ai_reacting_flows/venv/lib/python3.9/site-packages/sklearn/base.py:450: UserWarning: X does not have valid feature names, but StandardScaler was fitted with feature names\n",
      "  warnings.warn(\n",
      "/work/mehlc/2_IA_KINETICS/ai_reacting_flows/venv/lib/python3.9/site-packages/sklearn/base.py:450: UserWarning: X does not have valid feature names, but StandardScaler was fitted with feature names\n",
      "  warnings.warn(\n",
      "/work/mehlc/2_IA_KINETICS/ai_reacting_flows/venv/lib/python3.9/site-packages/sklearn/base.py:450: UserWarning: X does not have valid feature names, but StandardScaler was fitted with feature names\n",
      "  warnings.warn(\n"
     ]
    },
    {
     "name": "stdout",
     "output_type": "stream",
     "text": [
      "1/1 [==============================] - 0s 19ms/step\n",
      "Current point in cluster: 2 \n",
      "\n",
      "1/1 [==============================] - 0s 19ms/step\n",
      "Current point in cluster: 2 \n",
      "\n",
      "1/1 [==============================] - 0s 17ms/step\n",
      "Current point in cluster: 2 \n",
      "\n",
      "1/1 [==============================] - 0s 19ms/step\n",
      "Current point in cluster: 2 \n",
      "\n"
     ]
    },
    {
     "name": "stderr",
     "output_type": "stream",
     "text": [
      "/work/mehlc/2_IA_KINETICS/ai_reacting_flows/venv/lib/python3.9/site-packages/sklearn/base.py:450: UserWarning: X does not have valid feature names, but StandardScaler was fitted with feature names\n",
      "  warnings.warn(\n",
      "/work/mehlc/2_IA_KINETICS/ai_reacting_flows/venv/lib/python3.9/site-packages/sklearn/base.py:450: UserWarning: X does not have valid feature names, but StandardScaler was fitted with feature names\n",
      "  warnings.warn(\n",
      "/work/mehlc/2_IA_KINETICS/ai_reacting_flows/venv/lib/python3.9/site-packages/sklearn/base.py:450: UserWarning: X does not have valid feature names, but StandardScaler was fitted with feature names\n",
      "  warnings.warn(\n",
      "/work/mehlc/2_IA_KINETICS/ai_reacting_flows/venv/lib/python3.9/site-packages/sklearn/base.py:450: UserWarning: X does not have valid feature names, but StandardScaler was fitted with feature names\n",
      "  warnings.warn(\n"
     ]
    },
    {
     "name": "stdout",
     "output_type": "stream",
     "text": [
      "1/1 [==============================] - 0s 24ms/step\n",
      "Current point in cluster: 2 \n",
      "\n",
      "1/1 [==============================] - 0s 24ms/step\n",
      "Current point in cluster: 2 \n",
      "\n",
      "1/1 [==============================] - 0s 24ms/step\n",
      "Current point in cluster: 2 \n",
      "\n",
      "1/1 [==============================] - ETA: 0s"
     ]
    },
    {
     "name": "stderr",
     "output_type": "stream",
     "text": [
      "/work/mehlc/2_IA_KINETICS/ai_reacting_flows/venv/lib/python3.9/site-packages/sklearn/base.py:450: UserWarning: X does not have valid feature names, but StandardScaler was fitted with feature names\n",
      "  warnings.warn(\n",
      "/work/mehlc/2_IA_KINETICS/ai_reacting_flows/venv/lib/python3.9/site-packages/sklearn/base.py:450: UserWarning: X does not have valid feature names, but StandardScaler was fitted with feature names\n",
      "  warnings.warn(\n",
      "/work/mehlc/2_IA_KINETICS/ai_reacting_flows/venv/lib/python3.9/site-packages/sklearn/base.py:450: UserWarning: X does not have valid feature names, but StandardScaler was fitted with feature names\n",
      "  warnings.warn(\n"
     ]
    },
    {
     "name": "stdout",
     "output_type": "stream",
     "text": [
      "1/1 [==============================] - 0s 18ms/step\n",
      "Current point in cluster: 2 \n",
      "\n",
      "1/1 [==============================] - 0s 16ms/step\n",
      "Current point in cluster: 2 \n",
      "\n",
      "1/1 [==============================] - 0s 17ms/step\n",
      "Current point in cluster: 2 \n",
      "\n",
      "1/1 [==============================] - 0s 19ms/step\n",
      "Current point in cluster: 2 \n",
      "\n"
     ]
    },
    {
     "name": "stderr",
     "output_type": "stream",
     "text": [
      "/work/mehlc/2_IA_KINETICS/ai_reacting_flows/venv/lib/python3.9/site-packages/sklearn/base.py:450: UserWarning: X does not have valid feature names, but StandardScaler was fitted with feature names\n",
      "  warnings.warn(\n",
      "/work/mehlc/2_IA_KINETICS/ai_reacting_flows/venv/lib/python3.9/site-packages/sklearn/base.py:450: UserWarning: X does not have valid feature names, but StandardScaler was fitted with feature names\n",
      "  warnings.warn(\n",
      "/work/mehlc/2_IA_KINETICS/ai_reacting_flows/venv/lib/python3.9/site-packages/sklearn/base.py:450: UserWarning: X does not have valid feature names, but StandardScaler was fitted with feature names\n",
      "  warnings.warn(\n",
      "/work/mehlc/2_IA_KINETICS/ai_reacting_flows/venv/lib/python3.9/site-packages/sklearn/base.py:450: UserWarning: X does not have valid feature names, but StandardScaler was fitted with feature names\n",
      "  warnings.warn(\n"
     ]
    },
    {
     "name": "stdout",
     "output_type": "stream",
     "text": [
      "1/1 [==============================] - 0s 24ms/step\n",
      "Current point in cluster: 2 \n",
      "\n",
      "1/1 [==============================] - 0s 19ms/step\n",
      "Current point in cluster: 2 \n",
      "\n",
      "1/1 [==============================] - 0s 18ms/step\n",
      "Current point in cluster: 2 \n",
      "\n",
      "1/1 [==============================] - 0s 17ms/step\n",
      "Current point in cluster: 2 \n",
      "\n"
     ]
    },
    {
     "name": "stderr",
     "output_type": "stream",
     "text": [
      "/work/mehlc/2_IA_KINETICS/ai_reacting_flows/venv/lib/python3.9/site-packages/sklearn/base.py:450: UserWarning: X does not have valid feature names, but StandardScaler was fitted with feature names\n",
      "  warnings.warn(\n",
      "/work/mehlc/2_IA_KINETICS/ai_reacting_flows/venv/lib/python3.9/site-packages/sklearn/base.py:450: UserWarning: X does not have valid feature names, but StandardScaler was fitted with feature names\n",
      "  warnings.warn(\n",
      "/work/mehlc/2_IA_KINETICS/ai_reacting_flows/venv/lib/python3.9/site-packages/sklearn/base.py:450: UserWarning: X does not have valid feature names, but StandardScaler was fitted with feature names\n",
      "  warnings.warn(\n",
      "/work/mehlc/2_IA_KINETICS/ai_reacting_flows/venv/lib/python3.9/site-packages/sklearn/base.py:450: UserWarning: X does not have valid feature names, but StandardScaler was fitted with feature names\n",
      "  warnings.warn(\n"
     ]
    },
    {
     "name": "stdout",
     "output_type": "stream",
     "text": [
      "1/1 [==============================] - 0s 18ms/step\n",
      "Current point in cluster: 2 \n",
      "\n",
      "1/1 [==============================] - 0s 17ms/step\n",
      "Current point in cluster: 2 \n",
      "\n",
      "1/1 [==============================] - 0s 18ms/step\n",
      "Current point in cluster: 2 \n",
      "\n",
      "1/1 [==============================] - 0s 19ms/step\n",
      "Current point in cluster: 2 \n",
      "\n"
     ]
    },
    {
     "name": "stderr",
     "output_type": "stream",
     "text": [
      "/work/mehlc/2_IA_KINETICS/ai_reacting_flows/venv/lib/python3.9/site-packages/sklearn/base.py:450: UserWarning: X does not have valid feature names, but StandardScaler was fitted with feature names\n",
      "  warnings.warn(\n",
      "/work/mehlc/2_IA_KINETICS/ai_reacting_flows/venv/lib/python3.9/site-packages/sklearn/base.py:450: UserWarning: X does not have valid feature names, but StandardScaler was fitted with feature names\n",
      "  warnings.warn(\n",
      "/work/mehlc/2_IA_KINETICS/ai_reacting_flows/venv/lib/python3.9/site-packages/sklearn/base.py:450: UserWarning: X does not have valid feature names, but StandardScaler was fitted with feature names\n",
      "  warnings.warn(\n",
      "/work/mehlc/2_IA_KINETICS/ai_reacting_flows/venv/lib/python3.9/site-packages/sklearn/base.py:450: UserWarning: X does not have valid feature names, but StandardScaler was fitted with feature names\n",
      "  warnings.warn(\n"
     ]
    },
    {
     "name": "stdout",
     "output_type": "stream",
     "text": [
      "1/1 [==============================] - 0s 18ms/step\n",
      "Current point in cluster: 2 \n",
      "\n",
      "1/1 [==============================] - 0s 20ms/step\n",
      "Current point in cluster: 2 \n",
      "\n",
      "1/1 [==============================] - 0s 18ms/step\n",
      "Current point in cluster: 2 \n",
      "\n",
      "1/1 [==============================] - 0s 19ms/step\n",
      "Current point in cluster: 2 \n",
      "\n"
     ]
    },
    {
     "name": "stderr",
     "output_type": "stream",
     "text": [
      "/work/mehlc/2_IA_KINETICS/ai_reacting_flows/venv/lib/python3.9/site-packages/sklearn/base.py:450: UserWarning: X does not have valid feature names, but StandardScaler was fitted with feature names\n",
      "  warnings.warn(\n",
      "/work/mehlc/2_IA_KINETICS/ai_reacting_flows/venv/lib/python3.9/site-packages/sklearn/base.py:450: UserWarning: X does not have valid feature names, but StandardScaler was fitted with feature names\n",
      "  warnings.warn(\n",
      "/work/mehlc/2_IA_KINETICS/ai_reacting_flows/venv/lib/python3.9/site-packages/sklearn/base.py:450: UserWarning: X does not have valid feature names, but StandardScaler was fitted with feature names\n",
      "  warnings.warn(\n",
      "/work/mehlc/2_IA_KINETICS/ai_reacting_flows/venv/lib/python3.9/site-packages/sklearn/base.py:450: UserWarning: X does not have valid feature names, but StandardScaler was fitted with feature names\n",
      "  warnings.warn(\n"
     ]
    },
    {
     "name": "stdout",
     "output_type": "stream",
     "text": [
      "1/1 [==============================] - 0s 18ms/step\n",
      "Current point in cluster: 2 \n",
      "\n",
      "1/1 [==============================] - 0s 18ms/step\n",
      "Current point in cluster: 2 \n",
      "\n",
      "1/1 [==============================] - 0s 18ms/step\n",
      "Current point in cluster: 2 \n",
      "\n",
      "1/1 [==============================] - 0s 17ms/step\n",
      "Current point in cluster: 2 \n",
      "\n"
     ]
    },
    {
     "name": "stderr",
     "output_type": "stream",
     "text": [
      "/work/mehlc/2_IA_KINETICS/ai_reacting_flows/venv/lib/python3.9/site-packages/sklearn/base.py:450: UserWarning: X does not have valid feature names, but StandardScaler was fitted with feature names\n",
      "  warnings.warn(\n",
      "/work/mehlc/2_IA_KINETICS/ai_reacting_flows/venv/lib/python3.9/site-packages/sklearn/base.py:450: UserWarning: X does not have valid feature names, but StandardScaler was fitted with feature names\n",
      "  warnings.warn(\n",
      "/work/mehlc/2_IA_KINETICS/ai_reacting_flows/venv/lib/python3.9/site-packages/sklearn/base.py:450: UserWarning: X does not have valid feature names, but StandardScaler was fitted with feature names\n",
      "  warnings.warn(\n",
      "/work/mehlc/2_IA_KINETICS/ai_reacting_flows/venv/lib/python3.9/site-packages/sklearn/base.py:450: UserWarning: X does not have valid feature names, but StandardScaler was fitted with feature names\n",
      "  warnings.warn(\n"
     ]
    },
    {
     "name": "stdout",
     "output_type": "stream",
     "text": [
      "1/1 [==============================] - 0s 18ms/step\n",
      "Current point in cluster: 2 \n",
      "\n",
      "1/1 [==============================] - 0s 17ms/step\n",
      "Current point in cluster: 2 \n",
      "\n",
      "1/1 [==============================] - 0s 18ms/step\n",
      "Current point in cluster: 2 \n",
      "\n",
      "1/1 [==============================] - 0s 18ms/step\n",
      "Current point in cluster: 2 \n",
      "\n"
     ]
    },
    {
     "name": "stderr",
     "output_type": "stream",
     "text": [
      "/work/mehlc/2_IA_KINETICS/ai_reacting_flows/venv/lib/python3.9/site-packages/sklearn/base.py:450: UserWarning: X does not have valid feature names, but StandardScaler was fitted with feature names\n",
      "  warnings.warn(\n",
      "/work/mehlc/2_IA_KINETICS/ai_reacting_flows/venv/lib/python3.9/site-packages/sklearn/base.py:450: UserWarning: X does not have valid feature names, but StandardScaler was fitted with feature names\n",
      "  warnings.warn(\n",
      "/work/mehlc/2_IA_KINETICS/ai_reacting_flows/venv/lib/python3.9/site-packages/sklearn/base.py:450: UserWarning: X does not have valid feature names, but StandardScaler was fitted with feature names\n",
      "  warnings.warn(\n",
      "/work/mehlc/2_IA_KINETICS/ai_reacting_flows/venv/lib/python3.9/site-packages/sklearn/base.py:450: UserWarning: X does not have valid feature names, but StandardScaler was fitted with feature names\n",
      "  warnings.warn(\n"
     ]
    },
    {
     "name": "stdout",
     "output_type": "stream",
     "text": [
      "1/1 [==============================] - 0s 19ms/step\n",
      "Current point in cluster: 2 \n",
      "\n",
      "1/1 [==============================] - 0s 19ms/step\n",
      "Current point in cluster: 2 \n",
      "\n",
      "1/1 [==============================] - 0s 18ms/step\n",
      "Current point in cluster: 2 \n",
      "\n",
      "1/1 [==============================] - 0s 19ms/step\n",
      "Current point in cluster: 2 \n",
      "\n"
     ]
    },
    {
     "name": "stderr",
     "output_type": "stream",
     "text": [
      "/work/mehlc/2_IA_KINETICS/ai_reacting_flows/venv/lib/python3.9/site-packages/sklearn/base.py:450: UserWarning: X does not have valid feature names, but StandardScaler was fitted with feature names\n",
      "  warnings.warn(\n",
      "/work/mehlc/2_IA_KINETICS/ai_reacting_flows/venv/lib/python3.9/site-packages/sklearn/base.py:450: UserWarning: X does not have valid feature names, but StandardScaler was fitted with feature names\n",
      "  warnings.warn(\n",
      "/work/mehlc/2_IA_KINETICS/ai_reacting_flows/venv/lib/python3.9/site-packages/sklearn/base.py:450: UserWarning: X does not have valid feature names, but StandardScaler was fitted with feature names\n",
      "  warnings.warn(\n",
      "/work/mehlc/2_IA_KINETICS/ai_reacting_flows/venv/lib/python3.9/site-packages/sklearn/base.py:450: UserWarning: X does not have valid feature names, but StandardScaler was fitted with feature names\n",
      "  warnings.warn(\n"
     ]
    },
    {
     "name": "stdout",
     "output_type": "stream",
     "text": [
      "1/1 [==============================] - 0s 19ms/step\n",
      "Current point in cluster: 2 \n",
      "\n",
      "1/1 [==============================] - 0s 18ms/step\n",
      "Current point in cluster: 2 \n",
      "\n",
      "1/1 [==============================] - 0s 18ms/step\n",
      "Current point in cluster: 2 \n",
      "\n",
      "1/1 [==============================] - 0s 19ms/step\n",
      "Current point in cluster: 2 \n",
      "\n"
     ]
    },
    {
     "name": "stderr",
     "output_type": "stream",
     "text": [
      "/work/mehlc/2_IA_KINETICS/ai_reacting_flows/venv/lib/python3.9/site-packages/sklearn/base.py:450: UserWarning: X does not have valid feature names, but StandardScaler was fitted with feature names\n",
      "  warnings.warn(\n",
      "/work/mehlc/2_IA_KINETICS/ai_reacting_flows/venv/lib/python3.9/site-packages/sklearn/base.py:450: UserWarning: X does not have valid feature names, but StandardScaler was fitted with feature names\n",
      "  warnings.warn(\n",
      "/work/mehlc/2_IA_KINETICS/ai_reacting_flows/venv/lib/python3.9/site-packages/sklearn/base.py:450: UserWarning: X does not have valid feature names, but StandardScaler was fitted with feature names\n",
      "  warnings.warn(\n",
      "/work/mehlc/2_IA_KINETICS/ai_reacting_flows/venv/lib/python3.9/site-packages/sklearn/base.py:450: UserWarning: X does not have valid feature names, but StandardScaler was fitted with feature names\n",
      "  warnings.warn(\n"
     ]
    },
    {
     "name": "stdout",
     "output_type": "stream",
     "text": [
      "1/1 [==============================] - 0s 20ms/step\n",
      "Current point in cluster: 2 \n",
      "\n",
      "1/1 [==============================] - 0s 18ms/step\n"
     ]
    },
    {
     "name": "stderr",
     "output_type": "stream",
     "text": [
      "/work/mehlc/2_IA_KINETICS/ai_reacting_flows/venv/lib/python3.9/site-packages/sklearn/base.py:450: UserWarning: X does not have valid feature names, but StandardScaler was fitted with feature names\n",
      "  warnings.warn(\n"
     ]
    },
    {
     "data": {
      "image/png": "[encoded data removed]",
      "text/plain": [
       "<Figure size 640x480 with 1 Axes>"
      ]
     },
     "metadata": {},
     "output_type": "display_data"
    },
    {
     "data": {
      "image/png": "[encoded data removed]",
      "text/plain": [
       "<Figure size 640x480 with 1 Axes>"
      ]
     },
     "metadata": {},
     "output_type": "display_data"
    },
    {
     "data": {
      "image/png": "[encoded data removed]",
      "text/plain": [
       "<Figure size 640x480 with 1 Axes>"
      ]
     },
     "metadata": {},
     "output_type": "display_data"
    },
    {
     "data": {
      "image/png": "[encoded data removed]",
      "text/plain": [
       "<Figure size 640x480 with 1 Axes>"
      ]
     },
     "metadata": {},
     "output_type": "display_data"
    },
    {
     "data": {
      "image/png": "[encoded data removed]",
      "text/plain": [
       "<Figure size 640x480 with 1 Axes>"
      ]
     },
     "metadata": {},
     "output_type": "display_data"
    }
   ],
   "source": [
    "phi = 0.4\n",
    "T0 = 300.0\n",
    "pressure = 101325.0\n",
    "dt = 0.5e-6\n",
    "T_threshold = 600.0\n",
    "\n",
    "test.test_1D_premixed(phi, T0, pressure, dt, T_threshold)"
   ]
  }
 ],
 "metadata": {
  "kernelspec": {
   "display_name": "Python 3.9.5 ('venv': venv)",
   "language": "python",
   "name": "python3"
  },
  "language_info": {
   "codemirror_mode": {
    "name": "ipython",
    "version": 3
   },
   "file_extension": ".py",
   "mimetype": "text/x-python",
   "name": "python",
   "nbconvert_exporter": "python",
   "pygments_lexer": "ipython3",
   "version": "3.9.5"
  },
  "orig_nbformat": 4,
  "vscode": {
   "interpreter": {
    "hash": "94b4dddc39e3f97076cc987d98550b593fdb7c2e07b1ccd50e3fa5b10ed48d31"
   }
  }
 },
 "nbformat": 4,
 "nbformat_minor": 2
}
