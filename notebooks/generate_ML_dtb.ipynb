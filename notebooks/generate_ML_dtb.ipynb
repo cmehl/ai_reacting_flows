{
 "cells": [
  {
   "cell_type": "markdown",
   "metadata": {},
   "source": [
    "# Generation of learning database from a stochastic reactors simulation\n",
    "\n",
    "This notebook builds a database to be used as a training database for the ML algorithm. In order for this script to be used, a stochastic reactors simulation with *build_ML_dtb=True* must have neen run beforehand. This simulation produces files *X.csv* and *Y.csv* with raw states $T$, $Y_k$ and necessary information to clusterize the data (e.g. progress variable). \n",
    "\n",
    "The current script generate the final database and enables to choose several options:\n",
    "\n",
    "+ Prediction of $Y_k(t+dt)$ or $Y_k(t+dt)-Y_k(t)$\n",
    "\n",
    "+ Application of a transform such as logarithm or Box-Cox\n",
    "\n",
    "+ Possibility to apply a temperature threshold to the data to avoid non-reactign zones\n",
    "\n",
    "+ Possibility to clusterize the data based on (i) k-means algorithm; (ii) progress variable values.\n",
    "\n",
    "Files *X_train*, *Y_train*, *X_val* and *Y_val* are created for each cluster. Note that if no clustering is applied, the default single cluster is cluster 0."
   ]
  },
  {
   "cell_type": "code",
   "execution_count": null,
   "metadata": {},
   "outputs": [],
   "source": [
    "from ai_reacting_flows.stochastic_reactors_data_gen.database_processing import LearningDatabase"
   ]
  },
  {
   "cell_type": "markdown",
   "metadata": {},
   "source": [
    "The parameters of the database processing are first set:"
   ]
  },
  {
   "cell_type": "code",
   "execution_count": null,
   "metadata": {},
   "outputs": [],
   "source": [
    "# Dictionary to store data processing parameters\n",
    "dtb_processing_parameters = {}\n",
    "\n",
    "dtb_processing_parameters[\"dtb_folder\"] = \"../scripts/STOCH_DTB_hotspot_H2_DEV\"       # Stochastic reactors simulation folder\n",
    "dtb_processing_parameters[\"database_name\"] = \"database_1\"                   # Resulting database name\n",
    "dtb_processing_parameters[\"log_transform\"] = 1              # 0: no transform, 1: Logarithm transform, 2: Box-Cox transform\n",
    "dtb_processing_parameters[\"threshold\"] = 1.0e-10            # Threshold to be applied in case of logarithm transform\n",
    "dtb_processing_parameters[\"output_omegas\"] = True           # True: output differences, False: output mass fractions"
   ]
  },
  {
   "cell_type": "markdown",
   "metadata": {},
   "source": [
    "The database is then created as a *LearningDatabase* object:"
   ]
  },
  {
   "cell_type": "code",
   "execution_count": null,
   "metadata": {},
   "outputs": [],
   "source": [
    "database = LearningDatabase(dtb_processing_parameters)"
   ]
  },
  {
   "cell_type": "markdown",
   "metadata": {},
   "source": [
    "We can apply a temperature threshold if needed, here $600$ K for instance:"
   ]
  },
  {
   "cell_type": "code",
   "execution_count": null,
   "metadata": {},
   "outputs": [],
   "source": [
    "database.apply_temperature_threshold(600.0)"
   ]
  },
  {
   "cell_type": "markdown",
   "metadata": {},
   "source": [
    "We can clusterize the dataset based on a progress variable if needed:"
   ]
  },
  {
   "cell_type": "code",
   "execution_count": null,
   "metadata": {},
   "outputs": [],
   "source": [
    "database.clusterize_dataset(\"progvar\", 2, c_bounds=[0,0.95,1.0])"
   ]
  },
  {
   "cell_type": "markdown",
   "metadata": {},
   "source": [
    "Alternatively, we could have used k-means: (commented because double clustering is banned)"
   ]
  },
  {
   "cell_type": "code",
   "execution_count": null,
   "metadata": {},
   "outputs": [],
   "source": [
    "# database.clusterize_dataset(\"kmeans\", 3)"
   ]
  },
  {
   "cell_type": "markdown",
   "metadata": {},
   "source": [
    "Finally, the database is processed in order ot be used in ML pipeline: (useless dataframe columns are suppressed and the transformation of the data is performed)"
   ]
  },
  {
   "cell_type": "code",
   "execution_count": null,
   "metadata": {},
   "outputs": [],
   "source": [
    "database.process_database()"
   ]
  }
 ],
 "metadata": {
  "kernelspec": {
   "display_name": "Python 3.9.5 ('venv': venv)",
   "language": "python",
   "name": "python3"
  },
  "language_info": {
   "codemirror_mode": {
    "name": "ipython",
    "version": 3
   },
   "file_extension": ".py",
   "mimetype": "text/x-python",
   "name": "python",
   "nbconvert_exporter": "python",
   "pygments_lexer": "ipython3",
   "version": "3.9.5"
  },
  "orig_nbformat": 4,
  "vscode": {
   "interpreter": {
    "hash": "94b4dddc39e3f97076cc987d98550b593fdb7c2e07b1ccd50e3fa5b10ed48d31"
   }
  }
 },
 "nbformat": 4,
 "nbformat_minor": 2
}
