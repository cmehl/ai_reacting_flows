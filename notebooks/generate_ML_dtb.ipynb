{
 "cells": [
  {
   "cell_type": "markdown",
   "metadata": {},
   "source": [
    "# Generation of learning database from a stochastic reactors simulation"
   ]
  },
  {
   "cell_type": "code",
   "execution_count": 1,
   "metadata": {},
   "outputs": [],
   "source": [
    "from ai_reacting_flows.stochastic_reactors_data_gen.database_processing import LearningDatabase"
   ]
  },
  {
   "cell_type": "code",
   "execution_count": 2,
   "metadata": {},
   "outputs": [],
   "source": [
    "# Dictionary to store data processing parameters\n",
    "dtb_processing_parameters = {}\n",
    "\n",
    "dtb_processing_parameters[\"dtb_folder\"] = \"../scripts/STOCH_DTB_hotspot_H2_DEV\"\n",
    "dtb_processing_parameters[\"database_name\"] = \"database_1\"\n",
    "dtb_processing_parameters[\"log_transform\"] = True\n",
    "dtb_processing_parameters[\"threshold\"] = 1.0e-10\n",
    "dtb_processing_parameters[\"output_omegas\"] = True"
   ]
  },
  {
   "cell_type": "code",
   "execution_count": 6,
   "metadata": {},
   "outputs": [
    {
     "name": "stdout",
     "output_type": "stream",
     "text": [
      ">> Processed dataset database_1 already exists => deleting\n"
     ]
    }
   ],
   "source": [
    "database = LearningDatabase(dtb_processing_parameters)"
   ]
  },
  {
   "cell_type": "code",
   "execution_count": 7,
   "metadata": {},
   "outputs": [
    {
     "name": "stdout",
     "output_type": "stream",
     "text": [
      ">> Performing k-means clustering\n"
     ]
    }
   ],
   "source": [
    "database.clusterize_dataset(\"kmeans\", 3)\n",
    "# database.clusterize_dataset(\"progvar\", 2, c_bounds=[0,0.5,1.0])"
   ]
  },
  {
   "cell_type": "code",
   "execution_count": 8,
   "metadata": {},
   "outputs": [],
   "source": [
    "database.process_database()"
   ]
  }
 ],
 "metadata": {
  "kernelspec": {
   "display_name": "Python 3.9.5 ('venv': venv)",
   "language": "python",
   "name": "python3"
  },
  "language_info": {
   "codemirror_mode": {
    "name": "ipython",
    "version": 3
   },
   "file_extension": ".py",
   "mimetype": "text/x-python",
   "name": "python",
   "nbconvert_exporter": "python",
   "pygments_lexer": "ipython3",
   "version": "3.9.5"
  },
  "orig_nbformat": 4,
  "vscode": {
   "interpreter": {
    "hash": "94b4dddc39e3f97076cc987d98550b593fdb7c2e07b1ccd50e3fa5b10ed48d31"
   }
  }
 },
 "nbformat": 4,
 "nbformat_minor": 2
}
